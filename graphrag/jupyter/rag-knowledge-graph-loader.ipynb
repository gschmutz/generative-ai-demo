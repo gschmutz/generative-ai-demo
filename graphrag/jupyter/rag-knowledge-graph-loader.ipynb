{
 "cells": [
  {
   "cell_type": "markdown",
   "id": "dad3d52e-6d44-422a-aed2-ecf831ae9516",
   "metadata": {},
   "source": [
    "# RAG with Knowledge Graph - Load Data"
   ]
  },
  {
   "cell_type": "code",
   "execution_count": null,
   "id": "f43ba8d6-13ed-4892-8160-357ac44c62f4",
   "metadata": {},
   "outputs": [],
   "source": [
    "This notebook and associate Python "
   ]
  },
  {
   "cell_type": "code",
   "execution_count": 10,
   "id": "aa3805f3-d426-412e-b527-0714314bfdfc",
   "metadata": {},
   "outputs": [
    {
     "name": "stdout",
     "output_type": "stream",
     "text": [
      "Requirement already satisfied: neo4j in /opt/conda/lib/python3.11/site-packages (5.20.0)\n",
      "Requirement already satisfied: langchain in /opt/conda/lib/python3.11/site-packages (0.2.1)\n",
      "Requirement already satisfied: langchain-community in /opt/conda/lib/python3.11/site-packages (0.2.1)\n",
      "Collecting ollama\n",
      "  Downloading ollama-0.2.0-py3-none-any.whl.metadata (4.1 kB)\n",
      "Requirement already satisfied: pytz in /opt/conda/lib/python3.11/site-packages (from neo4j) (2023.3.post1)\n",
      "Requirement already satisfied: PyYAML>=5.3 in /opt/conda/lib/python3.11/site-packages (from langchain) (6.0.1)\n",
      "Requirement already satisfied: SQLAlchemy<3,>=1.4 in /opt/conda/lib/python3.11/site-packages (from langchain) (2.0.22)\n",
      "Requirement already satisfied: aiohttp<4.0.0,>=3.8.3 in /opt/conda/lib/python3.11/site-packages (from langchain) (3.9.5)\n",
      "Requirement already satisfied: langchain-core<0.3.0,>=0.2.0 in /opt/conda/lib/python3.11/site-packages (from langchain) (0.2.1)\n",
      "Requirement already satisfied: langchain-text-splitters<0.3.0,>=0.2.0 in /opt/conda/lib/python3.11/site-packages (from langchain) (0.2.0)\n",
      "Requirement already satisfied: langsmith<0.2.0,>=0.1.17 in /opt/conda/lib/python3.11/site-packages (from langchain) (0.1.63)\n",
      "Requirement already satisfied: numpy<2,>=1 in /opt/conda/lib/python3.11/site-packages (from langchain) (1.26.4)\n",
      "Requirement already satisfied: pydantic<3,>=1 in /opt/conda/lib/python3.11/site-packages (from langchain) (2.7.1)\n",
      "Requirement already satisfied: requests<3,>=2 in /opt/conda/lib/python3.11/site-packages (from langchain) (2.31.0)\n",
      "Requirement already satisfied: tenacity<9.0.0,>=8.1.0 in /opt/conda/lib/python3.11/site-packages (from langchain) (8.3.0)\n",
      "Requirement already satisfied: dataclasses-json<0.7,>=0.5.7 in /opt/conda/lib/python3.11/site-packages (from langchain-community) (0.6.6)\n",
      "Collecting httpx<0.28.0,>=0.27.0 (from ollama)\n",
      "  Downloading httpx-0.27.0-py3-none-any.whl.metadata (7.2 kB)\n",
      "Requirement already satisfied: aiosignal>=1.1.2 in /opt/conda/lib/python3.11/site-packages (from aiohttp<4.0.0,>=3.8.3->langchain) (1.3.1)\n",
      "Requirement already satisfied: attrs>=17.3.0 in /opt/conda/lib/python3.11/site-packages (from aiohttp<4.0.0,>=3.8.3->langchain) (23.1.0)\n",
      "Requirement already satisfied: frozenlist>=1.1.1 in /opt/conda/lib/python3.11/site-packages (from aiohttp<4.0.0,>=3.8.3->langchain) (1.4.1)\n",
      "Requirement already satisfied: multidict<7.0,>=4.5 in /opt/conda/lib/python3.11/site-packages (from aiohttp<4.0.0,>=3.8.3->langchain) (6.0.5)\n",
      "Requirement already satisfied: yarl<2.0,>=1.0 in /opt/conda/lib/python3.11/site-packages (from aiohttp<4.0.0,>=3.8.3->langchain) (1.9.4)\n",
      "Requirement already satisfied: marshmallow<4.0.0,>=3.18.0 in /opt/conda/lib/python3.11/site-packages (from dataclasses-json<0.7,>=0.5.7->langchain-community) (3.21.2)\n",
      "Requirement already satisfied: typing-inspect<1,>=0.4.0 in /opt/conda/lib/python3.11/site-packages (from dataclasses-json<0.7,>=0.5.7->langchain-community) (0.9.0)\n",
      "Requirement already satisfied: anyio in /opt/conda/lib/python3.11/site-packages (from httpx<0.28.0,>=0.27.0->ollama) (4.0.0)\n",
      "Requirement already satisfied: certifi in /opt/conda/lib/python3.11/site-packages (from httpx<0.28.0,>=0.27.0->ollama) (2023.7.22)\n",
      "Collecting httpcore==1.* (from httpx<0.28.0,>=0.27.0->ollama)\n",
      "  Downloading httpcore-1.0.5-py3-none-any.whl.metadata (20 kB)\n",
      "Requirement already satisfied: idna in /opt/conda/lib/python3.11/site-packages (from httpx<0.28.0,>=0.27.0->ollama) (3.4)\n",
      "Requirement already satisfied: sniffio in /opt/conda/lib/python3.11/site-packages (from httpx<0.28.0,>=0.27.0->ollama) (1.3.0)\n",
      "Collecting h11<0.15,>=0.13 (from httpcore==1.*->httpx<0.28.0,>=0.27.0->ollama)\n",
      "  Downloading h11-0.14.0-py3-none-any.whl.metadata (8.2 kB)\n",
      "Requirement already satisfied: jsonpatch<2.0,>=1.33 in /opt/conda/lib/python3.11/site-packages (from langchain-core<0.3.0,>=0.2.0->langchain) (1.33)\n",
      "Requirement already satisfied: packaging<24.0,>=23.2 in /opt/conda/lib/python3.11/site-packages (from langchain-core<0.3.0,>=0.2.0->langchain) (23.2)\n",
      "Requirement already satisfied: orjson<4.0.0,>=3.9.14 in /opt/conda/lib/python3.11/site-packages (from langsmith<0.2.0,>=0.1.17->langchain) (3.10.3)\n",
      "Requirement already satisfied: annotated-types>=0.4.0 in /opt/conda/lib/python3.11/site-packages (from pydantic<3,>=1->langchain) (0.7.0)\n",
      "Requirement already satisfied: pydantic-core==2.18.2 in /opt/conda/lib/python3.11/site-packages (from pydantic<3,>=1->langchain) (2.18.2)\n",
      "Requirement already satisfied: typing-extensions>=4.6.1 in /opt/conda/lib/python3.11/site-packages (from pydantic<3,>=1->langchain) (4.8.0)\n",
      "Requirement already satisfied: charset-normalizer<4,>=2 in /opt/conda/lib/python3.11/site-packages (from requests<3,>=2->langchain) (3.3.0)\n",
      "Requirement already satisfied: urllib3<3,>=1.21.1 in /opt/conda/lib/python3.11/site-packages (from requests<3,>=2->langchain) (2.0.7)\n",
      "Requirement already satisfied: greenlet!=0.4.17 in /opt/conda/lib/python3.11/site-packages (from SQLAlchemy<3,>=1.4->langchain) (3.0.0)\n",
      "Requirement already satisfied: jsonpointer>=1.9 in /opt/conda/lib/python3.11/site-packages (from jsonpatch<2.0,>=1.33->langchain-core<0.3.0,>=0.2.0->langchain) (2.4)\n",
      "Requirement already satisfied: mypy-extensions>=0.3.0 in /opt/conda/lib/python3.11/site-packages (from typing-inspect<1,>=0.4.0->dataclasses-json<0.7,>=0.5.7->langchain-community) (1.0.0)\n",
      "Downloading ollama-0.2.0-py3-none-any.whl (9.5 kB)\n",
      "Downloading httpx-0.27.0-py3-none-any.whl (75 kB)\n",
      "\u001b[2K   \u001b[90m━━━━━━━━━━━━━━━━━━━━━━━━━━━━━━━━━━━━━━━━\u001b[0m \u001b[32m75.6/75.6 kB\u001b[0m \u001b[31m1.3 MB/s\u001b[0m eta \u001b[36m0:00:00\u001b[0ma \u001b[36m0:00:01\u001b[0m\n",
      "\u001b[?25hDownloading httpcore-1.0.5-py3-none-any.whl (77 kB)\n",
      "\u001b[2K   \u001b[90m━━━━━━━━━━━━━━━━━━━━━━━━━━━━━━━━━━━━━━━━\u001b[0m \u001b[32m77.9/77.9 kB\u001b[0m \u001b[31m8.4 MB/s\u001b[0m eta \u001b[36m0:00:00\u001b[0m\n",
      "\u001b[?25hDownloading h11-0.14.0-py3-none-any.whl (58 kB)\n",
      "\u001b[2K   \u001b[90m━━━━━━━━━━━━━━━━━━━━━━━━━━━━━━━━━━━━━━━━\u001b[0m \u001b[32m58.3/58.3 kB\u001b[0m \u001b[31m1.7 MB/s\u001b[0m eta \u001b[36m0:00:00\u001b[0m\n",
      "\u001b[?25hInstalling collected packages: h11, httpcore, httpx, ollama\n",
      "Successfully installed h11-0.14.0 httpcore-1.0.5 httpx-0.27.0 ollama-0.2.0\n"
     ]
    }
   ],
   "source": [
    "# Install some packages that are needed. \n",
    "\n",
    "!pip install neo4j langchain langchain-community ollama"
   ]
  },
  {
   "cell_type": "code",
   "execution_count": 1,
   "id": "25339b9d-f0d1-4111-bbcb-51af3db131a2",
   "metadata": {},
   "outputs": [],
   "source": [
    "# Imports needed\n",
    "\n",
    "import glob\n",
    "import json\n",
    "import os\n",
    "import re\n",
    "\n",
    "from pprint import pprint\n",
    "\n",
    "from langchain.llms import Ollama\n",
    "from langchain.graphs import Neo4jGraph\n",
    "from langchain.vectorstores.neo4j_vector import Neo4jVector\n",
    "#from langchain.embeddings.huggingface import HuggingFaceBgeEmbeddings\n",
    "from langchain.chains import RetrievalQA\n",
    "from langchain.chat_models import ChatOllama\n",
    "from langchain import PromptTemplate\n",
    "\n",
    "# Imports from other local python files\n",
    "from neo4j_graph import Graph\n",
    "\n"
   ]
  },
  {
   "cell_type": "markdown",
   "id": "5034f6fb-077c-4032-bf53-2be53648a811",
   "metadata": {},
   "source": [
    "## Establish Database Connection\n",
    "\n",
    "The cell connects to the Neo4J instance. It relies on several environment variables. \n",
    "\n",
    "**PLEASE NOTE**: The variable have been changed to support multiple databases in the same instance. \n",
    "\n",
    "| Variable            | Description                          | Sample Value          |\n",
    "|---------------------|--------------------------------------|-----------------------|\n",
    "| FHIR_GRAPH_URL      | Where to find the instance of Neo4j. | bolt://localhost:7687 |\n",
    "| FHIR_GRAPH_USER     | The username for the database.       | neo4j                 |\n",
    "| FHIR_GRAPH_PASSWORD | The password for the database.       | password              |\n",
    "| FHIR_GRAPH_DATABASE | The name of the database instance.   | neo4j                 |"
   ]
  },
  {
   "cell_type": "code",
   "execution_count": 2,
   "id": "5d1f69ff-048e-4070-bc7e-6f722714ea9a",
   "metadata": {},
   "outputs": [],
   "source": [
    "NEO4J_URI = \"bolt://neo4j-1:7687\"\n",
    "NEO4J_USER = \"neo4j\"\n",
    "NEO4J_PASSWORD = \"abc123abc123\"\n",
    "NEO4J_DATABASE = \"\"\n",
    "\n",
    "g = Graph(NEO4J_URI, NEO4J_USER, NEO4J_PASSWORD, NEO4J_DATABASE)"
   ]
  },
  {
   "cell_type": "markdown",
   "id": "de8a6b33-6c6a-4581-a884-9972073a93df",
   "metadata": {},
   "source": [
    "## Helper Database Cells\n",
    "\n",
    "The following three cells are here to be used to manage the database. They do not need to be run on a blank database. "
   ]
  },
  {
   "cell_type": "code",
   "execution_count": 157,
   "id": "985ddd91-3a2b-4a40-9788-a407e5e41490",
   "metadata": {},
   "outputs": [
    {
     "name": "stdout",
     "output_type": "stream",
     "text": [
      "[[432, 431]]\n",
      "(432, 431)\n"
     ]
    }
   ],
   "source": [
    "print(g.database_metrics())"
   ]
  },
  {
   "cell_type": "code",
   "execution_count": 3,
   "id": "38b447d2-b32e-4a59-84af-65bb2df1c78c",
   "metadata": {},
   "outputs": [
    {
     "name": "stdout",
     "output_type": "stream",
     "text": [
      "[[0, 0]]\n"
     ]
    },
    {
     "data": {
      "text/plain": [
       "'Deleted 0 nodes and 0 relationships in 0.031 seconds'"
      ]
     },
     "execution_count": 3,
     "metadata": {},
     "output_type": "execute_result"
    }
   ],
   "source": [
    "g.wipe_database()"
   ]
  },
  {
   "cell_type": "markdown",
   "id": "1bd80816-7949-49cb-a816-42c41caec6c7",
   "metadata": {},
   "source": [
    "## Load Markdown into the Graph\n",
    "\n",
    "This cell opens the bundle and creates the nodes and edges in the graph for each resource. \n",
    "\n",
    "Every resource will result in a node that has a label based on the resource type and as a `resource`. The values within the resource will be flattened \n",
    "into properties within the node. Also, a property called `text` will include a string representation of the resource. \n",
    "\n",
    "Additionally, nodes will be created for every unique date (ignoring time) found in the FHIR resources. \n",
    "\n",
    "Edges will be created for every reference in the resource to something that can be found within the bundles loaded. So the linking resource doesn't have \n",
    "to be in the same bundle, but it must be in a bundle that is loaded. \n",
    "\n",
    "Edges will also connect resources to the dates found inside them. \n",
    "\n",
    "**Warning:** This cell may take sometime to run. "
   ]
  },
  {
   "cell_type": "code",
   "execution_count": 4,
   "id": "508d41e8-af22-48dd-8f80-91d887daf1a6",
   "metadata": {},
   "outputs": [
    {
     "name": "stdout",
     "output_type": "stream",
     "text": [
      "/data-transfer/iihf/rulebook.md\n",
      "1\n"
     ]
    }
   ],
   "source": [
    "from langchain_community.document_loaders import DirectoryLoader\n",
    "from langchain_community.document_loaders import TextLoader\n",
    "from langchain.text_splitter import MarkdownTextSplitter\n",
    "from langchain_text_splitters import MarkdownHeaderTextSplitter\n",
    "\n",
    "loader = DirectoryLoader('/data-transfer/iihf', glob=\"**/*.md\", loader_cls=TextLoader)\n",
    "documents = loader.load()\n",
    "\n",
    "print (documents[0].metadata[\"source\"])\n",
    "print (len(documents))\n",
    "\n",
    "headers_to_split_on = [\n",
    "    (\"#\", \"header1\"),\n",
    "    (\"##\", \"header2\"),\n",
    "    (\"###\", \"header3\"),\n",
    "    (\"####\", \"header4\"),\n",
    "]\n",
    "\n",
    "markdown_splitter = MarkdownHeaderTextSplitter(headers_to_split_on=headers_to_split_on, strip_headers=True)\n",
    "md_header_splits = markdown_splitter.split_text(documents[0].page_content)"
   ]
  },
  {
   "cell_type": "code",
   "execution_count": 27,
   "id": "c62c7ee6-3e51-4d01-be6c-d2ad811b9512",
   "metadata": {},
   "outputs": [
    {
     "data": {
      "text/plain": [
       "'No matter where ice hockey is played, the object of the game is the same – to put the puck into the opponent’s goal. Beyond that, ice hockey across the globe is subject to certain variations. This makes the rules of the game extremely important. These rules must be followed all times, in all countries, in all age categories, for the game to be enjoyed by everyone.  \\nHockey’s speed is one of the qualities that makes it so exciting. But this skill and excitement must be balanced with fair play and respect.  \\nIt is, therefore, important to make a clear separation between the purpose of all the elements of the game and to use these respectfully. These distinctions can be taught at an early age or whenever one begins to show interest in the game. And this is why hockey development begins with parents and coaches, those people most influential in guiding a person, old or young, into playing the game properly and within the rules.  \\nThe IIHF Championship program encompasses 81 Member National Associations, five age and gender categories over 30 international ice hockey tournaments, including the Olympic Winter Games.  \\nThe extensiveness of the program is acknowledged in the rule book. The goal is to provide everyone one set of rules from which to work. This presents a fair and leveled standard of play. It is a means of keeping the game’s “language” the same regardless of where it is played.'"
      ]
     },
     "execution_count": 27,
     "metadata": {},
     "output_type": "execute_result"
    }
   ],
   "source": [
    "md_header_splits[0].page_content\n"
   ]
  },
  {
   "cell_type": "code",
   "execution_count": 5,
   "id": "f5488bc1-21c2-4174-8268-6e15fbbdd398",
   "metadata": {},
   "outputs": [
    {
     "name": "stdout",
     "output_type": "stream",
     "text": [
      "IIHF Official Rulebook 2023/24\n",
      "Welcome\n"
     ]
    }
   ],
   "source": [
    "# Char-level splits\n",
    "from langchain_text_splitters import RecursiveCharacterTextSplitter\n",
    "\n",
    "text_splitter = RecursiveCharacterTextSplitter(\n",
    "    separators=[\n",
    "        \"\\n\\n\",\n",
    "        \"\\n\",\n",
    "        \" \",\n",
    "        \".\",\n",
    "        \",\",\n",
    "        \"\\u200b\",  # Zero-width space\n",
    "        \"\\uff0c\",  # Fullwidth comma\n",
    "        \"\\u3001\",  # Ideographic comma\n",
    "        \"\\uff0e\",  # Fullwidth full stop\n",
    "        \"\\u3002\",  # Ideographic full stop\n",
    "        \"\",\n",
    "    ],\n",
    "    # Existing args\n",
    ")\n",
    "\n",
    "chunk_size = 300\n",
    "chunk_overlap = 30\n",
    "text_splitter = RecursiveCharacterTextSplitter(\n",
    "    chunk_size=chunk_size, chunk_overlap=chunk_overlap\n",
    ")\n",
    "\n",
    "# Split\n",
    "chunks = text_splitter.split_documents(md_header_splits)\n",
    "for m in chunks[6].metadata:\n",
    "    print (chunks[6].metadata[m])"
   ]
  },
  {
   "cell_type": "code",
   "execution_count": 6,
   "id": "f374ad90-dc36-4815-903b-901fba39f934",
   "metadata": {},
   "outputs": [
    {
     "data": {
      "text/plain": [
       "511"
      ]
     },
     "execution_count": 6,
     "metadata": {},
     "output_type": "execute_result"
    }
   ],
   "source": [
    "len(chunks)"
   ]
  },
  {
   "cell_type": "markdown",
   "id": "15113c62-8544-49ae-9a17-d59b98de31d5",
   "metadata": {},
   "source": [
    "## Load data into the Graph"
   ]
  },
  {
   "cell_type": "code",
   "execution_count": 7,
   "id": "677cca04-b693-439f-90cb-d39e3c633377",
   "metadata": {},
   "outputs": [],
   "source": [
    "import os\n",
    "from langchain.graphs import Neo4jGraph\n",
    "from neo4j import GraphDatabase\n",
    "\n",
    "NEO4J_URI = \"bolt://neo4j-1:7687\"\n",
    "NEO4J_USER = \"neo4j\"\n",
    "NEO4J_PASSWORD = \"abc123abc123\"\n",
    "NEO4J_DATABASE = \"\"\n",
    "\n",
    "os.environ[\"NEO4J_URI\"] = NEO4J_URI\n",
    "os.environ[\"NEO4J_USERNAME\"] = NEO4J_USER\n",
    "os.environ[\"NEO4J_PASSWORD\"] = NEO4J_PASSWORD\n",
    "os.environ[\"NEO4J_DATABASE\"] = NEO4J_DATABASE\n",
    "\n",
    "graph = Neo4jGraph()\n",
    "\n",
    "driver = GraphDatabase.driver(NEO4J_URI, auth=(NEO4J_USER, NEO4J_PASSWORD), database=NEO4J_DATABASE)"
   ]
  },
  {
   "cell_type": "code",
   "execution_count": 8,
   "id": "95e85c11-c46b-40c1-9ae4-39d7d72aabbe",
   "metadata": {},
   "outputs": [],
   "source": [
    "from neo4j_graph_loader import initialise_neo4j\n",
    "\n",
    "initialise_neo4j(graph)"
   ]
  },
  {
   "cell_type": "code",
   "execution_count": 9,
   "id": "caeee945-776c-48a8-a1f1-490d0da2d807",
   "metadata": {},
   "outputs": [],
   "source": [
    "from neo4j_graph_loader import insert_document\n",
    "\n",
    "document = documents[0]\n",
    "\n",
    "insert_document(graph, document)"
   ]
  },
  {
   "cell_type": "code",
   "execution_count": 10,
   "id": "9dd7a85d-e1fd-4016-83c8-ad0018602e2d",
   "metadata": {},
   "outputs": [],
   "source": [
    "from neo4j_graph_loader import insert_chunks\n",
    "\n",
    "insert_chunks(graph, 1, 1, chunks)"
   ]
  },
  {
   "cell_type": "code",
   "execution_count": 11,
   "id": "9a63bd49-afb2-48be-a2eb-ccec56ef9ba7",
   "metadata": {},
   "outputs": [],
   "source": [
    "from neo4j_graph_loader import derive_sections\n",
    "derive_sections(graph, document)"
   ]
  },
  {
   "cell_type": "markdown",
   "id": "0d352d40-eaa9-4e1e-b633-6d69d61d3060",
   "metadata": {},
   "source": [
    "## Create the Vector Embedding Index in the Graph\n",
    "\n",
    "This cell creates a Vector Index in Neo4J. It looks at nodes labeled as `resource` and indexes the string representation in the `text` property. \n",
    "\n",
    "**Warning:** This cell may take sometime to run. "
   ]
  },
  {
   "cell_type": "code",
   "execution_count": 13,
   "id": "d437f762-7aae-4169-b174-5f1b73f9a638",
   "metadata": {},
   "outputs": [
    {
     "name": "stdout",
     "output_type": "stream",
     "text": [
      "1024\n"
     ]
    }
   ],
   "source": [
    "import ollama\n",
    "from ollama import Client\n",
    "from langchain_community.embeddings import OllamaEmbeddings\n",
    "\n",
    "OLLAMA_URL=\"http://192.168.1.102:11434\"\n",
    "EMBEDDING_MODEL=\"mxbai-embed-large\"\n",
    "\n",
    "ollama = Client(host=OLLAMA_URL)\n",
    "\n",
    "embedding = OllamaEmbeddings(\n",
    "            base_url=OLLAMA_URL, model=EMBEDDING_MODEL, temperature=0)\n",
    "\n",
    "embedding_dimension = len(embedding.embed_query(\"foo\"))\n",
    "print (embedding_dimension)\n"
   ]
  },
  {
   "cell_type": "code",
   "execution_count": null,
   "id": "b8776e7d-bb7b-4af7-adab-178fa6b59e8f",
   "metadata": {},
   "outputs": [],
   "source": [
    "def get_embedding(client, text, model):\n",
    "        response = client.embeddings(model=model, prompt=text)\n",
    "        return response[\"embedding\"]\n",
    "\n",
    "print(get_embedding(ollama, \"car\", EMBEDDING_MODEL))"
   ]
  },
  {
   "cell_type": "code",
   "execution_count": 16,
   "id": "420c0c57-1237-4915-bc1f-a0ce6cf73b4a",
   "metadata": {},
   "outputs": [
    {
     "ename": "TypeError",
     "evalue": "create_vector_index() missing 1 required positional argument: 'dimension'",
     "output_type": "error",
     "traceback": [
      "\u001b[0;31m---------------------------------------------------------------------------\u001b[0m",
      "\u001b[0;31mTypeError\u001b[0m                                 Traceback (most recent call last)",
      "Cell \u001b[0;32mIn[16], line 3\u001b[0m\n\u001b[1;32m      1\u001b[0m \u001b[38;5;28;01mfrom\u001b[39;00m \u001b[38;5;21;01mneo4j_graph_loader\u001b[39;00m \u001b[38;5;28;01mimport\u001b[39;00m create_vector_index\n\u001b[0;32m----> 3\u001b[0m \u001b[43mcreate_vector_index\u001b[49m\u001b[43m(\u001b[49m\u001b[43mgraph\u001b[49m\u001b[43m,\u001b[49m\u001b[43m \u001b[49m\u001b[38;5;241;43m1024\u001b[39;49m\u001b[43m)\u001b[49m\n",
      "\u001b[0;31mTypeError\u001b[0m: create_vector_index() missing 1 required positional argument: 'dimension'"
     ]
    }
   ],
   "source": [
    "from neo4j_graph_loader import create_vector_index\n",
    "\n",
    "create_vector_index(graph, 1024)"
   ]
  },
  {
   "cell_type": "code",
   "execution_count": 17,
   "id": "b3581782-cee8-4670-9818-32f568cdf3e8",
   "metadata": {},
   "outputs": [
    {
     "name": "stdout",
     "output_type": "stream",
     "text": [
      "Processed 511 Chunk nodes for property @text.\n"
     ]
    },
    {
     "data": {
      "text/plain": [
       "511"
      ]
     },
     "execution_count": 17,
     "metadata": {},
     "output_type": "execute_result"
    }
   ],
   "source": [
    "from neo4j_graph_loader import create_embedding\n",
    "\n",
    "create_embedding(driver, 'Chunk', 'text', ollama, EMBEDDING_MODEL)"
   ]
  },
  {
   "cell_type": "markdown",
   "id": "ad84f208-cb50-4a4b-9cc3-399274c01bd2",
   "metadata": {},
   "source": [
    "# Using LangChain to create a Vector Embedding Index in an existing graph\n",
    "\n",
    "This cell creates a Vector Index in Neo4J. It looks at nodes labeled as `Chunk` and indexes the string representation in the `text` property. \n",
    "\n",
    "**Warning:** This cell may take sometime to run. "
   ]
  },
  {
   "cell_type": "code",
   "execution_count": 18,
   "id": "742bf292-5e34-4c8b-be00-b227151ab5ad",
   "metadata": {},
   "outputs": [
    {
     "data": {
      "text/plain": [
       "<langchain_community.vectorstores.neo4j_vector.Neo4jVector at 0xffff504fbf50>"
      ]
     },
     "execution_count": 18,
     "metadata": {},
     "output_type": "execute_result"
    }
   ],
   "source": [
    "from langchain.vectorstores import Neo4jVector\n",
    "Neo4jVector.from_existing_graph(\n",
    "    embedding=embedding,\n",
    "    url=NEO4J_URI,\n",
    "    username=NEO4J_USER,\n",
    "    password=NEO4J_PASSWORD,\n",
    "    database=NEO4J_DATABASE,\n",
    "    index_name='chunk_text',\n",
    "    node_label=\"Chunk\",\n",
    "    text_node_properties=['text'],\n",
    "    embedding_node_property='embedding',\n",
    ")"
   ]
  },
  {
   "cell_type": "markdown",
   "id": "8dd6c048-8846-47ce-897b-572a8082b12c",
   "metadata": {},
   "source": [
    "# Using LangChain to create a Neo4J Vector Database (do not use!)"
   ]
  },
  {
   "cell_type": "code",
   "execution_count": null,
   "id": "bc305841-608a-44bd-accd-0aadb56a1f29",
   "metadata": {},
   "outputs": [],
   "source": [
    "from langchain.vectorstores import Neo4jVector\n",
    "from langchain_community.embeddings import OllamaEmbeddings\n",
    "\n",
    "# Neo4j Aura credentials\n",
    "NEO4J_URL = \"bolt://neo4j-1:7687\"\n",
    "NEO4J_USER = \"neo4j\"\n",
    "NEO4J_PASSWORD = \"abc123abc123\"\n",
    "NEO4J_DATABASE = \"\"\n",
    "\n",
    "# Instantiate Neo4j vector from documents\n",
    "neo4j_vector = Neo4jVector.from_documents(\n",
    "    chunks,\n",
    "    embedding = OllamaEmbeddings(\n",
    "            base_url=OLLAMA_URL, model=\"mxbai-embed-large\", temperature=0\n",
    "        ),\n",
    "    url=NEO4J_URL,\n",
    "    username=NEO4J_USER,\n",
    "    password=NEO4J_PASSWORD,\n",
    "    node_label=\"Chunk\"\n",
    ")"
   ]
  },
  {
   "cell_type": "markdown",
   "id": "dd51bd35-e111-4afe-a026-a1230cd3965f",
   "metadata": {},
   "source": [
    "### Create Vector Index \n",
    "\n",
    "This cell creates a new vector index, using the index created above. \n",
    "\n",
    "This is here because running the cell above can take time and only should be done one time when the DB is created. "
   ]
  },
  {
   "cell_type": "code",
   "execution_count": 19,
   "id": "97afe7ff-056c-4c97-a945-85bd57d53bf9",
   "metadata": {},
   "outputs": [],
   "source": [
    "vector_index = Neo4jVector.from_existing_index(\n",
    "    embedding = OllamaEmbeddings(\n",
    "            base_url=OLLAMA_URL, model=\"mxbai-embed-large\", temperature=0\n",
    "        ),\n",
    "    url=NEO4J_URI,\n",
    "    username=NEO4J_USER,\n",
    "    password=NEO4J_PASSWORD,\n",
    "    database=NEO4J_DATABASE,\n",
    "    index_name='chunk_text'\n",
    ")"
   ]
  },
  {
   "cell_type": "markdown",
   "id": "dda79e13-76d1-48d6-b6e8-fb6b20934f43",
   "metadata": {},
   "source": [
    "## Pick the Question\n",
    "\n",
    "All following cells will work with the question as defined here. As you can see, I have been experimenting with a number of \n",
    "different questions.\n"
   ]
  },
  {
   "cell_type": "code",
   "execution_count": 20,
   "id": "927142f2-21dc-4311-86a9-0524ae989c61",
   "metadata": {},
   "outputs": [],
   "source": [
    "#question = \"What is special about the equipment of a goalkeeper in icehockey\"\n",
    "#question = \"When can a stick meassurement be requested\"\n",
    "#question = \"what is the size of an icehockey rink\"\n",
    "#question = \"how many players play in a hockey game\"\n",
    "question = \"What is considered dangerous equipment\""
   ]
  },
  {
   "cell_type": "markdown",
   "id": "1a074934-2c04-44ff-ba77-39eb6aa1a5bd",
   "metadata": {},
   "source": [
    "## Start working with the LLM\n",
    "\n",
    "The rest of this notebook is working with the LLM to attempt to answer the question.\n",
    "\n",
    "### Ask LLM\n",
    "\n",
    "This first cell asks the LLM with no context and gets told the LLM can't answer without more information. "
   ]
  },
  {
   "cell_type": "code",
   "execution_count": 24,
   "id": "71f2a2fd-52d4-4493-a315-07bf75010021",
   "metadata": {},
   "outputs": [
    {
     "name": "stderr",
     "output_type": "stream",
     "text": [
      "/opt/conda/lib/python3.11/site-packages/langchain_core/_api/deprecation.py:119: LangChainDeprecationWarning: The method `BaseLLM.__call__` was deprecated in langchain-core 0.1.7 and will be removed in 0.3.0. Use invoke instead.\n",
      "  warn_deprecated(\n"
     ]
    },
    {
     "name": "stdout",
     "output_type": "stream",
     "text": [
      "\"Dangerous equipment\" can vary depending on the context, industry, and regulations. However, here are some examples of equipment that are commonly considered hazardous or potentially dangerous:\n",
      "\n",
      "1. Heavy machinery:\n",
      "\t* Cranes\n",
      "\t* Forklifts\n",
      "\t* Backhoes\n",
      "\t* Excavators\n",
      "2. Power tools and equipment:\n",
      "\t* Circular saws\n",
      "\t* Reciprocating saws (e.g., sawzalls)\n",
      "\t* Drill presses\n",
      "\t* Soldering irons\n",
      "3. Industrial machinery:\n",
      "\t* Presses\n",
      "\t* Lathes\n",
      "\t* Grinders\n",
      "\t* Milling machines\n",
      "4. Chemical processing equipment:\n",
      "\t* Reactors\n",
      "\t* Distillation columns\n",
      "\t* Centrifuges\n",
      "\t* Mixing tanks\n",
      "5. Electrical equipment:\n",
      "\t* High-voltage transformers\n",
      "\t* Electrical substations\n",
      "\t* Power distribution panels\n",
      "6. Pneumatic and hydraulic systems:\n",
      "\t* Air compressors\n",
      "\t* Hydraulic pumps\n",
      "\t* Pneumatic cylinders\n",
      "7. Food processing equipment:\n",
      "\t* Meat grinders\n",
      "\t* Slaughterhouse machinery\n",
      "\t* Dairy processing equipment\n",
      "8. Medical equipment:\n",
      "\t* MRI machines\n",
      "\t* Radiation therapy equipment\n",
      "\t* Surgical lasers\n",
      "9. Firefighting and rescue equipment:\n",
      "\t* Fire trucks\n",
      "\t* Ladders\n",
      "\t* Hose reels\n",
      "\t* Rescue ropes\n",
      "\n",
      "Please note that this is not an exhaustive list, and the perception of \"dangerous\" can vary depending on the context and industry. Additionally, many pieces of equipment have built-in safety features or protocols to minimize risks.\n",
      "\n",
      "Some general factors that contribute to equipment being considered dangerous include:\n",
      "\n",
      "1. Complexity: Equipment with complex mechanisms or processes may be more prone to errors or malfunctions.\n",
      "2. Energy levels: Equipment that handles high energies (e.g., electrical, mechanical, or thermal) can pose significant hazards.\n",
      "3. Chemicals or hazardous materials: Handling or processing hazardous substances can create risks for workers and the environment.\n",
      "4. Height or weight: Heavy machinery or equipment at heights (e.g., cranes, aerial lifts) may be considered dangerous due to the potential for falls or crushing injuries.\n",
      "\n",
      "It's essential to ensure that equipment is properly designed, maintained, and operated according to safety guidelines and regulations to minimize risks.\n"
     ]
    }
   ],
   "source": [
    "ollama_model = 'llama3' # mistral, orca-mini, llama2\n",
    "\n",
    "llm = Ollama(base_url=OLLAMA_URL, model=ollama_model)\n",
    "no_rag_answer = llm(question)\n",
    "print(no_rag_answer)"
   ]
  },
  {
   "cell_type": "code",
   "execution_count": 21,
   "id": "d888b954-f277-4cf0-bc47-fef52591cd6a",
   "metadata": {},
   "outputs": [
    {
     "data": {
      "text/plain": [
       "[{'score': 0.8824647665023804,\n",
       "  'text': 'A “broken stick” is one which, in the opinion of the Referee, is unfit for normal play.'},\n",
       " {'score': 0.8573859930038452,\n",
       "  'text': 'In the interval between periods, the ice surface shall be flooded unless mutually agreed to the contrary.'},\n",
       " {'score': 0.8559696674346924, 'text': 'to the ice surface are not allowed.'}]"
      ]
     },
     "execution_count": 21,
     "metadata": {},
     "output_type": "execute_result"
    }
   ],
   "source": [
    "emb = embedding.embed_query(question)\n",
    "graph.query(\"\"\"\n",
    "    CALL db.index.vector.queryNodes('chunk_text', 3, $embedding) yield node, score\n",
    "    RETURN score, node.text AS text\n",
    "\"\"\", { \"embedding\": emb })"
   ]
  },
  {
   "cell_type": "markdown",
   "id": "94f2a25d-de0d-4cc6-b622-10147051b4b3",
   "metadata": {},
   "source": [
    "### Check Vector Index\n",
    "\n",
    "This cell checks what the vector index will return and is here for debugging / informational purposes. "
   ]
  },
  {
   "cell_type": "code",
   "execution_count": 22,
   "id": "b948abed-4d9a-4dbb-81a0-aa9626c060f2",
   "metadata": {},
   "outputs": [
    {
     "name": "stdout",
     "output_type": "stream",
     "text": [
      "A “broken stick” is one which, in the opinion of the Referee, is unfit for normal play.\n",
      "In the interval between periods, the ice surface shall be flooded unless mutually agreed to the contrary.\n"
     ]
    }
   ],
   "source": [
    "response = vector_index.similarity_search(question, k=2) # k_nearest is not used here because we don't have a retrieval query yet.\n",
    "print(response[0].page_content)\n",
    "print(response[1].page_content)\n"
   ]
  },
  {
   "cell_type": "markdown",
   "id": "8ef762fc-44dc-4b9d-909d-9349ed77d099",
   "metadata": {},
   "source": [
    "### Ask the LMM with Context\n",
    "\n",
    "This cell will ask the LLM with the string representation of the resource node that is found by the vector index. "
   ]
  },
  {
   "cell_type": "code",
   "execution_count": 25,
   "id": "61c00084-a7f0-4e86-b8b1-390a34d5b279",
   "metadata": {},
   "outputs": [
    {
     "name": "stderr",
     "output_type": "stream",
     "text": [
      "/opt/conda/lib/python3.11/site-packages/langchain_core/_api/deprecation.py:119: LangChainDeprecationWarning: The method `Chain.run` was deprecated in langchain 0.1.0 and will be removed in 0.3.0. Use invoke instead.\n",
      "  warn_deprecated(\n"
     ]
    },
    {
     "name": "stdout",
     "output_type": "stream",
     "text": [
      "\n",
      "\n",
      "\u001b[1m> Entering new RetrievalQA chain...\u001b[0m\n",
      "\n",
      "\n",
      "\u001b[1m> Entering new StuffDocumentsChain chain...\u001b[0m\n",
      "\n",
      "\n",
      "\u001b[1m> Entering new LLMChain chain...\u001b[0m\n",
      "Prompt after formatting:\n",
      "\u001b[32;1m\u001b[1;3mSystem: Use the following pieces of context to answer the user's question. \n",
      "If you don't know the answer, just say that you don't know, don't try to make up an answer.\n",
      "----------------\n",
      "A “broken stick” is one which, in the opinion of the Referee, is unfit for normal play.\n",
      "Human: What is considered dangerous equipment\u001b[0m\n",
      "\n",
      "\u001b[1m> Finished chain.\u001b[0m\n",
      "\n",
      "\u001b[1m> Finished chain.\u001b[0m\n",
      "\n",
      "\u001b[1m> Finished chain.\u001b[0m\n",
      "('In the context of a game or sport, \"dangerous equipment\" typically refers to '\n",
      " 'any piece of gear that poses a significant risk of injury to players if not '\n",
      " 'properly used or maintained.\\n'\n",
      " '\\n'\n",
      " 'In the case of a broken stick in hockey, it would be considered dangerous '\n",
      " 'equipment because it can cause harm to other players on the ice. A broken '\n",
      " 'stick can fly off and hit someone, causing an injury, or it can become '\n",
      " \"lodged in the ice or another player's body, leading to further \"\n",
      " 'complications.\\n'\n",
      " '\\n'\n",
      " 'Other examples of dangerous equipment might include:\\n'\n",
      " '\\n'\n",
      " '* A helmet that is damaged or worn incorrectly\\n'\n",
      " '* A pair of skates with loose laces or a broken strap\\n'\n",
      " '* A puck that is damaged or has sharp edges\\n'\n",
      " '* A stick with a loose or broken handle\\n'\n",
      " '\\n'\n",
      " 'In general, any piece of equipment that can cause harm to players if not '\n",
      " 'properly used or maintained would be considered dangerous.')\n"
     ]
    }
   ],
   "source": [
    "ollama_model = 'llama3' # mistral, orca-mini, llama2\n",
    "\n",
    "vector_qa = RetrievalQA.from_chain_type(\n",
    "                llm=ChatOllama(base_url=OLLAMA_URL, model=ollama_model, temperature=0)\n",
    "                , chain_type=\"stuff\"\n",
    "                , retriever=vector_index.as_retriever(search_kwargs={'k': 1}) # k_nearest is not used here because we don't have a retrieval query yet.\n",
    "                , verbose=True\n",
    "                , chain_type_kwargs={\"verbose\": True}\n",
    ")\n",
    "\n",
    "pprint(vector_qa.run(question))"
   ]
  },
  {
   "cell_type": "code",
   "execution_count": null,
   "id": "187e1f98-8eee-4388-afb7-568534b9a706",
   "metadata": {},
   "outputs": [],
   "source": []
  },
  {
   "cell_type": "code",
   "execution_count": 32,
   "id": "87e63672-19c0-4f40-97b9-70f1e1041041",
   "metadata": {},
   "outputs": [],
   "source": [
    "from langchain.vectorstores import Neo4jVector\n",
    "from langchain.chains import RetrievalQAWithSourcesChain\n",
    "\n",
    "neo4j_vector_store = Neo4jVector.from_existing_graph(\n",
    "    embedding=embedding,\n",
    "    url=NEO4J_URI,\n",
    "    username=NEO4J_USER,\n",
    "    password=NEO4J_PASSWORD,\n",
    "    database=NEO4J_DATABASE,\n",
    "    index_name='chunks_vector',\n",
    "    node_label=\"Chunk\",\n",
    "    text_node_properties=['text'],\n",
    "    embedding_node_property='embedding',\n",
    ")\n",
    "retriever = neo4j_vector_store.as_retriever(search_kwargs={'k': 1})\n",
    "\n",
    "chain = RetrievalQA.from_chain_type(\n",
    "    ChatOllama(model=\"llama3\"), \n",
    "    chain_type=\"stuff\", \n",
    "    retriever=retriever\n",
    ")\n",
    "\n",
    "def prettychain(question: str) -> str:\n",
    "    \"\"\"Pretty print the chain's response to a question\"\"\"\n",
    "    response = chain({\"question\": question},\n",
    "        return_only_outputs=True,)\n",
    "    print(textwrap.fill(response['answer'], 60))"
   ]
  },
  {
   "cell_type": "code",
   "execution_count": 34,
   "id": "632d76f7-8c10-47ac-bb8b-310a35c5ca85",
   "metadata": {},
   "outputs": [
    {
     "ename": "ValueError",
     "evalue": "Missing some input keys: {'query'}",
     "output_type": "error",
     "traceback": [
      "\u001b[0;31m---------------------------------------------------------------------------\u001b[0m",
      "\u001b[0;31mValueError\u001b[0m                                Traceback (most recent call last)",
      "Cell \u001b[0;32mIn[34], line 1\u001b[0m\n\u001b[0;32m----> 1\u001b[0m \u001b[43mprettychain\u001b[49m\u001b[43m(\u001b[49m\u001b[43mquestion\u001b[49m\u001b[43m)\u001b[49m\n",
      "Cell \u001b[0;32mIn[32], line 25\u001b[0m, in \u001b[0;36mprettychain\u001b[0;34m(question)\u001b[0m\n\u001b[1;32m     23\u001b[0m \u001b[38;5;28;01mdef\u001b[39;00m \u001b[38;5;21mprettychain\u001b[39m(question: \u001b[38;5;28mstr\u001b[39m) \u001b[38;5;241m-\u001b[39m\u001b[38;5;241m>\u001b[39m \u001b[38;5;28mstr\u001b[39m:\n\u001b[1;32m     24\u001b[0m \u001b[38;5;250m    \u001b[39m\u001b[38;5;124;03m\"\"\"Pretty print the chain's response to a question\"\"\"\u001b[39;00m\n\u001b[0;32m---> 25\u001b[0m     response \u001b[38;5;241m=\u001b[39m \u001b[43mchain\u001b[49m\u001b[43m(\u001b[49m\u001b[43m{\u001b[49m\u001b[38;5;124;43m\"\u001b[39;49m\u001b[38;5;124;43mquestion\u001b[39;49m\u001b[38;5;124;43m\"\u001b[39;49m\u001b[43m:\u001b[49m\u001b[43m \u001b[49m\u001b[43mquestion\u001b[49m\u001b[43m}\u001b[49m\u001b[43m,\u001b[49m\n\u001b[1;32m     26\u001b[0m \u001b[43m        \u001b[49m\u001b[43mreturn_only_outputs\u001b[49m\u001b[38;5;241;43m=\u001b[39;49m\u001b[38;5;28;43;01mTrue\u001b[39;49;00m\u001b[43m,\u001b[49m\u001b[43m)\u001b[49m\n\u001b[1;32m     27\u001b[0m     \u001b[38;5;28mprint\u001b[39m(textwrap\u001b[38;5;241m.\u001b[39mfill(response[\u001b[38;5;124m'\u001b[39m\u001b[38;5;124manswer\u001b[39m\u001b[38;5;124m'\u001b[39m], \u001b[38;5;241m60\u001b[39m))\n",
      "File \u001b[0;32m/opt/conda/lib/python3.11/site-packages/langchain_core/_api/deprecation.py:148\u001b[0m, in \u001b[0;36mdeprecated.<locals>.deprecate.<locals>.warning_emitting_wrapper\u001b[0;34m(*args, **kwargs)\u001b[0m\n\u001b[1;32m    146\u001b[0m     warned \u001b[38;5;241m=\u001b[39m \u001b[38;5;28;01mTrue\u001b[39;00m\n\u001b[1;32m    147\u001b[0m     emit_warning()\n\u001b[0;32m--> 148\u001b[0m \u001b[38;5;28;01mreturn\u001b[39;00m \u001b[43mwrapped\u001b[49m\u001b[43m(\u001b[49m\u001b[38;5;241;43m*\u001b[39;49m\u001b[43margs\u001b[49m\u001b[43m,\u001b[49m\u001b[43m \u001b[49m\u001b[38;5;241;43m*\u001b[39;49m\u001b[38;5;241;43m*\u001b[39;49m\u001b[43mkwargs\u001b[49m\u001b[43m)\u001b[49m\n",
      "File \u001b[0;32m/opt/conda/lib/python3.11/site-packages/langchain/chains/base.py:383\u001b[0m, in \u001b[0;36mChain.__call__\u001b[0;34m(self, inputs, return_only_outputs, callbacks, tags, metadata, run_name, include_run_info)\u001b[0m\n\u001b[1;32m    351\u001b[0m \u001b[38;5;250m\u001b[39m\u001b[38;5;124;03m\"\"\"Execute the chain.\u001b[39;00m\n\u001b[1;32m    352\u001b[0m \n\u001b[1;32m    353\u001b[0m \u001b[38;5;124;03mArgs:\u001b[39;00m\n\u001b[0;32m   (...)\u001b[0m\n\u001b[1;32m    374\u001b[0m \u001b[38;5;124;03m        `Chain.output_keys`.\u001b[39;00m\n\u001b[1;32m    375\u001b[0m \u001b[38;5;124;03m\"\"\"\u001b[39;00m\n\u001b[1;32m    376\u001b[0m config \u001b[38;5;241m=\u001b[39m {\n\u001b[1;32m    377\u001b[0m     \u001b[38;5;124m\"\u001b[39m\u001b[38;5;124mcallbacks\u001b[39m\u001b[38;5;124m\"\u001b[39m: callbacks,\n\u001b[1;32m    378\u001b[0m     \u001b[38;5;124m\"\u001b[39m\u001b[38;5;124mtags\u001b[39m\u001b[38;5;124m\"\u001b[39m: tags,\n\u001b[1;32m    379\u001b[0m     \u001b[38;5;124m\"\u001b[39m\u001b[38;5;124mmetadata\u001b[39m\u001b[38;5;124m\"\u001b[39m: metadata,\n\u001b[1;32m    380\u001b[0m     \u001b[38;5;124m\"\u001b[39m\u001b[38;5;124mrun_name\u001b[39m\u001b[38;5;124m\"\u001b[39m: run_name,\n\u001b[1;32m    381\u001b[0m }\n\u001b[0;32m--> 383\u001b[0m \u001b[38;5;28;01mreturn\u001b[39;00m \u001b[38;5;28;43mself\u001b[39;49m\u001b[38;5;241;43m.\u001b[39;49m\u001b[43minvoke\u001b[49m\u001b[43m(\u001b[49m\n\u001b[1;32m    384\u001b[0m \u001b[43m    \u001b[49m\u001b[43minputs\u001b[49m\u001b[43m,\u001b[49m\n\u001b[1;32m    385\u001b[0m \u001b[43m    \u001b[49m\u001b[43mcast\u001b[49m\u001b[43m(\u001b[49m\u001b[43mRunnableConfig\u001b[49m\u001b[43m,\u001b[49m\u001b[43m \u001b[49m\u001b[43m{\u001b[49m\u001b[43mk\u001b[49m\u001b[43m:\u001b[49m\u001b[43m \u001b[49m\u001b[43mv\u001b[49m\u001b[43m \u001b[49m\u001b[38;5;28;43;01mfor\u001b[39;49;00m\u001b[43m \u001b[49m\u001b[43mk\u001b[49m\u001b[43m,\u001b[49m\u001b[43m \u001b[49m\u001b[43mv\u001b[49m\u001b[43m \u001b[49m\u001b[38;5;129;43;01min\u001b[39;49;00m\u001b[43m \u001b[49m\u001b[43mconfig\u001b[49m\u001b[38;5;241;43m.\u001b[39;49m\u001b[43mitems\u001b[49m\u001b[43m(\u001b[49m\u001b[43m)\u001b[49m\u001b[43m \u001b[49m\u001b[38;5;28;43;01mif\u001b[39;49;00m\u001b[43m \u001b[49m\u001b[43mv\u001b[49m\u001b[43m \u001b[49m\u001b[38;5;129;43;01mis\u001b[39;49;00m\u001b[43m \u001b[49m\u001b[38;5;129;43;01mnot\u001b[39;49;00m\u001b[43m \u001b[49m\u001b[38;5;28;43;01mNone\u001b[39;49;00m\u001b[43m}\u001b[49m\u001b[43m)\u001b[49m\u001b[43m,\u001b[49m\n\u001b[1;32m    386\u001b[0m \u001b[43m    \u001b[49m\u001b[43mreturn_only_outputs\u001b[49m\u001b[38;5;241;43m=\u001b[39;49m\u001b[43mreturn_only_outputs\u001b[49m\u001b[43m,\u001b[49m\n\u001b[1;32m    387\u001b[0m \u001b[43m    \u001b[49m\u001b[43minclude_run_info\u001b[49m\u001b[38;5;241;43m=\u001b[39;49m\u001b[43minclude_run_info\u001b[49m\u001b[43m,\u001b[49m\n\u001b[1;32m    388\u001b[0m \u001b[43m\u001b[49m\u001b[43m)\u001b[49m\n",
      "File \u001b[0;32m/opt/conda/lib/python3.11/site-packages/langchain/chains/base.py:166\u001b[0m, in \u001b[0;36mChain.invoke\u001b[0;34m(self, input, config, **kwargs)\u001b[0m\n\u001b[1;32m    164\u001b[0m \u001b[38;5;28;01mexcept\u001b[39;00m \u001b[38;5;167;01mBaseException\u001b[39;00m \u001b[38;5;28;01mas\u001b[39;00m e:\n\u001b[1;32m    165\u001b[0m     run_manager\u001b[38;5;241m.\u001b[39mon_chain_error(e)\n\u001b[0;32m--> 166\u001b[0m     \u001b[38;5;28;01mraise\u001b[39;00m e\n\u001b[1;32m    167\u001b[0m run_manager\u001b[38;5;241m.\u001b[39mon_chain_end(outputs)\n\u001b[1;32m    169\u001b[0m \u001b[38;5;28;01mif\u001b[39;00m include_run_info:\n",
      "File \u001b[0;32m/opt/conda/lib/python3.11/site-packages/langchain/chains/base.py:154\u001b[0m, in \u001b[0;36mChain.invoke\u001b[0;34m(self, input, config, **kwargs)\u001b[0m\n\u001b[1;32m    147\u001b[0m run_manager \u001b[38;5;241m=\u001b[39m callback_manager\u001b[38;5;241m.\u001b[39mon_chain_start(\n\u001b[1;32m    148\u001b[0m     dumpd(\u001b[38;5;28mself\u001b[39m),\n\u001b[1;32m    149\u001b[0m     inputs,\n\u001b[1;32m    150\u001b[0m     run_id,\n\u001b[1;32m    151\u001b[0m     name\u001b[38;5;241m=\u001b[39mrun_name,\n\u001b[1;32m    152\u001b[0m )\n\u001b[1;32m    153\u001b[0m \u001b[38;5;28;01mtry\u001b[39;00m:\n\u001b[0;32m--> 154\u001b[0m     \u001b[38;5;28;43mself\u001b[39;49m\u001b[38;5;241;43m.\u001b[39;49m\u001b[43m_validate_inputs\u001b[49m\u001b[43m(\u001b[49m\u001b[43minputs\u001b[49m\u001b[43m)\u001b[49m\n\u001b[1;32m    155\u001b[0m     outputs \u001b[38;5;241m=\u001b[39m (\n\u001b[1;32m    156\u001b[0m         \u001b[38;5;28mself\u001b[39m\u001b[38;5;241m.\u001b[39m_call(inputs, run_manager\u001b[38;5;241m=\u001b[39mrun_manager)\n\u001b[1;32m    157\u001b[0m         \u001b[38;5;28;01mif\u001b[39;00m new_arg_supported\n\u001b[1;32m    158\u001b[0m         \u001b[38;5;28;01melse\u001b[39;00m \u001b[38;5;28mself\u001b[39m\u001b[38;5;241m.\u001b[39m_call(inputs)\n\u001b[1;32m    159\u001b[0m     )\n\u001b[1;32m    161\u001b[0m     final_outputs: Dict[\u001b[38;5;28mstr\u001b[39m, Any] \u001b[38;5;241m=\u001b[39m \u001b[38;5;28mself\u001b[39m\u001b[38;5;241m.\u001b[39mprep_outputs(\n\u001b[1;32m    162\u001b[0m         inputs, outputs, return_only_outputs\n\u001b[1;32m    163\u001b[0m     )\n",
      "File \u001b[0;32m/opt/conda/lib/python3.11/site-packages/langchain/chains/base.py:284\u001b[0m, in \u001b[0;36mChain._validate_inputs\u001b[0;34m(self, inputs)\u001b[0m\n\u001b[1;32m    282\u001b[0m missing_keys \u001b[38;5;241m=\u001b[39m \u001b[38;5;28mset\u001b[39m(\u001b[38;5;28mself\u001b[39m\u001b[38;5;241m.\u001b[39minput_keys)\u001b[38;5;241m.\u001b[39mdifference(inputs)\n\u001b[1;32m    283\u001b[0m \u001b[38;5;28;01mif\u001b[39;00m missing_keys:\n\u001b[0;32m--> 284\u001b[0m     \u001b[38;5;28;01mraise\u001b[39;00m \u001b[38;5;167;01mValueError\u001b[39;00m(\u001b[38;5;124mf\u001b[39m\u001b[38;5;124m\"\u001b[39m\u001b[38;5;124mMissing some input keys: \u001b[39m\u001b[38;5;132;01m{\u001b[39;00mmissing_keys\u001b[38;5;132;01m}\u001b[39;00m\u001b[38;5;124m\"\u001b[39m)\n",
      "\u001b[0;31mValueError\u001b[0m: Missing some input keys: {'query'}"
     ]
    }
   ],
   "source": [
    "prettychain(question)"
   ]
  },
  {
   "cell_type": "markdown",
   "id": "1e90a3a2-ee0c-415a-8e6c-6ab9dac0b618",
   "metadata": {},
   "source": [
    "# directly show the graph resulting from the given Cypher query\n"
   ]
  },
  {
   "cell_type": "code",
   "execution_count": 1,
   "id": "55bc3add-bda2-4010-9deb-53caa5ae5601",
   "metadata": {},
   "outputs": [
    {
     "name": "stdout",
     "output_type": "stream",
     "text": [
      "Collecting yfiles_jupyter_graphs\n",
      "  Downloading yfiles_jupyter_graphs-1.6.2-py2.py3-none-any.whl.metadata (11 kB)\n",
      "Requirement already satisfied: ipywidgets>=7.6.0 in /opt/conda/lib/python3.11/site-packages (from yfiles_jupyter_graphs) (8.1.1)\n",
      "Requirement already satisfied: comm>=0.1.3 in /opt/conda/lib/python3.11/site-packages (from ipywidgets>=7.6.0->yfiles_jupyter_graphs) (0.1.4)\n",
      "Requirement already satisfied: ipython>=6.1.0 in /opt/conda/lib/python3.11/site-packages (from ipywidgets>=7.6.0->yfiles_jupyter_graphs) (8.16.1)\n",
      "Requirement already satisfied: traitlets>=4.3.1 in /opt/conda/lib/python3.11/site-packages (from ipywidgets>=7.6.0->yfiles_jupyter_graphs) (5.11.2)\n",
      "Requirement already satisfied: widgetsnbextension~=4.0.9 in /opt/conda/lib/python3.11/site-packages (from ipywidgets>=7.6.0->yfiles_jupyter_graphs) (4.0.9)\n",
      "Requirement already satisfied: jupyterlab-widgets~=3.0.9 in /opt/conda/lib/python3.11/site-packages (from ipywidgets>=7.6.0->yfiles_jupyter_graphs) (3.0.9)\n",
      "Requirement already satisfied: backcall in /opt/conda/lib/python3.11/site-packages (from ipython>=6.1.0->ipywidgets>=7.6.0->yfiles_jupyter_graphs) (0.2.0)\n",
      "Requirement already satisfied: decorator in /opt/conda/lib/python3.11/site-packages (from ipython>=6.1.0->ipywidgets>=7.6.0->yfiles_jupyter_graphs) (5.1.1)\n",
      "Requirement already satisfied: jedi>=0.16 in /opt/conda/lib/python3.11/site-packages (from ipython>=6.1.0->ipywidgets>=7.6.0->yfiles_jupyter_graphs) (0.19.1)\n",
      "Requirement already satisfied: matplotlib-inline in /opt/conda/lib/python3.11/site-packages (from ipython>=6.1.0->ipywidgets>=7.6.0->yfiles_jupyter_graphs) (0.1.6)\n",
      "Requirement already satisfied: pickleshare in /opt/conda/lib/python3.11/site-packages (from ipython>=6.1.0->ipywidgets>=7.6.0->yfiles_jupyter_graphs) (0.7.5)\n",
      "Requirement already satisfied: prompt-toolkit!=3.0.37,<3.1.0,>=3.0.30 in /opt/conda/lib/python3.11/site-packages (from ipython>=6.1.0->ipywidgets>=7.6.0->yfiles_jupyter_graphs) (3.0.39)\n",
      "Requirement already satisfied: pygments>=2.4.0 in /opt/conda/lib/python3.11/site-packages (from ipython>=6.1.0->ipywidgets>=7.6.0->yfiles_jupyter_graphs) (2.16.1)\n",
      "Requirement already satisfied: stack-data in /opt/conda/lib/python3.11/site-packages (from ipython>=6.1.0->ipywidgets>=7.6.0->yfiles_jupyter_graphs) (0.6.2)\n",
      "Requirement already satisfied: pexpect>4.3 in /opt/conda/lib/python3.11/site-packages (from ipython>=6.1.0->ipywidgets>=7.6.0->yfiles_jupyter_graphs) (4.8.0)\n",
      "Requirement already satisfied: parso<0.9.0,>=0.8.3 in /opt/conda/lib/python3.11/site-packages (from jedi>=0.16->ipython>=6.1.0->ipywidgets>=7.6.0->yfiles_jupyter_graphs) (0.8.3)\n",
      "Requirement already satisfied: ptyprocess>=0.5 in /opt/conda/lib/python3.11/site-packages (from pexpect>4.3->ipython>=6.1.0->ipywidgets>=7.6.0->yfiles_jupyter_graphs) (0.7.0)\n",
      "Requirement already satisfied: wcwidth in /opt/conda/lib/python3.11/site-packages (from prompt-toolkit!=3.0.37,<3.1.0,>=3.0.30->ipython>=6.1.0->ipywidgets>=7.6.0->yfiles_jupyter_graphs) (0.2.8)\n",
      "Requirement already satisfied: executing>=1.2.0 in /opt/conda/lib/python3.11/site-packages (from stack-data->ipython>=6.1.0->ipywidgets>=7.6.0->yfiles_jupyter_graphs) (1.2.0)\n",
      "Requirement already satisfied: asttokens>=2.1.0 in /opt/conda/lib/python3.11/site-packages (from stack-data->ipython>=6.1.0->ipywidgets>=7.6.0->yfiles_jupyter_graphs) (2.4.0)\n",
      "Requirement already satisfied: pure-eval in /opt/conda/lib/python3.11/site-packages (from stack-data->ipython>=6.1.0->ipywidgets>=7.6.0->yfiles_jupyter_graphs) (0.2.2)\n",
      "Requirement already satisfied: six>=1.12.0 in /opt/conda/lib/python3.11/site-packages (from asttokens>=2.1.0->stack-data->ipython>=6.1.0->ipywidgets>=7.6.0->yfiles_jupyter_graphs) (1.16.0)\n",
      "Downloading yfiles_jupyter_graphs-1.6.2-py2.py3-none-any.whl (15.3 MB)\n",
      "\u001b[2K   \u001b[90m━━━━━━━━━━━━━━━━━━━━━━━━━━━━━━━━━━━━━━━━\u001b[0m \u001b[32m15.3/15.3 MB\u001b[0m \u001b[31m41.8 MB/s\u001b[0m eta \u001b[36m0:00:00\u001b[0m00:01\u001b[0m00:01\u001b[0m\n",
      "\u001b[?25hInstalling collected packages: yfiles_jupyter_graphs\n",
      "Successfully installed yfiles_jupyter_graphs-1.6.2\n",
      "Requirement already satisfied: ipywidgets in /opt/conda/lib/python3.11/site-packages (8.1.1)\n",
      "Requirement already satisfied: comm>=0.1.3 in /opt/conda/lib/python3.11/site-packages (from ipywidgets) (0.1.4)\n",
      "Requirement already satisfied: ipython>=6.1.0 in /opt/conda/lib/python3.11/site-packages (from ipywidgets) (8.16.1)\n",
      "Requirement already satisfied: traitlets>=4.3.1 in /opt/conda/lib/python3.11/site-packages (from ipywidgets) (5.11.2)\n",
      "Requirement already satisfied: widgetsnbextension~=4.0.9 in /opt/conda/lib/python3.11/site-packages (from ipywidgets) (4.0.9)\n",
      "Requirement already satisfied: jupyterlab-widgets~=3.0.9 in /opt/conda/lib/python3.11/site-packages (from ipywidgets) (3.0.9)\n",
      "Requirement already satisfied: backcall in /opt/conda/lib/python3.11/site-packages (from ipython>=6.1.0->ipywidgets) (0.2.0)\n",
      "Requirement already satisfied: decorator in /opt/conda/lib/python3.11/site-packages (from ipython>=6.1.0->ipywidgets) (5.1.1)\n",
      "Requirement already satisfied: jedi>=0.16 in /opt/conda/lib/python3.11/site-packages (from ipython>=6.1.0->ipywidgets) (0.19.1)\n",
      "Requirement already satisfied: matplotlib-inline in /opt/conda/lib/python3.11/site-packages (from ipython>=6.1.0->ipywidgets) (0.1.6)\n",
      "Requirement already satisfied: pickleshare in /opt/conda/lib/python3.11/site-packages (from ipython>=6.1.0->ipywidgets) (0.7.5)\n",
      "Requirement already satisfied: prompt-toolkit!=3.0.37,<3.1.0,>=3.0.30 in /opt/conda/lib/python3.11/site-packages (from ipython>=6.1.0->ipywidgets) (3.0.39)\n",
      "Requirement already satisfied: pygments>=2.4.0 in /opt/conda/lib/python3.11/site-packages (from ipython>=6.1.0->ipywidgets) (2.16.1)\n",
      "Requirement already satisfied: stack-data in /opt/conda/lib/python3.11/site-packages (from ipython>=6.1.0->ipywidgets) (0.6.2)\n",
      "Requirement already satisfied: pexpect>4.3 in /opt/conda/lib/python3.11/site-packages (from ipython>=6.1.0->ipywidgets) (4.8.0)\n",
      "Requirement already satisfied: parso<0.9.0,>=0.8.3 in /opt/conda/lib/python3.11/site-packages (from jedi>=0.16->ipython>=6.1.0->ipywidgets) (0.8.3)\n",
      "Requirement already satisfied: ptyprocess>=0.5 in /opt/conda/lib/python3.11/site-packages (from pexpect>4.3->ipython>=6.1.0->ipywidgets) (0.7.0)\n",
      "Requirement already satisfied: wcwidth in /opt/conda/lib/python3.11/site-packages (from prompt-toolkit!=3.0.37,<3.1.0,>=3.0.30->ipython>=6.1.0->ipywidgets) (0.2.8)\n",
      "Requirement already satisfied: executing>=1.2.0 in /opt/conda/lib/python3.11/site-packages (from stack-data->ipython>=6.1.0->ipywidgets) (1.2.0)\n",
      "Requirement already satisfied: asttokens>=2.1.0 in /opt/conda/lib/python3.11/site-packages (from stack-data->ipython>=6.1.0->ipywidgets) (2.4.0)\n",
      "Requirement already satisfied: pure-eval in /opt/conda/lib/python3.11/site-packages (from stack-data->ipython>=6.1.0->ipywidgets) (0.2.2)\n",
      "Requirement already satisfied: six>=1.12.0 in /opt/conda/lib/python3.11/site-packages (from asttokens>=2.1.0->stack-data->ipython>=6.1.0->ipywidgets) (1.16.0)\n"
     ]
    }
   ],
   "source": [
    "!pip install yfiles_jupyter_graphs \n",
    "!pip install ipywidgets"
   ]
  },
  {
   "cell_type": "code",
   "execution_count": 4,
   "id": "e10b7464-0c41-40d3-99c4-cc452401b98e",
   "metadata": {},
   "outputs": [],
   "source": [
    "from yfiles_jupyter_graphs import GraphWidget\n",
    "\n",
    "# directly show the graph resulting from the given Cypher query\n",
    "default_cypher = \"MATCH (d)-[r:CONTAINS]->(s) RETURN d,r,s LIMIT 50\"\n",
    "\n",
    "def showGraph(cypher: str = default_cypher):\n",
    "    # create a neo4j session to run queries\n",
    "    driver = GraphDatabase.driver(\n",
    "        uri = os.environ[\"NEO4J_URI\"],\n",
    "        auth = (os.environ[\"NEO4J_USERNAME\"],\n",
    "                os.environ[\"NEO4J_PASSWORD\"]))\n",
    "    session = driver.session()\n",
    "    widget = GraphWidget(graph = session.run(cypher).graph())\n",
    "    widget.node_label_mapping = 'id'\n",
    "    #display(widget)\n",
    "    return widget\n",
    "\n",
    "w = showGraph()"
   ]
  },
  {
   "cell_type": "code",
   "execution_count": 47,
   "id": "cb5889d7-46a2-4b12-9d60-8b9db79e1182",
   "metadata": {},
   "outputs": [
    {
     "data": {
      "application/vnd.jupyter.widget-view+json": {
       "model_id": "6d7bbe69614849dfbeb4668b22cb9b76",
       "version_major": 2,
       "version_minor": 0
      },
      "text/plain": [
       "GraphWidget(layout=Layout(height='800px', width='100%'))"
      ]
     },
     "metadata": {},
     "output_type": "display_data"
    }
   ],
   "source": []
  },
  {
   "cell_type": "code",
   "execution_count": 64,
   "id": "a2df999a-ccdd-4f51-9976-db6510693fae",
   "metadata": {},
   "outputs": [
    {
     "data": {
      "text/plain": [
       "[{'id': 8,\n",
       "  'name': 'chunkKey',\n",
       "  'state': 'ONLINE',\n",
       "  'populationPercent': 100.0,\n",
       "  'type': 'RANGE',\n",
       "  'entityType': 'NODE',\n",
       "  'labelsOrTypes': ['Chunk'],\n",
       "  'properties': ['key'],\n",
       "  'indexProvider': 'range-1.0',\n",
       "  'owningConstraint': 'chunkKey',\n",
       "  'lastRead': neo4j.time.DateTime(2024, 5, 31, 18, 13, 4, 126000000, tzinfo=<UTC>),\n",
       "  'readCount': 2187},\n",
       " {'id': 12,\n",
       "  'name': 'chunkVectorIndex',\n",
       "  'state': 'ONLINE',\n",
       "  'populationPercent': 100.0,\n",
       "  'type': 'VECTOR',\n",
       "  'entityType': 'NODE',\n",
       "  'labelsOrTypes': ['Embedding'],\n",
       "  'properties': ['value'],\n",
       "  'indexProvider': 'vector-2.0',\n",
       "  'owningConstraint': None,\n",
       "  'lastRead': None,\n",
       "  'readCount': 0},\n",
       " {'id': 4,\n",
       "  'name': 'constraint_1dc138a',\n",
       "  'state': 'ONLINE',\n",
       "  'populationPercent': 100.0,\n",
       "  'type': 'RANGE',\n",
       "  'entityType': 'NODE',\n",
       "  'labelsOrTypes': ['Chunk'],\n",
       "  'properties': ['id'],\n",
       "  'indexProvider': 'range-1.0',\n",
       "  'owningConstraint': 'constraint_1dc138a',\n",
       "  'lastRead': neo4j.time.DateTime(2024, 5, 29, 17, 27, 38, 963000000, tzinfo=<UTC>),\n",
       "  'readCount': 162},\n",
       " {'id': 10,\n",
       "  'name': 'documentKey',\n",
       "  'state': 'ONLINE',\n",
       "  'populationPercent': 100.0,\n",
       "  'type': 'RANGE',\n",
       "  'entityType': 'NODE',\n",
       "  'labelsOrTypes': ['Document'],\n",
       "  'properties': ['url_hash'],\n",
       "  'indexProvider': 'range-1.0',\n",
       "  'owningConstraint': 'documentKey',\n",
       "  'lastRead': neo4j.time.DateTime(2024, 5, 29, 18, 35, 1, 929000000, tzinfo=<UTC>),\n",
       "  'readCount': 18},\n",
       " {'id': 1,\n",
       "  'name': 'index_343aff4e',\n",
       "  'state': 'ONLINE',\n",
       "  'populationPercent': 100.0,\n",
       "  'type': 'LOOKUP',\n",
       "  'entityType': 'NODE',\n",
       "  'labelsOrTypes': None,\n",
       "  'properties': None,\n",
       "  'indexProvider': 'token-lookup-1.0',\n",
       "  'owningConstraint': None,\n",
       "  'lastRead': neo4j.time.DateTime(2024, 5, 31, 18, 54, 53, 452000000, tzinfo=<UTC>),\n",
       "  'readCount': 1887},\n",
       " {'id': 2,\n",
       "  'name': 'index_f7700477',\n",
       "  'state': 'ONLINE',\n",
       "  'populationPercent': 100.0,\n",
       "  'type': 'LOOKUP',\n",
       "  'entityType': 'RELATIONSHIP',\n",
       "  'labelsOrTypes': None,\n",
       "  'properties': None,\n",
       "  'indexProvider': 'token-lookup-1.0',\n",
       "  'owningConstraint': None,\n",
       "  'lastRead': neo4j.time.DateTime(2024, 5, 31, 18, 40, 59, 497000000, tzinfo=<UTC>),\n",
       "  'readCount': 8},\n",
       " {'id': 6,\n",
       "  'name': 'sectionKey',\n",
       "  'state': 'ONLINE',\n",
       "  'populationPercent': 100.0,\n",
       "  'type': 'RANGE',\n",
       "  'entityType': 'NODE',\n",
       "  'labelsOrTypes': ['Section'],\n",
       "  'properties': ['key'],\n",
       "  'indexProvider': 'range-1.0',\n",
       "  'owningConstraint': 'sectionKey',\n",
       "  'lastRead': None,\n",
       "  'readCount': 0},\n",
       " {'id': 3,\n",
       "  'name': 'vector',\n",
       "  'state': 'ONLINE',\n",
       "  'populationPercent': 100.0,\n",
       "  'type': 'VECTOR',\n",
       "  'entityType': 'NODE',\n",
       "  'labelsOrTypes': ['Chunk'],\n",
       "  'properties': ['embedding'],\n",
       "  'indexProvider': 'vector-2.0',\n",
       "  'owningConstraint': None,\n",
       "  'lastRead': neo4j.time.DateTime(2024, 5, 31, 18, 26, 15, 700000000, tzinfo=<UTC>),\n",
       "  'readCount': 2}]"
      ]
     },
     "execution_count": 64,
     "metadata": {},
     "output_type": "execute_result"
    }
   ],
   "source": [
    "graph.query(\"SHOW INDEXES\")"
   ]
  },
  {
   "cell_type": "code",
   "execution_count": null,
   "id": "5830b5e0-588a-4d8a-9307-d8e68b50c9a0",
   "metadata": {},
   "outputs": [],
   "source": []
  }
 ],
 "metadata": {
  "kernelspec": {
   "display_name": "Python 3 (ipykernel)",
   "language": "python",
   "name": "python3"
  },
  "language_info": {
   "codemirror_mode": {
    "name": "ipython",
    "version": 3
   },
   "file_extension": ".py",
   "mimetype": "text/x-python",
   "name": "python",
   "nbconvert_exporter": "python",
   "pygments_lexer": "ipython3",
   "version": "3.11.6"
  }
 },
 "nbformat": 4,
 "nbformat_minor": 5
}
