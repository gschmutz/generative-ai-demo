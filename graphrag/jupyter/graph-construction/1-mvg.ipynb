{
 "cells": [
  {
   "cell_type": "markdown",
   "metadata": {
    "collapsed": false,
    "jupyter": {
     "outputs_hidden": false
    }
   },
   "source": [
    "# Traditional RAG with Neo4J"
   ]
  },
  {
   "cell_type": "markdown",
   "metadata": {},
   "source": [
    "In this notebook, we are using tradtional RAG strategy consisting of `Chunk` nodes arranged into linked lists.\n",
    "\n",
    "\n",
    "1. Extract text from Markdown document, split text into chunks, create `Chunk` nodes\n",
    "2. Enhance each `Chunk` node with a text embedding\n",
    "3. Expand the `Chunk` nodes with `NEXT` relationships to form linked lists\n",
    "\n",
    "```cypher\n",
    "(:Chunk \n",
    "  chunkId: string\n",
    "  text: string\n",
    "  header1: string\n",
    "  header2: string\n",
    "  header3: string\n",
    "  header4: string\n",
    "  path: string\n",
    "  documentUri: string\n",
    "  ebmbedding: float[]\n",
    ")\n",
    "```\n",
    "\n",
    "```cypher\n",
    "(:Chunk)-[:NEXT]->(:Chunk)\n",
    "```"
   ]
  },
  {
   "cell_type": "markdown",
   "metadata": {},
   "source": [
    "## Setup\n",
    "\n",
    "Import some python packages, set up global constants, and create a connection to the Neo4j database."
   ]
  },
  {
   "cell_type": "code",
   "execution_count": 1,
   "metadata": {},
   "outputs": [
    {
     "name": "stdout",
     "output_type": "stream",
     "text": [
      "Connecting to Neo4j at bolt://neo4j-1:7687 as neo4j\n",
      "Using data from /home/jovyan/data/single\n",
      "Embedding with ollama using mxbai-embed-large\n",
      "Chatting with ollama using llama3\n"
     ]
    }
   ],
   "source": [
    "%run 'shared.ipynb'"
   ]
  },
  {
   "cell_type": "markdown",
   "metadata": {},
   "source": [
    "## Prepare a GraphDatabase interface\n",
    "\n",
    "You will use the Neo4j `GraphDatabase` interface to send queries to the Neo4j database."
   ]
  },
  {
   "cell_type": "code",
   "execution_count": 2,
   "metadata": {},
   "outputs": [
    {
     "data": {
      "text/plain": [
       "'Hello, World!'"
      ]
     },
     "execution_count": 2,
     "metadata": {},
     "output_type": "execute_result"
    }
   ],
   "source": [
    "# Expect `gdb` to be defined in the shared notebook\n",
    "# gdb = GraphDatabase.driver(uri=NEO4J_URI, auth=(NEO4J_USERNAME, NEO4J_PASSWORD))\n",
    "\n",
    "result = gdb.execute_query(\"RETURN 'Hello, World!' AS message\")\n",
    "\n",
    "result.records[0].get('message')"
   ]
  },
  {
   "cell_type": "markdown",
   "metadata": {},
   "source": [
    "# Input data pre-preprocessing\n",
    "\n",
    "The IIHF pdf document we will be working with has been preprocessed from the original source into markdown. We will use the markdown here.\n"
   ]
  },
  {
   "cell_type": "markdown",
   "metadata": {},
   "source": [
    "# Step by step inspection of the document"
   ]
  },
  {
   "cell_type": "markdown",
   "metadata": {},
   "source": [
    "### Start with the file\n",
    "\n",
    "Get the the file name and then loading the markdown."
   ]
  },
  {
   "cell_type": "code",
   "execution_count": 3,
   "metadata": {},
   "outputs": [
    {
     "name": "stdout",
     "output_type": "stream",
     "text": [
      "/data-transfer/iihf/rulebook.md\n",
      "1\n"
     ]
    }
   ],
   "source": [
    "loader = DirectoryLoader('/data-transfer/iihf', glob=\"**/*.md\", loader_cls=TextLoader)\n",
    "documents = loader.load()\n",
    "\n",
    "print (documents[0].metadata[\"source\"])\n",
    "print (len(documents))"
   ]
  },
  {
   "cell_type": "markdown",
   "metadata": {},
   "source": [
    "### Text splitter from Langchain\n",
    "\n",
    "We can use a text splitter function from Langchain.\n",
    "\n",
    "The `RecursiveCharacterTextSplitter` will use newlines\n",
    "and then whitespace characters to break down a text until\n",
    "the chunks are small enough. This strategy is generally\n",
    "good at keeping paragraphs together.\n",
    "\n",
    "Set a chunk size of 600 characters,\n",
    "with 0 characters of overlap between each chunk,\n",
    "using the built-in `len` function to calculate the \n",
    "text length.\n"
   ]
  },
  {
   "cell_type": "code",
   "execution_count": 4,
   "metadata": {},
   "outputs": [],
   "source": [
    "# Splitting text into chunks using the RecursiveCharacterTextSplitter \n",
    "text_splitter = RecursiveCharacterTextSplitter(\n",
    "    chunk_size = 600,\n",
    "    chunk_overlap  = 0,\n",
    "    length_function = len,\n",
    "    is_separator_regex = False,\n",
    ")"
   ]
  },
  {
   "cell_type": "markdown",
   "metadata": {},
   "source": [
    "### Text splitter demonstration\n",
    "\n",
    "You can see what the text splitter will do by splitting up\n",
    "the `page_content`."
   ]
  },
  {
   "cell_type": "code",
   "execution_count": 5,
   "metadata": {},
   "outputs": [
    {
     "data": {
      "text/plain": [
       "'The Goal posts shall be of an approved design and material, extending vertically 1.22 m above the surface of the ice and set 1.83 m apart measured from the inside of the posts. A crossbar of the same material as the Goal posts shall extend from the top of one post to the top of the other. The Goal posts and crossbar shall be painted in red color and all other exterior surfaces shall be painted in white color.\\n\\n#### 2.2 GOAL NETS'"
      ]
     },
     "execution_count": 5,
     "metadata": {},
     "output_type": "execute_result"
    }
   ],
   "source": [
    "text_chunks = text_splitter.split_text(documents[0].page_content)\n",
    "text_chunks[19]\n"
   ]
  },
  {
   "cell_type": "markdown",
   "metadata": {},
   "source": [
    "### Markdown Header Text Splitter combined Recursive Character Text Splitter from Langchain\n",
    "\n",
    "\n",
    "#### Markdown Header Text Splitter\n",
    "We first use the Markdown Header Text splitter to split on the structure of the markdown document (using Header 1 - 4)."
   ]
  },
  {
   "cell_type": "code",
   "execution_count": 6,
   "metadata": {
    "collapsed": false,
    "jupyter": {
     "outputs_hidden": false
    }
   },
   "outputs": [
    {
     "name": "stdout",
     "output_type": "stream",
     "text": [
      "/data-transfer/iihf/rulebook.md\n",
      "1\n"
     ]
    }
   ],
   "source": [
    "print (documents[0].metadata[\"source\"])\n",
    "print (len(documents))\n",
    "\n",
    "headers_to_split_on = [\n",
    "    (\"#\", \"header1\"),\n",
    "    (\"##\", \"header2\"),\n",
    "    (\"###\", \"header3\"),\n",
    "    (\"####\", \"header4\"),\n",
    "]\n",
    "\n",
    "markdown_splitter = MarkdownHeaderTextSplitter(headers_to_split_on=headers_to_split_on, strip_headers=True)\n",
    "md_header_splits = markdown_splitter.split_text(documents[0].page_content)"
   ]
  },
  {
   "cell_type": "code",
   "execution_count": 17,
   "metadata": {},
   "outputs": [
    {
     "data": {
      "text/plain": [
       "Document(page_content='No matter where ice hockey is played, the object of the game is the same – to put the puck into the opponent’s goal. Beyond that, ice hockey across the globe is subject to certain variations. This makes the rules of the game extremely important. These rules must be followed all times, in all countries, in all age categories, for the game to be enjoyed by everyone.  \\nHockey’s speed is one of the qualities that makes it so exciting. But this skill and excitement must be balanced with fair play and respect.  \\nIt is, therefore, important to make a clear separation between the purpose of all the elements of the game and to use these respectfully. These distinctions can be taught at an early age or whenever one begins to show interest in the game. And this is why hockey development begins with parents and coaches, those people most influential in guiding a person, old or young, into playing the game properly and within the rules.  \\nThe IIHF Championship program encompasses 81 Member National Associations, five age and gender categories over 30 international ice hockey tournaments, including the Olympic Winter Games.  \\nThe extensiveness of the program is acknowledged in the rule book. The goal is to provide everyone one set of rules from which to work. This presents a fair and leveled standard of play. It is a means of keeping the game’s “language” the same regardless of where it is played.', metadata={'header1': 'IIHF Official Rulebook 2023/24', 'header2': 'Welcome'})"
      ]
     },
     "execution_count": 17,
     "metadata": {},
     "output_type": "execute_result"
    }
   ],
   "source": [
    "md_header_splits[0]"
   ]
  },
  {
   "cell_type": "code",
   "execution_count": 18,
   "metadata": {},
   "outputs": [
    {
     "data": {
      "text/plain": [
       "Document(page_content='Each Rink must have two (2) “Goal Nets”, one at either end of the Rink. The “Goal Net” is comprised of a Goal frame and netting. The open end of the goal net must face Center ice.  \\nEach Goal Net must be located in the center of the Goal Line at either end and must be installed in such manner as to remain stationary during the progress of the game. The Goal posts must be kept in position by means of flexible pegs affixed in the ice or floor, but which displace the Goal Net from its moorings upon significant contact.  \\nThe holes for the goal pegs must be located exactly on the Goal Line.  \\nThe Goal posts shall be of an approved design and material, extending vertically 1.22 m above the surface of the ice and set 1.83 m apart measured from the inside of the posts. A crossbar of the same material as the Goal posts shall extend from the top of one post to the top of the other. The Goal posts and crossbar shall be painted in red color and all other exterior surfaces shall be painted in white color.', metadata={'header1': 'IIHF Official Rulebook 2023/24', 'header2': 'SECTION 01 PLAYING AREA', 'header3': 'RULE 2 GOAL POSTS AND NETS', 'header4': '2.1 GOAL POSTS'})"
      ]
     },
     "execution_count": 18,
     "metadata": {},
     "output_type": "execute_result"
    }
   ],
   "source": [
    "md_header_splits[11]"
   ]
  },
  {
   "cell_type": "markdown",
   "metadata": {},
   "source": [
    "#### Recursive Character Text Splitter\n",
    "\n",
    "and now also use the Recursive Character Text Splitter to further split the text blocks."
   ]
  },
  {
   "cell_type": "code",
   "execution_count": 19,
   "metadata": {},
   "outputs": [
    {
     "data": {
      "text/plain": [
       "Document(page_content='No matter where ice hockey is played, the object of the game is the same – to put the puck into the opponent’s goal. Beyond that, ice hockey across the globe is subject to certain variations. This makes the rules of the game extremely important. These rules must be followed all times, in all countries, in all age categories, for the game to be enjoyed by everyone.  \\nHockey’s speed is one of the qualities that makes it so exciting. But this skill and excitement must be balanced with fair play and respect.', metadata={'header1': 'IIHF Official Rulebook 2023/24', 'header2': 'Welcome'})"
      ]
     },
     "execution_count": 19,
     "metadata": {},
     "output_type": "execute_result"
    }
   ],
   "source": [
    "# Char-level splits\n",
    "from langchain_text_splitters import RecursiveCharacterTextSplitter\n",
    "\n",
    "chunk_size = 600\n",
    "chunk_overlap = 0\n",
    "text_splitter = RecursiveCharacterTextSplitter(\n",
    "    separators=[\n",
    "        \"\\n\\n\",\n",
    "        \"\\n\",\n",
    "        \" \",\n",
    "        \".\",\n",
    "        \",\",\n",
    "        \"\\u200b\",  # Zero-width space\n",
    "        \"\\uff0c\",  # Fullwidth comma\n",
    "        \"\\u3001\",  # Ideographic comma\n",
    "        \"\\uff0e\",  # Fullwidth full stop\n",
    "        \"\\u3002\",  # Ideographic full stop\n",
    "        \"\",\n",
    "    ],\n",
    "    chunk_size=chunk_size,\n",
    "    chunk_overlap=chunk_overlap,\n",
    "    length_function = len,\n",
    "    is_separator_regex = False,    \n",
    ")\n",
    "\n",
    "# Split\n",
    "chunks = text_splitter.split_documents(md_header_splits)\n",
    "chunks[0]"
   ]
  },
  {
   "cell_type": "code",
   "execution_count": 21,
   "metadata": {},
   "outputs": [
    {
     "data": {
      "text/plain": [
       "Document(page_content='**Face-off Spot and Circle at Center Ice:**  \\nA circular blue spot, 30 cm in diameter, shall be marked exactly in the center of the Rink. This spot shall be referred to as the “Center Ice Face-off Spot”. With this spot as a center, a circle of 4.50 m radius shall be marked with a blue line 5 cm wide.  \\n**Face-off Spots in the Neutral Zone:**  \\nTwo (2) red spots, 60 cm in diameter, shall be marked on the ice in the Neutral Zone 1.50 m from each Blue Line. These four (4) spots shall be referred to as the “Neutral-zone Face-off Spots”.', metadata={'header1': 'IIHF Official Rulebook 2023/24', 'header2': 'SECTION 01 PLAYING AREA', 'header3': 'RULE 1 RINK', 'header4': '1.9 FACE-OFF SPOTS AND CIRCLES'})"
      ]
     },
     "execution_count": 21,
     "metadata": {},
     "output_type": "execute_result"
    }
   ],
   "source": [
    "chunks[16]"
   ]
  },
  {
   "cell_type": "code",
   "execution_count": 22,
   "metadata": {},
   "outputs": [
    {
     "data": {
      "text/plain": [
       "271"
      ]
     },
     "execution_count": 22,
     "metadata": {},
     "output_type": "execute_result"
    }
   ],
   "source": [
    "len(chunks)"
   ]
  },
  {
   "cell_type": "markdown",
   "metadata": {},
   "source": [
    "## Create a graph from the chunks\n",
    "\n",
    "You now have chunks prepared for creating a knowledge graph.\n",
    "\n",
    "The graph will have 1 node per chunk, containing the chunk text and metadata as properties."
   ]
  },
  {
   "cell_type": "markdown",
   "metadata": {},
   "source": [
    "### Merge chunk query\n",
    "\n",
    "You will use a Cypher query to merge the chunks into the graph.\n",
    "\n",
    "This query accepts a query parameter called `chunkParam` which is expected\n",
    "to have the data record containing the chunk and metadata.\n",
    "\n",
    "The `MERGE` query will first match an existing node with the same `chunkId` property.\n",
    "\n",
    "If no such node exists, it will create a new node and the `ON CREATE` clause will set the properties using values from the `chunkParam` query parameter."
   ]
  },
  {
   "cell_type": "code",
   "execution_count": 23,
   "metadata": {},
   "outputs": [],
   "source": [
    "merge_chunk_node_query = \"\"\"\n",
    "MERGE(c:Chunk {chunkId: $chunkParam.chunkId})\n",
    "    ON CREATE SET \n",
    "        c.source = $chunkParam.source, \n",
    "        c.chunkSeqId = $chunkParam.chunkSeqId, \n",
    "        c.path = $chunkParam.path,\n",
    "        c.text = $chunkParam.text,\n",
    "        c.documentUri = $chunkParam.documentUri,\n",
    "        c += $chunkParam.metadata\n",
    "RETURN c\n",
    "\"\"\""
   ]
  },
  {
   "cell_type": "code",
   "execution_count": 24,
   "metadata": {},
   "outputs": [],
   "source": [
    "# Helper function to create nodes for all chunks.\n",
    "# This will use the `merge_chunk_node_query` to create a `:Chunk` node for each chunk.\n",
    "def create_chunk_id(metadata, idx) -> str:\n",
    "    id = metadata[\"header1\"]\n",
    "    if 'header2' in metadata:\n",
    "        id = id + '|' + metadata[\"header2\"]\n",
    "    if 'header3' in metadata:\n",
    "        id = id + '|' + metadata[\"header3\"]\n",
    "    if 'header4' in metadata:\n",
    "        id = id + '|' + metadata[\"header4\"]\n",
    "    id = id + '|' + str(idx)    \n",
    "    return hashlib.sha1(id.encode()).hexdigest()\n",
    "\n",
    "def create_path(metadata) -> str: \n",
    "    path = metadata[\"header1\"]\n",
    "#    if 'header2' in metadata:\n",
    "#        path = path + '/' + metadata[\"header2\"]\n",
    "#    if 'header3' in metadata:\n",
    "#        path = path + '/' + metadata[\"header3\"]\n",
    "#    if 'header4' in metadata:\n",
    "#        path = path + '/' + metadata[\"header4\"]\n",
    "    return path.replace(' ', '_').replace('.', '_').lower()\n",
    "\n",
    "def create_nodes_for_all_chunks(documentUri, chunks):\n",
    "    node_count = 0\n",
    "    for i, chunk in enumerate(chunks):\n",
    "        chunk_id = create_chunk_id(chunk.metadata, i)\n",
    "        path = create_path(chunk.metadata)\n",
    "        gdb.execute_query(merge_chunk_node_query, \n",
    "                chunkParam = { \"chunkId\": chunk_id, \"source\":\"\", \"chunkSeqId\":i, \"text\": chunk.page_content, \"metadata\": chunk.metadata, \"path\": path, \"documentUri\": documentUri }\n",
    "        )\n",
    "        node_count += 1\n",
    "    print(f\"Created {node_count} nodes\")"
   ]
  },
  {
   "cell_type": "markdown",
   "metadata": {},
   "source": [
    "### Prepare unique constraint\n",
    "\n",
    "Before calling the helper function to create a knowledge graph,\n",
    "we will take one extra step to make sure we don't duplicate data.\n",
    "\n",
    "The uniqueness constraint is also index. It's job is to ensure that\n",
    "a particular property is unique for all nodes that share a common label.\n",
    "\n"
   ]
  },
  {
   "cell_type": "code",
   "execution_count": 25,
   "metadata": {},
   "outputs": [
    {
     "name": "stdout",
     "output_type": "stream",
     "text": [
      "[<Record id=2 name='unique_chunk' type='UNIQUENESS' entityType='NODE' labelsOrTypes=['Chunk'] properties=['chunkId'] ownedIndex='unique_chunk' propertyType=None>]\n"
     ]
    }
   ],
   "source": [
    "# Create a uniqueness constraint on the chunkId property of Chunk nodes \n",
    "gdb.execute_query(\"\"\"\n",
    "CREATE CONSTRAINT unique_chunk IF NOT EXISTS \n",
    "    FOR (c:Chunk) REQUIRE c.chunkId IS UNIQUE\n",
    "\"\"\")\n",
    "\n",
    "created_indexes = gdb.execute_query('SHOW CONSTRAINTS').records\n",
    "print(created_indexes)"
   ]
  },
  {
   "cell_type": "markdown",
   "metadata": {},
   "source": [
    "### Create index\n",
    "\n",
    "To speed up lookup on the \"path\" property, we create an index\n"
   ]
  },
  {
   "cell_type": "code",
   "execution_count": 26,
   "metadata": {},
   "outputs": [
    {
     "name": "stdout",
     "output_type": "stream",
     "text": [
      "[<Record id=3 name='index_2bc8b8e7' state='ONLINE' populationPercent=100.0 type='RANGE' entityType='NODE' labelsOrTypes=['Chunk'] properties=['path'] indexProvider='range-1.0' owningConstraint=None lastRead=None readCount=None>, <Record id=1 name='unique_chunk' state='ONLINE' populationPercent=100.0 type='RANGE' entityType='NODE' labelsOrTypes=['Chunk'] properties=['chunkId'] indexProvider='range-1.0' owningConstraint='unique_chunk' lastRead=None readCount=None>]\n"
     ]
    }
   ],
   "source": [
    "# Create a uniqueness constraint on the chunkId property of Chunk nodes \n",
    "gdb.execute_query(\"\"\"\n",
    "CREATE INDEX FOR (c:Chunk) ON (c.path)\n",
    "\"\"\")\n",
    "\n",
    "created_indexes = gdb.execute_query('SHOW INDEXES').records\n",
    "print(created_indexes)"
   ]
  },
  {
   "cell_type": "markdown",
   "metadata": {},
   "source": [
    "## Load all chunks\n",
    "\n",
    "Perform the node creation for all files in an import directory. "
   ]
  },
  {
   "cell_type": "code",
   "execution_count": 27,
   "metadata": {},
   "outputs": [
    {
     "name": "stdout",
     "output_type": "stream",
     "text": [
      "Created 271 nodes\n",
      "CPU times: user 285 ms, sys: 18 ms, total: 303 ms\n",
      "Wall time: 2.26 s\n"
     ]
    },
    {
     "data": {
      "text/plain": [
       "271"
      ]
     },
     "execution_count": 27,
     "metadata": {},
     "output_type": "execute_result"
    }
   ],
   "source": [
    "%%time\n",
    "\n",
    "create_nodes_for_all_chunks(documents[0].metadata[\"source\"], chunks)\n",
    "\n",
    "# Check the number of nodes in the graph\n",
    "gdb.execute_query(\"MATCH (c:Chunk) RETURN count(c) as chunkCount\").records[0].get('chunkCount')"
   ]
  },
  {
   "cell_type": "code",
   "execution_count": 28,
   "metadata": {},
   "outputs": [
    {
     "data": {
      "text/plain": [
       "<Record uniqueHeader4Count=130>"
      ]
     },
     "execution_count": 28,
     "metadata": {},
     "output_type": "execute_result"
    }
   ],
   "source": [
    "# Check the number of unique company CUSIPs (company IDs) in the graph\n",
    "# Expect this to match the `uniqueCompanyCount` from the previous cell\n",
    "gdb.execute_query(\"MATCH (c:Chunk) RETURN count(distinct(c.header4)) as uniqueHeader4Count\").records[0]"
   ]
  },
  {
   "cell_type": "markdown",
   "metadata": {},
   "source": [
    "# Add vector embeddings for the text of each chunk  "
   ]
  },
  {
   "cell_type": "markdown",
   "metadata": {},
   "source": [
    "## Setup\n",
    "\n",
    "You will use the `embeddings_api` defined in `shared.ipynb` to get the vector embeddings \n",
    "for the text of each chunk. This api will use an LLM to calculate an embedding for text."
   ]
  },
  {
   "cell_type": "code",
   "execution_count": 32,
   "metadata": {},
   "outputs": [
    {
     "name": "stdout",
     "output_type": "stream",
     "text": [
      "[0.38329392671585083, -0.6893543004989624, -0.26734957098960876, 0.32013076543807983] ....\n",
      "Text embeddings will have 1024 dimensions\n"
     ]
    }
   ],
   "source": [
    "# A simple example of how to use the embeddings API\n",
    "text_embedding = embeddings_api.embed_query(\"embed this text using an LLM\")\n",
    "\n",
    "print(f\"{text_embedding[0:4]} ....\")\n",
    "\n",
    "# all embeddings will have the same size, which is the dimensions of the vector\n",
    "vector_dimensions = len(text_embedding) \n",
    "\n",
    "print(f\"Text embeddings will have {vector_dimensions} dimensions\")"
   ]
  },
  {
   "cell_type": "markdown",
   "metadata": {},
   "source": [
    "### Prepare a vector index\n",
    "\n",
    "Now that you have a graph populated with `Chunk` nodes, \n",
    "you can add vector embeddings.\n",
    "\n",
    "First, prepare a vector index to store the embeddings.\n",
    "\n",
    "The index will be called `chunks_vector` and will store\n",
    "embeddings for nodes labeled as `Chunk` in a property\n",
    "called `emedding`.\n",
    "\n",
    "The embeddings index will match the dimensions of the \n",
    "embeddings returned by the `embeddings_api` and will use \n",
    "the cosine similarity function."
   ]
  },
  {
   "cell_type": "code",
   "execution_count": 33,
   "metadata": {},
   "outputs": [
    {
     "data": {
      "text/plain": [
       "[<Record id=4 name='chunks_vector' state='POPULATING' populationPercent=0.0 type='VECTOR' entityType='NODE' labelsOrTypes=['Chunk'] properties=['embedding'] indexProvider='vector-2.0' owningConstraint=None lastRead=None readCount=None>]"
      ]
     },
     "execution_count": 33,
     "metadata": {},
     "output_type": "execute_result"
    }
   ],
   "source": [
    "# Create a vector index called \"chunks_vector\" the `embedding`` property of nodes labeled `Chunk`. \n",
    "# neo4j_create_vector_index(kg, VECTOR_INDEX_NAME, 'Chunk', 'embedding')\n",
    "gdb.execute_query(\"\"\"\n",
    "         CREATE VECTOR INDEX `chunks_vector` IF NOT EXISTS\n",
    "          FOR (c:Chunk) ON (c.embedding) \n",
    "          OPTIONS { indexConfig: {\n",
    "            `vector.dimensions`: $vectorDimensionsParam,\n",
    "            `vector.similarity_function`: 'cosine'    \n",
    "         }}\n",
    "\"\"\",\n",
    "  vectorDimensionsParam = vector_dimensions\n",
    ")\n",
    "\n",
    "# Check the vector indexes in the graph\n",
    "gdb.execute_query('SHOW VECTOR INDEXES').records"
   ]
  },
  {
   "cell_type": "code",
   "execution_count": 34,
   "metadata": {},
   "outputs": [
    {
     "data": {
      "text/plain": [
       "[<Record id=4 name='chunks_vector' state='ONLINE' populationPercent=100.0 type='VECTOR' entityType='NODE' labelsOrTypes=['Chunk'] properties=['embedding'] indexProvider='vector-2.0' owningConstraint=None lastRead=None readCount=0>]"
      ]
     },
     "execution_count": 34,
     "metadata": {},
     "output_type": "execute_result"
    }
   ],
   "source": [
    "# Using Langchain to create the vector index (alternative to the previous cell)\n",
    "from langchain.vectorstores import Neo4jVector\n",
    "Neo4jVector.from_existing_graph(\n",
    "    embedding=embeddings_api,\n",
    "    url=NEO4J_URI,\n",
    "    username=NEO4J_USERNAME,\n",
    "    password=NEO4J_PASSWORD,\n",
    "    database=NEO4J_DATABASE,\n",
    "    index_name='chunks_vector',\n",
    "    node_label=\"Chunk\",\n",
    "    text_node_properties=['text'],\n",
    "    embedding_node_property='embedding',\n",
    ")\n",
    "\n",
    "# Check the vector indexes in the graph\n",
    "gdb.execute_query('SHOW VECTOR INDEXES').records"
   ]
  },
  {
   "cell_type": "markdown",
   "metadata": {},
   "source": [
    "### Create text embeddings\n",
    "\n",
    "Creating the text embeddings will be a two step process. \n",
    "\n",
    "First, collect all chunk text and chunk ids from the graph.\n",
    "Yes these are the same chunk ids that were used to create the graph\n",
    "and you could save time by doing this all at once. We're doing\n",
    "this incrementally to show the process, not optimized for speed.\n",
    "\n",
    "Next, use the `embeddings_api` to get the embeddings for the text\n",
    "and write those values back into the graph. \n",
    "\n",
    "This will take some time to run as we're doing it one chunk at a time,\n",
    "calling out to the `embeddings_api` for each then writing all those\n",
    "results back into the graph."
   ]
  },
  {
   "cell_type": "code",
   "execution_count": 36,
   "metadata": {},
   "outputs": [
    {
     "name": "stdout",
     "output_type": "stream",
     "text": [
      "Finding all chunks that need embedding...\n",
      "Generating vector embeddings, then writing into each chunk...\n",
      "CPU times: user 4.87 ms, sys: 2.25 ms, total: 7.12 ms\n",
      "Wall time: 10.3 ms\n"
     ]
    }
   ],
   "source": [
    "%%time\n",
    "\n",
    "def text_for_embedding(text, header2, header3, header4) -> str:\n",
    "    text_for_embed = text;\n",
    "    if header4 is not None:\n",
    "        text_for_embed = header4 + '>>' + text_for_embed\n",
    "    return text_for_embed;\n",
    "\n",
    "# Create vector embeddings for all the Chunk text, in batches.\n",
    "# Use this for larger number of chunks so that the query\n",
    "# can be re-run without losing all progress\n",
    "print(\"Finding all chunks that need embedding...\")\n",
    "all_chunks_for_embed = gdb.execute_query(\"\"\"\n",
    "  MATCH (chunk:Chunk) WHERE chunk.embedding IS NULL\n",
    "  RETURN chunk.text AS text, chunk.header2 as header2, chunk.header3 as header3, chunk.header4 as header4, chunk.chunkId AS chunkId\n",
    "  \"\"\").records\n",
    "\n",
    "print(\"Generating vector embeddings, then writing into each chunk...\")\n",
    "for chunk in all_chunks_for_embed:\n",
    "  text = text_for_embedding(chunk['text'], chunk['header2'], chunk['header3'], chunk['header4'])\n",
    "  #print (text)\n",
    "  embedding = embeddings_api.embed_query(text)\n",
    "  gdb.execute_query(\"\"\"\n",
    "    MATCH (chunk:Chunk {chunkId: $chunkIdParam})\n",
    "    CALL db.create.setNodeVectorProperty(chunk, \"embedding\", $embeddingParam)    \n",
    "    \"\"\", \n",
    "    chunkIdParam=chunk['chunkId'], embeddingParam=embedding\n",
    "  )"
   ]
  },
  {
   "cell_type": "markdown",
   "metadata": {},
   "source": [
    "# Expand - connect the chunks into linked lists\n",
    "\n",
    "You can now create relationships between all\n",
    "nodes in that list of chunks,\n",
    "effectively creating a linked list from the\n",
    "first chunk to the last.\n",
    "\n"
   ]
  },
  {
   "cell_type": "code",
   "execution_count": 38,
   "metadata": {},
   "outputs": [
    {
     "name": "stdout",
     "output_type": "stream",
     "text": [
      "CPU times: user 4.27 ms, sys: 5.86 ms, total: 10.1 ms\n",
      "Wall time: 31.2 ms\n"
     ]
    }
   ],
   "source": [
    "%%time\n",
    "\n",
    "# Collect all the form IDs and form 10k item names\n",
    "distinct_path_result = gdb.execute_query(\"\"\"\n",
    "MATCH (c:Chunk) RETURN DISTINCT c.path as path\n",
    "\"\"\").records\n",
    "\n",
    "distinct_path_list = list(map(lambda x: x['path'], distinct_path_result))\n",
    "\n",
    "# Connect *all* section chunks into a linked list..\n",
    "cypher = \"\"\"\n",
    "  MATCH (from_same_path:Chunk) // match all chunks\n",
    "  WHERE from_same_path.path = $path // where the chunks are from the same path\n",
    "  WITH from_same_path // with those collections of chunks\n",
    "    ORDER BY from_same_path.chunkSeqId ASC // order the chunks by their sequence ID\n",
    "  WITH collect(from_same_path) as same_path_chunk_list // collect the chunks into a list\n",
    "    CALL apoc.nodes.link(same_path_chunk_list, \"NEXT\", {avoidDuplicates: true}) // then create a linked list in the graph\n",
    "  RETURN size(same_path_chunk_list)\n",
    "\"\"\"\n",
    "\n",
    "for path in distinct_path_list:\n",
    "    gdb.execute_query(cypher, \n",
    "             path=path\n",
    "    )\n"
   ]
  },
  {
   "cell_type": "markdown",
   "metadata": {},
   "source": [
    "# Example questions - vector similarity search with Neo4j"
   ]
  },
  {
   "cell_type": "markdown",
   "metadata": {},
   "source": [
    "### Try Neo4j vector search helper\n",
    "\n",
    "The `shared.ipynb` notebook has a helper function to perform a vector similarity search\n",
    "using the Neo4j Knowledge Graph.\n",
    "\n",
    "It will perform vector similarity search using the `chunks_vector` vector index.\n",
    "\n",
    "Try it out by searching for information about one of the companies in the graph."
   ]
  },
  {
   "cell_type": "code",
   "execution_count": 77,
   "metadata": {},
   "outputs": [
    {
     "name": "stdout",
     "output_type": "stream",
     "text": [
      "Using vector index: chunks_vector\n"
     ]
    },
    {
     "data": {
      "text/plain": [
       "<Record score=0.8557283878326416 node=<Node element_id='4:94518efa-c0a8-4b5d-bf14-10c6a3d42e83:57' labels=frozenset({'Chunk'}) properties={'header4': '8.1. INJURED PLAYER', 'header3': 'RULE 8 INJURED PLAYERS', 'path': 'iihf_official_rulebook_2023/24', 'header2': 'SECTION 02 TEAMS', 'documentUri': '/data-transfer/iihf/rulebook.md', 'header1': 'IIHF Official Rulebook 2023/24', 'embedding': [0.15400047600269318, -0.11063428223133087, -0.6008609533309937, 0.6283168792724609, 0.2641991972923279, -0.5556553602218628, 0.3702424168586731, -0.37626948952674866, 0.16323907673358917, 1.2181508541107178, 0.12017500400543213, 0.2961132526397705, 0.7737523317337036, -0.5049888491630554, -0.44282472133636475, -0.4041712284088135, -0.48726069927215576, -1.1177114248275757, -1.6141877174377441, 0.2301875501871109, -0.07807400822639465, 0.48787999153137207, -1.1690186262130737, -0.41326650977134705, -0.856358528137207, 0.08233292400836945, -0.09103158861398697, -0.19305270910263062, 0.5487215518951416, 0.9885610342025757, 0.5501524209976196, -0.39321574568748474, 0.1346297562122345, -0.4834417402744293, 0.046399787068367004, -0.021940097212791443, 0.22130057215690613, -0.7286871075630188, 0.18977271020412445, -0.5097081065177917, 0.29087337851524353, -0.2905645966529846, 0.3588709831237793, -0.3255780041217804, -0.8009902238845825, -0.31866782903671265, -0.19048509001731873, -0.27164703607559204, 0.12285320460796356, -0.46654337644577026, 0.5001233816146851, -0.7489694356918335, 0.5388616323471069, 0.6382354497909546, 0.1275368481874466, -0.7939375638961792, 0.1867971569299698, 0.18933293223381042, -0.9152349233627319, 0.6001605987548828, 0.3702828288078308, -0.9788335561752319, 0.43420863151550293, -0.5050868391990662, 0.37411773204803467, -0.5275365114212036, -0.3118162453174591, -0.18825389444828033, 1.090254545211792, -0.3060419261455536, -0.8156718611717224, 0.9701308012008667, -0.5148063898086548, -0.44203388690948486, -0.8111380338668823, 1.3242247104644775, -0.9698747396469116, -0.4860191345214844, -0.5706815719604492, 0.2988111674785614, 0.2945683002471924, 1.027740716934204, 0.2476314902305603, -0.548973023891449, -0.3093934655189514, -0.6352212429046631, -0.20932932198047638, 0.20015670359134674, -0.4145471751689911, -0.06731677055358887, -0.003092532977461815, 0.5999993681907654, -0.10297393798828125, 0.44930005073547363, 0.6390966176986694, 0.25924554467201233, -0.003937244415283203, 0.2793196737766266, 0.14656704664230347, -0.4157480299472809, 1.0373131036758423, 1.0367296934127808, 0.4548298418521881, 0.7190622091293335, -0.32255426049232483, -0.018774833530187607, 0.2684843838214874, -0.2134665697813034, -0.8409479260444641, -0.3664771616458893, -0.23475849628448486, -0.19459843635559082, 0.02685531973838806, -0.7085011005401611, -0.4130173921585083, 0.31085819005966187, 0.9345200657844543, 0.2526947855949402, -0.34630733728408813, 0.589066207408905, 0.6452354788780212, 0.2084987759590149, 0.16577716171741486, -0.7524166107177734, 0.3137831687927246, 0.7547885179519653, -0.1267813891172409, 0.18936537206172943, -0.415332555770874, -0.9627244472503662, 0.30023229122161865, -1.0148752927780151, 0.7539263963699341, 0.5019317865371704, -0.8043981790542603, 1.083715796470642, -0.3154221773147583, 0.459291934967041, 1.1983559131622314, -0.26881611347198486, 0.8868098258972168, -0.4086449146270752, -0.25797754526138306, 0.9266358017921448, 0.33245232701301575, -0.2134310007095337, 0.03904084116220474, 0.08492641150951385, -0.5405083298683167, 1.1070636510849, -0.8850153684616089, -0.23196928203105927, 0.8376044631004333, -0.10969270765781403, -0.14998987317085266, 0.14596718549728394, -0.5792257189750671, 0.6381973028182983, -0.21376973390579224, -0.06674166023731232, 0.39105892181396484, -0.33610275387763977, -0.2730046808719635, 1.2343933582305908, 0.2718008756637573, 0.7225636839866638, -0.3109639585018158, -0.7612118721008301, -0.25598400831222534, 0.54498690366745, 0.25882846117019653, 0.1752232164144516, -0.16800503432750702, 0.518388569355011, 1.1898311376571655, 0.9474352598190308, 0.5519195795059204, -0.7026321887969971, 0.46276792883872986, 0.7813257575035095, -0.19267946481704712, 0.739412248134613, 0.334428071975708, 0.5676232576370239, 0.09518685936927795, 0.3119897246360779, -0.6637165546417236, -0.2928934097290039, -0.6027371287345886, 0.3914423882961273, -0.03942548483610153, 0.09942197799682617, -0.646294891834259, -0.061628781259059906, 0.639371931552887, 0.17292378842830658, -0.4681357741355896, 0.28854286670684814, 0.10937021672725677, -1.558411717414856, -0.5651458501815796, 0.14556628465652466, -1.0853090286254883, 0.35643744468688965, -0.468840628862381, -1.0223422050476074, 0.1897202581167221, 1.178399682044983, -0.19773666560649872, 0.7847360968589783, 0.6236478686332703, -0.20724725723266602, -1.1382724046707153, 0.0511632114648819, -0.3066331148147583, -0.5024619102478027, -0.8348859548568726, 0.47276222705841064, -0.27464041113853455, 0.13357485830783844, 0.277201771736145, 0.47112345695495605, 0.06439495086669922, 0.6714984178543091, -0.24056454002857208, -0.7039632201194763, 0.7036195397377014, 0.6765730381011963, -0.418154239654541, -0.5895828008651733, 0.4549925923347473, 0.40471914410591125, 0.27306073904037476, 0.9364492297172546, 1.2267236709594727, -0.3082658648490906, 0.3652755618095398, 0.7419527769088745, 0.011973844841122627, 0.07035188376903534, 0.41963133215904236, 1.2599931955337524, 0.30254966020584106, 0.8677569031715393, -0.6691617965698242, 0.6980651617050171, 0.49285799264907837, 0.0734749510884285, -0.24654076993465424, 0.859459400177002, 0.1568325310945511, 0.18443663418293, 1.15216863155365, -0.2908625900745392, -0.9917871952056885, -0.2771579921245575, 0.23244574666023254, 0.34318339824676514, -1.4540477991104126, -0.651016116142273, -0.43093425035476685, -0.04780334234237671, 0.5776249170303345, 0.14660708606243134, 0.5642080903053284, -0.5934467911720276, 0.10645504295825958, 0.7557228207588196, -0.23522937297821045, -1.006988525390625, -0.14834092557430267, -1.426451325416565, -1.1967875957489014, 0.06528687477111816, -0.7128732800483704, -0.6627854108810425, 0.499112993478775, -0.5261029601097107, 0.9575596451759338, -0.18101555109024048, -1.021512746810913, -0.04888412356376648, 0.3243960440158844, 1.4406665563583374, -0.40995824337005615, 0.3548458218574524, -0.6420053243637085, 0.11619894206523895, 0.009681565687060356, 0.3814155161380768, 0.45295679569244385, -0.1878022402524948, 0.5039727091789246, 0.012369122356176376, 1.109267234802246, -0.5245877504348755, 0.7304478287696838, -0.28662770986557007, -0.30862995982170105, -1.169064998626709, 0.0748894214630127, -0.12784813344478607, 0.7540795803070068, 0.82586669921875, -0.701897919178009, 1.1830662488937378, -0.09867836534976959, 0.30529069900512695, -0.00924140028655529, 0.6599507331848145, -0.6984729170799255, 0.6593460440635681, 0.49763399362564087, 0.34918808937072754, -0.48845914006233215, 0.25093090534210205, 0.4323003590106964, 0.6378600597381592, 0.29212430119514465, 0.034018583595752716, -0.3443135917186737, -0.8169087171554565, 0.5845393538475037, -0.42793893814086914, -0.5691168308258057, 0.3753879964351654, 0.2456606924533844, -1.3845936059951782, 0.043129339814186096, -0.9648537039756775, -0.5168246626853943, -0.5804656744003296, 0.11385583877563477, 0.5130534172058105, 0.3511316478252411, 0.06379574537277222, 0.40406155586242676, -0.044491562992334366, 0.7395772933959961, -0.5818236470222473, 0.08008551597595215, -0.44746774435043335, 0.3683890104293823, 0.23922444880008698, -0.5448784828186035, 0.9525044560432434, -0.014469899237155914, 0.6031648516654968, -0.0812586173415184, 0.38788625597953796, 0.08358661085367203, 0.11893154680728912, 0.2506280839443207, -0.19312816858291626, 0.2345176637172699, 0.5869831442832947, -0.5508897304534912, 0.5402992367744446, 0.5387911200523376, 0.10897692292928696, 1.6699445247650146, -0.14922451972961426, 0.10911786556243896, -1.1216585636138916, -0.28704553842544556, -1.1703959703445435, 0.2579348087310791, 0.6481377482414246, 0.34576478600502014, 0.11947447061538696, 0.9193534255027771, 0.17926393449306488, 0.1936115324497223, 1.429741621017456, -0.7505761384963989, -0.9558046460151672, 1.5465046167373657, 0.1886996030807495, 0.686397135257721, -0.06088011711835861, 0.054847218096256256, 0.35190287232398987, 0.3702068328857422, 0.1257055699825287, 1.1618551015853882, 0.369276762008667, -0.2463098168373108, -1.1116629838943481, -0.43702685832977295, -0.23028066754341125, -0.24069252610206604, -0.11990788578987122, 0.5959678888320923, -0.1525164246559143, -1.2029095888137817, -1.0553429126739502, -0.7044249176979065, 1.2005878686904907, 0.6962922811508179, -0.19173109531402588, 0.2742552161216736, 0.02101198583841324, -0.3099319338798523, 0.9530579447746277, -0.5656201839447021, -0.27268746495246887, -1.0714646577835083, 0.4591972529888153, -0.03593691438436508, 0.13479173183441162, -0.08277980238199234, -0.361529141664505, -0.7608448266983032, -0.08172449469566345, 0.018524345010519028, -0.07650922238826752, -0.3286115527153015, 0.15917225182056427, -0.46498945355415344, 0.04912745952606201, -0.5611647963523865, -0.5160768628120422, 0.7290382981300354, 0.5369134545326233, 1.067552924156189, -0.43588510155677795, -0.7670959234237671, -0.5933754444122314, 0.5216440558433533, 0.5507904887199402, 0.16817303001880646, -0.6000257134437561, -0.5982489585876465, -0.9452119469642639, -0.3353155255317688, -0.24744266271591187, 1.2406724691390991, -0.48411405086517334, 0.2775818407535553, -1.4161255359649658, -0.5732198357582092, 0.16455702483654022, 0.385034441947937, -0.35160914063453674, -0.47662124037742615, 0.2364170253276825, 0.15977409482002258, 0.5496071577072144, -1.0325385332107544, -0.23662921786308289, -0.12230340391397476, -1.2244656085968018, 0.44581305980682373, 0.18389572203159332, 0.7287814617156982, 0.5665442943572998, -0.20666050910949707, -0.009439952671527863, 0.047983601689338684, 0.2143571525812149, -0.28821712732315063, -0.46259158849716187, 0.15527887642383575, 0.00724000483751297, -0.2954884469509125, 1.0184276103973389, -0.31926223635673523, 0.14880412817001343, 0.18545927107334137, 0.2583905756473541, -0.3718535006046295, -0.16032135486602783, 0.4439333975315094, -0.548019289970398, 0.544750988483429, -0.6546601057052612, -0.2649558186531067, -0.8827577829360962, -0.7080497145652771, -0.2274797558784485, -0.34230104088783264, 1.0442131757736206, 0.30295342206954956, -0.2781006693840027, -0.6167234182357788, -1.3284810781478882, 0.10986226797103882, 0.19337323307991028, 0.30389583110809326, 0.15787829458713531, -0.43611517548561096, -0.709822416305542, 0.020632904022932053, -0.40623795986175537, -0.6727441549301147, -0.19545599818229675, 0.9181782007217407, 0.44384533166885376, -0.31458091735839844, -0.728085994720459, -0.6998196244239807, 0.0721174106001854, -1.087060570716858, -0.09789155423641205, -0.6406031250953674, 0.5145477652549744, 0.49651023745536804, -1.430813193321228, 0.4472125768661499, 0.6414846777915955, -1.0226259231567383, 0.5759556293487549, -0.7164583802223206, 0.3922729194164276, 0.3492264151573181, 0.18238788843154907, -0.2372128963470459, -0.11373087763786316, -0.14927241206169128, 0.658301055431366, -0.08459153771400452, -0.626290500164032, -1.3008911609649658, 0.6013007164001465, -0.3071764409542084, 0.06592483073472977, -0.8497900366783142, -0.32138296961784363, -1.1301881074905396, -1.0402469635009766, 0.2746616005897522, -0.5737450122833252, -0.19698041677474976, -1.063234806060791, 0.31856927275657654, -0.49090948700904846, 0.3888259530067444, 0.4904962182044983, -1.2094199657440186, 0.22688014805316925, -1.2678054571151733, 0.5244693160057068, 0.14602990448474884, -0.5725718140602112, -0.13953439891338348, -1.115441918373108, -0.2935243844985962, 1.1976691484451294, 0.02310708351433277, 1.5154143571853638, 0.15031449496746063, -0.1685832142829895, 0.51224285364151, 0.29490339756011963, -0.19321870803833008, -0.8965621590614319, -0.1702086329460144, 0.36364075541496277, 0.9708070755004883, -0.07561697065830231, -0.34077760577201843, 0.6183199882507324, -0.8380307555198669, 0.3278426229953766, 0.17782288789749146, -0.6098899245262146, -0.20894218981266022, -0.3921821117401123, 0.7802437543869019, -1.1722232103347778, 0.19259048998355865, -0.5310440063476562, 0.7830778360366821, 0.9207271933555603, 0.4442221522331238, -0.8462860584259033, 1.0397088527679443, -0.7002341747283936, -0.9072622060775757, 0.4654511511325836, -0.685769259929657, -0.5070135593414307, -0.5832459330558777, 0.0728672668337822, 0.8665720224380493, -0.23642584681510925, 0.44551965594291687, 1.2782173156738281, 0.7428627014160156, -0.394742876291275, 0.10826376080513, 0.39338231086730957, 0.102292999625206, 0.22028988599777222, 0.07738111913204193, -0.6490388512611389, -0.04770480841398239, -0.02065378986299038, 0.02778870053589344, -0.26502904295921326, -1.4121249914169312, -0.05755804479122162, 0.9502153396606445, -0.90725177526474, 0.9858165383338928, -0.0006416225805878639, -1.1683809757232666, -1.0020196437835693, 0.7704183459281921, 1.0683637857437134, -0.22251874208450317, 0.9644948840141296, 0.22005970776081085, 0.03675142675638199, -0.7061723470687866, 0.6041207313537598, -0.45279282331466675, -0.30535247921943665, 0.576148271560669, -0.13626578450202942, -0.3577207326889038, 0.6739381551742554, 1.6719324588775635, -0.9625439643859863, -1.1257550716400146, -0.8871026039123535, -0.3535252511501312, 0.12522050738334656, -0.8705722093582153, -1.318099021911621, -0.36699146032333374, -0.021954484283924103, 0.2744744122028351, 0.8256670236587524, -0.06608544290065765, 1.1160145998001099, -0.36970803141593933, 0.5761748552322388, -0.6519150733947754, 0.7848662734031677, -0.03129235655069351, -0.1078588217496872, 0.1800192892551422, -1.1754616498947144, 0.07744640111923218, 0.0844300240278244, -0.7440031170845032, 1.5797603130340576, -0.4027402997016907, -1.2603155374526978, 0.12406764179468155, -0.039105165749788284, 0.41710445284843445, -0.5119340419769287, -0.23456600308418274, -0.3255781829357147, -0.17947708070278168, -0.1148373931646347, -0.6682751774787903, 0.33509546518325806, 0.9462223649024963, 0.4991375207901001, -0.5233526229858398, 0.0547158345580101, 0.25004029273986816, 0.2893927991390228, -0.345373272895813, -1.1101758480072021, -0.8241701722145081, -0.9793397188186646, -0.23965109884738922, -0.1271037757396698, 0.32667648792266846, -0.45724350214004517, 0.2362065613269806, -0.023212652653455734, -0.5970931649208069, -0.2194674015045166, -0.1852772980928421, 0.0509050115942955, 0.8545839786529541, -0.7387147545814514, 0.8675462007522583, -0.3521236479282379, -0.8787112832069397, -0.9446048140525818, -0.08631576597690582, -0.01071137934923172, 0.6013613343238831, -0.3507041931152344, 0.0642780214548111, -0.538648784160614, 1.1193432807922363, 0.27721571922302246, 0.1706799566745758, -0.086527019739151, -0.6295010447502136, 0.27148526906967163, 0.5396243333816528, 0.7032068371772766, 0.15872539579868317, 0.3426598310470581, -0.336042582988739, -0.46537649631500244, 0.2682909667491913, -0.0283297598361969, -0.24845069646835327, 0.5102069973945618, -0.32360371947288513, 0.2531827688217163, -0.15079598128795624, -0.07740235328674316, -0.39900684356689453, -0.31933504343032837, 0.9881099462509155, 0.8388640284538269, 0.3688390254974365, 0.12189339101314545, -0.3835954964160919, 0.5083429217338562, 0.8235247731208801, 0.16594664752483368, 0.18686389923095703, -0.19100144505500793, 0.5073500871658325, -0.053809136152267456, 0.060392916202545166, 0.20045164227485657, 0.7291095852851868, 0.09531128406524658, 0.11238309741020203, -0.08899645507335663, 0.021774232387542725, -0.5430434346199036, 0.6499168276786804, -0.2882218062877655, -0.8522346615791321, -0.3219592869281769, -0.18095006048679352, 0.6638997793197632, 0.8388535380363464, 0.1362209916114807, 0.032620854675769806, 0.027433834969997406, -0.19180259108543396, -0.8771406412124634, -0.5517371892929077, -1.062140703201294, -0.10684497654438019, 0.7594059705734253, -0.8630813956260681, -0.6143127083778381, -0.4052715301513672, 0.005293526686728001, -0.057091984897851944, -0.33724918961524963, -0.23761315643787384, -0.19198861718177795, -0.5569855570793152, -0.06949149072170258, 0.9162663817405701, -0.34790050983428955, -0.054001107811927795, -0.24738848209381104, 0.06574593484401703, -0.3994263708591461, -0.13373693823814392, 0.057164717465639114, 0.643742561340332, 0.23602890968322754, 0.40357667207717896, -0.6463570594787598, 0.22298011183738708, 0.011913716793060303, -0.23464640974998474, 0.5802069902420044, 0.1943640112876892, -0.17294901609420776, 0.2900931239128113, -0.4120829701423645, 0.22360007464885712, -0.27646493911743164, 0.977798581123352, 0.30231425166130066, -0.8527104258537292, -0.4135955572128296, 1.0333598852157593, 0.4469888210296631, -0.5576899647712708, 0.6422240138053894, 1.0412324666976929, 0.5848645567893982, -0.9710465669631958, -0.046236105263233185, 0.01896730810403824, -0.14234694838523865, 0.7575154304504395, -0.07489467412233353, 0.7072414755821228, 0.6575640439987183, 0.39959585666656494, -0.11453169584274292, -0.6008345484733582, 0.0863732174038887, -0.3803492784500122, -0.792822003364563, 1.0088931322097778, -0.18968603014945984, -0.09032152593135834, 0.23763558268547058, -0.2882097065448761, 0.7503573894500732, -0.08493927121162415, 0.38426291942596436, 0.20483121275901794, 0.020050115883350372, 0.976227879524231, -0.14784552156925201, 0.2119992971420288, 0.44432228803634644, -0.8545891642570496, -0.13776637613773346, 0.48171302676200867, -0.8126305341720581, 0.4299745261669159, -0.20603260397911072, 0.5699766874313354, -0.5433986186981201, 0.858432412147522, 0.044301871210336685, 0.12452472746372223, -0.3238671123981476, -0.26496055722236633, 0.44675615429878235, 0.05984043329954147, -0.010139822959899902, -1.0345875024795532, -1.1626183986663818, -0.4934128522872925, 0.19235366582870483, 0.7442916631698608, 0.38406768441200256, -0.13791070878505707, 0.38143017888069153, -0.17275278270244598, 0.7778607606887817, 0.036582112312316895, 0.5095592737197876, 0.2418331652879715, -0.6464058756828308, -0.6408724188804626, 1.1574190855026245, -0.12132595479488373, 0.9424189329147339, -0.3922962546348572, 1.1012638807296753, 0.10377690196037292, 0.6209478378295898, 0.18166306614875793, -0.1652413159608841, -0.892410397529602, 0.3763597905635834, 0.07473212480545044, -1.271053433418274, 0.06507732719182968, -0.27131524682044983, 0.362530916929245, -0.5142874717712402, -0.5101103186607361, -1.0703086853027344, 0.6121041774749756, -0.9753758907318115, -0.688445508480072, -0.027735009789466858, 0.016713593155145645, -0.2604330778121948, -0.10583579540252686, -0.019241467118263245, -0.0776975154876709, -0.24195486307144165, 0.4544500410556793, -0.3090556263923645, -1.0421724319458008, 0.018003549426794052, -0.688823938369751, 1.0178139209747314, -0.4931935667991638, -0.15637899935245514, -0.08141380548477173, -0.5795490145683289, -0.42949461936950684, 0.7522239685058594, -0.5525819659233093, -1.2753816843032837, 0.2069430947303772, 0.33311355113983154, 0.31342825293540955, 0.411357045173645, 0.2885279059410095, 0.5417420864105225, 0.49875131249427795, 0.662147045135498, 0.7919694781303406, 0.8340805172920227, 0.659941554069519, -0.7057809829711914, -0.1648898869752884, -0.8689055442810059, 0.6602553129196167, 0.16593782603740692, -0.00893368385732174, -0.6389217376708984, 0.037210818380117416, -0.07458874583244324, -0.6208080649375916, -0.09293636679649353, -0.0042896755039691925, -0.015088282525539398, 0.6957356333732605, -1.3751764297485352, -0.6092185974121094, -0.10085641592741013, 0.3644598424434662, -0.470996230840683, 0.5964266061782837, 0.000880759209394455, -0.38755330443382263, 0.3330424726009369, -1.1751062870025635, 3.4054198265075684, 0.5763861536979675, -0.0016588792204856873, 0.230634868144989, 0.8024396896362305, 1.444337010383606, 0.21881476044654846, -0.08072696626186371, -0.4605218470096588, -0.7062589526176453, 0.7622812986373901, -0.3956667482852936, 0.26687437295913696, 0.8888887166976929, 0.39453640580177307, 1.0616860389709473, -0.8549801707267761, 0.0720321536064148, -0.39610031247138977, -0.2037663608789444, -0.2714502811431885, -0.28138694167137146, 0.4253319501876831, 0.13444185256958008, -0.28318843245506287, 0.4912125766277313, -0.19658851623535156, -0.6206722855567932, 0.17334838211536407, -0.40362828969955444, -0.17521944642066956, -0.3278316259384155, -0.09040249139070511, 0.12669731676578522, -0.014733642339706421, 0.7904381155967712, 0.39428603649139404, -0.6719114780426025, -0.9274187088012695, 0.302826851606369, -0.6518188714981079, -0.8740294575691223, 0.7033542990684509, -0.5379483699798584, 0.47338661551475525, 0.20068359375, -0.464425653219223, 0.5725122690200806, 0.5556203722953796, -0.9602367877960205, 1.14310884475708, -0.29371076822280884, -0.1134476363658905, 0.023700270801782608, -1.0533514022827148, -0.47707802057266235, 0.11564777791500092, -0.6009175181388855, 0.7541757822036743, -0.5002519488334656, 0.4193933308124542, -0.8470829129219055, -0.07820052653551102, -8.61436128616333e-05, -0.3567177355289459, -0.15089386701583862, 0.2831445336341858, 0.5451709032058716, -0.3852646052837372, 0.000749809667468071, 0.3784301280975342, -0.24411451816558838, 0.28537529706954956, 0.4838617444038391, 0.7415978908538818, 0.656421422958374, -0.6873352527618408, 0.7351610064506531, 0.06476377695798874, -0.21690863370895386, -0.3256617486476898, -0.43054866790771484, -0.1812179684638977, 0.2463112473487854, 1.0001035928726196, 0.7049582004547119, 0.16193005442619324, -0.208857923746109, 0.12480379641056061, -0.02598670870065689, 0.8651012778282166, 0.6267464756965637, -0.1446014642715454, 0.49423110485076904, 0.045878127217292786], 'source': '', 'text': 'When a Player is injured so that they cannot continue play or go to their Players’ Bench, the play shall not be stopped until the injured Player’s Team has secured control of the puck. If the Player’s Team is in “control of the puck” at the time of injury, play shall be stopped immediately unless their Team is in a scoring position.', 'chunkId': '9c8d74e33176f1e321d886cb3f7121a0da0e0307', 'chunkSeqId': 57}>>"
      ]
     },
     "execution_count": 77,
     "metadata": {},
     "output_type": "execute_result"
    }
   ],
   "source": [
    "search_results = neo4j_vector_search(\n",
    "#    'what is the size of the rink', VECTOR_INDEX_NAME\n",
    "    'what happens if player is injured', VECTOR_INDEX_NAME\n",
    ")\n",
    "search_results[0]\n"
   ]
  },
  {
   "cell_type": "markdown",
   "metadata": {
    "jp-MarkdownHeadingCollapsed": true
   },
   "source": [
    "### Question Answering chat with Langchain \n",
    "\n",
    "Notice that we only performed vector search. So what we're getting\n",
    "back is the raw chunk text.\n",
    "\n",
    "If we want to create a chatbot that provides actual answers to\n",
    "a question, we can build a RAG system using Langchain.\n",
    "\n",
    "The basic RAG flow goes through these steps:\n",
    "\n",
    "1. accept a question from the user\n",
    "2. perform a database query to find relevant text that may provide an answer\n",
    "3. package the original question plus the relevant text into a prompt\n",
    "4. pass the entire prompt to an LLM to produce an answer\n",
    "5. finally, return the LLM's answer to the user\n",
    "\n",
    "Langchain is a great framework for creating a complete RAG workflow.\n",
    "\n",
    "It has excellent integration with Neo4j. \n"
   ]
  },
  {
   "cell_type": "code",
   "execution_count": 72,
   "metadata": {},
   "outputs": [
    {
     "data": {
      "text/plain": [
       "'In the context of a fantasy sports league, if a player is injured, it can have various effects on their performance and your team\\'s overall success. Here are some possible scenarios:\\n\\n1. **Injury Report**: The fantasy platform or league will typically provide an injury report, which indicates the severity of the injury and the expected recovery time.\\n2. **Out for the Season**: If a player is severely injured and out for the season, they may be placed on the \"injured reserve\" (IR) list. This means they won\\'t contribute to your team\\'s scoring for the remainder of the season.\\n3. **Short-Term Absence**: For less severe injuries, a player might miss only a few games or weeks before returning to action. In this case, you can continue to start them in your lineup once they\\'re healthy enough to play.\\n4. **Questionable Status**: Some players may be listed as \"questionable\" for a game, indicating that their status is uncertain due to the injury. You might need to make an informed decision about whether to start them or not.\\n5. **Waiver Wire Pickups**: If a player is injured and out for an extended period, you might consider picking up a replacement on the waiver wire (if available). This can help minimize the impact of their absence on your team\\'s performance.\\n\\nTo mitigate the effects of an injured player:\\n\\n1. **Keep an Eye on Injury Reports**: Monitor injury reports regularly to stay informed about the status of your players.\\n2. **Have a Solid Bench**: Make sure you have a strong bench with capable players who can fill in for an injured starter.\\n3. **Make Strategic Moves**: Consider making trades or pickups to strengthen your team and minimize the impact of an injured player.\\n4. **Adjust Your Lineup**: Be prepared to adjust your lineup accordingly, taking into account the severity of the injury and the expected recovery time.\\n\\nRemember, injuries are a natural part of any fantasy sports league. By being proactive and adaptable, you can minimize their impact on your team\\'s success.'"
      ]
     },
     "execution_count": 72,
     "metadata": {},
     "output_type": "execute_result"
    }
   ],
   "source": [
    "# try the chat api directly\n",
    "result = chat_api.invoke(\"what happens if player is injured\")\n",
    "#result = chat_api.invoke(\"what is the size of the rink\")\n",
    "result.content"
   ]
  },
  {
   "cell_type": "markdown",
   "metadata": {},
   "source": [
    "### Neo4j Vector Store\n",
    "\n",
    "The easiest way to start using Neo4j with Langchain\n",
    "is with the `Neo4jVector` interface.\n",
    "\n",
    "This makes Neo4j look like a vector store using\n",
    "the vector index you created earlier.\n",
    "\n",
    "Under the hood, it will use the Cypher language\n",
    "for performing vector similarity searches.\n",
    "\n",
    "The configuration specifies a few important things:\n",
    "- use the defined `embeddings_api` for embeddings\n",
    "- how to connect to the Neo4j database\n",
    "- the name of the vector index to use\n",
    "- the label of the nodes to search\n",
    "- the property name of the text on those nodes\n",
    "- and, the property name of the embeddings on those nodes\n",
    "\n",
    "That vector store then gets converted into a retriever\n",
    "and finally added to a Question Answering chain."
   ]
  },
  {
   "cell_type": "code",
   "execution_count": 62,
   "metadata": {},
   "outputs": [],
   "source": [
    "# Create a langchain vector store from the existing Neo4j knowledge graph.\n",
    "neo4j_vector_store = Neo4jVector.from_existing_graph(\n",
    "    embedding=embeddings_api,\n",
    "    url=NEO4J_URI,\n",
    "    username=NEO4J_USERNAME,\n",
    "    password=NEO4J_PASSWORD,\n",
    "    index_name=VECTOR_INDEX_NAME,\n",
    "    node_label=VECTOR_NODE_LABEL,\n",
    "    text_node_properties=[VECTOR_SOURCE_PROPERTY],\n",
    "    embedding_node_property=VECTOR_EMBEDDING_PROPERTY,\n",
    ")\n",
    "\n",
    "# RAG prompt\n",
    "prompt = hub.pull(\"rlm/rag-prompt-llama\")\n",
    "\n",
    "# Create a retriever from the vector store\n",
    "retriever = neo4j_vector_store.as_retriever()\n",
    "\n",
    "# Create a chatbot Question & Answer chain from the retriever\n",
    "#chain = RetrievalQAWithSourcesChain.from_chain_type(\n",
    "#    chat_api, chain_type=\"stuff\", retriever=retriever\n",
    "#)\n",
    "\n",
    "chain = RetrievalQA.from_chain_type(\n",
    "    chat_api, chain_type=\"stuff\", retriever=retriever, verbose=True, chain_type_kwargs={\"prompt\": prompt, \"verbose\": True}\n",
    ")\n",
    "\n",
    "prettyVectorSearch = prettifyChain(chain)"
   ]
  },
  {
   "cell_type": "markdown",
   "metadata": {},
   "source": [
    "### Ask some questions\n",
    "\n",
    "Finally, you can use the Langchain chain, which combines the retriever\n",
    "and the vector store into a nice question and answer interface.\n",
    "\n",
    "You can see both the answer and the source that the answer came from."
   ]
  },
  {
   "cell_type": "code",
   "execution_count": 73,
   "metadata": {},
   "outputs": [
    {
     "name": "stdout",
     "output_type": "stream",
     "text": [
      "\n",
      "\n",
      "\u001b[1m> Entering new RetrievalQA chain...\u001b[0m\n",
      "\n",
      "\n",
      "\u001b[1m> Entering new StuffDocumentsChain chain...\u001b[0m\n",
      "\n",
      "\n",
      "\u001b[1m> Entering new LLMChain chain...\u001b[0m\n",
      "Prompt after formatting:\n",
      "\u001b[32;1m\u001b[1;3mHuman: [INST]<<SYS>> You are an assistant for question-answering tasks. Use the following pieces of retrieved context to answer the question. If you don't know the answer, just say that you don't know. Use three sentences maximum and keep the answer concise.<</SYS>> \n",
      "Question: what happens if player is injured \n",
      "Context: \n",
      "text: When a Player is injured so that they cannot continue play or go to their Players’ Bench, the play shall not be stopped until the injured Player’s Team has secured control of the puck. If the Player’s Team is in “control of the puck” at the time of injury, play shall be stopped immediately unless their Team is in a scoring position.\n",
      "\n",
      "\n",
      "text: The injured Player must wait until their substitute has been released from the Penalty Box before they are eligible to play. If, however, there is a stoppage of play prior to the expiration of their penalty, they must then replace their Teammate in the Penalty Box and is then eligible to return once their penalty has expired.\n",
      "\n",
      "\n",
      "text: In the case where it is obvious that a Player has sustained a serious injury, the Referee and/or Linesperson may stop the play imme- diately. Where an injury has occurred to a Player and there is a stoppage of play, a Team Doctor (or other Medical Personnel) may go onto the ice to attend to the injured Player without waiting for the Referee’s consent.\n",
      "\n",
      "\n",
      "text: Should the injured penalized Player who has been replaced in the Penalty Box return to their Players’ Bench prior to the expiration of their penalty, they shall not be eligible to play until their penalty has expired. This includes coincidental penalties when their substitute is still in the Penalty Box awaiting a stoppage in play. \n",
      "Answer: [/INST]\u001b[0m\n",
      "\n",
      "\u001b[1m> Finished chain.\u001b[0m\n",
      "\n",
      "\u001b[1m> Finished chain.\u001b[0m\n",
      "\n",
      "\u001b[1m> Finished chain.\u001b[0m\n",
      "[INST]<<SYS>> If a player is injured and cannot continue playing or go to their\n",
      "Players' Bench, play will not be stopped until the injured player's team has\n",
      "secured control of the puck. If the team is already in control of the puck at\n",
      "the time of injury, play will stop immediately unless they are in a scoring\n",
      "position. The injured player must wait for their substitute to be released from\n",
      "the Penalty Box before being eligible to play again.\n"
     ]
    }
   ],
   "source": [
    "#prettyVectorSearch(\"what is the size of the rink?\")\n",
    "prettyVectorSearch(\"what happens if player is injured\")\n"
   ]
  },
  {
   "cell_type": "markdown",
   "metadata": {},
   "source": [
    "### Vector search with graph pattern\n",
    "\n",
    "You can now create a question answering chain.\n",
    "\n",
    "The default Neo4jVector uses a basic cypher query\n",
    "to peform vector similarity search.\n",
    "\n",
    "That query can be extended to do whatever you\n",
    "want in a Cypher.\n",
    "\n",
    "This Cypher query extension will receive two variables: `node` and `score`\n",
    "and it should should return three fields: `text`, `score`, and `metadata`.\n",
    "\n",
    "  - The `text` should be plain text to be passed to the LLM.\n",
    "  - The `score` column should be the similarity score of the text.\n",
    "  - The `metadata` can be any additional information you want to pass, like the source of the text.\n",
    "\n",
    "\n",
    "In this example, we'll use the previous/next chunks to expand the context of the text passed to the LLM.\n",
    "\n",
    "Create two QA chains, one with and one without the chunk window.\n"
   ]
  },
  {
   "cell_type": "code",
   "execution_count": 86,
   "metadata": {},
   "outputs": [],
   "source": [
    "retrieval_query_window = \"\"\"\n",
    " OPTIONAL MATCH window=\n",
    "    (:Chunk)-[:NEXT*0..1]->(node)-[:NEXT*0..1]->(:Chunk)\n",
    "WITH node, score, window as longestWindow \n",
    "  ORDER BY node,  length(window) DESC\n",
    "WITH nodes(longestWindow) as chunkList, node, score\n",
    "  UNWIND chunkList as chunkRows\n",
    "WITH collect(chunkRows.text) as textList, node, score\n",
    "WITH apoc.text.join(textList, \" \\n \") as text,\n",
    "    score,\n",
    "    node {.source} AS metadata \n",
    "RETURN text, score, metadata  ORDER BY score DESC LIMIT 1 \n",
    "\"\"\"\n",
    "\n",
    "vector_store_window = Neo4jVector.from_existing_index(\n",
    "    embedding=embeddings_api,\n",
    "    url=NEO4J_URI,\n",
    "    username=NEO4J_USERNAME,\n",
    "    password=NEO4J_PASSWORD,\n",
    "    database=\"neo4j\",\n",
    "    index_name=VECTOR_INDEX_NAME,\n",
    "    text_node_property=VECTOR_SOURCE_PROPERTY,\n",
    "    retrieval_query=retrieval_query_window\n",
    ")\n",
    "\n",
    "# Create a retriever from the vector store\n",
    "retriever_window = vector_store_window.as_retriever(search_kwargs={'k': 5})\n",
    "\n",
    "# Create a chatbot Question & Answer chain from the retriever\n",
    "chain_window = prettifyChain(RetrievalQA.from_chain_type(\n",
    "    chat_api, \n",
    "    chain_type=\"stuff\", \n",
    "    retriever=retriever_window,\n",
    "    chain_type_kwargs={\"verbose\": True}\n",
    "))"
   ]
  },
  {
   "cell_type": "code",
   "execution_count": 87,
   "metadata": {},
   "outputs": [
    {
     "data": {
      "text/plain": [
       "[Document(page_content='The injured Player must wait until their substitute has been released from the Penalty Box before they are eligible to play. If, however, there is a stoppage of play prior to the expiration of their penalty, they must then replace their Teammate in the Penalty Box and is then eligible to return once their penalty has expired. \\n When a Player is injured so that they cannot continue play or go to their Players’ Bench, the play shall not be stopped until the injured Player’s Team has secured control of the puck. If the Player’s Team is in “control of the puck” at the time of injury, play shall be stopped immediately unless their Team is in a scoring position. \\n In the case where it is obvious that a Player has sustained a serious injury, the Referee and/or Linesperson may stop the play imme- diately. Where an injury has occurred to a Player and there is a stoppage of play, a Team Doctor (or other Medical Personnel) may go onto the ice to attend to the injured Player without waiting for the Referee’s consent. \\n The injured Player must wait until their substitute has been released from the Penalty Box before they are eligible to play. If, however, there is a stoppage of play prior to the expiration of their penalty, they must then replace their Teammate in the Penalty Box and is then eligible to return once their penalty has expired. \\n When a Player is injured so that they cannot continue play or go to their Players’ Bench, the play shall not be stopped until the injured Player’s Team has secured control of the puck. If the Player’s Team is in “control of the puck” at the time of injury, play shall be stopped immediately unless their Team is in a scoring position. \\n When a Player is injured so that they cannot continue play or go to their Players’ Bench, the play shall not be stopped until the injured Player’s Team has secured control of the puck. If the Player’s Team is in “control of the puck” at the time of injury, play shall be stopped immediately unless their Team is in a scoring position. \\n In the case where it is obvious that a Player has sustained a serious injury, the Referee and/or Linesperson may stop the play imme- diately. Where an injury has occurred to a Player and there is a stoppage of play, a Team Doctor (or other Medical Personnel) may go onto the ice to attend to the injured Player without waiting for the Referee’s consent. \\n When a Player is injured so that they cannot continue play or go to their Players’ Bench, the play shall not be stopped until the injured Player’s Team has secured control of the puck. If the Player’s Team is in “control of the puck” at the time of injury, play shall be stopped immediately unless their Team is in a scoring position.', metadata={'source': ''})]"
      ]
     },
     "execution_count": 87,
     "metadata": {},
     "output_type": "execute_result"
    }
   ],
   "source": [
    "docs = retriever_window.invoke(\"what happens if player is injured\")\n",
    "docs"
   ]
  },
  {
   "cell_type": "code",
   "execution_count": 82,
   "metadata": {},
   "outputs": [
    {
     "name": "stdout",
     "output_type": "stream",
     "text": [
      "\n",
      "\n",
      "\u001b[1m> Entering new StuffDocumentsChain chain...\u001b[0m\n",
      "\n",
      "\n",
      "\u001b[1m> Entering new LLMChain chain...\u001b[0m\n",
      "Prompt after formatting:\n",
      "\u001b[32;1m\u001b[1;3mSystem: Use the following pieces of context to answer the user's question. \n",
      "If you don't know the answer, just say that you don't know, don't try to make up an answer.\n",
      "----------------\n",
      "If a penalized Player has been injured, they may proceed to the Dressing Room without taking a seat in the Penalty Box. The penalized Team shall immediately put a substitute Player in the Penalty Box, who shall serve the penalty until the injured Player is able to return to the game. They would replace their Teammate in the Penalty Box at the next stoppage of play.  \n",
      "For violation of this rule, a Bench Minor Penalty shall be imposed. \n",
      " Should the injured penalized Player who has been replaced in the Penalty Box return to their Players’ Bench prior to the expiration of their penalty, they shall not be eligible to play until their penalty has expired. This includes coincidental penalties when their substitute is still in the Penalty Box awaiting a stoppage in play. \n",
      " The injured Player must wait until their substitute has been released from the Penalty Box before they are eligible to play. If, however, there is a stoppage of play prior to the expiration of their penalty, they must then replace their Teammate in the Penalty Box and is then eligible to return once their penalty has expired.\n",
      "Human: what happens if player is injured\u001b[0m\n",
      "\n",
      "\u001b[1m> Finished chain.\u001b[0m\n",
      "\n",
      "\u001b[1m> Finished chain.\u001b[0m\n",
      "According to the context, if a penalized Player is injured, they may proceed to\n",
      "the Dressing Room without taking a seat in the Penalty Box. The penalized Team\n",
      "shall immediately put a substitute Player in the Penalty Box, who shall serve\n",
      "the penalty until the injured Player is able to return to the game.\n"
     ]
    }
   ],
   "source": [
    "chain_window(\"what happens if player is injured\")"
   ]
  },
  {
   "cell_type": "markdown",
   "metadata": {},
   "source": [
    "### Debugging"
   ]
  },
  {
   "cell_type": "code",
   "execution_count": 85,
   "metadata": {},
   "outputs": [
    {
     "name": "stdout",
     "output_type": "stream",
     "text": [
      "Using vector index: chunks_vector\n"
     ]
    },
    {
     "data": {
      "text/plain": [
       "<Record text='The injured Player must wait until their substitute has been released from the Penalty Box before they are eligible to play. If, however, there is a stoppage of play prior to the expiration of their penalty, they must then replace their Teammate in the Penalty Box and is then eligible to return once their penalty has expired. \\n When a Player is injured so that they cannot continue play or go to their Players’ Bench, the play shall not be stopped until the injured Player’s Team has secured control of the puck. If the Player’s Team is in “control of the puck” at the time of injury, play shall be stopped immediately unless their Team is in a scoring position. \\n In the case where it is obvious that a Player has sustained a serious injury, the Referee and/or Linesperson may stop the play imme- diately. Where an injury has occurred to a Player and there is a stoppage of play, a Team Doctor (or other Medical Personnel) may go onto the ice to attend to the injured Player without waiting for the Referee’s consent. \\n The injured Player must wait until their substitute has been released from the Penalty Box before they are eligible to play. If, however, there is a stoppage of play prior to the expiration of their penalty, they must then replace their Teammate in the Penalty Box and is then eligible to return once their penalty has expired. \\n When a Player is injured so that they cannot continue play or go to their Players’ Bench, the play shall not be stopped until the injured Player’s Team has secured control of the puck. If the Player’s Team is in “control of the puck” at the time of injury, play shall be stopped immediately unless their Team is in a scoring position. \\n When a Player is injured so that they cannot continue play or go to their Players’ Bench, the play shall not be stopped until the injured Player’s Team has secured control of the puck. If the Player’s Team is in “control of the puck” at the time of injury, play shall be stopped immediately unless their Team is in a scoring position. \\n In the case where it is obvious that a Player has sustained a serious injury, the Referee and/or Linesperson may stop the play imme- diately. Where an injury has occurred to a Player and there is a stoppage of play, a Team Doctor (or other Medical Personnel) may go onto the ice to attend to the injured Player without waiting for the Referee’s consent. \\n When a Player is injured so that they cannot continue play or go to their Players’ Bench, the play shall not be stopped until the injured Player’s Team has secured control of the puck. If the Player’s Team is in “control of the puck” at the time of injury, play shall be stopped immediately unless their Team is in a scoring position.' score=0.8557283878326416 metadata={'source': ''}>"
      ]
     },
     "execution_count": 85,
     "metadata": {},
     "output_type": "execute_result"
    }
   ],
   "source": [
    "retrieval_query_window = \"\"\"\n",
    " OPTIONAL MATCH window=\n",
    "    (:Chunk)-[:NEXT*0..1]->(node)-[:NEXT*0..1]->(:Chunk)\n",
    "WITH node, score, window as longestWindow \n",
    "  ORDER BY node,  length(window) DESC\n",
    "WITH nodes(longestWindow) as chunkList, node, score\n",
    "  UNWIND chunkList as chunkRows\n",
    "WITH collect(chunkRows.text) as textList, node, score\n",
    "WITH apoc.text.join(textList, \" \\n \") as text,\n",
    "    score,\n",
    "    node {.source} AS metadata \n",
    "RETURN text, score, metadata  ORDER BY score DESC LIMIT 1 \n",
    "\"\"\"\n",
    "\n",
    "def neo4j_vector_search_2(question, retrieval_query):\n",
    "  \"\"\"Search for similar nodes using the Neo4j vector index\"\"\"\n",
    "  vector_search_query = \"\"\"\n",
    "    CALL db.index.vector.queryNodes($index_name, $top_k, $question_embedding) \n",
    "        YIELD node, score\n",
    "  \"\"\" + retrieval_query\n",
    "  similar = []\n",
    "\n",
    "  print (\"Using vector index: \" + str(VECTOR_INDEX_NAME))\n",
    "    \n",
    "  question_embedding = embeddings_api.embed_query(question)\n",
    "  return gdb.execute_query(vector_search_query,\n",
    "                      question=question, \n",
    "                      question_embedding=question_embedding, \n",
    "                      index_name=VECTOR_INDEX_NAME, \n",
    "                      top_k=5\n",
    "                    ).records\n",
    "\n",
    "search_results = neo4j_vector_search_2(\n",
    "    'what happens if player is injured', retrieval_query_window\n",
    ")\n",
    "search_results[0]\n",
    "    "
   ]
  },
  {
   "cell_type": "code",
   "execution_count": 83,
   "metadata": {},
   "outputs": [],
   "source": [
    "question_embedding = embeddings_api.embed_query('what happens if player is injured')"
   ]
  },
  {
   "cell_type": "code",
   "execution_count": 84,
   "metadata": {},
   "outputs": [
    {
     "name": "stdout",
     "output_type": "stream",
     "text": [
      "[-0.39702123403549194, 0.058541297912597656, -0.4699553847312927, 0.6645786166191101, -0.3099238872528076, -0.08872020244598389, -0.09223882108926773, 0.2813906669616699, 0.44427183270454407, 0.7523693442344666, 0.5795003175735474, 0.39464452862739563, 0.2295146882534027, -0.5333042740821838, -1.3203436136245728, 0.7578753232955933, 0.09013372659683228, -1.246175765991211, 0.15704697370529175, 0.06844878196716309, 0.38123148679733276, 0.554064154624939, -1.352559208869934, 0.5863652229309082, -0.26794561743736267, 0.17957158386707306, -0.46058470010757446, -0.5092716813087463, 0.6128213405609131, 0.7666377425193787, -0.8828046321868896, -0.6613980531692505, 0.7093021869659424, 0.08917027711868286, -1.0010097026824951, 0.17118817567825317, 0.6956015229225159, -0.7476527094841003, -1.0111517906188965, -0.3789401650428772, -0.07322624325752258, -0.19343486428260803, 0.2600492835044861, -0.1545339673757553, -0.7655941843986511, -0.5049228668212891, -0.4782641530036926, -0.02174309641122818, 0.409115195274353, -0.8874239325523376, 0.04931221902370453, -0.6950238943099976, 0.6213379502296448, -1.0003539323806763, 0.03639379143714905, -0.5760937929153442, 0.9735912084579468, -0.1065816730260849, -0.33624839782714844, 0.6728006601333618, -0.13741503655910492, -0.662666916847229, 0.3167356550693512, -0.48040732741355896, 0.5421748757362366, -0.29648125171661377, 0.5320886373519897, -0.2775259017944336, 0.8264127373695374, -0.6167489886283875, -0.6383342146873474, 0.4676748216152191, -0.5720841884613037, 0.3491579294204712, -0.2748766541481018, 1.049037218093872, -0.822160542011261, 0.672272801399231, 0.11237914860248566, 0.3011661767959595, 0.7695660591125488, 1.4595036506652832, 0.07520081102848053, -0.23188790678977966, -0.8973522186279297, 0.1109544187784195, -0.22708359360694885, -0.3515981137752533, -0.08826039731502533, -0.3795975148677826, -0.6609957814216614, 1.3808726072311401, 0.7379974722862244, 0.030040182173252106, 0.06807392090559006, 0.9228958487510681, -0.260679692029953, 0.7672195434570312, -0.29925039410591125, 0.12240461260080338, 0.6226405501365662, 0.5068402290344238, 0.16643460094928741, 0.6645225882530212, -0.5569626688957214, -0.9888126850128174, 0.16775712370872498, 0.6430111527442932, -0.6093316078186035, 0.18358156085014343, -0.4062665104866028, -0.3997645378112793, 0.22778867185115814, -0.42476189136505127, 0.025566719472408295, 0.908107578754425, 0.3717414438724518, -0.10121215879917145, -1.007259726524353, 0.4421725571155548, 1.3855135440826416, 0.7969105243682861, 0.5265603065490723, -0.5900436043739319, 0.8217062950134277, 0.4554951786994934, -0.6436024904251099, 0.24386966228485107, -0.18664434552192688, -1.0983670949935913, 0.6306824088096619, -1.2092952728271484, -0.2519683837890625, 0.27280890941619873, -0.5409267544746399, 1.3095660209655762, 0.3574164807796478, 0.8328161835670471, 1.0470958948135376, -0.572681188583374, 1.2383428812026978, -0.34769564867019653, 0.37812739610671997, 1.6622116565704346, -0.11890970170497894, 0.6873154640197754, -0.017746277153491974, -0.0001631900668144226, -1.2288707494735718, 0.7967404723167419, -0.8412404656410217, 0.21032768487930298, 0.7630741596221924, 0.1241118386387825, 0.06841722130775452, 0.12258840352296829, -0.41301044821739197, 0.39396852254867554, 0.4539555609226227, 0.7060350179672241, 0.014886978082358837, -0.8600859642028809, -0.3882436156272888, 0.6049401760101318, 0.10170870274305344, 0.9109104871749878, -0.7119423747062683, 0.2201777547597885, -0.8019008636474609, 0.10493538528680801, 0.5055229663848877, 0.41945168375968933, -0.021162936463952065, 1.23259437084198, 0.1136278361082077, 1.0672050714492798, 0.9638718366622925, -0.40120935440063477, -0.3494110405445099, 0.5995843410491943, -0.23276227712631226, 1.0896738767623901, 0.021432623267173767, 0.434539794921875, 0.29768890142440796, 0.5753515958786011, -1.037212610244751, -0.34298181533813477, -0.741326093673706, -0.07429482042789459, -0.26959171891212463, 0.6678224205970764, -0.9397874474525452, 0.11112189292907715, -0.4171774089336395, -0.536492109298706, 0.08886907994747162, 0.08014387637376785, 0.33308708667755127, -1.6781681776046753, -0.30275216698646545, 0.15560752153396606, -0.9425437450408936, 0.738103449344635, -0.5472671985626221, -0.37872231006622314, 0.950827419757843, 1.3952168226242065, -0.18908928334712982, -0.6949412226676941, 0.32601940631866455, -0.3918251097202301, -0.6124997138977051, -0.01426762342453003, 0.33765390515327454, -0.09444128721952438, 0.26754605770111084, 0.858110249042511, -0.14245781302452087, 0.09620211273431778, 0.10467641055583954, 0.6572932004928589, 0.4003881812095642, 0.9083895683288574, -0.16888117790222168, -0.663275957107544, 0.7308492660522461, 0.342460960149765, 0.07397785782814026, -0.4356059432029724, 0.47941237688064575, 1.323087453842163, 0.25141751766204834, 0.6398604512214661, 0.8549477458000183, -0.4959315061569214, 0.46002116799354553, 0.9262714982032776, -0.2610023617744446, 0.186172217130661, 0.7175014019012451, 0.00791361927986145, -0.40636298060417175, 0.5355045199394226, -0.4017230272293091, -0.2321428656578064, -0.06779174506664276, -0.2312130630016327, -1.1349087953567505, 0.7046844363212585, -0.028077494353055954, -0.14430734515190125, 1.3200477361679077, -0.30448874831199646, -0.6335285305976868, 0.43986812233924866, 0.39961227774620056, 0.5323479771614075, -1.9526225328445435, -0.19416098296642303, -0.49023810029029846, 0.7228284478187561, 0.746346652507782, -0.25569289922714233, 0.8488359451293945, -0.906067967414856, 0.8580448031425476, 0.5671905279159546, 0.10336440056562424, -0.6715192794799805, -0.7797086238861084, -0.9347602725028992, -0.4068887233734131, 0.06013849377632141, -1.3875517845153809, -0.1998724490404129, 0.4290209114551544, -0.6367275714874268, 0.49000754952430725, -0.5424737930297852, -0.8362501263618469, -0.38417452573776245, -0.06102658435702324, 1.5539287328720093, -1.1958637237548828, 0.46589910984039307, -1.1526284217834473, -0.1545674353837967, -0.40179193019866943, -0.09698204696178436, 0.19488169252872467, -0.22202609479427338, -0.11336807161569595, -0.5987556576728821, 0.17140303552150726, -0.5888721346855164, -0.13811977207660675, -0.6465796232223511, -0.02927512675523758, -1.5913151502609253, 0.21103858947753906, 0.20601318776607513, 0.8516520857810974, 0.4752424955368042, -0.5502660274505615, 1.5319654941558838, -0.5322487950325012, -0.2281414121389389, 1.053605079650879, 0.31804561614990234, -1.0286366939544678, 1.1533153057098389, 0.37804657220840454, -0.39631733298301697, -1.163675308227539, 1.1309894323349, 0.6275837421417236, 0.36365410685539246, -0.6573725342750549, -0.7427819967269897, -0.8385090827941895, -0.01627509295940399, 0.6064059138298035, 0.46039676666259766, -0.2696884274482727, 0.05581703782081604, 0.783494770526886, -1.9493719339370728, -0.23111173510551453, -0.6620580554008484, -0.09724409878253937, -0.3753989040851593, -0.5865376591682434, 0.20750916004180908, 0.13678516447544098, 0.7263169884681702, 0.8109430074691772, -1.0409456491470337, 0.24963735044002533, 0.01162777841091156, 0.5685644149780273, -0.3751639425754547, 0.8763585686683655, -0.48520249128341675, -0.4849511682987213, 0.6695023775100708, 0.4633429944515228, 0.2689080834388733, 0.4476573169231415, 0.5096439123153687, -0.5771577954292297, -0.30907484889030457, 0.5308427214622498, -0.9282368421554565, -0.009209305047988892, 0.8425009846687317, -0.2846309244632721, 0.47442999482154846, -0.030074868351221085, 0.031964946538209915, 1.4061946868896484, -0.07135025411844254, 0.30287396907806396, -0.7843121886253357, -0.3538820147514343, -1.0781807899475098, 0.2848409414291382, 0.8841297626495361, 1.3583589792251587, -0.5178903341293335, 1.272575855255127, 0.584726870059967, 0.3694516718387604, 0.8392575979232788, -1.3770253658294678, -0.5310021638870239, 1.4067806005477905, -0.24856528639793396, 0.15208376944065094, -0.2554425001144409, 0.5884543657302856, 0.5205745697021484, -0.029531747102737427, -0.6095703840255737, 0.14658161997795105, -0.18495574593544006, -0.8230485916137695, -0.36858928203582764, 0.2417335957288742, 0.16131329536437988, -0.7730833888053894, -1.6036866903305054, 0.49438443779945374, -0.12137235701084137, -1.1684492826461792, -0.3110387325286865, -0.24665474891662598, 1.2068116664886475, 0.7728473544120789, -0.523234486579895, 0.5508747100830078, -0.28480684757232666, 0.3442230224609375, 0.658380925655365, -0.3747893273830414, -0.3178572952747345, -0.32949551939964294, -0.2468012422323227, -0.7357754111289978, -0.13992592692375183, -0.6399518251419067, 0.06111133098602295, 0.17173801362514496, -0.354998916387558, 0.9402545690536499, -0.8626284003257751, -0.21194344758987427, 1.0759248733520508, -0.5030737519264221, -0.794219970703125, -0.05169166252017021, -0.7742671370506287, 0.4559329152107239, -0.05986395478248596, 1.2592006921768188, -0.10325937718153, -0.2749522030353546, -0.7141257524490356, 0.7350251078605652, 0.43281781673431396, 0.6863707900047302, -0.9218339323997498, -0.8339143991470337, -0.9963346123695374, 0.21302756667137146, -0.3711923360824585, 1.4855029582977295, -0.3735322952270508, -0.5264239311218262, -0.9784010052680969, -0.1780523657798767, -0.19095024466514587, 0.1840084046125412, -0.22514046728610992, -0.6759759783744812, 0.5627793669700623, -0.03994230180978775, 0.9364681839942932, -0.10219862312078476, -0.04384208470582962, 0.5129847526550293, -1.0859792232513428, 0.8020122051239014, -0.15609106421470642, -0.038533877581357956, 0.20681026577949524, -0.4023127853870392, 0.5215291976928711, 0.4585959315299988, -0.5214903950691223, -0.18063873052597046, -0.5288100242614746, 0.519822895526886, -1.3326367139816284, 0.08539865165948868, 0.87032550573349, -0.6532210111618042, 0.041080132126808167, 0.48082754015922546, 0.2565601170063019, -0.2901407480239868, 0.09282824397087097, 0.7739530801773071, -0.813236653804779, 0.9041012525558472, -0.13017311692237854, -0.7584904432296753, -0.8327441215515137, -0.630289614200592, 0.15728342533111572, -1.024781346321106, 0.11329469829797745, 0.5612172484397888, 0.14189021289348602, -1.047736406326294, -1.1782605648040771, -0.21726283431053162, 0.10711126029491425, 0.8062931299209595, 0.26324662566185, -0.021566875278949738, -0.4878827929496765, 0.45479804277420044, 0.059051960706710815, -0.7284086346626282, 0.5683658719062805, 0.22456946969032288, 0.6689967513084412, -0.4044172167778015, -0.30181562900543213, 0.02446770668029785, -0.19208160042762756, -1.1308783292770386, 0.20274093747138977, 0.27699005603790283, -0.21438312530517578, -0.012683287262916565, -0.9227739572525024, 0.0872533991932869, -0.19207903742790222, -1.8501379489898682, 0.05307137221097946, -0.564846932888031, -0.22679731249809265, 1.6981843709945679, -0.22030465304851532, -0.3065752685070038, 0.16880449652671814, -0.24253061413764954, 0.4172975718975067, 0.35330772399902344, -1.0077893733978271, -1.7063578367233276, -0.02722635306417942, 0.10156554728746414, 1.1853452920913696, -0.058544810861349106, -0.3989160656929016, -0.26210594177246094, -1.666549801826477, 0.25912803411483765, -0.827085018157959, -0.31579479575157166, -1.2711700201034546, -0.4507077634334564, -0.8552476763725281, 0.5784480571746826, 0.5252112746238708, -0.767431378364563, 0.06189993396401405, -1.679246425628662, 0.18510225415229797, -0.7023400068283081, -0.28868424892425537, -0.06698989868164062, -0.9853327870368958, -0.2205495834350586, 1.6282597780227661, 0.38868850469589233, 1.1564996242523193, -0.33017498254776, -0.4043464660644531, 1.060071587562561, -0.4848443567752838, -0.060266174376010895, -1.1116896867752075, -0.2889713943004608, 0.5010678768157959, 0.9761444926261902, 0.020108841359615326, -0.5243136286735535, 0.9947194457054138, -1.036277413368225, 0.2650528848171234, 0.2267369031906128, -0.17660455405712128, -0.29543936252593994, 0.5018805861473083, 0.8231686353683472, -1.3592042922973633, 0.4835137128829956, -0.2907470464706421, 1.2380331754684448, 0.9785706400871277, 0.4024127423763275, -1.0008692741394043, 0.3505302965641022, -0.8412134647369385, -1.0100048780441284, 0.3763582706451416, -0.8040536046028137, -0.8473691940307617, -0.912776529788971, -0.21266168355941772, 0.6251777410507202, -0.014233645983040333, 0.34837645292282104, 1.1360071897506714, 0.059971846640110016, -0.5948826670646667, 0.1368800699710846, 0.73273104429245, 0.23428599536418915, -0.1792149543762207, -0.22130322456359863, 0.28708964586257935, -0.025318536907434464, -0.13121862709522247, -0.9839214086532593, -0.7754749655723572, -1.44556725025177, 0.46139124035835266, 0.8561797738075256, -0.34286943078041077, 1.193968653678894, 0.022776061668992043, -0.4109285771846771, -1.6215178966522217, 1.0848568677902222, 1.2930835485458374, 0.43994152545928955, 1.7029175758361816, 0.12830981612205505, -0.47178730368614197, 0.07881863415241241, -0.24645739793777466, 0.07146194577217102, -0.8052641749382019, 1.3380640745162964, -0.08884275704622269, -0.4235931634902954, 1.2593680620193481, 1.656258225440979, -1.0951467752456665, -0.9492467045783997, -0.20955035090446472, -1.2421835660934448, -0.413711279630661, -1.0917936563491821, -0.6201061606407166, -0.01577102765440941, -0.429675430059433, 0.37419411540031433, -0.09018508344888687, -0.435474693775177, 1.6534868478775024, 0.28435567021369934, 0.9823299050331116, -1.135185956954956, 0.264367014169693, 0.46424609422683716, -0.20424149930477142, 0.5602275729179382, -0.9925059676170349, 0.37397029995918274, -0.547627866268158, -0.4178633987903595, 1.0318779945373535, 0.06568164378404617, -0.5717095732688904, 0.40445536375045776, -0.1772981882095337, -0.3249116837978363, -0.3502984046936035, 0.32860612869262695, -0.8992265462875366, -0.9992213845252991, 0.30750730633735657, -0.17383776605129242, -0.1383066028356552, -0.05822789669036865, 0.059226833283901215, -1.3401014804840088, 0.10510427504777908, 0.272847056388855, 0.7842596173286438, 0.06365852057933807, -1.015312910079956, -0.9273144602775574, -0.6354703307151794, 0.13117942214012146, -0.034240368753671646, 0.500079333782196, -0.4485357403755188, 1.1537301540374756, 0.21914438903331757, -0.9910779595375061, 1.0386252403259277, -0.10112819075584412, -0.1599310338497162, 0.9191715121269226, -1.0192214250564575, 0.6985277533531189, -0.35443681478500366, -1.1195629835128784, -0.7674584984779358, -0.2635282278060913, -0.32506152987480164, 0.7294591665267944, -0.42561694979667664, 0.12987814843654633, -0.7880290150642395, 0.2781692147254944, -0.11026845872402191, 0.3300500214099884, 0.16803140938282013, -0.942355215549469, 0.25479936599731445, 0.39234432578086853, -0.24006417393684387, 0.23303017020225525, 0.9566643238067627, -0.18352855741977692, 0.39886486530303955, 0.062451958656311035, -0.19759473204612732, -0.6658853888511658, 0.49859556555747986, -0.3204669654369354, -0.5391696691513062, 0.2213355004787445, -0.2886711657047272, -0.8648577332496643, -0.3091787099838257, 0.6798921823501587, 0.44183510541915894, 0.7490044832229614, -0.12370514869689941, 0.01352567970752716, -0.306346595287323, 0.781296968460083, 0.2670987844467163, -0.05967064946889877, -0.9318157434463501, 0.7865493893623352, 0.8608809113502502, 0.4466753602027893, 0.6818832159042358, 1.147884726524353, 0.18263974785804749, 0.12457501888275146, -0.015254040248692036, -0.012161418795585632, 0.376333624124527, 0.5135489106178284, -0.18327605724334717, -0.6712989807128906, -0.6871947646141052, -0.6441405415534973, 0.3633520007133484, 0.7152111530303955, 0.8267128467559814, 0.18214000761508942, 0.019528286531567574, -0.19241569936275482, -0.6673535704612732, 0.025353645905852318, -1.04747474193573, -0.40166783332824707, 1.1639317274093628, -0.7359758019447327, -0.9663112163543701, 0.6391880512237549, -0.052646227180957794, 0.06309635937213898, -0.617895781993866, -0.7683649063110352, -0.058311931788921356, -0.05792662501335144, 0.2387724071741104, 0.5337960124015808, 0.2463064193725586, 0.009362097829580307, -0.36307457089424133, 0.514700710773468, -0.7852014899253845, -0.496303528547287, 0.5439039468765259, 0.3818475008010864, -0.2678508460521698, 0.627651572227478, -0.5209152698516846, 0.7625557780265808, -0.37433305382728577, -0.5876972079277039, 0.2881150245666504, 0.43180882930755615, -0.5193043351173401, 0.10696204006671906, -0.01616937667131424, 1.043534517288208, -1.0428745746612549, 0.6585531234741211, 0.4627443552017212, -1.4082868099212646, -0.6835222840309143, 0.7561013698577881, 0.4416753649711609, -0.6357460618019104, 0.38296589255332947, 0.6006772518157959, 0.1822950541973114, -0.8429762125015259, 1.58811354637146, 0.2993744909763336, 0.16359186172485352, 1.1198593378067017, 0.6445435881614685, 0.44104093313217163, 1.0818264484405518, 0.4581325054168701, -0.33099231123924255, -0.2862682044506073, 0.5511764883995056, -0.10003319382667542, -0.829950213432312, 1.207565426826477, -0.05000893771648407, 0.8293002247810364, 0.2258729189634323, -0.6950467228889465, -0.05891503393650055, 0.15435801446437836, 0.4836922585964203, -0.8552867770195007, -0.24879074096679688, 0.938535749912262, -0.08056918531656265, -0.2982341945171356, 0.47680729627609253, -0.7056654095649719, -0.002947203814983368, -0.3745385706424713, -0.6484394669532776, 0.3194749355316162, 0.6303187012672424, 0.8397923707962036, -0.411354660987854, 1.093923807144165, 0.6244474649429321, 0.19452127814292908, -0.9169480204582214, -1.034690260887146, -0.013966109603643417, 0.10207755118608475, 0.5359436869621277, -0.6543002724647522, -0.9292925596237183, -0.5719287395477295, -0.3868885040283203, 0.4187023937702179, 0.2062574028968811, -0.7883756756782532, -0.055492691695690155, 0.6983860731124878, 0.8675247430801392, -0.11626403778791428, 0.5020776987075806, 0.27859947085380554, -0.3225744962692261, 0.06717143952846527, 1.559213399887085, 0.19537383317947388, 0.2896808981895447, -0.9677549600601196, 1.3481751680374146, 0.16073466837406158, -0.00409640371799469, 1.0798419713974, -0.8549703359603882, 0.019207511097192764, 0.7700568437576294, 0.4007510244846344, -1.3511159420013428, 0.15692253410816193, -0.9270763397216797, 0.4411308765411377, -0.16166889667510986, -1.2521119117736816, -0.47719016671180725, 1.0575177669525146, -0.4610786437988281, -1.0001676082611084, 0.0012217015027999878, 0.5687182545661926, 0.22394856810569763, 0.8317381739616394, -0.6032885909080505, 1.1116368770599365, -0.3082938492298126, -0.2630694806575775, 0.013363607227802277, -0.9357621669769287, -0.1288265734910965, -1.3016141653060913, 0.7875531911849976, -1.0351519584655762, -0.1502080112695694, -0.1602625697851181, -0.5504692196846008, 0.39022448658943176, 1.3250274658203125, -0.9060901403427124, -1.1321979761123657, 0.7281074523925781, 0.6346548795700073, -0.10698064416646957, 0.577161431312561, 0.58100825548172, 0.6600502133369446, 0.6769225597381592, 0.3680295944213867, 0.4981589615345001, 0.24577035009860992, 0.6746097207069397, -0.6048953533172607, 0.08355879783630371, -0.5324242115020752, 0.014582544565200806, -0.1153399869799614, -0.08694970607757568, -0.05824117362499237, 0.2580738365650177, -0.4429870545864105, -0.739061713218689, 0.21323548257350922, 1.2593271732330322, 0.17182965576648712, 0.6297125220298767, -0.8633536100387573, -0.26984870433807373, -0.21039487421512604, -0.718480110168457, -0.6103465557098389, 0.26664379239082336, -0.12730975449085236, -0.14571018517017365, -0.5450717210769653, -0.5557533502578735, 2.4373691082000732, 0.3274337351322174, 0.498705118894577, -0.245958149433136, 0.2591097056865692, 1.6098843812942505, -0.9008172750473022, 0.5092049837112427, 0.02305799536406994, -1.2441644668579102, 0.31517350673675537, 0.9028236865997314, 0.863469660282135, 0.22364000976085663, 0.4681839048862457, 1.7466148138046265, -0.6828935742378235, 0.8934811353683472, 0.1643432378768921, -0.17442069947719574, 0.07458410412073135, -0.26881954073905945, 0.050236545503139496, 0.8766103982925415, -0.476799875497818, 0.7359765768051147, 0.2664564251899719, -0.9131845235824585, 0.09397915005683899, -0.34367743134498596, 0.7634131908416748, -0.4903784394264221, 0.02350366860628128, -0.4751810133457184, -0.532505989074707, 0.9509744644165039, -0.1403612643480301, -0.06057331711053848, -0.9685341119766235, 0.17157183587551117, -0.6906410455703735, -0.3653666079044342, -0.1586233526468277, -1.1761032342910767, 0.02704208344221115, 0.8278191089630127, -0.5027315616607666, 0.4716954827308655, 0.1718805432319641, -0.14962640404701233, 1.2008882761001587, -0.39650484919548035, 0.21793018281459808, -1.0650227069854736, -0.2766420543193817, -0.3218647837638855, -0.04438826069235802, -0.5786860585212708, 0.18343563377857208, -0.1869635283946991, 0.04889418184757233, -0.4058733582496643, -0.5887889862060547, 0.4735032320022583, -0.4618697166442871, 0.41725316643714905, 0.5996308326721191, 0.17110681533813477, -0.8039560914039612, -0.24961477518081665, 0.10231275856494904, -0.5449427962303162, 0.05803653597831726, -0.9846174716949463, 0.2500148415565491, 0.5566185712814331, -0.1694229543209076, 0.4819825291633606, -0.12311716377735138, -0.20215477049350739, -0.20087498426437378, 0.1712755262851715, 1.0353002548217773, -0.5732676386833191, 0.36276137828826904, 1.0505129098892212, -0.1674424707889557, -0.5267466306686401, 0.8642290234565735, -0.049968421459198, 0.8953731060028076, 0.9868406057357788, -0.0832376703619957, -0.10726232826709747, -0.7396399974822998]\n"
     ]
    }
   ],
   "source": [
    "print(question_embedding)"
   ]
  },
  {
   "cell_type": "code",
   "execution_count": null,
   "metadata": {},
   "outputs": [],
   "source": []
  }
 ],
 "metadata": {
  "kernelspec": {
   "display_name": "Python 3 (ipykernel)",
   "language": "python",
   "name": "python3"
  },
  "language_info": {
   "codemirror_mode": {
    "name": "ipython",
    "version": 3
   },
   "file_extension": ".py",
   "mimetype": "text/x-python",
   "name": "python",
   "nbconvert_exporter": "python",
   "pygments_lexer": "ipython3",
   "version": "3.11.6"
  }
 },
 "nbformat": 4,
 "nbformat_minor": 4
}
