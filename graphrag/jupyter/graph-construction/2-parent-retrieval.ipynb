{
 "cells": [
  {
   "cell_type": "markdown",
   "metadata": {
    "collapsed": false,
    "jupyter": {
     "outputs_hidden": false
    }
   },
   "source": [
    "# Expand Context\n",
    "\n",
    "The Chunk Nodes are individual chunks of text that used\n",
    "to be part of an entire document.\n",
    "\n",
    "You can reconstruct the original context by connecting the nodes\n",
    "with relationships. It also makes the data easy to navigate and understand.\n",
    "\n",
    "That is super helpful when you're building an application, for debugging and testing.\n",
    "\n",
    "And, you can provide a better user experience. Your users will be able \n",
    "to directly interact with the data and even provide feedback that will\n",
    "improve subsequent answers. \n",
    "\n",
    "You will create a connected context by making the following\n",
    "changes to the knowledge graph:\n",
    "\n",
    "1. Extract, create `(:Document)` nodes for each original source Form.\n",
    "2. Enhance, add a summarized text property to each `(:Form)` node.\n",
    "3. Expand, connect each `(:Chunk)` to the `(:Form)` node that it is part of\n",
    "\n",
    "The graph will look like this...\n",
    "\n",
    "```cypher\n",
    "(:Document\n",
    "  documentId: string\n",
    "  documentUri: string\n",
    ")\n",
    "\n",
    "(:Section \n",
    "  sectionId: string //  a unique identifier for the form\n",
    "  level: integer\n",
    "  text: string\n",
    "  summary: string // text summary generated with the LLM \n",
    "  summaryEmbedding: float[] // vector embedding of summary\n",
    "  documentUri: string\n",
    "  header1: string\n",
    "  header2: string\n",
    "  header3: string\n",
    ")\n",
    "```\n",
    "\n",
    "```cypher\n",
    "// Document contains sections\n",
    "(:Document)-[:CONTAINS]->(:Section)\n",
    "\n",
    "// Section contains Chunks\n",
    "(:Section)-[:CONTAINS]->(:Chunk)\n",
    "```"
   ]
  },
  {
   "cell_type": "markdown",
   "metadata": {},
   "source": [
    "## Setup"
   ]
  },
  {
   "cell_type": "code",
   "execution_count": 11,
   "metadata": {},
   "outputs": [
    {
     "name": "stdout",
     "output_type": "stream",
     "text": [
      "The dotenv extension is already loaded. To reload it, use:\n",
      "  %reload_ext dotenv\n",
      "Connecting to Neo4j at bolt://neo4j-1:7687 as neo4j\n",
      "Using data from /home/jovyan/data/single\n",
      "Embedding with ollama using mxbai-embed-large\n",
      "Chatting with ollama using llama3\n"
     ]
    }
   ],
   "source": [
    "%run 'shared.ipynb'"
   ]
  },
  {
   "cell_type": "markdown",
   "metadata": {},
   "source": [
    "# Extract Section Nodes\n",
    "\n",
    "There will be one Document node for each document."
   ]
  },
  {
   "cell_type": "code",
   "execution_count": 12,
   "metadata": {},
   "outputs": [],
   "source": [
    "# Create parent sections from Chunk nodes\n",
    "\n",
    "cypher_create_from_chunks = \"\"\"\n",
    "            MATCH (c:Chunk)\n",
    "            WITH c, apoc.util.sha1([coalesce(c.header4, c.header3, c.header2, c.header1)]) AS sectionId\n",
    "            MERGE (s:Section {sectionId: sectionId } )\n",
    "            SET s.header1 = c.header1\n",
    "            , s.header2 = c.header2\n",
    "            , s.header3 = c.header3\n",
    "            , s.documentUri = c.documentUri\n",
    "            , s.level = CASE WHEN c.header4 IS NOT NULL THEN 4\n",
    "                             WHEN c.header3 IS NOT NULL THEN 3\n",
    "                             WHEN c.header2 IS NOT NULL THEN 2\n",
    "                             WHEN c.header1 IS NOT NULL THEN 1\n",
    "                        END \n",
    "            , s.text = coalesce(c.header4, c.header3, c.header2, c.header1)   \n",
    "            MERGE (s)-[newRel:CONTAINS]->(c)\n",
    "            \"\"\"\n"
   ]
  },
  {
   "cell_type": "code",
   "execution_count": 13,
   "metadata": {},
   "outputs": [
    {
     "data": {
      "text/plain": [
       "EagerResult(records=[], summary=<neo4j._work.summary.ResultSummary object at 0xffff7f16e010>, keys=[])"
      ]
     },
     "execution_count": 13,
     "metadata": {},
     "output_type": "execute_result"
    }
   ],
   "source": [
    "gdb.execute_query(cypher_create_from_chunks)"
   ]
  },
  {
   "cell_type": "code",
   "execution_count": 14,
   "metadata": {},
   "outputs": [],
   "source": [
    "# Create all other sections based on the parent nodes created before\n",
    "\n",
    "cypher_create_other_sections = \"\"\"\n",
    "            MATCH (e:Section)\n",
    "            WHERE e.level = $level_to_create+1\n",
    "            WITH e, CASE WHEN $level_to_create = 1 THEN e.header1\n",
    "                    WHEN $level_to_create = 2 THEN e.header2\n",
    "                    WHEN $level_to_create = 3 THEN e.header3\n",
    "                    END as text\n",
    "            WITH e, text, apoc.util.sha1([ text ]) AS sectionId    \n",
    "            MERGE (s:Section {sectionId: sectionId} )\n",
    "            set s.header1 = e.header1\n",
    "                , s.header2 = e.header2\n",
    "                , s.documentUri = e.documentUri\n",
    "                , s.level = $level_to_create\n",
    "                , s.text = text    \n",
    "            MERGE (s)-[newRel:CONTAINS]->(e)\n",
    "            \"\"\"\n"
   ]
  },
  {
   "cell_type": "code",
   "execution_count": 15,
   "metadata": {},
   "outputs": [
    {
     "data": {
      "text/plain": [
       "EagerResult(records=[], summary=<neo4j._work.summary.ResultSummary object at 0xffff2b0de110>, keys=[])"
      ]
     },
     "execution_count": 15,
     "metadata": {},
     "output_type": "execute_result"
    }
   ],
   "source": [
    "gdb.execute_query(cypher_create_other_sections, level_to_create=3)"
   ]
  },
  {
   "cell_type": "code",
   "execution_count": 16,
   "metadata": {},
   "outputs": [
    {
     "data": {
      "text/plain": [
       "EagerResult(records=[], summary=<neo4j._work.summary.ResultSummary object at 0xffff2b0cee50>, keys=[])"
      ]
     },
     "execution_count": 16,
     "metadata": {},
     "output_type": "execute_result"
    }
   ],
   "source": [
    "gdb.execute_query(cypher_create_other_sections, level_to_create=2)"
   ]
  },
  {
   "cell_type": "code",
   "execution_count": 17,
   "metadata": {},
   "outputs": [
    {
     "data": {
      "text/plain": [
       "EagerResult(records=[], summary=<neo4j._work.summary.ResultSummary object at 0xffff2b0cdd90>, keys=[])"
      ]
     },
     "execution_count": 17,
     "metadata": {},
     "output_type": "execute_result"
    }
   ],
   "source": [
    "gdb.execute_query(cypher_create_other_sections, level_to_create=1)"
   ]
  },
  {
   "cell_type": "code",
   "execution_count": 18,
   "metadata": {},
   "outputs": [
    {
     "data": {
      "text/plain": [
       "EagerResult(records=[], summary=<neo4j._work.summary.ResultSummary object at 0xffff2b0d8a50>, keys=[])"
      ]
     },
     "execution_count": 18,
     "metadata": {},
     "output_type": "execute_result"
    }
   ],
   "source": [
    "# Create a uniqueness constraint on the textId property of Text nodes \n",
    "gdb.execute_query('CREATE CONSTRAINT unique_section IF NOT EXISTS FOR (n:Section) REQUIRE n.sectionId IS UNIQUE')\n"
   ]
  },
  {
   "cell_type": "markdown",
   "metadata": {},
   "source": [
    "### We can remove the :NEXT relationships between the Chunks (linked list)"
   ]
  },
  {
   "cell_type": "code",
   "execution_count": 10,
   "metadata": {},
   "outputs": [
    {
     "data": {
      "text/plain": [
       "EagerResult(records=[], summary=<neo4j._work.summary.ResultSummary object at 0xffff2b0df5d0>, keys=[])"
      ]
     },
     "execution_count": 10,
     "metadata": {},
     "output_type": "execute_result"
    }
   ],
   "source": [
    "# removes the NEXT relationships as they are no longer needed\n",
    "cypher_delete_next_rel = \"\"\"\n",
    "MATCH (c:Chunk)-[r:NEXT]->(c1:Chunk) DELETE r\n",
    "\"\"\"\n",
    "gdb.execute_query(cypher_delete_next_rel)"
   ]
  },
  {
   "cell_type": "markdown",
   "metadata": {},
   "source": [
    "# Extract Document nodes\n",
    "\n",
    "You can now create a Document node for each of the distinct documentUri's of the level 1 nodes.\n"
   ]
  },
  {
   "cell_type": "code",
   "execution_count": 19,
   "metadata": {},
   "outputs": [
    {
     "data": {
      "text/plain": [
       "EagerResult(records=[], summary=<neo4j._work.summary.ResultSummary object at 0xffff2b0efc10>, keys=[])"
      ]
     },
     "execution_count": 19,
     "metadata": {},
     "output_type": "execute_result"
    }
   ],
   "source": [
    "# Create all other sections based on the parent nodes created before\n",
    "\n",
    "cypher_create_documents = \"\"\"\n",
    "            MATCH (s:Section)\n",
    "            WHERE s.level = 1\n",
    "            MERGE (d:Document {documentId: apoc.util.sha1([s.documentUri]) } )\n",
    "            SET d.documentUri = s.documentUri\n",
    "            MERGE (d)-[newRel:CONTAINS]->(s)\n",
    "            \"\"\"\n",
    "\n",
    "gdb.execute_query(cypher_create_documents)"
   ]
  },
  {
   "cell_type": "markdown",
   "metadata": {},
   "source": [
    "# Parent retriever"
   ]
  },
  {
   "cell_type": "code",
   "execution_count": 20,
   "metadata": {},
   "outputs": [
    {
     "name": "stdout",
     "output_type": "stream",
     "text": [
      "Using vector index: chunks_vector\n",
      "0.8374168276786804 : dd8ef53b27cfca8cc103b5d6f9631babc6368788 : The official size of the Rink shall be 60 m long and 26 m to 30 m wide. The corners shall be rounded in the arc of a circle with a radius of 7.0 m to 8.50 m. Any deviations from these dimensions for any IIHF competition require IIHF approval.\n",
      "------------\n",
      "0.8321495056152344 : 6a086313c89911cfff159d293c184b3c69346d16 : A “Penalty Shot” is designed to restore a scoring opportunity which was lost as a result of a foul being committed by the offending Team, based on the parameters set out in these rules.\n",
      "------------\n",
      "0.8314350247383118 : 87c26358c9d380d668a17604fd07dca4dde7bcc3 : The chest and arm protector worn by each Goalkeeper must be anatomically proportional and size specific based on the individual physical characteristics of that Goalkeeper.\n",
      "------------\n",
      "0.8215421438217163 : 539f2b88211090fbff8b3e2fdaa2be44d4d228d8 : The Rink shall be surrounded by a wall known as the “Boards”. The ideal height of the boards above the ice surface shall be 1.07 m. Except for the official markings provided for in these rules, the entire playing surface and the Boards shall be white in color except the “Kick Plate” at the bottom of the Boards, which shall be light yellow in color. Any variations from any of the foregoing dimensions shall require official authorization by the IIHF.\n",
      "------------\n",
      "0.8203165531158447 : 9cac125577eecadf1abced71ac7e95e1f45b8bbd : Should a goal be scored from a “Penalty Shot”, a further penalty to the offending Player shall not be applied unless the offense for which the “Penalty Shot” was awarded is a Major or Misconduct Penalty, in which case the appropriate penalty shall be imposed.  \n",
      "If the offense for which the “Penalty Shot” was awarded would normally incur a Minor Penalty, then regardless of the outcome of the “Penalty Shot”, no further Minor Penalty shall be served.\n",
      "------------\n",
      "0.8194789886474609 : 3aec029094176eb7ae444f4c9a3df6adaab3bc69 : A net of an approved design shall be attached to each Goal frame and made of white nylon cord, which shall be draped in such a manner as to prevent the puck coming to rest on the outside of it yet strung in a manner that will keep the puck in the net. A skirt of heavy white nylon fabric or heavyweight white canvas shall be laced around the base plate of the goal frame in such a way as to protect the Goal net from being cut or broken.  \n",
      "This protective padding must be attached in a manner that will not restrict the puck from completely crossing the Goal Line.\n",
      "------------\n",
      "0.8185325264930725 : 29bbe4a22f3018ecf3780889e6cd95a227d2cfa4 : A Goalkeeper’s skates must have a non-fluorescent protective cowling at the front of each boot. The skate blade must be flat and cannot be longer than the boot. Any blades, projections, or “cheaters” added to the boot in order to give the Goalkeeper additional contact to the ice surface are not allowed.\n",
      "------------\n",
      "0.8169223070144653 : cec64cb6139f48c4c1207b5830aa9fa8637c968e : The blocking glove must be rectangular. The flap protecting the thumb and wrist must be fastened to the blocker and follow the contour of the thumb and wrist. Raised ridges are not allowed on any portion of the blocking glove.\n",
      "------------\n",
      "0.8158717155456543 : 1a3c793d5f3027a5c136f21387b3567383336415 : The puck shall be made of vulcanized rubber, or other approved material, 2.5 cm thick and 7.6 cm in diameter and shall weigh between 156 g and 170 g. All pucks used in competition must be approved by the IIHF. A printed logo, trademark, and advertising on the puck must not exceed 4.5 cm in diameter of the area of each side of a puck or 35 % of the area of each side of the puck. There may be printing on both sides of the puck.\n",
      "------------\n",
      "0.8155028820037842 : 72ad6994145f46bb6a2b80ee976a268b2513c45e : The sticks shall be made of wood or other material approved by the IIHF and must not have any projections. Adhesive, tape of any color may be wrapped around the stick at any place for the purpose of reinforcement or to improve control of the puck.  \n",
      "The shaft of the stick, from the top down to the start of the blade, must be straight. No stick shall exceed 1.63 m in length from the heel to the end of the shaft nor more than 32.0 cm from the heel to the end of the blade.\n",
      "------------\n"
     ]
    }
   ],
   "source": [
    "search_results = neo4j_vector_search(\n",
    "    'What is the size of the rink', 'chunks_vector'\n",
    ")\n",
    "for result in search_results:\n",
    "    print (str(result[\"score\"]) + \" : \" + result[\"node\"][\"chunkId\"] + \" : \" + result[\"node\"][\"text\"] )\n",
    "    print (\"------------\")\n"
   ]
  },
  {
   "cell_type": "code",
   "execution_count": 20,
   "metadata": {},
   "outputs": [],
   "source": [
    "retrieval_query_parent = \"\"\"\n",
    "\n",
    "    WITH node AS chunk, score AS score ORDER BY score \n",
    "    OPTIONAL MATCH (chunk:Chunk)<-[:CONTAINS]-(parent)\n",
    "    OPTIONAL MATCH (parent)-[:CONTAINS]->(s:Chunk)\n",
    "    WITH chunk, s, score ORDER BY s.chunkSeqId ASC\n",
    "    WITH collect(s.text) as textList, chunk.text as text, score AS score\n",
    "    RETURN apoc.text.join(textList, \" \\n \")  as text,\n",
    "    score,  {} AS metadata \n",
    "    ORDER BY score desc\n",
    "\n",
    "\"\"\"\n",
    "\n",
    "vector_store_parent = Neo4jVector.from_existing_index(\n",
    "    embedding=embeddings_api,\n",
    "    url=NEO4J_URI,\n",
    "    username=NEO4J_USERNAME,\n",
    "    password=NEO4J_PASSWORD,\n",
    "    database=\"neo4j\",\n",
    "    index_name=VECTOR_INDEX_NAME,\n",
    "    text_node_property=VECTOR_SOURCE_PROPERTY,\n",
    "    retrieval_query=retrieval_query_parent\n",
    ")\n",
    "\n",
    "# Create a retriever from the vector store\n",
    "retriever_parent = vector_store_parent.as_retriever(search_kwargs={'k': 1})\n",
    "\n",
    "# Create a chatbot Question & Answer chain from the retriever\n",
    "chain_parent = prettifyChain(RetrievalQA.from_chain_type(\n",
    "    chat_api, \n",
    "    chain_type=\"stuff\", \n",
    "    retriever=retriever_parent,\n",
    "    chain_type_kwargs={\"verbose\": True}\n",
    "))\n"
   ]
  },
  {
   "cell_type": "code",
   "execution_count": 22,
   "metadata": {},
   "outputs": [
    {
     "data": {
      "text/plain": [
       "[Document(page_content='When a Player is injured or compelled to leave the ice during a Game, they may retire from the Game and be replaced by a substitute, but play must continue without the Teams leaving the ice.  \\nDuring the play, if an injured Player wishes to retire from the ice and be replaced by a substitute, they must do so at the Players’ Bench and not through any other exit leading from the Rink. This is not a legal Player change and therefore when a violation occurs, a Bench-minor Penalty shall be imposed. \\n If a penalized Player has been injured, they may proceed to the Dressing Room without taking a seat in the Penalty Box. The penalized Team shall immediately put a substitute Player in the Penalty Box, who shall serve the penalty until the injured Player is able to return to the game. They would replace their Teammate in the Penalty Box at the next stoppage of play.  \\nFor violation of this rule, a Bench Minor Penalty shall be imposed. \\n Should the injured penalized Player who has been replaced in the Penalty Box return to their Players’ Bench prior to the expiration of their penalty, they shall not be eligible to play until their penalty has expired. This includes coincidental penalties when their substitute is still in the Penalty Box awaiting a stoppage in play. \\n The injured Player must wait until their substitute has been released from the Penalty Box before they are eligible to play. If, however, there is a stoppage of play prior to the expiration of their penalty, they must then replace their Teammate in the Penalty Box and is then eligible to return once their penalty has expired. \\n When a Player is injured so that they cannot continue play or go to their Players’ Bench, the play shall not be stopped until the injured Player’s Team has secured control of the puck. If the Player’s Team is in “control of the puck” at the time of injury, play shall be stopped immediately unless their Team is in a scoring position. \\n In the case where it is obvious that a Player has sustained a serious injury, the Referee and/or Linesperson may stop the play immediately. Where an injury has occurred to a Player and there is a stoppage of play, a Team Doctor (or other Medical Personnel) may go onto the ice to attend to the injured Player without waiting for the Referee’s consent. \\n When play has been stopped by the Referee or Linesperson due to an injured Player, or whenever an injured Player is attended to on the ice by the Coach or Medical Personnel, such Player must be substituted for immediately. This injured Player cannot return to the ice until play has resumed.  \\nWhen play is stopped for an injured Player, the ensuing “face-off” shall be conducted at the Face-off Spot in the zone nearest the location of the puck when the play was stopped. \\n When the injured Player’s Team has control of the puck in the Attacking Zone, the “face-off” shall be conducted at the nearest Face- off Spot in the Neutral Zone.  \\nWhen the injured Player is in their Defending Zone and the attacking Team is in “possession of the puck” in the Attacking Zone, the “face-off” shall be conducted at the nearest Face-off Spot in the defending Team’s zone.  \\nA player who lies on the ice either feigning an injury or refusing to get up off the ice will be issued a Minor Penalty.')]"
      ]
     },
     "execution_count": 22,
     "metadata": {},
     "output_type": "execute_result"
    }
   ],
   "source": [
    "docs = retriever_parent.invoke(\"what happens if a player is injured\")\n",
    "docs"
   ]
  },
  {
   "cell_type": "code",
   "execution_count": 23,
   "metadata": {},
   "outputs": [
    {
     "name": "stderr",
     "output_type": "stream",
     "text": [
      "/opt/conda/lib/python3.11/site-packages/langchain_core/_api/deprecation.py:119: LangChainDeprecationWarning: The method `Chain.__call__` was deprecated in langchain 0.1.0 and will be removed in 0.3.0. Use invoke instead.\n",
      "  warn_deprecated(\n"
     ]
    },
    {
     "name": "stdout",
     "output_type": "stream",
     "text": [
      "\n",
      "\n",
      "\u001b[1m> Entering new StuffDocumentsChain chain...\u001b[0m\n",
      "\n",
      "\n",
      "\u001b[1m> Entering new LLMChain chain...\u001b[0m\n",
      "Prompt after formatting:\n",
      "\u001b[32;1m\u001b[1;3mSystem: Use the following pieces of context to answer the user's question. \n",
      "If you don't know the answer, just say that you don't know, don't try to make up an answer.\n",
      "----------------\n",
      "When a Player is injured or compelled to leave the ice during a Game, they may retire from the Game and be replaced by a substitute, but play must continue without the Teams leaving the ice.  \n",
      "During the play, if an injured Player wishes to retire from the ice and be replaced by a substitute, they must do so at the Players’ Bench and not through any other exit leading from the Rink. This is not a legal Player change and therefore when a violation occurs, a Bench-minor Penalty shall be imposed. \n",
      " If a penalized Player has been injured, they may proceed to the Dressing Room without taking a seat in the Penalty Box. The penalized Team shall immediately put a substitute Player in the Penalty Box, who shall serve the penalty until the injured Player is able to return to the game. They would replace their Teammate in the Penalty Box at the next stoppage of play.  \n",
      "For violation of this rule, a Bench Minor Penalty shall be imposed. \n",
      " Should the injured penalized Player who has been replaced in the Penalty Box return to their Players’ Bench prior to the expiration of their penalty, they shall not be eligible to play until their penalty has expired. This includes coincidental penalties when their substitute is still in the Penalty Box awaiting a stoppage in play. \n",
      " The injured Player must wait until their substitute has been released from the Penalty Box before they are eligible to play. If, however, there is a stoppage of play prior to the expiration of their penalty, they must then replace their Teammate in the Penalty Box and is then eligible to return once their penalty has expired. \n",
      " When a Player is injured so that they cannot continue play or go to their Players’ Bench, the play shall not be stopped until the injured Player’s Team has secured control of the puck. If the Player’s Team is in “control of the puck” at the time of injury, play shall be stopped immediately unless their Team is in a scoring position. \n",
      " In the case where it is obvious that a Player has sustained a serious injury, the Referee and/or Linesperson may stop the play immediately. Where an injury has occurred to a Player and there is a stoppage of play, a Team Doctor (or other Medical Personnel) may go onto the ice to attend to the injured Player without waiting for the Referee’s consent. \n",
      " When play has been stopped by the Referee or Linesperson due to an injured Player, or whenever an injured Player is attended to on the ice by the Coach or Medical Personnel, such Player must be substituted for immediately. This injured Player cannot return to the ice until play has resumed.  \n",
      "When play is stopped for an injured Player, the ensuing “face-off” shall be conducted at the Face-off Spot in the zone nearest the location of the puck when the play was stopped. \n",
      " When the injured Player’s Team has control of the puck in the Attacking Zone, the “face-off” shall be conducted at the nearest Face- off Spot in the Neutral Zone.  \n",
      "When the injured Player is in their Defending Zone and the attacking Team is in “possession of the puck” in the Attacking Zone, the “face-off” shall be conducted at the nearest Face-off Spot in the defending Team’s zone.  \n",
      "A player who lies on the ice either feigning an injury or refusing to get up off the ice will be issued a Minor Penalty.\n",
      "Human: what happens if a player is injured\u001b[0m\n",
      "\n",
      "\u001b[1m> Finished chain.\u001b[0m\n",
      "\n",
      "\u001b[1m> Finished chain.\u001b[0m\n",
      "According to the context, when a Player is injured or compelled to leave the ice\n",
      "during a Game:  1. The Player may retire from the Game and be replaced by a\n",
      "substitute. 2. Play must continue without the Teams leaving the ice. 3. If an\n",
      "injured Player wishes to retire from the ice and be replaced by a substitute,\n",
      "they must do so at the Players’ Bench and not through any other exit leading\n",
      "from the Rink. 4. A violation of this rule results in a Bench-minor Penalty\n",
      "being imposed.  Additionally:  1. If a penalized Player has been injured, they\n",
      "may proceed to the Dressing Room without taking a seat in the Penalty Box. 2.\n",
      "The penalized Team must immediately put a substitute Player in the Penalty Box,\n",
      "who shall serve the penalty until the injured Player is able to return to the\n",
      "game. 3. The injured Player can replace their teammate in the Penalty Box at the\n",
      "next stoppage of play.  It's also important to note that:  1. If an injured\n",
      "penalized Player returns to their Players’ Bench prior to the expiration of\n",
      "their penalty, they shall not be eligible to play until their penalty has\n",
      "expired. 2. The injured Player must wait until their substitute has been\n",
      "released from the Penalty Box before they are eligible to play.  In summary,\n",
      "when a player is injured during a game:  * Play continues without stopping * The\n",
      "injured player may retire and be replaced by a substitute * If the injured\n",
      "player was penalized, their team must put a substitute in the penalty box * The\n",
      "injured player cannot return to play until their penalty has expired or they\n",
      "replace their teammate in the penalty box.\n"
     ]
    }
   ],
   "source": [
    "chain_parent(\"what happens if a player is injured\")"
   ]
  },
  {
   "cell_type": "code",
   "execution_count": 266,
   "metadata": {},
   "outputs": [
    {
     "name": "stdout",
     "output_type": "stream",
     "text": [
      "Using vector index: chunks_vector\n"
     ]
    },
    {
     "data": {
      "text/plain": [
       "<Record text='When a Player is injured or compelled to leave the ice during a Game, they may retire from the Game and be replaced by a substitute, but play must continue without the Teams leaving the ice.  \\nDuring the play, if an injured Player wishes to retire from the ice and be replaced by a substitute, they must do so at the Players’ Bench and not through any other exit leading from the Rink. This is not a legal Player change and therefore when a violation occurs, a Bench-minor Penalty shall be imposed. \\n If a penalized Player has been injured, they may proceed to the Dressing Room without taking a seat in the Penalty Box. The penalized Team shall immediately put a substitute Player in the Penalty Box, who shall serve the penalty until the injured Player is able to return to the game. They would replace their Teammate in the Penalty Box at the next stoppage of play.  \\nFor violation of this rule, a Bench Minor Penalty shall be imposed. \\n Should the injured penalized Player who has been replaced in the Penalty Box return to their Players’ Bench prior to the expiration of their penalty, they shall not be eligible to play until their penalty has expired. This includes coincidental penalties when their substitute is still in the Penalty Box awaiting a stoppage in play. \\n The injured Player must wait until their substitute has been released from the Penalty Box before they are eligible to play. If, however, there is a stoppage of play prior to the expiration of their penalty, they must then replace their Teammate in the Penalty Box and is then eligible to return once their penalty has expired. \\n When a Player is injured so that they cannot continue play or go to their Players’ Bench, the play shall not be stopped until the inju- red Player’s Team has secured control of the puck. If the Player’s Team is in “control of the puck” at the time of injury, play shall be stopped immediately unless their Team is in a scoring position. \\n In the case where it is obvious that a Player has sustained a serious injury, the Referee and/or Linesperson may stop the play imme- diately. Where an injury has occurred to a Player and there is a stoppage of play, a Team Doctor (or other Medical Personnel) may go onto the ice to attend to the injured Player without waiting for the Referee’s consent. \\n When play has been stopped by the Referee or Linesperson due to an injured Player, or whenever an injured Player is attended to on the ice by the Coach or Medical Personnel, such Player must be substituted for immediately. This injured Player cannot return to the ice until play has resumed.  \\nWhen play is stopped for an injured Player, the ensuing “face-off” shall be conducted at the Face-off Spot in the zone nearest the location of the puck when the play was stopped. \\n When the injured Player’s Team has control of the puck in the Attacking Zone, the “face-off” shall be conducted at the nearest Face- off Spot in the Neutral Zone.  \\nWhen the injured Player is in their Defending Zone and the attacking Team is in “possession of the puck” in the Attacking Zone, the “face-off” shall be conducted at the nearest Face-off Spot in the defending Team’s zone.  \\nA player who lies on the ice either feigning an injury or refusing to get up off the ice will be issued a Minor Penalty.' score=0.8643819093704224 metadata={}>"
      ]
     },
     "execution_count": 266,
     "metadata": {},
     "output_type": "execute_result"
    }
   ],
   "source": [
    "\n",
    "\n",
    "retrieval_query_parent = \"\"\"\n",
    "    WITH node AS chunk, score AS score ORDER BY score \n",
    "    OPTIONAL MATCH (chunk:Chunk)<-[:CONTAINS]-(parent)\n",
    "    OPTIONAL MATCH (parent)-[:CONTAINS]->(s:Chunk)\n",
    "    WITH chunk, s, score ORDER BY s.chunkSeqId ASC\n",
    "    WITH collect(s.text) as textList, chunk.text as text, score AS score\n",
    "    RETURN apoc.text.join(textList, \" \\n \")  as text,\n",
    "    score,  {} AS metadata \n",
    "    ORDER BY score desc\n",
    "\"\"\"\n",
    "\n",
    "\n",
    "def neo4j_vector_search_2(question, retrieval_query):\n",
    "  \"\"\"Search for similar nodes using the Neo4j vector index\"\"\"\n",
    "  vector_search_query = \"\"\"\n",
    "    CALL db.index.vector.queryNodes($index_name, $top_k, $question_embedding) \n",
    "        YIELD node, score\n",
    "  \"\"\" + retrieval_query\n",
    "  similar = []\n",
    "\n",
    "  print (\"Using vector index: \" + str(VECTOR_INDEX_NAME))\n",
    "    \n",
    "  question_embedding = embeddings_api.embed_query(question)\n",
    "  return gdb.execute_query(vector_search_query,\n",
    "                      question=question, \n",
    "                      question_embedding=question_embedding, \n",
    "                      index_name=VECTOR_INDEX_NAME, \n",
    "                      top_k=10\n",
    "                    ).records\n",
    "\n",
    "search_results = neo4j_vector_search_2(\n",
    "    'injured player', retrieval_query_parent\n",
    ")\n",
    "search_results[0]\n",
    "    "
   ]
  },
  {
   "cell_type": "markdown",
   "metadata": {},
   "source": [
    "### To view one `Section` node and it's chunks\n",
    "\n",
    "```\n",
    "MATCH (c:Chunk)<-[:CONTAINS]-(s:Section)\n",
    "WHERE c.header4 = '8.1. INJURED PLAYER'\n",
    "    RETURN c, s\n",
    "```    "
   ]
  },
  {
   "cell_type": "markdown",
   "metadata": {},
   "source": [
    "### Remove all `Section` and `Document` nodes"
   ]
  },
  {
   "cell_type": "code",
   "execution_count": 25,
   "metadata": {},
   "outputs": [
    {
     "data": {
      "text/plain": [
       "EagerResult(records=[], summary=<neo4j._work.summary.ResultSummary object at 0xffff2abb4910>, keys=[])"
      ]
     },
     "execution_count": 25,
     "metadata": {},
     "output_type": "execute_result"
    }
   ],
   "source": [
    "cypher_remove_document_nodes = \"\"\"\n",
    "MATCH (d:Section) DETACH DELETE d\n",
    "\"\"\"\n",
    "\n",
    "cypher_remove_section_nodes = \"\"\"\n",
    "MATCH (d:Section) DETACH DELETE d\n",
    "\"\"\"\n",
    "\n",
    "gdb.execute_query(cypher_remove_document_nodes)\n",
    "gdb.execute_query(cypher_remove_section_nodes)"
   ]
  },
  {
   "cell_type": "code",
   "execution_count": null,
   "metadata": {},
   "outputs": [],
   "source": []
  }
 ],
 "metadata": {
  "kernelspec": {
   "display_name": "Python 3 (ipykernel)",
   "language": "python",
   "name": "python3"
  },
  "language_info": {
   "codemirror_mode": {
    "name": "ipython",
    "version": 3
   },
   "file_extension": ".py",
   "mimetype": "text/x-python",
   "name": "python",
   "nbconvert_exporter": "python",
   "pygments_lexer": "ipython3",
   "version": "3.11.6"
  }
 },
 "nbformat": 4,
 "nbformat_minor": 4
}
