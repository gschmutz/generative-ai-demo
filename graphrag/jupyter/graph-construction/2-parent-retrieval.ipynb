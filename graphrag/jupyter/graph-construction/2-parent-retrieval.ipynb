{
 "cells": [
  {
   "cell_type": "markdown",
   "metadata": {
    "collapsed": false,
    "jupyter": {
     "outputs_hidden": false
    }
   },
   "source": [
    "# Expand Context\n",
    "\n",
    "The Chunk Nodes are individual chunks of text that used\n",
    "to be part of an entire document.\n",
    "\n",
    "You can reconstruct the original context by connecting the nodes\n",
    "with relationships. It also makes the data easy to navigate and understand.\n",
    "\n",
    "That is super helpful when you're building an application, for debugging and testing.\n",
    "\n",
    "And, you can provide a better user experience. Your users will be able \n",
    "to directly interact with the data and even provide feedback that will\n",
    "improve subsequent answers. \n",
    "\n",
    "You will create a connected context by making the following\n",
    "changes to the knowledge graph:\n",
    "\n",
    "1. Extract, create `(:Document)` nodes for each original source Form.\n",
    "2. Enhance, add a summarized text property to each `(:Form)` node.\n",
    "3. Expand, connect each `(:Chunk)` to the `(:Form)` node that it is part of\n",
    "\n",
    "The graph will look like this...\n",
    "\n",
    "```cypher\n",
    "(:Document\n",
    "  documentId: string\n",
    "  documentUri: string\n",
    ")\n",
    "\n",
    "(:Section \n",
    "  sectionId: string //  a unique identifier for the form\n",
    "  level: integer\n",
    "  text: string\n",
    "  summary: string // text summary generated with the LLM \n",
    "  summaryEmbedding: float[] // vector embedding of summary\n",
    "  documentUri: string\n",
    "  header1: string\n",
    "  header2: string\n",
    "  header3: string\n",
    ")\n",
    "```\n",
    "\n",
    "```cypher\n",
    "// Document contains sections\n",
    "(:Document)-[:CONTAINS]->(:Section)\n",
    "\n",
    "// Section contains Chunks\n",
    "(:Section)-[:CONTAINS]->(:Chunk)\n",
    "```"
   ]
  },
  {
   "cell_type": "markdown",
   "metadata": {},
   "source": [
    "## Setup"
   ]
  },
  {
   "cell_type": "code",
   "execution_count": 15,
   "metadata": {},
   "outputs": [
    {
     "name": "stdout",
     "output_type": "stream",
     "text": [
      "The dotenv extension is already loaded. To reload it, use:\n",
      "  %reload_ext dotenv\n",
      "#*****************************************************************\n",
      "# Neo4j\n",
      "#*****************************************************************\n",
      "NEO4J_URI=bolt://neo4j-1:7687\n",
      "NEO4J_USERNAME=neo4j\n",
      "NEO4J_PASSWORD=abc123abc123\n",
      "NEO4J_DATABASE=neo4j\n",
      "\n",
      "# either ollama or openai\n",
      "EMBEDDING_API=ollama\n",
      "EMBEDDING_MODEL=mxbai-embed-large\n",
      "# either ollama or openai\n",
      "CHAT_API=ollama\n",
      "CHAT_MODEL=llama3\n",
      "\n",
      "#OLLAMA_URL=http://192.168.1.102:11434\n",
      "#OLLAMA_URL=http://172.20.10.2:11434\n",
      "OLLAMA_URL=http://host.docker.internal:11434\n",
      "OPEN_API_KEY=\n",
      "\n",
      "DATA_DIR=\n",
      "\n",
      "Connecting to Neo4j at bolt://neo4j-1:7687 as neo4j\n",
      "Embedding with ollama using mxbai-embed-large\n",
      "Chatting with ollama using llama3\n"
     ]
    }
   ],
   "source": [
    "%run 'shared.ipynb'"
   ]
  },
  {
   "cell_type": "markdown",
   "metadata": {},
   "source": [
    "# Extract Section Nodes\n",
    "\n",
    "There will be one Document node for each document."
   ]
  },
  {
   "cell_type": "code",
   "execution_count": 25,
   "metadata": {},
   "outputs": [],
   "source": [
    "# Create parent sections from Chunk nodes\n",
    "\n",
    "cypher_create_from_chunks = \"\"\"\n",
    "            MATCH (c:Chunk)\n",
    "            WITH c, apoc.util.sha1([coalesce(c.header4, c.header3, c.header2, c.header1)]) AS sectionId\n",
    "            MERGE (s:Section {sectionId: sectionId } )\n",
    "            SET s.header1 = c.header1\n",
    "            , s.header2 = c.header2\n",
    "            , s.header3 = c.header3\n",
    "            , s.documentUri = c.documentUri\n",
    "            , s.level = CASE WHEN c.header4 IS NOT NULL THEN 4\n",
    "                             WHEN c.header3 IS NOT NULL THEN 3\n",
    "                             WHEN c.header2 IS NOT NULL THEN 2\n",
    "                             WHEN c.header1 IS NOT NULL THEN 1\n",
    "                        END \n",
    "            , s.text = coalesce(c.header4, c.header3, c.header2, c.header1)   \n",
    "            MERGE (s)-[newRel:CONTAINS]->(c)\n",
    "            \"\"\"\n"
   ]
  },
  {
   "cell_type": "code",
   "execution_count": 26,
   "metadata": {},
   "outputs": [
    {
     "data": {
      "text/plain": [
       "EagerResult(records=[], summary=<neo4j._work.summary.ResultSummary object at 0xffff3a26aed0>, keys=[])"
      ]
     },
     "execution_count": 26,
     "metadata": {},
     "output_type": "execute_result"
    }
   ],
   "source": [
    "gdb.execute_query(cypher_create_from_chunks)"
   ]
  },
  {
   "cell_type": "code",
   "execution_count": 27,
   "metadata": {},
   "outputs": [],
   "source": [
    "# Create all other sections based on the parent nodes created before\n",
    "\n",
    "cypher_create_other_sections = \"\"\"\n",
    "            MATCH (e:Section)\n",
    "            WHERE e.level = $level_to_create+1\n",
    "            WITH e, CASE WHEN $level_to_create = 1 THEN e.header1\n",
    "                    WHEN $level_to_create = 2 THEN e.header2\n",
    "                    WHEN $level_to_create = 3 THEN e.header3\n",
    "                    END as text\n",
    "            WITH e, text, apoc.util.sha1([ text ]) AS sectionId    \n",
    "            MERGE (s:Section {sectionId: sectionId} )\n",
    "            set s.header1 = e.header1\n",
    "                , s.header2 = e.header2\n",
    "                , s.documentUri = e.documentUri\n",
    "                , s.level = $level_to_create\n",
    "                , s.text = text    \n",
    "            MERGE (s)-[newRel:CONTAINS]->(e)\n",
    "            \"\"\"\n"
   ]
  },
  {
   "cell_type": "code",
   "execution_count": 28,
   "metadata": {},
   "outputs": [
    {
     "data": {
      "text/plain": [
       "EagerResult(records=[], summary=<neo4j._work.summary.ResultSummary object at 0xffff66538190>, keys=[])"
      ]
     },
     "execution_count": 28,
     "metadata": {},
     "output_type": "execute_result"
    }
   ],
   "source": [
    "gdb.execute_query(cypher_create_other_sections, level_to_create=3)"
   ]
  },
  {
   "cell_type": "code",
   "execution_count": 29,
   "metadata": {},
   "outputs": [
    {
     "data": {
      "text/plain": [
       "EagerResult(records=[], summary=<neo4j._work.summary.ResultSummary object at 0xffff3a26b610>, keys=[])"
      ]
     },
     "execution_count": 29,
     "metadata": {},
     "output_type": "execute_result"
    }
   ],
   "source": [
    "gdb.execute_query(cypher_create_other_sections, level_to_create=2)"
   ]
  },
  {
   "cell_type": "code",
   "execution_count": 30,
   "metadata": {},
   "outputs": [
    {
     "data": {
      "text/plain": [
       "EagerResult(records=[], summary=<neo4j._work.summary.ResultSummary object at 0xffff3a2dcc10>, keys=[])"
      ]
     },
     "execution_count": 30,
     "metadata": {},
     "output_type": "execute_result"
    }
   ],
   "source": [
    "gdb.execute_query(cypher_create_other_sections, level_to_create=1)"
   ]
  },
  {
   "cell_type": "code",
   "execution_count": 31,
   "metadata": {},
   "outputs": [
    {
     "data": {
      "text/plain": [
       "EagerResult(records=[], summary=<neo4j._work.summary.ResultSummary object at 0xffff3a23ab90>, keys=[])"
      ]
     },
     "execution_count": 31,
     "metadata": {},
     "output_type": "execute_result"
    }
   ],
   "source": [
    "# Create a uniqueness constraint on the sectionId property of Section nodes \n",
    "gdb.execute_query('CREATE CONSTRAINT unique_section IF NOT EXISTS FOR (n:Section) REQUIRE n.sectionId IS UNIQUE')\n"
   ]
  },
  {
   "cell_type": "markdown",
   "metadata": {},
   "source": [
    "### We can remove the :NEXT relationships between the Chunks (linked list)"
   ]
  },
  {
   "cell_type": "code",
   "execution_count": 32,
   "metadata": {},
   "outputs": [
    {
     "data": {
      "text/plain": [
       "EagerResult(records=[], summary=<neo4j._work.summary.ResultSummary object at 0xffff3a43a6d0>, keys=[])"
      ]
     },
     "execution_count": 32,
     "metadata": {},
     "output_type": "execute_result"
    }
   ],
   "source": [
    "# removes the NEXT relationships as they are no longer needed\n",
    "cypher_delete_next_rel = \"\"\"\n",
    "MATCH (c:Chunk)-[r:NEXT]->(c1:Chunk) DELETE r\n",
    "\"\"\"\n",
    "gdb.execute_query(cypher_delete_next_rel)"
   ]
  },
  {
   "cell_type": "markdown",
   "metadata": {},
   "source": [
    "# Extract Document nodes\n",
    "\n",
    "You can now create a Document node for each of the distinct documentUri's of the level 1 nodes.\n"
   ]
  },
  {
   "cell_type": "code",
   "execution_count": 33,
   "metadata": {},
   "outputs": [
    {
     "data": {
      "text/plain": [
       "EagerResult(records=[], summary=<neo4j._work.summary.ResultSummary object at 0xffff3a256790>, keys=[])"
      ]
     },
     "execution_count": 33,
     "metadata": {},
     "output_type": "execute_result"
    }
   ],
   "source": [
    "# Create all other sections based on the parent nodes created before\n",
    "\n",
    "cypher_create_documents = \"\"\"\n",
    "            MATCH (s:Section)\n",
    "            WHERE s.level = 1\n",
    "            MERGE (d:Document {documentId: apoc.util.sha1([s.documentUri]) } )\n",
    "            SET d.documentUri = s.documentUri\n",
    "            MERGE (d)-[newRel:CONTAINS]->(s)\n",
    "            \"\"\"\n",
    "\n",
    "gdb.execute_query(cypher_create_documents)"
   ]
  },
  {
   "cell_type": "markdown",
   "metadata": {},
   "source": [
    "# Parent retriever"
   ]
  },
  {
   "cell_type": "code",
   "execution_count": null,
   "metadata": {},
   "outputs": [],
   "source": [
    "search_results = neo4j_vector_search(\n",
    "    'What is the size of the rink', 'chunks_vector'\n",
    ")\n",
    "for result in search_results:\n",
    "    print (str(result[\"score\"]) + \" : \" + result[\"node\"][\"chunkId\"] + \" : \" + result[\"node\"][\"text\"] )\n",
    "    print (\"------------\")\n"
   ]
  },
  {
   "cell_type": "code",
   "execution_count": null,
   "metadata": {},
   "outputs": [],
   "source": [
    "retrieval_query_parent = \"\"\"\n",
    "\n",
    "    WITH node AS chunk, score AS score ORDER BY score \n",
    "    OPTIONAL MATCH (chunk:Chunk)<-[:CONTAINS]-(parent)\n",
    "    OPTIONAL MATCH (parent)-[:CONTAINS]->(s:Chunk)\n",
    "    WITH chunk, s, score ORDER BY s.chunkSeqId ASC\n",
    "    WITH collect(s.text) as textList, chunk.text as text, score AS score\n",
    "    RETURN apoc.text.join(textList, \" \\n \")  as text,\n",
    "    score,  {} AS metadata \n",
    "    ORDER BY score desc\n",
    "\n",
    "\"\"\"\n",
    "\n",
    "vector_store_parent = Neo4jVector.from_existing_index(\n",
    "    embedding=embeddings_api,\n",
    "    url=NEO4J_URI,\n",
    "    username=NEO4J_USERNAME,\n",
    "    password=NEO4J_PASSWORD,\n",
    "    database=\"neo4j\",\n",
    "    index_name=VECTOR_INDEX_NAME,\n",
    "    text_node_property=VECTOR_SOURCE_PROPERTY,\n",
    "    retrieval_query=retrieval_query_parent\n",
    ")\n",
    "\n",
    "# Create a retriever from the vector store\n",
    "retriever_parent = vector_store_parent.as_retriever(search_kwargs={'k': 1})\n",
    "\n",
    "# Create a chatbot Question & Answer chain from the retriever\n",
    "chain_parent = prettifyChain(RetrievalQA.from_chain_type(\n",
    "    chat_api, \n",
    "    chain_type=\"stuff\", \n",
    "    retriever=retriever_parent,\n",
    "    chain_type_kwargs={\"verbose\": True}\n",
    "))\n"
   ]
  },
  {
   "cell_type": "code",
   "execution_count": null,
   "metadata": {},
   "outputs": [],
   "source": [
    "docs = retriever_parent.invoke(\"what happens if a player is injured\")\n",
    "docs"
   ]
  },
  {
   "cell_type": "code",
   "execution_count": null,
   "metadata": {},
   "outputs": [],
   "source": [
    "chain_parent(\"what happens if a player is injured\")"
   ]
  },
  {
   "cell_type": "code",
   "execution_count": null,
   "metadata": {},
   "outputs": [],
   "source": [
    "\n",
    "retrieval_query_parent = \"\"\"\n",
    "    WITH node AS chunk, score AS score ORDER BY score \n",
    "    OPTIONAL MATCH (chunk:Chunk)<-[:CONTAINS]-(parent)\n",
    "    OPTIONAL MATCH (parent)-[:CONTAINS]->(s:Chunk)\n",
    "    WITH chunk, s, score ORDER BY s.chunkSeqId ASC\n",
    "    WITH collect(s.text) as textList, chunk.text as text, score AS score\n",
    "    RETURN apoc.text.join(textList, \" \\n \")  as text,\n",
    "    score,  {} AS metadata \n",
    "    ORDER BY score desc\n",
    "\"\"\"\n",
    "\n",
    "\n",
    "def neo4j_vector_search_2(question, retrieval_query):\n",
    "  \"\"\"Search for similar nodes using the Neo4j vector index\"\"\"\n",
    "  vector_search_query = \"\"\"\n",
    "    CALL db.index.vector.queryNodes($index_name, $top_k, $question_embedding) \n",
    "        YIELD node, score\n",
    "  \"\"\" + retrieval_query\n",
    "  similar = []\n",
    "\n",
    "  print (\"Using vector index: \" + str(VECTOR_INDEX_NAME))\n",
    "    \n",
    "  question_embedding = embeddings_api.embed_query(question)\n",
    "  return gdb.execute_query(vector_search_query,\n",
    "                      question=question, \n",
    "                      question_embedding=question_embedding, \n",
    "                      index_name=VECTOR_INDEX_NAME, \n",
    "                      top_k=10\n",
    "                    ).records\n",
    "\n",
    "search_results = neo4j_vector_search_2(\n",
    "    'injured player', retrieval_query_parent\n",
    ")\n",
    "search_results[0]\n",
    "    "
   ]
  },
  {
   "cell_type": "markdown",
   "metadata": {},
   "source": [
    "### To view one `Section` node and it's chunks\n",
    "\n",
    "```\n",
    "MATCH (c:Chunk)<-[:CONTAINS]-(s:Section)\n",
    "WHERE c.header4 = '8.1. INJURED PLAYER'\n",
    "    RETURN c, s\n",
    "```    "
   ]
  },
  {
   "cell_type": "markdown",
   "metadata": {},
   "source": [
    "### Remove all `Section` and `Document` nodes"
   ]
  },
  {
   "cell_type": "code",
   "execution_count": null,
   "metadata": {},
   "outputs": [],
   "source": [
    "cypher_remove_document_nodes = \"\"\"\n",
    "MATCH (d:Section) DETACH DELETE d\n",
    "\"\"\"\n",
    "\n",
    "cypher_remove_section_nodes = \"\"\"\n",
    "MATCH (d:Section) DETACH DELETE d\n",
    "\"\"\"\n",
    "\n",
    "gdb.execute_query(cypher_remove_document_nodes)\n",
    "gdb.execute_query(cypher_remove_section_nodes)"
   ]
  },
  {
   "cell_type": "code",
   "execution_count": null,
   "metadata": {},
   "outputs": [],
   "source": []
  }
 ],
 "metadata": {
  "kernelspec": {
   "display_name": "Python 3 (ipykernel)",
   "language": "python",
   "name": "python3"
  },
  "language_info": {
   "codemirror_mode": {
    "name": "ipython",
    "version": 3
   },
   "file_extension": ".py",
   "mimetype": "text/x-python",
   "name": "python",
   "nbconvert_exporter": "python",
   "pygments_lexer": "ipython3",
   "version": "3.11.6"
  }
 },
 "nbformat": 4,
 "nbformat_minor": 4
}
