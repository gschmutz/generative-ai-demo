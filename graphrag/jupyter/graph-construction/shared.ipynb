{
 "cells": [
  {
   "cell_type": "markdown",
   "metadata": {
    "collapsed": false,
    "jupyter": {
     "outputs_hidden": false
    }
   },
   "source": [
    "# Shared Imports, Configuration and Helpers\n",
    "\n",
    "Common libraries and configurations for the other notebooks."
   ]
  },
  {
   "cell_type": "markdown",
   "metadata": {},
   "source": [
    "## imports, constants, config"
   ]
  },
  {
   "cell_type": "code",
   "execution_count": null,
   "metadata": {},
   "outputs": [],
   "source": [
    "%load_ext dotenv\n",
    "%dotenv -ov ../.env"
   ]
  },
  {
   "cell_type": "code",
   "execution_count": 12,
   "metadata": {},
   "outputs": [
    {
     "name": "stdout",
     "output_type": "stream",
     "text": [
      "Connecting to Neo4j at None as None\n",
      "Using data from /home/jovyan/data/single\n",
      "Embedding with openai using text-embedding-ada-002\n",
      "Chatting with openai using gpt-3.5-turbo\n"
     ]
    },
    {
     "ename": "ConfigurationError",
     "evalue": "URI scheme b'' is not supported. Supported URI schemes are ['bolt', 'bolt+ssc', 'bolt+s', 'neo4j', 'neo4j+ssc', 'neo4j+s']. Examples: bolt://host[:port] or neo4j://host[:port][?routing_context]",
     "output_type": "error",
     "traceback": [
      "\u001b[0;31m---------------------------------------------------------------------------\u001b[0m",
      "\u001b[0;31mConfigurationError\u001b[0m                        Traceback (most recent call last)",
      "Cell \u001b[0;32mIn[12], line 62\u001b[0m\n\u001b[1;32m     59\u001b[0m \u001b[38;5;28mprint\u001b[39m(\u001b[38;5;124mf\u001b[39m\u001b[38;5;124m\"\u001b[39m\u001b[38;5;124mEmbedding with \u001b[39m\u001b[38;5;132;01m{\u001b[39;00mEMBEDDING_API\u001b[38;5;132;01m}\u001b[39;00m\u001b[38;5;124m using \u001b[39m\u001b[38;5;132;01m{\u001b[39;00mEMBEDDING_MODEL\u001b[38;5;132;01m}\u001b[39;00m\u001b[38;5;124m\"\u001b[39m)\n\u001b[1;32m     60\u001b[0m \u001b[38;5;28mprint\u001b[39m(\u001b[38;5;124mf\u001b[39m\u001b[38;5;124m\"\u001b[39m\u001b[38;5;124mChatting with \u001b[39m\u001b[38;5;132;01m{\u001b[39;00mCHAT_API\u001b[38;5;132;01m}\u001b[39;00m\u001b[38;5;124m using \u001b[39m\u001b[38;5;132;01m{\u001b[39;00mCHAT_MODEL\u001b[38;5;132;01m}\u001b[39;00m\u001b[38;5;124m\"\u001b[39m)\n\u001b[0;32m---> 62\u001b[0m gdb \u001b[38;5;241m=\u001b[39m \u001b[43mGraphDatabase\u001b[49m\u001b[38;5;241;43m.\u001b[39;49m\u001b[43mdriver\u001b[49m\u001b[43m(\u001b[49m\u001b[43muri\u001b[49m\u001b[38;5;241;43m=\u001b[39;49m\u001b[43mNEO4J_URI\u001b[49m\u001b[43m,\u001b[49m\u001b[43m \u001b[49m\u001b[43mauth\u001b[49m\u001b[38;5;241;43m=\u001b[39;49m\u001b[43m(\u001b[49m\u001b[43mNEO4J_USERNAME\u001b[49m\u001b[43m,\u001b[49m\u001b[43m \u001b[49m\u001b[43mNEO4J_PASSWORD\u001b[49m\u001b[43m)\u001b[49m\u001b[43m)\u001b[49m\n\u001b[1;32m     63\u001b[0m graph \u001b[38;5;241m=\u001b[39m Neo4jGraph()\n",
      "File \u001b[0;32m/opt/conda/lib/python3.11/site-packages/neo4j/_sync/driver.py:197\u001b[0m, in \u001b[0;36mGraphDatabase.driver\u001b[0;34m(cls, uri, auth, **config)\u001b[0m\n\u001b[1;32m    178\u001b[0m \u001b[38;5;129m@classmethod\u001b[39m\n\u001b[1;32m    179\u001b[0m \u001b[38;5;28;01mdef\u001b[39;00m \u001b[38;5;21mdriver\u001b[39m(\n\u001b[1;32m    180\u001b[0m     \u001b[38;5;28mcls\u001b[39m,\n\u001b[0;32m   (...)\u001b[0m\n\u001b[1;32m    184\u001b[0m     \u001b[38;5;241m*\u001b[39m\u001b[38;5;241m*\u001b[39mconfig\n\u001b[1;32m    185\u001b[0m ) \u001b[38;5;241m-\u001b[39m\u001b[38;5;241m>\u001b[39m Driver:\n\u001b[1;32m    186\u001b[0m \u001b[38;5;250m    \u001b[39m\u001b[38;5;124;03m\"\"\"Create a driver.\u001b[39;00m\n\u001b[1;32m    187\u001b[0m \n\u001b[1;32m    188\u001b[0m \u001b[38;5;124;03m    :param uri: the connection URI for the driver,\u001b[39;00m\n\u001b[0;32m   (...)\u001b[0m\n\u001b[1;32m    194\u001b[0m \u001b[38;5;124;03m        key-word arguments.\u001b[39;00m\n\u001b[1;32m    195\u001b[0m \u001b[38;5;124;03m    \"\"\"\u001b[39;00m\n\u001b[0;32m--> 197\u001b[0m     driver_type, security_type, parsed \u001b[38;5;241m=\u001b[39m \u001b[43mparse_neo4j_uri\u001b[49m\u001b[43m(\u001b[49m\u001b[43muri\u001b[49m\u001b[43m)\u001b[49m\n\u001b[1;32m    199\u001b[0m     \u001b[38;5;28;01mif\u001b[39;00m \u001b[38;5;129;01mnot\u001b[39;00m \u001b[38;5;28misinstance\u001b[39m(auth, AuthManager):\n\u001b[1;32m    200\u001b[0m         auth \u001b[38;5;241m=\u001b[39m AuthManagers\u001b[38;5;241m.\u001b[39mstatic(auth)\n",
      "File \u001b[0;32m/opt/conda/lib/python3.11/site-packages/neo4j/api.py:509\u001b[0m, in \u001b[0;36mparse_neo4j_uri\u001b[0;34m(uri)\u001b[0m\n\u001b[1;32m    507\u001b[0m     security_type \u001b[38;5;241m=\u001b[39m SECURITY_TYPE_SECURE\n\u001b[1;32m    508\u001b[0m \u001b[38;5;28;01melse\u001b[39;00m:\n\u001b[0;32m--> 509\u001b[0m     \u001b[38;5;28;01mraise\u001b[39;00m ConfigurationError(\u001b[38;5;124m\"\u001b[39m\u001b[38;5;124mURI scheme \u001b[39m\u001b[38;5;132;01m{!r}\u001b[39;00m\u001b[38;5;124m is not supported. Supported URI schemes are \u001b[39m\u001b[38;5;132;01m{}\u001b[39;00m\u001b[38;5;124m. Examples: bolt://host[:port] or neo4j://host[:port][?routing_context]\u001b[39m\u001b[38;5;124m\"\u001b[39m\u001b[38;5;241m.\u001b[39mformat(\n\u001b[1;32m    510\u001b[0m         parsed\u001b[38;5;241m.\u001b[39mscheme,\n\u001b[1;32m    511\u001b[0m         [\n\u001b[1;32m    512\u001b[0m             URI_SCHEME_BOLT,\n\u001b[1;32m    513\u001b[0m             URI_SCHEME_BOLT_SELF_SIGNED_CERTIFICATE,\n\u001b[1;32m    514\u001b[0m             URI_SCHEME_BOLT_SECURE,\n\u001b[1;32m    515\u001b[0m             URI_SCHEME_NEO4J,\n\u001b[1;32m    516\u001b[0m             URI_SCHEME_NEO4J_SELF_SIGNED_CERTIFICATE,\n\u001b[1;32m    517\u001b[0m             URI_SCHEME_NEO4J_SECURE\n\u001b[1;32m    518\u001b[0m         ]\n\u001b[1;32m    519\u001b[0m     ))\n\u001b[1;32m    521\u001b[0m \u001b[38;5;28;01mreturn\u001b[39;00m driver_type, security_type, parsed\n",
      "\u001b[0;31mConfigurationError\u001b[0m: URI scheme b'' is not supported. Supported URI schemes are ['bolt', 'bolt+ssc', 'bolt+s', 'neo4j', 'neo4j+ssc', 'neo4j+s']. Examples: bolt://host[:port] or neo4j://host[:port][?routing_context]"
     ]
    }
   ],
   "source": [
    "# import python libraries\n",
    "import os\n",
    "\n",
    "# Common data processing\n",
    "import json\n",
    "import textwrap\n",
    "\n",
    "# import hash functionality\n",
    "import hashlib\n",
    "\n",
    "# Neo4j driver\n",
    "from neo4j import GraphDatabase\n",
    "\n",
    "# Langchain\n",
    "from langchain_community.document_loaders import DirectoryLoader\n",
    "from langchain_community.document_loaders import TextLoader\n",
    "from langchain_community.graphs import Neo4jGraph\n",
    "from langchain_community.vectorstores import Neo4jVector\n",
    "from langchain_openai import OpenAIEmbeddings\n",
    "from langchain.text_splitter import RecursiveCharacterTextSplitter\n",
    "from langchain.text_splitter import MarkdownTextSplitter\n",
    "from langchain_text_splitters import MarkdownHeaderTextSplitter\n",
    "from langchain.chains import RetrievalQAWithSourcesChain\n",
    "from langchain.chains import RetrievalQA\n",
    "\n",
    "# Lancgchain for Ollama (for hosting a local LLM)\n",
    "from langchain_community.embeddings import OllamaEmbeddings\n",
    "from langchain_community.chat_models import ChatOllama\n",
    "\n",
    "# Langchain for OpenAI (which requires an API key and internet connection)\n",
    "from langchain_openai import ChatOpenAI\n",
    "from langchain_openai import OpenAIEmbeddings\n",
    "\n",
    "# Use Langchain Hub (to get prompts)\n",
    "from langchain import hub\n",
    "\n",
    "# Load from environment\n",
    "NEO4J_URI = os.getenv('NEO4J_URI')\n",
    "NEO4J_USERNAME = os.getenv('NEO4J_USERNAME')\n",
    "NEO4J_PASSWORD = os.getenv('NEO4J_PASSWORD')\n",
    "NEO4J_DATABASE = os.getenv('NEO4J_DATABASE') or 'neo4j'\n",
    "\n",
    "# Global constants\n",
    "VECTOR_INDEX_NAME = 'chunks_vector'\n",
    "VECTOR_NODE_LABEL = 'Chunk'\n",
    "VECTOR_SOURCE_PROPERTY = 'text'\n",
    "VECTOR_EMBEDDING_PROPERTY = 'embedding'\n",
    "\n",
    "OPENAI_API_KEY = os.getenv('OPENAI_API_KEY')\n",
    "EMBEDDING_API = os.getenv('EMBEDDING_API') or 'openai'\n",
    "EMBEDDING_MODEL = os.getenv('EMBEDDING_MODEL') or 'text-embedding-ada-002'\n",
    "CHAT_API = os.getenv('CHAT_API') or 'openai'\n",
    "CHAT_MODEL = os.getenv('CHAT_MODEL') or 'gpt-3.5-turbo'\n",
    "OLLAMA_URL = os.getenv('OLLAMA_URL')\n",
    "\n",
    "# Data directory for Form 10-K json files and Form 13 csv file\n",
    "ROOT_DIR = os.path.dirname(os.path.abspath(os.path.join(os.getcwd(), '..')))\n",
    "DATA_DIR = f\"{ROOT_DIR}/{os.getenv('DATA_DIR') or 'data/single'}\"\n",
    "\n",
    "print(f\"Connecting to Neo4j at {NEO4J_URI} as {NEO4J_USERNAME}\")\n",
    "print(f\"Using data from {DATA_DIR}\")\n",
    "print(f\"Embedding with {EMBEDDING_API} using {EMBEDDING_MODEL}\")\n",
    "print(f\"Chatting with {CHAT_API} using {CHAT_MODEL}\")\n",
    "\n",
    "gdb = GraphDatabase.driver(uri=NEO4J_URI, auth=(NEO4J_USERNAME, NEO4J_PASSWORD))\n",
    "graph = Neo4jGraph()"
   ]
  },
  {
   "cell_type": "code",
   "execution_count": 1,
   "metadata": {},
   "outputs": [
    {
     "ename": "NameError",
     "evalue": "name 'EMBEDDING_API' is not defined",
     "output_type": "error",
     "traceback": [
      "\u001b[0;31m---------------------------------------------------------------------------\u001b[0m",
      "\u001b[0;31mNameError\u001b[0m                                 Traceback (most recent call last)",
      "Cell \u001b[0;32mIn[1], line 4\u001b[0m\n\u001b[1;32m      1\u001b[0m embeddings_api \u001b[38;5;241m=\u001b[39m \u001b[38;5;28;01mNone\u001b[39;00m\n\u001b[1;32m      2\u001b[0m chat_api \u001b[38;5;241m=\u001b[39m \u001b[38;5;28;01mNone\u001b[39;00m\n\u001b[0;32m----> 4\u001b[0m \u001b[38;5;28;01mmatch\u001b[39;00m \u001b[43mEMBEDDING_API\u001b[49m: \n\u001b[1;32m      5\u001b[0m   \u001b[38;5;28;01mcase\u001b[39;00m \u001b[38;5;124m\"\u001b[39m\u001b[38;5;124mollama\u001b[39m\u001b[38;5;124m\"\u001b[39m: \n\u001b[1;32m      6\u001b[0m     embeddings_api \u001b[38;5;241m=\u001b[39m OllamaEmbeddings(base_url\u001b[38;5;241m=\u001b[39mOLLAMA_URL, model\u001b[38;5;241m=\u001b[39mEMBEDDING_MODEL, temperature\u001b[38;5;241m=\u001b[39m\u001b[38;5;241m0\u001b[39m, top_k\u001b[38;5;241m=\u001b[39m\u001b[38;5;241m10\u001b[39m, top_p\u001b[38;5;241m=\u001b[39m\u001b[38;5;241m0.5\u001b[39m)\n",
      "\u001b[0;31mNameError\u001b[0m: name 'EMBEDDING_API' is not defined"
     ]
    }
   ],
   "source": [
    "embeddings_api = None\n",
    "chat_api = None\n",
    "\n",
    "match EMBEDDING_API: \n",
    "  case \"ollama\": \n",
    "    embeddings_api = OllamaEmbeddings(base_url=OLLAMA_URL, model=EMBEDDING_MODEL, temperature=0, top_k=10, top_p=0.5)\n",
    "  case \"openai\": \n",
    "    if OPENAI_API_KEY is None:\n",
    "      raise ValueError(\"OpenAI_API_KEY is not set. Please add it to your .env file.\")\n",
    "    embeddings_api = OpenAIEmbeddings(api_key=OPENAI_API_KEY)\n",
    "match CHAT_API:\n",
    "  case \"ollama\": \n",
    "    chat_api = ChatOllama(base_url=OLLAMA_URL, model=CHAT_MODEL, temperature=0)\n",
    "  case \"openai\": \n",
    "    if OPENAI_API_KEY is None:\n",
    "      raise ValueError(\"OpenAI_API_KEY is not set. Please add it to your .env file.\")\n",
    "    chat_api = ChatOpenAI()\n"
   ]
  },
  {
   "cell_type": "code",
   "execution_count": 16,
   "metadata": {},
   "outputs": [],
   "source": [
    "def neo4j_vector_search(question, index_name):\n",
    "  \"\"\"Search for similar nodes using the Neo4j vector index\"\"\"\n",
    "  vector_search_query = \"\"\"\n",
    "    CALL db.index.vector.queryNodes($index_name, $top_k, $question_embedding) \n",
    "        YIELD node, score\n",
    "    RETURN score, node AS node\n",
    "  \"\"\"\n",
    "  similar = []\t\n",
    "\n",
    "  print (\"Using vector index: \" + index_name)\n",
    "    \n",
    "  question_embedding = embeddings_api.embed_query(question)\n",
    "  return gdb.execute_query(vector_search_query,\n",
    "                      question=question, \n",
    "                      question_embedding=question_embedding, \n",
    "                      index_name=index_name, \n",
    "                      top_k=10\n",
    "                    ).records"
   ]
  },
  {
   "cell_type": "code",
   "execution_count": 6,
   "metadata": {},
   "outputs": [],
   "source": [
    "# helper function to pretty print the chain's response\n",
    "def prettifyChain(chain):\n",
    "  def prettychain(question:str):\n",
    "    response = chain({\"question\": question, \"query\":question}, return_only_outputs=True,)\n",
    "    answer = response['answer'] if ('answer' in response) else response['result']\n",
    "    print(textwrap.fill(answer, 80))\n",
    "  return prettychain"
   ]
  },
  {
   "cell_type": "code",
   "execution_count": null,
   "metadata": {},
   "outputs": [],
   "source": []
  }
 ],
 "metadata": {
  "kernelspec": {
   "display_name": "Python 3 (ipykernel)",
   "language": "python",
   "name": "python3"
  },
  "language_info": {
   "codemirror_mode": {
    "name": "ipython",
    "version": 3
   },
   "file_extension": ".py",
   "mimetype": "text/x-python",
   "name": "python",
   "nbconvert_exporter": "python",
   "pygments_lexer": "ipython3",
   "version": "3.11.6"
  }
 },
 "nbformat": 4,
 "nbformat_minor": 4
}
