{
 "cells": [
  {
   "cell_type": "markdown",
   "id": "1b542886-92a9-47b2-9c94-d745da006909",
   "metadata": {},
   "source": [
    "# Various approaches to load PDF documents"
   ]
  },
  {
   "cell_type": "code",
   "execution_count": 23,
   "id": "8c061ac5-e69f-4766-9d3d-a9fb48ce30d0",
   "metadata": {},
   "outputs": [],
   "source": [
    "PDF_DOCUMENT=\"/data-transfer/iihf/230524_iihf_rulebook_gesamt_v_6_0_rz_v1.pdf\""
   ]
  },
  {
   "cell_type": "markdown",
   "id": "c6878edf-8000-4a77-aa20-b75df8ea34c0",
   "metadata": {},
   "source": [
    "## Using Langchain PyPDFLoader"
   ]
  },
  {
   "cell_type": "markdown",
   "id": "12ade542-eec6-4b48-acc4-c8bb597610bb",
   "metadata": {},
   "source": [
    "!pip install pypdf"
   ]
  },
  {
   "cell_type": "code",
   "execution_count": 3,
   "id": "c12b1d1c-6b6c-486f-bf58-21bcf8f65c81",
   "metadata": {},
   "outputs": [
    {
     "name": "stdout",
     "output_type": "stream",
     "text": [
      "230524_iihf_rulebook_gesamt_v_6_0_rz_v1.pdf  rulebook.md\n"
     ]
    }
   ],
   "source": [
    "! ls /data-transfer/iihf"
   ]
  },
  {
   "cell_type": "code",
   "execution_count": 24,
   "id": "1b038e87-86f1-47b5-8aca-908bf79d654d",
   "metadata": {},
   "outputs": [],
   "source": [
    "from langchain_community.document_loaders import PyPDFLoader\n",
    "\n",
    "loader = PyPDFLoader(f\"{PDF_DOCUMENT}\")\n",
    "pages = loader.load_and_split()"
   ]
  },
  {
   "cell_type": "code",
   "execution_count": 25,
   "id": "51750e8a-ac97-4cfd-a43a-4176cf969858",
   "metadata": {},
   "outputs": [
    {
     "data": {
      "text/plain": [
       "Document(page_content='INTERNATIONAL ICE HOCKEY FEDERATION\\nIIHF OFFICIAL  \\nRULEBOOK  \\n2023 / 24  \\nIIHF Official Rulebook 2023/24 – Version 1.0, May 2023', metadata={'source': '/data-transfer/iihf/230524_iihf_rulebook_gesamt_v_6_0_rz_v1.pdf', 'page': 0})"
      ]
     },
     "execution_count": 25,
     "metadata": {},
     "output_type": "execute_result"
    }
   ],
   "source": [
    "pages[0]"
   ]
  },
  {
   "cell_type": "code",
   "execution_count": 9,
   "id": "3585fd28-fd14-4281-a5b3-c21c54766a9b",
   "metadata": {},
   "outputs": [
    {
     "data": {
      "text/plain": [
       "'IIHF OFFICIAL RULE BOOK 2023/24 2\\nWELCOME\\n \\n  \\n  \\n  \\n \\n \\nIt is, therefore, important to make a clear separation between the purpose of all the elements of the \\ngame and to use these respectfully. These distinctions can be taught at an early age or whenever \\none begins to show interest in the game. And this is why hockey development begins with parents \\nand coaches, those people most influential in guiding a person, old or young, into playing the game \\nproperly and within the rules.\\nThe IIHF Championship program encompasses 81 Member National Associations, five age and  \\ngender categories over 30 international ice hockey tournaments, including the Olympic Winter \\nGames. \\nThe extensiveness of the program is acknowledged in the rule book. The goal is to provide everyone \\none set of rules from which to work. This presents a fair and leveled standard of play. It is a means \\nof keeping the game’s “language” the same regardless of where it is played.\\nINTERNATIONAL ICE HOCKEY FEDERATION\\nTABLE OF CONTENTSNo matter where ice hockey is played, the object of the game is the same – to put the puck into the opponent’s goal. Beyond that, ice hockey across the globe is subject to certain variations. This makes the rules of the game extremely important. These rules must be followed all times, in all countries, in all age categories, for the game to be enjoyed by everyone.��������������������������������������������������������������������������������������������������������������������������������������������'"
      ]
     },
     "execution_count": 9,
     "metadata": {},
     "output_type": "execute_result"
    }
   ],
   "source": [
    "pages[1].page_content"
   ]
  },
  {
   "cell_type": "code",
   "execution_count": 16,
   "id": "f34be444-3b5e-4c3e-8b14-b92b903a8abc",
   "metadata": {},
   "outputs": [
    {
     "data": {
      "text/plain": [
       "\"TABLE OF CONTENTS3.2. PENALTY BOX\\nEach Rink must be provided with benches or seats to be known as the “Penalty Box”. \\nSeparate Penalty Boxes shall be provided for each Team and they shall be situated on the opposite sides directly across the ice from \\ntheir Players' Benches. Teams must use the “Penalty Box” opposite their Players’ Bench and must use the same “Penalty Box” for \\nthe duration of a game.\\nEach “Penalty Box” should be at least 4.0 m in length and 1.50 m in width and shall be separated from the spectators by a Protective \\nGlass to afford the necessary protection for the Players. \\nEach Penalty Box must be of the same size and quality, offering no advantage to either Team in any manner and must have only one \\ndoor for both entry and exit and must be operated only by the “Penalty Box Attendant”.\\nOnly the Penalty Box Attendant, penalized Skaters, and Game Officials are allowed access to the Penalty Boxes.\\n ➔For more information refer to Appendix VI – Infographics\\nRULE 4 SIGNAL AND TIMING DEVICES\\n4.1. SIGNAL DEVICES\\nEach Rink must be provided with a suitable sound device that will sound automatically at the conclusion of each period of play. Should \\nthe sound device fail to sound automatically when time expires, the determining factor as to whether the period has ended shall be \\nthe Game Clock.\\n »For more information refer to IIHF Technology Codes & Regulations.\\n4.2. TIMING DEVICES\\nEach Rink shall be provided with some form of electronic game clock for the purpose of keeping the spectators, Players, Team  \\nPersonnel and Game Officials accurately informed as to all time elements at all stages of the game including the time remaining to \\nbe played in any period and the time remaining to be served by penalized Players on each Team.\\nThe game clock is activated by facing-off of the puck by an On-ice Official and shall be stopped by the whistle of an Off-ice Official.\\nTime recording for both game time and penalty time shall show time remaining to be played or served.\\nThe Game Time Clock shall measure the time remaining in tenths (1/10) of a second during the last minute of each period.\\n »For more information refer to IIHF Technology Codes & RegulationsIIHF OFFICIAL RULE BOOK 2023/24 – SECTION 01 23\\nPLAYING AREA \\n01   SECTION · PLAYING AREA\""
      ]
     },
     "execution_count": 16,
     "metadata": {},
     "output_type": "execute_result"
    }
   ],
   "source": [
    "pages[25].page_content"
   ]
  },
  {
   "cell_type": "markdown",
   "id": "6680bdb9-b259-4182-b179-b1801851f7cc",
   "metadata": {},
   "source": [
    "## Using LLMSherpa"
   ]
  },
  {
   "cell_type": "markdown",
   "id": "2fed1118-1911-4b02-a224-649b0caec381",
   "metadata": {},
   "source": [
    "## Using Unstructured.IO"
   ]
  },
  {
   "cell_type": "markdown",
   "id": "69b360de-b0b4-45a0-b264-ba6a44abdada",
   "metadata": {},
   "source": [
    "## Using LlamaParse"
   ]
  },
  {
   "cell_type": "code",
   "execution_count": null,
   "id": "f6b05a0a-f326-4f95-9b37-dbb918ad6155",
   "metadata": {},
   "outputs": [],
   "source": [
    "!pip3 install llama-index\n",
    "!pip3 install llama-index-core\n",
    "!pip3 install llama-index-embeddings-openai\n",
    "!pip3 install llama-parse\n",
    "!pip3 install llama-index-llms-ollama\n",
    "!pip3 install ollama"
   ]
  },
  {
   "cell_type": "code",
   "execution_count": 36,
   "id": "b94292f4-57c4-434a-8d03-c0b01d8221b1",
   "metadata": {},
   "outputs": [],
   "source": [
    "# llama-parse is async-first, running the async code in a notebook requires the use of nest_asyncio\n",
    "import nest_asyncio\n",
    "nest_asyncio.apply()\n",
    "\n",
    "import os\n",
    "# API access to llama-cloud\n",
    "os.environ[\"LLAMA_CLOUD_API_KEY\"] = \"llx-dSMKpwu0fPsVOHfM3jxSsOYuMhS4ramkq9G1wjpQrHLZk9ny\""
   ]
  },
  {
   "cell_type": "code",
   "execution_count": 37,
   "id": "59fee80e-7f62-4b73-90fe-b326bfef4236",
   "metadata": {},
   "outputs": [
    {
     "name": "stdout",
     "output_type": "stream",
     "text": [
      "Started parsing the file under job_id 2da3ceb0-27d1-40c6-a589-f4e4b5c2881b\n"
     ]
    }
   ],
   "source": [
    "from llama_parse import LlamaParse\n",
    "\n",
    "pdf_file_name = f\"{PDF_DOCUMENT}\"\n",
    "\n",
    "documents = LlamaParse(result_type=\"markdown\").load_data(pdf_file_name)\n"
   ]
  },
  {
   "cell_type": "code",
   "execution_count": 63,
   "id": "3746d472-9e2d-411b-88b6-43db04c08749",
   "metadata": {},
   "outputs": [
    {
     "name": "stdout",
     "output_type": "stream",
     "text": [
      "Number of documents: 1\n",
      "af97ad3c-82e6-4c9e-8074-a8f39dcecf56\n",
      " AREA\n",
      "\n",
      "RULE 3 BENCHES\n",
      "\n",
      "3.1. PLAYERS’ BENCHES\n",
      "\n",
      "Each Rink shall be provided with seats or benches for the use by Players of both Teams. The only people allowed on or at the Players’ Benches are the dressed Players and not more than eight (8) persons, including Coach and team personnel. Teams must use the same Player’s Bench for the duration of a game. The accommodations provided, including benches and doors, must be uniform for both Teams.\n",
      "\n",
      "The Players’ Benches shall be placed immediately alongside the ice as near to the center of the Rink as possible. Two (2) doors for each Players’ Bench must be uniform in location and size and as conveniently close to the Dressing Rooms as possible. Each Players’ Bench should be 10 m in length and 1.50 m in width and when situated in the spectator area, shall be separated from the spectators by a Protective Glass to afford the necessary protection for the Players and Team Personnel.\n",
      "\n",
      "The Players’ Benches shall be on the same side of the playing surface opposite the Penalty Box and should be separated by a substantial distance, if possible.\n",
      "\n",
      "Note: The designated Home Team is entitled to its choice of Players’ Bench if not otherwise defined. At IIHF Championships, the respective Player’s Benches will be assigned to the respective Teams.\n",
      "\n",
      "➔ For more information refer to Appendix VI – Infographics.\n",
      "\n",
      "» For more information refer to IIHF Sport Regulations.\n",
      "---\n",
      "# PLAYING AREA\n",
      "\n",
      "3.2. PENALTY BOX\n",
      "\n",
      "Each Rink must be provided with benches or seats to be known as the “Penalty Box”.\n",
      "\n",
      "Separate Penalty Boxes shall be provided for each Team and they shall be situated on the opposite sides directly across the ice from their Players' Benches. Teams must use the “Penalty Box” opposite their Players’ Bench and must use the same “Penalty Box” for the duration of a game.\n",
      "\n",
      "Each “Penalty Box” should be at least 4.0 m in length and 1.50 m in width and shall be separated from the spectators by a Protective Glass to afford the necessary protection for the Players.\n",
      "\n",
      "Each Penalty Box must be of the same size and quality, offering no advantage to either Team in any manner and must have only one door for both entry and exit and must be operated only by the “Penalty Box Attendant”.\n",
      "\n",
      "Only the Penalty Box Attendant, penalized Skaters, and Game Officials are allowed access to the Penalty Boxes.\n",
      "\n",
      "➔ For more information refer to Appendix VI – Infographics\n",
      "\n",
      "RULE 4 SIGNAL AND TIMING DEVICES\n",
      "\n",
      "4.1. SIGNAL DEVICES\n",
      "\n",
      "Each Rink must be provided with a suitable sound device that will sound automatically at the conclusion of each period of play. Should the sound device fail to sound automatically when time expires, the determining factor as to whether the period has ended shall be the Game Clock.\n",
      "\n",
      "» For more information refer to IIHF Technology Codes & Regulations.\n",
      "\n",
      "4.2. TIMING DEVICES\n",
      "\n",
      "Each Rink shall be provided with some form of electronic game clock for the purpose of keeping the spectators, Players, Team Personnel and Game Officials accurately informed as to all time elements at all stages of the game including the time remaining to be played in any period and the time remaining to be served by penalized Players on each Team.\n",
      "\n",
      "The game clock is activated by facing-off of the puck by an On-ice Official and shall be stopped by the whistle of an Off-ice Official.\n",
      "\n",
      "Time recording for both game time and penalty time shall show time remaining to be played or served.\n",
      "\n",
      "The Game Time Clock shall measure the time remaining in tenths (1/10) of a second during the last minute of each period.\n",
      "\n",
      "» For more information refer to IIHF Technology Codes & Regulations\n",
      "---\n",
      "# SECTION 02\n",
      "\n",
      "TEAMS\n",
      "\n",
      "73\n",
      "Toyq\n",
      "0 2\n",
      "---\n",
      "# RULE 5 TEAM\n",
      "\n",
      "5.1. ELIGIBLE PLAYERS\n",
      "\n",
      "A Game is contested between two (2) Teams which play under the direction of On-ice and Off-ice Officials. A Team shall be composed of twenty-two (22) Players. No more than twenty (20) Skaters and two (2) Goalkeepers shall be permitted. For the purposes of these playing rules, any reference to “Player” shall refer ...\n"
     ]
    }
   ],
   "source": [
    "# Check loaded documents\n",
    "\n",
    "print(f\"Number of documents: {len(documents)}\")\n",
    "\n",
    "for doc in documents:\n",
    "    print(doc.doc_id)\n",
    "    print(doc.text[26000:30000] + '...')"
   ]
  },
  {
   "cell_type": "code",
   "execution_count": 39,
   "id": "819aec36-9335-4ac1-85c3-37f7369ff4a5",
   "metadata": {},
   "outputs": [],
   "source": [
    "from llama_index.llms.openai import OpenAI\n",
    "#from llama_index.embeddings.openai import OpenAIEmbedding\n",
    "from llama_index.llms.ollama import Ollama\n",
    "from llama_index.core import  VectorStoreIndex\n",
    "from llama_index.core import Settings\n",
    "\n",
    "# Using OpenAI API for embeddings/llms\n",
    "os.environ[\"OPENAI_API_KEY\"] = \"N.A. we use ollama\"\n",
    "\n",
    "EMBEDDING_MODEL  = \"mxbai-embed-large\"\n",
    "GENERATION_MODEL = \"llama3:8b\"\n",
    "\n",
    "#llm = OpenAI(model=GENERATION_MODEL)\n",
    "llm = Ollama(model=GENERATION_MODEL, base_url=\"http://192.168.1.102:11434\", request_timeout=120.0)\n",
    "\n",
    "Settings.llm = llm\n"
   ]
  },
  {
   "cell_type": "code",
   "execution_count": 40,
   "id": "34a28639-02a7-4d33-9b41-fc89be66d595",
   "metadata": {},
   "outputs": [
    {
     "name": "stderr",
     "output_type": "stream",
     "text": [
      "\n",
      "100it [00:00, 145990.39it/s]\n",
      "\n",
      "  0%|          | 0/100 [00:00<?, ?it/s]\u001b[A\n",
      "  1%|          | 1/100 [00:20<33:14, 20.14s/it]\u001b[A\n",
      "  2%|▏         | 2/100 [00:23<16:53, 10.34s/it]\u001b[A\n",
      "  3%|▎         | 3/100 [00:27<12:16,  7.59s/it]\u001b[A\n",
      "  4%|▍         | 4/100 [00:43<17:26, 10.90s/it]\u001b[A\n",
      "  5%|▌         | 5/100 [00:46<12:36,  7.96s/it]\u001b[A\n",
      "  6%|▌         | 6/100 [00:53<11:58,  7.64s/it]\u001b[A\n",
      "  7%|▋         | 7/100 [01:05<14:11,  9.15s/it]\u001b[A\n",
      "  8%|▊         | 8/100 [01:09<11:32,  7.53s/it]\u001b[A\n",
      "  9%|▉         | 9/100 [01:13<09:30,  6.27s/it]\u001b[A\n",
      " 10%|█         | 10/100 [01:33<15:39, 10.44s/it]\u001b[A\n",
      " 11%|█         | 11/100 [01:37<12:43,  8.58s/it]\u001b[A\n",
      " 12%|█▏        | 12/100 [01:40<10:14,  6.98s/it]\u001b[A\n",
      " 13%|█▎        | 13/100 [01:50<11:13,  7.74s/it]\u001b[A\n",
      " 14%|█▍        | 14/100 [01:57<10:49,  7.55s/it]\u001b[A\n",
      " 15%|█▌        | 15/100 [02:06<11:16,  7.96s/it]\u001b[A\n",
      " 16%|█▌        | 16/100 [02:13<10:52,  7.77s/it]\u001b[A\n",
      " 17%|█▋        | 17/100 [02:20<10:29,  7.59s/it]\u001b[A\n",
      " 18%|█▊        | 18/100 [02:29<10:41,  7.82s/it]\u001b[A\n",
      " 19%|█▉        | 19/100 [02:39<11:32,  8.55s/it]\u001b[A\n",
      " 20%|██        | 20/100 [02:47<11:07,  8.35s/it]\u001b[A\n",
      " 21%|██        | 21/100 [02:53<09:58,  7.57s/it]\u001b[A\n",
      " 22%|██▏       | 22/100 [03:12<14:15, 10.96s/it]\u001b[A\n",
      " 23%|██▎       | 23/100 [03:14<10:41,  8.33s/it]\u001b[A\n",
      " 24%|██▍       | 24/100 [03:20<09:55,  7.84s/it]\u001b[A\n",
      " 25%|██▌       | 25/100 [03:37<13:06, 10.49s/it]\u001b[A\n",
      " 26%|██▌       | 26/100 [03:41<10:20,  8.38s/it]\u001b[A\n",
      " 27%|██▋       | 27/100 [03:47<09:18,  7.65s/it]\u001b[A\n",
      " 28%|██▊       | 28/100 [04:02<11:55,  9.94s/it]\u001b[A\n",
      " 29%|██▉       | 29/100 [04:07<10:01,  8.47s/it]\u001b[A\n",
      " 30%|███       | 30/100 [04:10<07:58,  6.83s/it]\u001b[A\n",
      " 31%|███       | 31/100 [04:25<10:45,  9.35s/it]\u001b[A\n",
      " 32%|███▏      | 32/100 [04:28<08:23,  7.41s/it]\u001b[A\n",
      " 33%|███▎      | 33/100 [04:33<07:18,  6.54s/it]\u001b[A\n",
      " 34%|███▍      | 34/100 [04:45<09:00,  8.20s/it]\u001b[A\n",
      " 35%|███▌      | 35/100 [04:51<08:14,  7.61s/it]\u001b[A\n",
      " 36%|███▌      | 36/100 [04:59<08:12,  7.69s/it]\u001b[A\n",
      " 37%|███▋      | 37/100 [05:08<08:34,  8.17s/it]\u001b[A\n",
      " 38%|███▊      | 38/100 [05:16<08:27,  8.19s/it]\u001b[A\n",
      " 39%|███▉      | 39/100 [05:23<07:54,  7.78s/it]\u001b[A\n",
      " 40%|████      | 40/100 [05:29<07:19,  7.33s/it]\u001b[A\n",
      " 41%|████      | 41/100 [05:40<08:14,  8.38s/it]\u001b[A\n",
      " 42%|████▏     | 42/100 [05:53<09:16,  9.60s/it]\u001b[A\n",
      " 43%|████▎     | 43/100 [06:04<09:36, 10.11s/it]\u001b[A\n",
      " 44%|████▍     | 44/100 [06:13<09:16,  9.93s/it]\u001b[A\n",
      " 45%|████▌     | 45/100 [06:23<09:05,  9.92s/it]\u001b[A\n",
      " 46%|████▌     | 46/100 [06:37<09:50, 10.93s/it]\u001b[A\n",
      " 47%|████▋     | 47/100 [06:46<09:12, 10.42s/it]\u001b[A\n",
      " 48%|████▊     | 48/100 [06:51<07:39,  8.83s/it]\u001b[A\n",
      " 49%|████▉     | 49/100 [06:54<06:05,  7.16s/it]\u001b[A\n",
      " 50%|█████     | 50/100 [07:18<10:00, 12.01s/it]\u001b[A\n",
      " 51%|█████     | 51/100 [07:21<07:37,  9.33s/it]\u001b[A\n",
      " 52%|█████▏    | 52/100 [07:25<06:18,  7.88s/it]\u001b[A\n",
      " 53%|█████▎    | 53/100 [07:43<08:36, 11.00s/it]\u001b[A\n",
      " 54%|█████▍    | 54/100 [07:48<06:52,  8.97s/it]\u001b[A\n",
      " 55%|█████▌    | 55/100 [07:52<05:36,  7.48s/it]\u001b[A\n",
      " 56%|█████▌    | 56/100 [08:07<07:17,  9.94s/it]\u001b[A\n",
      " 57%|█████▋    | 57/100 [08:11<05:52,  8.20s/it]\u001b[A\n",
      " 58%|█████▊    | 58/100 [08:17<05:05,  7.26s/it]\u001b[A\n",
      " 59%|█████▉    | 59/100 [08:23<04:52,  7.14s/it]\u001b[A\n",
      " 60%|██████    | 60/100 [08:39<06:24,  9.61s/it]\u001b[A\n",
      " 61%|██████    | 61/100 [08:43<05:09,  7.93s/it]\u001b[A\n",
      " 62%|██████▏   | 62/100 [08:45<03:59,  6.30s/it]\u001b[A\n",
      " 63%|██████▎   | 63/100 [08:58<05:07,  8.30s/it]\u001b[A\n",
      " 64%|██████▍   | 64/100 [09:01<04:04,  6.79s/it]\u001b[A\n",
      " 65%|██████▌   | 65/100 [09:05<03:20,  5.73s/it]\u001b[A\n",
      " 66%|██████▌   | 66/100 [09:15<04:00,  7.08s/it]\u001b[A\n",
      " 67%|██████▋   | 67/100 [09:24<04:08,  7.52s/it]\u001b[A\n",
      " 68%|██████▊   | 68/100 [09:31<03:58,  7.44s/it]\u001b[A\n",
      " 69%|██████▉   | 69/100 [09:39<03:57,  7.66s/it]\u001b[A\n",
      " 70%|███████   | 70/100 [09:48<04:02,  8.07s/it]\u001b[A\n",
      " 71%|███████   | 71/100 [09:56<03:49,  7.91s/it]\u001b[A\n",
      " 72%|███████▏  | 72/100 [10:08<04:16,  9.17s/it]\u001b[A\n",
      " 73%|███████▎  | 73/100 [10:17<04:13,  9.37s/it]\u001b[A\n",
      " 74%|███████▍  | 74/100 [10:28<04:09,  9.61s/it]\u001b[A\n",
      " 75%|███████▌  | 75/100 [10:44<04:50, 11.61s/it]\u001b[A\n",
      " 76%|███████▌  | 76/100 [10:56<04:42, 11.79s/it]\u001b[A\n",
      " 77%|███████▋  | 77/100 [11:11<04:49, 12.57s/it]\u001b[A\n",
      " 78%|███████▊  | 78/100 [11:20<04:17, 11.71s/it]\u001b[A\n",
      " 79%|███████▉  | 79/100 [11:30<03:54, 11.19s/it]\u001b[A\n",
      " 80%|████████  | 80/100 [11:39<03:30, 10.51s/it]\u001b[A\n",
      " 81%|████████  | 81/100 [11:46<02:58,  9.39s/it]\u001b[A\n",
      " 82%|████████▏ | 82/100 [11:56<02:51,  9.51s/it]\u001b[A\n",
      " 83%|████████▎ | 83/100 [12:05<02:38,  9.31s/it]\u001b[A\n",
      " 84%|████████▍ | 84/100 [12:12<02:20,  8.79s/it]\u001b[A\n",
      " 85%|████████▌ | 85/100 [12:20<02:07,  8.51s/it]\u001b[A\n",
      " 86%|████████▌ | 86/100 [12:27<01:54,  8.17s/it]\u001b[A\n",
      " 87%|████████▋ | 87/100 [12:33<01:38,  7.55s/it]\u001b[A\n",
      " 88%|████████▊ | 88/100 [12:43<01:38,  8.23s/it]\u001b[A\n",
      " 89%|████████▉ | 89/100 [12:53<01:35,  8.71s/it]\u001b[A\n",
      " 90%|█████████ | 90/100 [13:03<01:30,  9.04s/it]\u001b[A\n",
      " 91%|█████████ | 91/100 [13:12<01:21,  9.07s/it]\u001b[A\n",
      " 92%|█████████▏| 92/100 [13:18<01:05,  8.16s/it]\u001b[A\n",
      " 93%|█████████▎| 93/100 [13:21<00:45,  6.55s/it]\u001b[A\n",
      " 94%|█████████▍| 94/100 [13:35<00:52,  8.83s/it]\u001b[A\n",
      " 95%|█████████▌| 95/100 [13:38<00:35,  7.17s/it]\u001b[A\n",
      " 96%|█████████▌| 96/100 [13:43<00:25,  6.43s/it]\u001b[A\n",
      " 97%|█████████▋| 97/100 [14:00<00:29,  9.68s/it]\u001b[A\n",
      " 98%|█████████▊| 98/100 [14:03<00:15,  7.58s/it]\u001b[A\n",
      " 99%|█████████▉| 99/100 [14:06<00:06,  6.30s/it]\u001b[A\n",
      "100%|██████████| 100/100 [14:14<00:00,  8.54s/it]\u001b[A\n"
     ]
    }
   ],
   "source": [
    "# Parse the documents using MarkdownElementNodeParser\n",
    "\n",
    "from llama_index.core.node_parser import MarkdownElementNodeParser\n",
    "\n",
    "node_parser = MarkdownElementNodeParser(llm=llm, num_workers=3)\n",
    "\n",
    "nodes = node_parser.get_nodes_from_documents(documents)"
   ]
  },
  {
   "cell_type": "code",
   "execution_count": 41,
   "id": "1e50c164-46f4-4802-9a35-28c941964e59",
   "metadata": {},
   "outputs": [
    {
     "name": "stdout",
     "output_type": "stream",
     "text": [
      "Number of nodes: 183\n"
     ]
    }
   ],
   "source": [
    "base_nodes, objects = node_parser.get_nodes_and_objects(nodes)\n",
    "\n",
    "print(f\"Number of nodes: {len(base_nodes)}\")"
   ]
  },
  {
   "cell_type": "code",
   "execution_count": 64,
   "id": "4ba48eb2-a2dd-4d44-8a5e-87ef6056dc1d",
   "metadata": {},
   "outputs": [
    {
     "data": {
      "text/plain": [
       "'---\\n TEAMS\\n\\nIf a Player is assessed a penalty, and during the penalty they are found to be an ineligible Player, they will be removed from the game and another Player of their Team, designated by the Coach, must serve the remainder of the penalty. No additional penalties are to be assessed but a report of the incident must be submitted to the Proper Authorities.\\n\\nFor more information refer to IIHF Sport Regulations and IIHF Statutes & Bylaws.\\n\\n 5.3. GOALKEEPER\\n\\nEach Team shall be allowed one (1) Goalkeeper on the ice at one time. The Goalkeeper may be removed and substituted by another Skater. Such substitute shall not be permitted the privileges of the Goalkeeper. Each Team shall have on its Players’ Bench, or on a chair immediately beside the Players’ Bench (or nearby), a substitute Goalkeeper who shall always be fully equipped and ready to play.\\n\\nEach team shall have two (2) Goalkeepers listed on the Official Game Sheet. Exceptions to this rule are permitted in specific IIHF Championships where, only one (1) Goalkeeper, or a third (3rd) listed Goalkeeper is allowed – for additional information refer to the IIHF Sport Regulations.\\n\\nIf the listed (one or two) Goalkeeper/s is/are incapacitated, that Team shall be entitled to dress and play any Goalkeeper who is eligible. In the event that the two (2) regular Goalkeepers are injured or incapacitated in quick succession, the third (3rd) Goalkeeper shall be provided with a reasonable amount of time to get dressed, in addition to a two-minute (2) warm-up (except when they enter the game to defend against a “Penalty Shot”). If, however, the third (3rd) Goalkeeper is dressed and on the Players’ Bench when the second (2nd) Goalkeeper becomes incapacitated, the third (3rd) Goalkeeper shall enter the game immediately and no warm-up is permitted.\\n\\nFor more information refer to IIHF Sport Regulations.\\n\\n 5.4. COACHES AND TEAM PERSONNEL\\n\\nOnly Players in uniform and official team personnel duly registered on the Roster Sheet shall be permitted to occupy the Player’s Benches so provided. Every Team must have at least one Staff Member behind the Team on the Players’ Bench to act as Coach and at least one (1) qualified Coach or Medical Expert to treat Players in case of injury.\\n\\n 5.5. TEAM OFFICIALS AND TECHNOLOGY\\n\\nTeam personnel who are on or near the Players’ Bench during the Game may use radio-technology to contact other Team Personnel in an area designated by the IIHF. Other forms of technology are permitted for Coaching purposes only (e.g., statistics, tagging) and may not be used to attempt to influence the decisions of the On-ice Officials in any way. If the technology is misused, a penalty shall be assessed according to Rule 39 – Abuse of Officials.\\n\\n 5.6. PRE-GAME WARM-UP ON THE ICE\\n\\nDuring warm-up on the ice, all protective equipment must be properly worn. Players registered for an IIHF Championship and not listed on the “Line-up / Roster Sheet” may participate in a “pre-game warm-up” on the ice. No Player can warm-up on ice at the end of a period or at any stoppage of play.\\n---\\n TEAMS\\n\\nNo penalties are to be assessed but a report of the incident must be submitted to the Proper Authorities.\\n\\nFor more information refer to IIHF Sport Regulations.\\n\\n RULE 6 CAPTAIN AND ALTERNATE CAPTAINS\\n\\n6.1. CAPTAIN\\n\\nOne (1) Captain shall be appointed by each Team, and they alone shall have the privilege of discussing with the Referees any questions relating to interpretation of rules which may arise during the progress of a Game.\\n\\nThe Captain shall wear the letter “C,” approximately 8 cm in height and in contrasting color, in a conspicuous position on the front of their jersey. No “Co-Captains” are permitted. One (1) Captain and no more than two (2) Alternate Captains are permitted – see Rule 6.2 – Alternate Captains.\\n\\nAny Captain, Alternate Captain or any Player who comes off the Players’ Bench and makes any protest or intervention with the Officials for any purpose shall be assessed a Minor Penalty for “Unsportsmanlike Conduct”.\\n\\nRule 39 – Abuse of Officials.\\n\\nShould this protest continue, they may be assessed a Misconduct Penalty, and if it further continues, a Game Misconduct Penalty shall be assessed.\\n\\nSECTION · TEAMS\\n\\nA complaint about a penalty is not a matter “relating to the interpretation of the rules” and a Minor Penalty shall be imposed against any Captain, Alternate Captain or any other Player making such a complaint.'"
      ]
     },
     "execution_count": 64,
     "metadata": {},
     "output_type": "execute_result"
    }
   ],
   "source": [
    "base_nodes[25].text"
   ]
  },
  {
   "cell_type": "code",
   "execution_count": null,
   "id": "cff80878-2613-455a-bac2-631828e680c5",
   "metadata": {},
   "outputs": [],
   "source": []
  }
 ],
 "metadata": {
  "kernelspec": {
   "display_name": "Python 3 (ipykernel)",
   "language": "python",
   "name": "python3"
  },
  "language_info": {
   "codemirror_mode": {
    "name": "ipython",
    "version": 3
   },
   "file_extension": ".py",
   "mimetype": "text/x-python",
   "name": "python",
   "nbconvert_exporter": "python",
   "pygments_lexer": "ipython3",
   "version": "3.11.6"
  }
 },
 "nbformat": 4,
 "nbformat_minor": 5
}
