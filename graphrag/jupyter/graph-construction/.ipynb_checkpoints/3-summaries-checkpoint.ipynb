{
 "cells": [
  {
   "cell_type": "markdown",
   "metadata": {
    "collapsed": false,
    "jupyter": {
     "outputs_hidden": false
    }
   },
   "source": [
    "# Expand Context\n",
    "\n",
    "The Chunk Nodes are individual chunks of text that used\n",
    "to be part of an entire document.\n",
    "\n",
    "You can reconstruct the original context by connecting the nodes\n",
    "with relationships. It also makes the data easy to navigate and understand.\n",
    "\n",
    "That is super helpful when you're building an application, for debugging and testing.\n",
    "\n",
    "And, you can provide a better user experience. Your users will be able \n",
    "to directly interact with the data and even provide feedback that will\n",
    "improve subsequent answers. \n",
    "\n",
    "You will create a connected context by making the following\n",
    "changes to the knowledge graph:\n",
    "\n",
    "1. Extract, create `(:Document)` nodes for each original source Form.\n",
    "2. Enhance, add a summarized text property to each `(:Form)` node.\n",
    "3. Expand, connect each `(:Chunk)` to the `(:Form)` node that it is part of\n",
    "\n",
    "The graph will look like this...\n",
    "\n",
    "```cypher\n",
    "(:Document\n",
    "  docId: string\n",
    "  uri: string\n",
    "  summary: text\n",
    "  summaryEmbedding: float[] // vector embedding of summary\n",
    ")\n",
    "\n",
    "(:Section \n",
    "  sectionId: string //  a unique identifier for the form\n",
    "  summary: string // text summary generated with the LLM \n",
    "  summaryEmbedding: float[] // vector embedding of summary\n",
    ")\n",
    "```\n",
    "\n",
    "```cypher\n",
    "// Document contains sections\n",
    "(:Document)-[:CONTAINS]->(:Section)\n",
    "\n",
    "// Section contains Chunks\n",
    "(:Section)-[:CONTAINS]->(:Chunk)\n",
    "```"
   ]
  },
  {
   "cell_type": "markdown",
   "metadata": {},
   "source": [
    "## Setup"
   ]
  },
  {
   "cell_type": "code",
   "execution_count": 248,
   "metadata": {},
   "outputs": [
    {
     "name": "stdout",
     "output_type": "stream",
     "text": [
      "The dotenv extension is already loaded. To reload it, use:\n",
      "  %reload_ext dotenv\n",
      "Connecting to Neo4j at bolt://neo4j-1:7687 as neo4j\n",
      "Using data from /home/jovyan/data/single\n",
      "Embedding with ollama using mxbai-embed-large\n",
      "Chatting with ollama using llama3\n"
     ]
    }
   ],
   "source": [
    "%run 'shared.ipynb'"
   ]
  },
  {
   "cell_type": "markdown",
   "metadata": {},
   "source": [
    "# Extract Section Nodes\n",
    "\n",
    "There will be one Document node for each document."
   ]
  },
  {
   "cell_type": "code",
   "execution_count": 144,
   "metadata": {},
   "outputs": [],
   "source": [
    "# Create parent sections from Chunk nodes\n",
    "\n",
    "cypher_create_from_chunks = \"\"\"\n",
    "            MATCH (c:Chunk)\n",
    "            WITH c, apoc.util.sha1([coalesce(c.header4, c.header3, c.header2, c.header1)]) AS sectionId\n",
    "            MERGE (s:Section {sectionId: sectionId } )\n",
    "            SET s.header1 = c.header1\n",
    "            , s.header2 = c.header2\n",
    "            , s.header3 = c.header3\n",
    "            , s.documentUri = c.documentUri\n",
    "            , s.level = CASE WHEN c.header4 IS NOT NULL THEN 4\n",
    "                             WHEN c.header3 IS NOT NULL THEN 3\n",
    "                             WHEN c.header2 IS NOT NULL THEN 2\n",
    "                             WHEN c.header1 IS NOT NULL THEN 1\n",
    "                        END \n",
    "            , s.text = coalesce(c.header4, c.header3, c.header2, c.header1)   \n",
    "            MERGE (s)-[newRel:CONTAINS]->(c)\n",
    "            \"\"\"\n"
   ]
  },
  {
   "cell_type": "code",
   "execution_count": 145,
   "metadata": {},
   "outputs": [
    {
     "data": {
      "text/plain": [
       "EagerResult(records=[], summary=<neo4j._work.summary.ResultSummary object at 0xffff33d63a50>, keys=[])"
      ]
     },
     "execution_count": 145,
     "metadata": {},
     "output_type": "execute_result"
    }
   ],
   "source": [
    "gdb.execute_query(cypher_create_from_chunks)"
   ]
  },
  {
   "cell_type": "code",
   "execution_count": 148,
   "metadata": {},
   "outputs": [],
   "source": [
    "# Create all other sections based on the parent nodes created before\n",
    "\n",
    "cypher_create_other_sections = \"\"\"\n",
    "            MATCH (e:Section)\n",
    "            WHERE e.level = $level_to_create+1\n",
    "            WITH e, CASE WHEN $level_to_create = 1 THEN e.header1\n",
    "                    WHEN $level_to_create = 2 THEN e.header2\n",
    "                    WHEN $level_to_create = 3 THEN e.header3\n",
    "                    END as text\n",
    "            WITH e, text, apoc.util.sha1([ text ]) AS sectionId    \n",
    "            MERGE (s:Section {sectionId: sectionId} )\n",
    "            set s.header1 = e.header1\n",
    "                , s.header2 = e.header2\n",
    "                , s.documentUri = e.documentUri\n",
    "                , s.level = $level_to_create\n",
    "                , s.text = text    \n",
    "            MERGE (s)-[newRel:CONTAINS]->(e)\n",
    "            \"\"\"\n"
   ]
  },
  {
   "cell_type": "code",
   "execution_count": 149,
   "metadata": {},
   "outputs": [
    {
     "data": {
      "text/plain": [
       "EagerResult(records=[], summary=<neo4j._work.summary.ResultSummary object at 0xffff33dd6f90>, keys=[])"
      ]
     },
     "execution_count": 149,
     "metadata": {},
     "output_type": "execute_result"
    }
   ],
   "source": [
    "gdb.execute_query(cypher_create_other_sections, level_to_create=3)"
   ]
  },
  {
   "cell_type": "code",
   "execution_count": 150,
   "metadata": {},
   "outputs": [
    {
     "data": {
      "text/plain": [
       "EagerResult(records=[], summary=<neo4j._work.summary.ResultSummary object at 0xffff33fe4390>, keys=[])"
      ]
     },
     "execution_count": 150,
     "metadata": {},
     "output_type": "execute_result"
    }
   ],
   "source": [
    "gdb.execute_query(cypher_create_other_sections, level_to_create=2)"
   ]
  },
  {
   "cell_type": "code",
   "execution_count": 151,
   "metadata": {},
   "outputs": [
    {
     "data": {
      "text/plain": [
       "EagerResult(records=[], summary=<neo4j._work.summary.ResultSummary object at 0xffff33d62ed0>, keys=[])"
      ]
     },
     "execution_count": 151,
     "metadata": {},
     "output_type": "execute_result"
    }
   ],
   "source": [
    "gdb.execute_query(cypher_create_other_sections, level_to_create=1)"
   ]
  },
  {
   "cell_type": "code",
   "execution_count": 152,
   "metadata": {},
   "outputs": [
    {
     "data": {
      "text/plain": [
       "EagerResult(records=[], summary=<neo4j._work.summary.ResultSummary object at 0xffff33dd9610>, keys=[])"
      ]
     },
     "execution_count": 152,
     "metadata": {},
     "output_type": "execute_result"
    }
   ],
   "source": [
    "# Create a uniqueness constraint on the textId property of Text nodes \n",
    "gdb.execute_query('CREATE CONSTRAINT unique_section IF NOT EXISTS FOR (n:Section) REQUIRE n.sectionId IS UNIQUE')\n"
   ]
  },
  {
   "cell_type": "code",
   "execution_count": 107,
   "metadata": {},
   "outputs": [
    {
     "ename": "SyntaxError",
     "evalue": "invalid syntax (1942152747.py, line 1)",
     "output_type": "error",
     "traceback": [
      "\u001b[0;36m  Cell \u001b[0;32mIn[107], line 1\u001b[0;36m\u001b[0m\n\u001b[0;31m    MATCH (c:Chunk)-[r:NEXT]->(c1:Chunk) DELETE r\u001b[0m\n\u001b[0m            ^\u001b[0m\n\u001b[0;31mSyntaxError\u001b[0m\u001b[0;31m:\u001b[0m invalid syntax\n"
     ]
    }
   ],
   "source": [
    "MATCH (c:Chunk)-[r:NEXT]->(c1:Chunk) DELETE r"
   ]
  },
  {
   "cell_type": "markdown",
   "metadata": {},
   "source": [
    "## Extract Document nodes\n",
    "\n",
    "You can now create a Document node for each of the distinct documentUri's of the level 1 nodes.\n"
   ]
  },
  {
   "cell_type": "code",
   "execution_count": 159,
   "metadata": {},
   "outputs": [
    {
     "data": {
      "text/plain": [
       "EagerResult(records=[], summary=<neo4j._work.summary.ResultSummary object at 0xffff33bce510>, keys=[])"
      ]
     },
     "execution_count": 159,
     "metadata": {},
     "output_type": "execute_result"
    }
   ],
   "source": [
    "# Create all other sections based on the parent nodes created before\n",
    "\n",
    "cypher_create_documents = \"\"\"\n",
    "            MATCH (s:Section)\n",
    "            WHERE s.level = 1\n",
    "            MERGE (d:Document {documentId: apoc.util.sha1([s.documentUri]) } )\n",
    "            SET d.documentUri = s.documentUri\n",
    "            MERGE (d)-[newRel:CONTAINS]->(s)\n",
    "            \"\"\"\n",
    "\n",
    "gdb.execute_query(cypher_create_documents)"
   ]
  },
  {
   "cell_type": "markdown",
   "metadata": {},
   "source": [
    "# Enhance - create summary property, with embedding\n",
    "\n",
    "During the file processing above, the text from all interesting\n",
    "items were added to the `fullText` property of the `all_forms` dictionaries.\n",
    "\n",
    "We'll use an LLM to summarize the text and create an embedding.\n",
    "\n",
    "Both the text summary and the embdding will be added to the Section nodes."
   ]
  },
  {
   "cell_type": "code",
   "execution_count": 108,
   "metadata": {},
   "outputs": [
    {
     "name": "stdout",
     "output_type": "stream",
     "text": [
      "Text embeddings will have 1024 dimensions\n"
     ]
    },
    {
     "data": {
      "text/plain": [
       "[<Record id=12 name='chunks_vector' state='ONLINE' populationPercent=100.0 type='VECTOR' entityType='NODE' labelsOrTypes=['Chunk'] properties=['embedding'] indexProvider='vector-2.0' owningConstraint=None lastRead=neo4j.time.DateTime(2024, 6, 2, 17, 54, 57, 672000000, tzinfo=<UTC>) readCount=2>,\n",
       " <Record id=6 name='sections_vector' state='ONLINE' populationPercent=100.0 type='VECTOR' entityType='NODE' labelsOrTypes=['Section'] properties=['summaryEmbedding'] indexProvider='vector-2.0' owningConstraint=None lastRead=neo4j.time.DateTime(2024, 6, 2, 17, 46, 42, 478000000, tzinfo=<UTC>) readCount=1>]"
      ]
     },
     "execution_count": 108,
     "metadata": {},
     "output_type": "execute_result"
    }
   ],
   "source": [
    "# Create an embedding to find out the dimensions of the vector\n",
    "text_embedding = embeddings_api.embed_query(\"embed this text using an LLM\")\n",
    "vector_dimensions = len(text_embedding) \n",
    "\n",
    "print(f\"Text embeddings will have {vector_dimensions} dimensions\")\n",
    "# Create a vector index called \"sections_vector\" the `summaryEmbedding`` property of nodes labeled `Section`. \n",
    "gdb.execute_query(\"\"\"\n",
    "         CREATE VECTOR INDEX `sections_vector` IF NOT EXISTS\n",
    "          FOR (s:Section) ON (s.summaryEmbedding) \n",
    "          OPTIONS { indexConfig: {\n",
    "            `vector.dimensions`: $vectorDimensionsParam,\n",
    "            `vector.similarity_function`: 'cosine'    \n",
    "         }}\n",
    "\"\"\",\n",
    "  vectorDimensionsParam=vector_dimensions\n",
    ")\n",
    "\n",
    "# Check the vector indexes in the graph\n",
    "gdb.execute_query('SHOW VECTOR INDEXES').records"
   ]
  },
  {
   "cell_type": "code",
   "execution_count": null,
   "metadata": {},
   "outputs": [],
   "source": [
    "%%time\n",
    "\n",
    "query = \"\"\"\n",
    "MATCH (s:Section)-[:CONTAINS]->(c:Chunk)\n",
    "WITH s, collect(c.text) as textList\n",
    "RETURN s.sectionId AS sectionId, s.level AS level, apoc.text.join(textList, \" \\n \") AS text\n",
    "\"\"\"\n",
    "\n",
    "sections_with_text = gdb.execute_query(query).records\n",
    "for section in sections_with_text[0:]:\n",
    "    section_info = {}\n",
    "    text = section[\"text\"]\n",
    "    result = chat_api.invoke(\n",
    "      f\"\"\"Write a single, very brief sentence summary\n",
    "       based on the following information...\\n {text}. Do not respond with \"Here is a brief sentence summary:\" \n",
    "      \"\"\")\n",
    "    summary = result.content\n",
    "    print(f\"Summarized {len(summary)} characters. Here's a preview...\")\n",
    "    print(f\"\\t{summary[:120]}\")\n",
    "    section_info['summary'] = summary\n",
    "    section_info['sectionId'] = section[\"sectionId\"]\n",
    "    \n",
    "    summary_embedding = embeddings_api.embed_query(summary)\n",
    "    section_info['summaryEmbedding'] = summary_embedding\n",
    "    print(f\"\\tUpdating section with ID {section_info['sectionId']} with summary and embedding...\")\n",
    "    gdb.execute_query(\"\"\"\n",
    "      MATCH (s:Section {sectionId: $sectionInfoParam.sectionId})\n",
    "        SET s.summary = $sectionInfoParam.summary \n",
    "      WITH s\n",
    "        CALL db.create.setNodeVectorProperty(s, \"summaryEmbedding\", $sectionInfoParam.summaryEmbedding)    \n",
    "    \"\"\", \n",
    "    sectionInfoParam=section_info\n",
    "    )\n"
   ]
  },
  {
   "cell_type": "markdown",
   "metadata": {},
   "source": [
    "# Parent retriever"
   ]
  },
  {
   "cell_type": "code",
   "execution_count": 250,
   "metadata": {},
   "outputs": [
    {
     "name": "stdout",
     "output_type": "stream",
     "text": [
      "Using vector index: chunks_vector\n",
      "0.8543055653572083 : 9c8d74e33176f1e321d886cb3f7121a0da0e0307 : When a Player is injured so that they cannot continue play or go to their Players’ Bench, the play shall not be stopped until the inju- red Player’s Team has secured control of the puck. If the Player’s Team is in “control of the puck” at the time of injury, play shall be stopped immediately unless their Team is in a scoring position.\n",
      "------------\n",
      "0.8513350486755371 : 831977f9548f9ecdcfd78c6289ebf3ae312ce9de : When a Player is injured or compelled to leave the ice during a Game, they may retire from the Game and be replaced by a substitute, but play must continue without the Teams leaving the ice.  \n",
      "During the play, if an injured Player wishes to retire from the ice and be replaced by a substitute, they must do so at the Players’ Bench and not through any other exit leading from the Rink. This is not a legal Player change and therefore when a violation occurs, a Bench-minor Penalty shall be imposed.\n",
      "------------\n",
      "0.8421697020530701 : b57ab647160c70c6e802a43cd67e8ea0a3dad177 : Should the injured penalized Player who has been replaced in the Penalty Box return to their Players’ Bench prior to the expiration of their penalty, they shall not be eligible to play until their penalty has expired. This includes coincidental penalties when their substitute is still in the Penalty Box awaiting a stoppage in play.\n",
      "------------\n",
      "0.8404675722122192 : 44983ccbe437e23d4b6bcaedcf95663fb945ce45 : The injured Player must wait until their substitute has been released from the Penalty Box before they are eligible to play. If, however, there is a stoppage of play prior to the expiration of their penalty, they must then replace their Teammate in the Penalty Box and is then eligible to return once their penalty has expired.\n",
      "------------\n",
      "0.839299201965332 : a3cd6f4040de1c5481be39b13488d2542378c705 : When the injured Player’s Team has control of the puck in the Attacking Zone, the “face-off” shall be conducted at the nearest Face- off Spot in the Neutral Zone.  \n",
      "When the injured Player is in their Defending Zone and the attacking Team is in “possession of the puck” in the Attacking Zone, the “face-off” shall be conducted at the nearest Face-off Spot in the defending Team’s zone.  \n",
      "A player who lies on the ice either feigning an injury or refusing to get up off the ice will be issued a Minor Penalty.\n",
      "------------\n",
      "0.8384553790092468 : 8b7927efc126e2e41606315330cf6e4c34c53ec3 : If a penalized Player has been injured, they may proceed to the Dressing Room without taking a seat in the Penalty Box. The penalized Team shall immediately put a substitute Player in the Penalty Box, who shall serve the penalty until the injured Player is able to return to the game. They would replace their Teammate in the Penalty Box at the next stoppage of play.  \n",
      "For violation of this rule, a Bench Minor Penalty shall be imposed.\n",
      "------------\n",
      "0.8383601307868958 : 29a2e55b3177a3ba57d0252c551cb9eb81a0cd45 : In the case where it is obvious that a Player has sustained a serious injury, the Referee and/or Linesperson may stop the play imme- diately. Where an injury has occurred to a Player and there is a stoppage of play, a Team Doctor (or other Medical Personnel) may go onto the ice to attend to the injured Player without waiting for the Referee’s consent.\n",
      "------------\n",
      "0.8285782933235168 : 8ca0c9a67d0878083c411753ea7499956a2348eb : When play has been stopped by the Referee or Linesperson due to an injured Player, or whenever an injured Player is attended to on the ice by the Coach or Medical Personnel, such Player must be substituted for immediately. This injured Player cannot return to the ice until play has resumed.  \n",
      "When play is stopped for an injured Player, the ensuing “face-off” shall be conducted at the Face-off Spot in the zone nearest the location of the puck when the play was stopped.\n",
      "------------\n",
      "0.8242796659469604 : c2c3a8a86a12ef061f0dd54872c0eaf36f98078c : A Player who is bleeding or who has visible blood on their equipment or body shall be ruled off the ice at the next stoppage of play. Such Player shall not be permitted to return to play until the bleeding has been stopped and the cut or abrasion has been covered (if necessary). It is required that any affected equipment and/or uniform be properly disinfected or exchanged.\n",
      "------------\n",
      "0.8190664052963257 : 4afe9ed712809358b57e362e5c8483976cd93349 : Only Players on the Roster Sheet list submitted to the Official Scorekeeper before the game may participate in the Game. The de- termining factor when considering whether a Player is eligible is that the Player’s name, and not necessarily the Player’s number, must be correctly listed by the Team Manager or Coach of that Team.  \n",
      "Whenever an ineligible Player is identified to the Referee, the ineligible Player will be removed from the Game and the Team shall not be able to substitute another Player from its Roster.\n",
      "------------\n"
     ]
    }
   ],
   "source": [
    "search_results = neo4j_vector_search(\n",
    "    'injured Players', 'chunks_vector'\n",
    ")\n",
    "for result in search_results:\n",
    "    print (str(result[\"score\"]) + \" : \" + result[\"node\"][\"chunkId\"] + \" : \" + result[\"node\"][\"text\"] )\n",
    "    print (\"------------\")\n"
   ]
  },
  {
   "cell_type": "code",
   "execution_count": 267,
   "metadata": {},
   "outputs": [],
   "source": [
    "retrieval_query_parent = \"\"\"\n",
    "\n",
    "    WITH node AS chunk, score AS score ORDER BY score \n",
    "    OPTIONAL MATCH (chunk:Chunk)<-[:CONTAINS]-(parent)\n",
    "    OPTIONAL MATCH (parent)-[:CONTAINS]->(s:Chunk)\n",
    "    WITH chunk, s, score ORDER BY s.chunkSeqId ASC\n",
    "    WITH collect(s.text) as textList, chunk.text as text, score AS score\n",
    "    RETURN apoc.text.join(textList, \" \\n \")  as text,\n",
    "    score,  {} AS metadata \n",
    "    ORDER BY score desc\n",
    "\n",
    "\"\"\"\n",
    "\n",
    "vector_store_parent = Neo4jVector.from_existing_index(\n",
    "    embedding=embeddings_api,\n",
    "    url=NEO4J_URI,\n",
    "    username=NEO4J_USERNAME,\n",
    "    password=NEO4J_PASSWORD,\n",
    "    database=\"neo4j\",\n",
    "    index_name=VECTOR_INDEX_NAME,\n",
    "    text_node_property=VECTOR_SOURCE_PROPERTY,\n",
    "    retrieval_query=retrieval_query_parent\n",
    ")\n",
    "\n",
    "# Create a retriever from the vector store\n",
    "retriever_parent = vector_store_parent.as_retriever(search_kwargs={'k': 10})\n",
    "\n",
    "# Create a chatbot Question & Answer chain from the retriever\n",
    "chain_parent = prettifyChain(RetrievalQA.from_chain_type(\n",
    "    chat_api, \n",
    "    chain_type=\"stuff\", \n",
    "    retriever=retriever_parent,\n",
    "    chain_type_kwargs={\"verbose\": True}\n",
    "))\n"
   ]
  },
  {
   "cell_type": "code",
   "execution_count": 268,
   "metadata": {},
   "outputs": [
    {
     "data": {
      "text/plain": [
       "[Document(page_content='When a Player is injured or compelled to leave the ice during a Game, they may retire from the Game and be replaced by a substitute, but play must continue without the Teams leaving the ice.  \\nDuring the play, if an injured Player wishes to retire from the ice and be replaced by a substitute, they must do so at the Players’ Bench and not through any other exit leading from the Rink. This is not a legal Player change and therefore when a violation occurs, a Bench-minor Penalty shall be imposed. \\n If a penalized Player has been injured, they may proceed to the Dressing Room without taking a seat in the Penalty Box. The penalized Team shall immediately put a substitute Player in the Penalty Box, who shall serve the penalty until the injured Player is able to return to the game. They would replace their Teammate in the Penalty Box at the next stoppage of play.  \\nFor violation of this rule, a Bench Minor Penalty shall be imposed. \\n Should the injured penalized Player who has been replaced in the Penalty Box return to their Players’ Bench prior to the expiration of their penalty, they shall not be eligible to play until their penalty has expired. This includes coincidental penalties when their substitute is still in the Penalty Box awaiting a stoppage in play. \\n The injured Player must wait until their substitute has been released from the Penalty Box before they are eligible to play. If, however, there is a stoppage of play prior to the expiration of their penalty, they must then replace their Teammate in the Penalty Box and is then eligible to return once their penalty has expired. \\n When a Player is injured so that they cannot continue play or go to their Players’ Bench, the play shall not be stopped until the inju- red Player’s Team has secured control of the puck. If the Player’s Team is in “control of the puck” at the time of injury, play shall be stopped immediately unless their Team is in a scoring position. \\n In the case where it is obvious that a Player has sustained a serious injury, the Referee and/or Linesperson may stop the play imme- diately. Where an injury has occurred to a Player and there is a stoppage of play, a Team Doctor (or other Medical Personnel) may go onto the ice to attend to the injured Player without waiting for the Referee’s consent. \\n When play has been stopped by the Referee or Linesperson due to an injured Player, or whenever an injured Player is attended to on the ice by the Coach or Medical Personnel, such Player must be substituted for immediately. This injured Player cannot return to the ice until play has resumed.  \\nWhen play is stopped for an injured Player, the ensuing “face-off” shall be conducted at the Face-off Spot in the zone nearest the location of the puck when the play was stopped. \\n When the injured Player’s Team has control of the puck in the Attacking Zone, the “face-off” shall be conducted at the nearest Face- off Spot in the Neutral Zone.  \\nWhen the injured Player is in their Defending Zone and the attacking Team is in “possession of the puck” in the Attacking Zone, the “face-off” shall be conducted at the nearest Face-off Spot in the defending Team’s zone.  \\nA player who lies on the ice either feigning an injury or refusing to get up off the ice will be issued a Minor Penalty.'),\n",
       " Document(page_content='When a Player is injured or compelled to leave the ice during a Game, they may retire from the Game and be replaced by a substitute, but play must continue without the Teams leaving the ice.  \\nDuring the play, if an injured Player wishes to retire from the ice and be replaced by a substitute, they must do so at the Players’ Bench and not through any other exit leading from the Rink. This is not a legal Player change and therefore when a violation occurs, a Bench-minor Penalty shall be imposed. \\n If a penalized Player has been injured, they may proceed to the Dressing Room without taking a seat in the Penalty Box. The penalized Team shall immediately put a substitute Player in the Penalty Box, who shall serve the penalty until the injured Player is able to return to the game. They would replace their Teammate in the Penalty Box at the next stoppage of play.  \\nFor violation of this rule, a Bench Minor Penalty shall be imposed. \\n Should the injured penalized Player who has been replaced in the Penalty Box return to their Players’ Bench prior to the expiration of their penalty, they shall not be eligible to play until their penalty has expired. This includes coincidental penalties when their substitute is still in the Penalty Box awaiting a stoppage in play. \\n The injured Player must wait until their substitute has been released from the Penalty Box before they are eligible to play. If, however, there is a stoppage of play prior to the expiration of their penalty, they must then replace their Teammate in the Penalty Box and is then eligible to return once their penalty has expired. \\n When a Player is injured so that they cannot continue play or go to their Players’ Bench, the play shall not be stopped until the inju- red Player’s Team has secured control of the puck. If the Player’s Team is in “control of the puck” at the time of injury, play shall be stopped immediately unless their Team is in a scoring position. \\n In the case where it is obvious that a Player has sustained a serious injury, the Referee and/or Linesperson may stop the play imme- diately. Where an injury has occurred to a Player and there is a stoppage of play, a Team Doctor (or other Medical Personnel) may go onto the ice to attend to the injured Player without waiting for the Referee’s consent. \\n When play has been stopped by the Referee or Linesperson due to an injured Player, or whenever an injured Player is attended to on the ice by the Coach or Medical Personnel, such Player must be substituted for immediately. This injured Player cannot return to the ice until play has resumed.  \\nWhen play is stopped for an injured Player, the ensuing “face-off” shall be conducted at the Face-off Spot in the zone nearest the location of the puck when the play was stopped. \\n When the injured Player’s Team has control of the puck in the Attacking Zone, the “face-off” shall be conducted at the nearest Face- off Spot in the Neutral Zone.  \\nWhen the injured Player is in their Defending Zone and the attacking Team is in “possession of the puck” in the Attacking Zone, the “face-off” shall be conducted at the nearest Face-off Spot in the defending Team’s zone.  \\nA player who lies on the ice either feigning an injury or refusing to get up off the ice will be issued a Minor Penalty.'),\n",
       " Document(page_content='Only Players on the Roster Sheet list submitted to the Official Scorekeeper before the game may participate in the Game. The de- termining factor when considering whether a Player is eligible is that the Player’s name, and not necessarily the Player’s number, must be correctly listed by the Team Manager or Coach of that Team.  \\nWhenever an ineligible Player is identified to the Referee, the ineligible Player will be removed from the Game and the Team shall not be able to substitute another Player from its Roster. \\n No additional penalties are to be assessed but a report of the incident must be submitted to the Proper Authorities. For an ineligible Goalkeeper see Rule 5.3 – Goalkeeper.  \\nIf a goal is scored when an ineligible Player is on the ice (whether they were involved in the scoring or not), the goal will be disallowed. This only applies to the goal scored at the stoppage of play whereby the Player was deemed to be ineligible. All other goals scored previously by the ineligible Player’s Team (with them on the ice or not) shall be allowed. \\n If a Player is assessed a penalty, and during the penalty they are found to be an ineligible Player, they will be removed from the game and another Player of their Team, designated by the Coach, must serve the remainder of the penalty.  \\nNo additional penalties are to be assessed but a report of the incident must be submitted to the Proper Authorities.'),\n",
       " Document(page_content='Each Player listed in the line-up of each Team shall wear an individual identifying number that is 25 – 30 cm high on the back of the jersey and 10 cm high on both sleeves. Numbers are limited to whole numbers from 1 to 99. Jersey numbers such as 00, ½ (fractions), .5 (decimals), 101 (three digit) are not permitted.  \\nIn addition, each Player shall wear their surname in full, in block letters 10 cm high, across the back of their jersey at shoulder height, in block capital Roman letters of a font approved by the IIHF prior to the game or competition. \\n A Player whose hair is long enough to obscure the nameplate or number on the back of the jersey must fashion it in a ponytail or tuck the hair under the helmet.'),\n",
       " Document(page_content='When a Player is injured or compelled to leave the ice during a Game, they may retire from the Game and be replaced by a substitute, but play must continue without the Teams leaving the ice.  \\nDuring the play, if an injured Player wishes to retire from the ice and be replaced by a substitute, they must do so at the Players’ Bench and not through any other exit leading from the Rink. This is not a legal Player change and therefore when a violation occurs, a Bench-minor Penalty shall be imposed. \\n If a penalized Player has been injured, they may proceed to the Dressing Room without taking a seat in the Penalty Box. The penalized Team shall immediately put a substitute Player in the Penalty Box, who shall serve the penalty until the injured Player is able to return to the game. They would replace their Teammate in the Penalty Box at the next stoppage of play.  \\nFor violation of this rule, a Bench Minor Penalty shall be imposed. \\n Should the injured penalized Player who has been replaced in the Penalty Box return to their Players’ Bench prior to the expiration of their penalty, they shall not be eligible to play until their penalty has expired. This includes coincidental penalties when their substitute is still in the Penalty Box awaiting a stoppage in play. \\n The injured Player must wait until their substitute has been released from the Penalty Box before they are eligible to play. If, however, there is a stoppage of play prior to the expiration of their penalty, they must then replace their Teammate in the Penalty Box and is then eligible to return once their penalty has expired. \\n When a Player is injured so that they cannot continue play or go to their Players’ Bench, the play shall not be stopped until the inju- red Player’s Team has secured control of the puck. If the Player’s Team is in “control of the puck” at the time of injury, play shall be stopped immediately unless their Team is in a scoring position. \\n In the case where it is obvious that a Player has sustained a serious injury, the Referee and/or Linesperson may stop the play imme- diately. Where an injury has occurred to a Player and there is a stoppage of play, a Team Doctor (or other Medical Personnel) may go onto the ice to attend to the injured Player without waiting for the Referee’s consent. \\n When play has been stopped by the Referee or Linesperson due to an injured Player, or whenever an injured Player is attended to on the ice by the Coach or Medical Personnel, such Player must be substituted for immediately. This injured Player cannot return to the ice until play has resumed.  \\nWhen play is stopped for an injured Player, the ensuing “face-off” shall be conducted at the Face-off Spot in the zone nearest the location of the puck when the play was stopped. \\n When the injured Player’s Team has control of the puck in the Attacking Zone, the “face-off” shall be conducted at the nearest Face- off Spot in the Neutral Zone.  \\nWhen the injured Player is in their Defending Zone and the attacking Team is in “possession of the puck” in the Attacking Zone, the “face-off” shall be conducted at the nearest Face-off Spot in the defending Team’s zone.  \\nA player who lies on the ice either feigning an injury or refusing to get up off the ice will be issued a Minor Penalty.'),\n",
       " Document(page_content='All players are recommended to properly wear a neck laceration protection. This protective device is recommended to cover as large of an area as possible on the player.  \\nA Goalkeeper may attach a throat protector to the chin of their facemask. It must be made of a material that will not cause injury. Players who play in senior categories but are of the age as “Under 20” and “Under 18” categories must wear the appropriate protective equipment of these U20 and U18 categories in accordance with the specific rules.'),\n",
       " Document(page_content='When a Player has been assessed a Major Penalty and has been removed from the game or is injured, the offending Team must place a substitute in the Penalty Box immediately. They may then legally exit the Penalty Box when the Major Penalty has expired.'),\n",
       " Document(page_content='If a Goalkeeper sustains an injury or becomes ill, they must be ready to resume play immediately or be replaced by a substitute Goalkeeper and no additional time shall be allowed for the purpose of enabling the injured or ill Goalkeeper to resume their position. No warm-up shall be permitted for a substitute Goalkeeper in any game.  \\nThe substitute Goalkeeper shall be subject to the regular rules governing Goalkeepers and shall be entitled to the same privileges. \\n When a substitution for the injured Goalkeeper has been made, the injured Goalkeeper is not allowed to resume the position until the next stoppage of play. For a violation of the rule, a Minor Penalty for “Delay of Game” shall be assessed.  \\nWhen play has been stopped by the Referee or Linesperson due to an injured Goalkeeper, such Goalkeeper must be substituted for only if they have to proceed to the Players’ Bench to receive medical attention. \\n Where an injury has occurred to a Goalkeeper and there is a stoppage of play, a Team Doctor (or other Medical Personnel) may go onto the ice to attend to the injured Player without waiting for the Referee’s consent.  \\nIf the Doctor or Medical Personnel has come onto the ice to attend to the Goalkeeper and there is no undue delay, the Goalkeeper may remain in the game. However, no additional time shall be permitted by the Referee for the purpose of enabling the injured Goal- keeper to resume their position (i.e., no warm-up).'),\n",
       " Document(page_content='Only Players on the Roster Sheet list submitted to the Official Scorekeeper before the game may participate in the Game. The de- termining factor when considering whether a Player is eligible is that the Player’s name, and not necessarily the Player’s number, must be correctly listed by the Team Manager or Coach of that Team.  \\nWhenever an ineligible Player is identified to the Referee, the ineligible Player will be removed from the Game and the Team shall not be able to substitute another Player from its Roster. \\n No additional penalties are to be assessed but a report of the incident must be submitted to the Proper Authorities. For an ineligible Goalkeeper see Rule 5.3 – Goalkeeper.  \\nIf a goal is scored when an ineligible Player is on the ice (whether they were involved in the scoring or not), the goal will be disallowed. This only applies to the goal scored at the stoppage of play whereby the Player was deemed to be ineligible. All other goals scored previously by the ineligible Player’s Team (with them on the ice or not) shall be allowed. \\n If a Player is assessed a penalty, and during the penalty they are found to be an ineligible Player, they will be removed from the game and another Player of their Team, designated by the Coach, must serve the remainder of the penalty.  \\nNo additional penalties are to be assessed but a report of the incident must be submitted to the Proper Authorities.'),\n",
       " Document(page_content='When a Player is injured or compelled to leave the ice during a Game, they may retire from the Game and be replaced by a substitute, but play must continue without the Teams leaving the ice.  \\nDuring the play, if an injured Player wishes to retire from the ice and be replaced by a substitute, they must do so at the Players’ Bench and not through any other exit leading from the Rink. This is not a legal Player change and therefore when a violation occurs, a Bench-minor Penalty shall be imposed. \\n If a penalized Player has been injured, they may proceed to the Dressing Room without taking a seat in the Penalty Box. The penalized Team shall immediately put a substitute Player in the Penalty Box, who shall serve the penalty until the injured Player is able to return to the game. They would replace their Teammate in the Penalty Box at the next stoppage of play.  \\nFor violation of this rule, a Bench Minor Penalty shall be imposed. \\n Should the injured penalized Player who has been replaced in the Penalty Box return to their Players’ Bench prior to the expiration of their penalty, they shall not be eligible to play until their penalty has expired. This includes coincidental penalties when their substitute is still in the Penalty Box awaiting a stoppage in play. \\n The injured Player must wait until their substitute has been released from the Penalty Box before they are eligible to play. If, however, there is a stoppage of play prior to the expiration of their penalty, they must then replace their Teammate in the Penalty Box and is then eligible to return once their penalty has expired. \\n When a Player is injured so that they cannot continue play or go to their Players’ Bench, the play shall not be stopped until the inju- red Player’s Team has secured control of the puck. If the Player’s Team is in “control of the puck” at the time of injury, play shall be stopped immediately unless their Team is in a scoring position. \\n In the case where it is obvious that a Player has sustained a serious injury, the Referee and/or Linesperson may stop the play imme- diately. Where an injury has occurred to a Player and there is a stoppage of play, a Team Doctor (or other Medical Personnel) may go onto the ice to attend to the injured Player without waiting for the Referee’s consent. \\n When play has been stopped by the Referee or Linesperson due to an injured Player, or whenever an injured Player is attended to on the ice by the Coach or Medical Personnel, such Player must be substituted for immediately. This injured Player cannot return to the ice until play has resumed.  \\nWhen play is stopped for an injured Player, the ensuing “face-off” shall be conducted at the Face-off Spot in the zone nearest the location of the puck when the play was stopped. \\n When the injured Player’s Team has control of the puck in the Attacking Zone, the “face-off” shall be conducted at the nearest Face- off Spot in the Neutral Zone.  \\nWhen the injured Player is in their Defending Zone and the attacking Team is in “possession of the puck” in the Attacking Zone, the “face-off” shall be conducted at the nearest Face-off Spot in the defending Team’s zone.  \\nA player who lies on the ice either feigning an injury or refusing to get up off the ice will be issued a Minor Penalty.')]"
      ]
     },
     "execution_count": 268,
     "metadata": {},
     "output_type": "execute_result"
    }
   ],
   "source": [
    "docs = retriever_parent.invoke(\"what happens if a player is injured\")\n",
    "docs"
   ]
  },
  {
   "cell_type": "code",
   "execution_count": 269,
   "metadata": {},
   "outputs": [
    {
     "name": "stdout",
     "output_type": "stream",
     "text": [
      "\n",
      "\n",
      "\u001b[1m> Entering new StuffDocumentsChain chain...\u001b[0m\n",
      "\n",
      "\n",
      "\u001b[1m> Entering new LLMChain chain...\u001b[0m\n",
      "Prompt after formatting:\n",
      "\u001b[32;1m\u001b[1;3mSystem: Use the following pieces of context to answer the user's question. \n",
      "If you don't know the answer, just say that you don't know, don't try to make up an answer.\n",
      "----------------\n",
      "When a Player is injured or compelled to leave the ice during a Game, they may retire from the Game and be replaced by a substitute, but play must continue without the Teams leaving the ice.  \n",
      "During the play, if an injured Player wishes to retire from the ice and be replaced by a substitute, they must do so at the Players’ Bench and not through any other exit leading from the Rink. This is not a legal Player change and therefore when a violation occurs, a Bench-minor Penalty shall be imposed. \n",
      " If a penalized Player has been injured, they may proceed to the Dressing Room without taking a seat in the Penalty Box. The penalized Team shall immediately put a substitute Player in the Penalty Box, who shall serve the penalty until the injured Player is able to return to the game. They would replace their Teammate in the Penalty Box at the next stoppage of play.  \n",
      "For violation of this rule, a Bench Minor Penalty shall be imposed. \n",
      " Should the injured penalized Player who has been replaced in the Penalty Box return to their Players’ Bench prior to the expiration of their penalty, they shall not be eligible to play until their penalty has expired. This includes coincidental penalties when their substitute is still in the Penalty Box awaiting a stoppage in play. \n",
      " The injured Player must wait until their substitute has been released from the Penalty Box before they are eligible to play. If, however, there is a stoppage of play prior to the expiration of their penalty, they must then replace their Teammate in the Penalty Box and is then eligible to return once their penalty has expired. \n",
      " When a Player is injured so that they cannot continue play or go to their Players’ Bench, the play shall not be stopped until the inju- red Player’s Team has secured control of the puck. If the Player’s Team is in “control of the puck” at the time of injury, play shall be stopped immediately unless their Team is in a scoring position. \n",
      " In the case where it is obvious that a Player has sustained a serious injury, the Referee and/or Linesperson may stop the play imme- diately. Where an injury has occurred to a Player and there is a stoppage of play, a Team Doctor (or other Medical Personnel) may go onto the ice to attend to the injured Player without waiting for the Referee’s consent. \n",
      " When play has been stopped by the Referee or Linesperson due to an injured Player, or whenever an injured Player is attended to on the ice by the Coach or Medical Personnel, such Player must be substituted for immediately. This injured Player cannot return to the ice until play has resumed.  \n",
      "When play is stopped for an injured Player, the ensuing “face-off” shall be conducted at the Face-off Spot in the zone nearest the location of the puck when the play was stopped. \n",
      " When the injured Player’s Team has control of the puck in the Attacking Zone, the “face-off” shall be conducted at the nearest Face- off Spot in the Neutral Zone.  \n",
      "When the injured Player is in their Defending Zone and the attacking Team is in “possession of the puck” in the Attacking Zone, the “face-off” shall be conducted at the nearest Face-off Spot in the defending Team’s zone.  \n",
      "A player who lies on the ice either feigning an injury or refusing to get up off the ice will be issued a Minor Penalty.\n",
      "\n",
      "When a Player is injured or compelled to leave the ice during a Game, they may retire from the Game and be replaced by a substitute, but play must continue without the Teams leaving the ice.  \n",
      "During the play, if an injured Player wishes to retire from the ice and be replaced by a substitute, they must do so at the Players’ Bench and not through any other exit leading from the Rink. This is not a legal Player change and therefore when a violation occurs, a Bench-minor Penalty shall be imposed. \n",
      " If a penalized Player has been injured, they may proceed to the Dressing Room without taking a seat in the Penalty Box. The penalized Team shall immediately put a substitute Player in the Penalty Box, who shall serve the penalty until the injured Player is able to return to the game. They would replace their Teammate in the Penalty Box at the next stoppage of play.  \n",
      "For violation of this rule, a Bench Minor Penalty shall be imposed. \n",
      " Should the injured penalized Player who has been replaced in the Penalty Box return to their Players’ Bench prior to the expiration of their penalty, they shall not be eligible to play until their penalty has expired. This includes coincidental penalties when their substitute is still in the Penalty Box awaiting a stoppage in play. \n",
      " The injured Player must wait until their substitute has been released from the Penalty Box before they are eligible to play. If, however, there is a stoppage of play prior to the expiration of their penalty, they must then replace their Teammate in the Penalty Box and is then eligible to return once their penalty has expired. \n",
      " When a Player is injured so that they cannot continue play or go to their Players’ Bench, the play shall not be stopped until the inju- red Player’s Team has secured control of the puck. If the Player’s Team is in “control of the puck” at the time of injury, play shall be stopped immediately unless their Team is in a scoring position. \n",
      " In the case where it is obvious that a Player has sustained a serious injury, the Referee and/or Linesperson may stop the play imme- diately. Where an injury has occurred to a Player and there is a stoppage of play, a Team Doctor (or other Medical Personnel) may go onto the ice to attend to the injured Player without waiting for the Referee’s consent. \n",
      " When play has been stopped by the Referee or Linesperson due to an injured Player, or whenever an injured Player is attended to on the ice by the Coach or Medical Personnel, such Player must be substituted for immediately. This injured Player cannot return to the ice until play has resumed.  \n",
      "When play is stopped for an injured Player, the ensuing “face-off” shall be conducted at the Face-off Spot in the zone nearest the location of the puck when the play was stopped. \n",
      " When the injured Player’s Team has control of the puck in the Attacking Zone, the “face-off” shall be conducted at the nearest Face- off Spot in the Neutral Zone.  \n",
      "When the injured Player is in their Defending Zone and the attacking Team is in “possession of the puck” in the Attacking Zone, the “face-off” shall be conducted at the nearest Face-off Spot in the defending Team’s zone.  \n",
      "A player who lies on the ice either feigning an injury or refusing to get up off the ice will be issued a Minor Penalty.\n",
      "\n",
      "Only Players on the Roster Sheet list submitted to the Official Scorekeeper before the game may participate in the Game. The de- termining factor when considering whether a Player is eligible is that the Player’s name, and not necessarily the Player’s number, must be correctly listed by the Team Manager or Coach of that Team.  \n",
      "Whenever an ineligible Player is identified to the Referee, the ineligible Player will be removed from the Game and the Team shall not be able to substitute another Player from its Roster. \n",
      " No additional penalties are to be assessed but a report of the incident must be submitted to the Proper Authorities. For an ineligible Goalkeeper see Rule 5.3 – Goalkeeper.  \n",
      "If a goal is scored when an ineligible Player is on the ice (whether they were involved in the scoring or not), the goal will be disallowed. This only applies to the goal scored at the stoppage of play whereby the Player was deemed to be ineligible. All other goals scored previously by the ineligible Player’s Team (with them on the ice or not) shall be allowed. \n",
      " If a Player is assessed a penalty, and during the penalty they are found to be an ineligible Player, they will be removed from the game and another Player of their Team, designated by the Coach, must serve the remainder of the penalty.  \n",
      "No additional penalties are to be assessed but a report of the incident must be submitted to the Proper Authorities.\n",
      "\n",
      "Each Player listed in the line-up of each Team shall wear an individual identifying number that is 25 – 30 cm high on the back of the jersey and 10 cm high on both sleeves. Numbers are limited to whole numbers from 1 to 99. Jersey numbers such as 00, ½ (fractions), .5 (decimals), 101 (three digit) are not permitted.  \n",
      "In addition, each Player shall wear their surname in full, in block letters 10 cm high, across the back of their jersey at shoulder height, in block capital Roman letters of a font approved by the IIHF prior to the game or competition. \n",
      " A Player whose hair is long enough to obscure the nameplate or number on the back of the jersey must fashion it in a ponytail or tuck the hair under the helmet.\n",
      "\n",
      "When a Player is injured or compelled to leave the ice during a Game, they may retire from the Game and be replaced by a substitute, but play must continue without the Teams leaving the ice.  \n",
      "During the play, if an injured Player wishes to retire from the ice and be replaced by a substitute, they must do so at the Players’ Bench and not through any other exit leading from the Rink. This is not a legal Player change and therefore when a violation occurs, a Bench-minor Penalty shall be imposed. \n",
      " If a penalized Player has been injured, they may proceed to the Dressing Room without taking a seat in the Penalty Box. The penalized Team shall immediately put a substitute Player in the Penalty Box, who shall serve the penalty until the injured Player is able to return to the game. They would replace their Teammate in the Penalty Box at the next stoppage of play.  \n",
      "For violation of this rule, a Bench Minor Penalty shall be imposed. \n",
      " Should the injured penalized Player who has been replaced in the Penalty Box return to their Players’ Bench prior to the expiration of their penalty, they shall not be eligible to play until their penalty has expired. This includes coincidental penalties when their substitute is still in the Penalty Box awaiting a stoppage in play. \n",
      " The injured Player must wait until their substitute has been released from the Penalty Box before they are eligible to play. If, however, there is a stoppage of play prior to the expiration of their penalty, they must then replace their Teammate in the Penalty Box and is then eligible to return once their penalty has expired. \n",
      " When a Player is injured so that they cannot continue play or go to their Players’ Bench, the play shall not be stopped until the inju- red Player’s Team has secured control of the puck. If the Player’s Team is in “control of the puck” at the time of injury, play shall be stopped immediately unless their Team is in a scoring position. \n",
      " In the case where it is obvious that a Player has sustained a serious injury, the Referee and/or Linesperson may stop the play imme- diately. Where an injury has occurred to a Player and there is a stoppage of play, a Team Doctor (or other Medical Personnel) may go onto the ice to attend to the injured Player without waiting for the Referee’s consent. \n",
      " When play has been stopped by the Referee or Linesperson due to an injured Player, or whenever an injured Player is attended to on the ice by the Coach or Medical Personnel, such Player must be substituted for immediately. This injured Player cannot return to the ice until play has resumed.  \n",
      "When play is stopped for an injured Player, the ensuing “face-off” shall be conducted at the Face-off Spot in the zone nearest the location of the puck when the play was stopped. \n",
      " When the injured Player’s Team has control of the puck in the Attacking Zone, the “face-off” shall be conducted at the nearest Face- off Spot in the Neutral Zone.  \n",
      "When the injured Player is in their Defending Zone and the attacking Team is in “possession of the puck” in the Attacking Zone, the “face-off” shall be conducted at the nearest Face-off Spot in the defending Team’s zone.  \n",
      "A player who lies on the ice either feigning an injury or refusing to get up off the ice will be issued a Minor Penalty.\n",
      "\n",
      "All players are recommended to properly wear a neck laceration protection. This protective device is recommended to cover as large of an area as possible on the player.  \n",
      "A Goalkeeper may attach a throat protector to the chin of their facemask. It must be made of a material that will not cause injury. Players who play in senior categories but are of the age as “Under 20” and “Under 18” categories must wear the appropriate protective equipment of these U20 and U18 categories in accordance with the specific rules.\n",
      "\n",
      "When a Player has been assessed a Major Penalty and has been removed from the game or is injured, the offending Team must place a substitute in the Penalty Box immediately. They may then legally exit the Penalty Box when the Major Penalty has expired.\n",
      "\n",
      "If a Goalkeeper sustains an injury or becomes ill, they must be ready to resume play immediately or be replaced by a substitute Goalkeeper and no additional time shall be allowed for the purpose of enabling the injured or ill Goalkeeper to resume their position. No warm-up shall be permitted for a substitute Goalkeeper in any game.  \n",
      "The substitute Goalkeeper shall be subject to the regular rules governing Goalkeepers and shall be entitled to the same privileges. \n",
      " When a substitution for the injured Goalkeeper has been made, the injured Goalkeeper is not allowed to resume the position until the next stoppage of play. For a violation of the rule, a Minor Penalty for “Delay of Game” shall be assessed.  \n",
      "When play has been stopped by the Referee or Linesperson due to an injured Goalkeeper, such Goalkeeper must be substituted for only if they have to proceed to the Players’ Bench to receive medical attention. \n",
      " Where an injury has occurred to a Goalkeeper and there is a stoppage of play, a Team Doctor (or other Medical Personnel) may go onto the ice to attend to the injured Player without waiting for the Referee’s consent.  \n",
      "If the Doctor or Medical Personnel has come onto the ice to attend to the Goalkeeper and there is no undue delay, the Goalkeeper may remain in the game. However, no additional time shall be permitted by the Referee for the purpose of enabling the injured Goal- keeper to resume their position (i.e., no warm-up).\n",
      "\n",
      "Only Players on the Roster Sheet list submitted to the Official Scorekeeper before the game may participate in the Game. The de- termining factor when considering whether a Player is eligible is that the Player’s name, and not necessarily the Player’s number, must be correctly listed by the Team Manager or Coach of that Team.  \n",
      "Whenever an ineligible Player is identified to the Referee, the ineligible Player will be removed from the Game and the Team shall not be able to substitute another Player from its Roster. \n",
      " No additional penalties are to be assessed but a report of the incident must be submitted to the Proper Authorities. For an ineligible Goalkeeper see Rule 5.3 – Goalkeeper.  \n",
      "If a goal is scored when an ineligible Player is on the ice (whether they were involved in the scoring or not), the goal will be disallowed. This only applies to the goal scored at the stoppage of play whereby the Player was deemed to be ineligible. All other goals scored previously by the ineligible Player’s Team (with them on the ice or not) shall be allowed. \n",
      " If a Player is assessed a penalty, and during the penalty they are found to be an ineligible Player, they will be removed from the game and another Player of their Team, designated by the Coach, must serve the remainder of the penalty.  \n",
      "No additional penalties are to be assessed but a report of the incident must be submitted to the Proper Authorities.\n",
      "\n",
      "When a Player is injured or compelled to leave the ice during a Game, they may retire from the Game and be replaced by a substitute, but play must continue without the Teams leaving the ice.  \n",
      "During the play, if an injured Player wishes to retire from the ice and be replaced by a substitute, they must do so at the Players’ Bench and not through any other exit leading from the Rink. This is not a legal Player change and therefore when a violation occurs, a Bench-minor Penalty shall be imposed. \n",
      " If a penalized Player has been injured, they may proceed to the Dressing Room without taking a seat in the Penalty Box. The penalized Team shall immediately put a substitute Player in the Penalty Box, who shall serve the penalty until the injured Player is able to return to the game. They would replace their Teammate in the Penalty Box at the next stoppage of play.  \n",
      "For violation of this rule, a Bench Minor Penalty shall be imposed. \n",
      " Should the injured penalized Player who has been replaced in the Penalty Box return to their Players’ Bench prior to the expiration of their penalty, they shall not be eligible to play until their penalty has expired. This includes coincidental penalties when their substitute is still in the Penalty Box awaiting a stoppage in play. \n",
      " The injured Player must wait until their substitute has been released from the Penalty Box before they are eligible to play. If, however, there is a stoppage of play prior to the expiration of their penalty, they must then replace their Teammate in the Penalty Box and is then eligible to return once their penalty has expired. \n",
      " When a Player is injured so that they cannot continue play or go to their Players’ Bench, the play shall not be stopped until the inju- red Player’s Team has secured control of the puck. If the Player’s Team is in “control of the puck” at the time of injury, play shall be stopped immediately unless their Team is in a scoring position. \n",
      " In the case where it is obvious that a Player has sustained a serious injury, the Referee and/or Linesperson may stop the play imme- diately. Where an injury has occurred to a Player and there is a stoppage of play, a Team Doctor (or other Medical Personnel) may go onto the ice to attend to the injured Player without waiting for the Referee’s consent. \n",
      " When play has been stopped by the Referee or Linesperson due to an injured Player, or whenever an injured Player is attended to on the ice by the Coach or Medical Personnel, such Player must be substituted for immediately. This injured Player cannot return to the ice until play has resumed.  \n",
      "When play is stopped for an injured Player, the ensuing “face-off” shall be conducted at the Face-off Spot in the zone nearest the location of the puck when the play was stopped. \n",
      " When the injured Player’s Team has control of the puck in the Attacking Zone, the “face-off” shall be conducted at the nearest Face- off Spot in the Neutral Zone.  \n",
      "When the injured Player is in their Defending Zone and the attacking Team is in “possession of the puck” in the Attacking Zone, the “face-off” shall be conducted at the nearest Face-off Spot in the defending Team’s zone.  \n",
      "A player who lies on the ice either feigning an injury or refusing to get up off the ice will be issued a Minor Penalty.\n",
      "Human: what happens if a player is injured\u001b[0m\n",
      "\n",
      "\u001b[1m> Finished chain.\u001b[0m\n",
      "\n",
      "\u001b[1m> Finished chain.\u001b[0m\n",
      "According to the rules, if a player is injured during play, the following\n",
      "procedures apply:  1. **Play continues**: The game does not stop immediately\n",
      "when a player is injured. Play continues until the injured player's team gains\n",
      "control of the puck. 2. **Injury severity**: If it's clear that the injury is\n",
      "serious, the referee or linesperson may stop play immediately. 3. **Medical\n",
      "attention**: A team doctor (or other medical personnel) can enter the ice to\n",
      "attend to the injured player without waiting for the referee's consent. 4.\n",
      "**Substitution**: The injured player must be substituted for immediately. They\n",
      "cannot return to the game until play has resumed. 5. **Face-off location**: When\n",
      "play is stopped due to an injury, the ensuing face-off will be conducted at the\n",
      "face-off spot in the zone nearest to where the puck was located when play was\n",
      "stopped.  Additionally, if a player is injured while serving a penalty, they can\n",
      "proceed to the dressing room without taking a seat in the penalty box. Their\n",
      "team must immediately put another player in the penalty box to serve the\n",
      "remainder of the penalty.  If an injured player returns to their bench before\n",
      "their penalty has expired, they are not eligible to play until their penalty has\n",
      "been served. They must wait for their substitute to be released from the penalty\n",
      "box before they can return to play.\n"
     ]
    }
   ],
   "source": [
    "chain_parent(\"what happens if a player is injured\")"
   ]
  },
  {
   "cell_type": "code",
   "execution_count": 266,
   "metadata": {},
   "outputs": [
    {
     "name": "stdout",
     "output_type": "stream",
     "text": [
      "Using vector index: chunks_vector\n"
     ]
    },
    {
     "data": {
      "text/plain": [
       "<Record text='When a Player is injured or compelled to leave the ice during a Game, they may retire from the Game and be replaced by a substitute, but play must continue without the Teams leaving the ice.  \\nDuring the play, if an injured Player wishes to retire from the ice and be replaced by a substitute, they must do so at the Players’ Bench and not through any other exit leading from the Rink. This is not a legal Player change and therefore when a violation occurs, a Bench-minor Penalty shall be imposed. \\n If a penalized Player has been injured, they may proceed to the Dressing Room without taking a seat in the Penalty Box. The penalized Team shall immediately put a substitute Player in the Penalty Box, who shall serve the penalty until the injured Player is able to return to the game. They would replace their Teammate in the Penalty Box at the next stoppage of play.  \\nFor violation of this rule, a Bench Minor Penalty shall be imposed. \\n Should the injured penalized Player who has been replaced in the Penalty Box return to their Players’ Bench prior to the expiration of their penalty, they shall not be eligible to play until their penalty has expired. This includes coincidental penalties when their substitute is still in the Penalty Box awaiting a stoppage in play. \\n The injured Player must wait until their substitute has been released from the Penalty Box before they are eligible to play. If, however, there is a stoppage of play prior to the expiration of their penalty, they must then replace their Teammate in the Penalty Box and is then eligible to return once their penalty has expired. \\n When a Player is injured so that they cannot continue play or go to their Players’ Bench, the play shall not be stopped until the inju- red Player’s Team has secured control of the puck. If the Player’s Team is in “control of the puck” at the time of injury, play shall be stopped immediately unless their Team is in a scoring position. \\n In the case where it is obvious that a Player has sustained a serious injury, the Referee and/or Linesperson may stop the play imme- diately. Where an injury has occurred to a Player and there is a stoppage of play, a Team Doctor (or other Medical Personnel) may go onto the ice to attend to the injured Player without waiting for the Referee’s consent. \\n When play has been stopped by the Referee or Linesperson due to an injured Player, or whenever an injured Player is attended to on the ice by the Coach or Medical Personnel, such Player must be substituted for immediately. This injured Player cannot return to the ice until play has resumed.  \\nWhen play is stopped for an injured Player, the ensuing “face-off” shall be conducted at the Face-off Spot in the zone nearest the location of the puck when the play was stopped. \\n When the injured Player’s Team has control of the puck in the Attacking Zone, the “face-off” shall be conducted at the nearest Face- off Spot in the Neutral Zone.  \\nWhen the injured Player is in their Defending Zone and the attacking Team is in “possession of the puck” in the Attacking Zone, the “face-off” shall be conducted at the nearest Face-off Spot in the defending Team’s zone.  \\nA player who lies on the ice either feigning an injury or refusing to get up off the ice will be issued a Minor Penalty.' score=0.8643819093704224 metadata={}>"
      ]
     },
     "execution_count": 266,
     "metadata": {},
     "output_type": "execute_result"
    }
   ],
   "source": [
    "\n",
    "\n",
    "retrieval_query_parent = \"\"\"\n",
    "    WITH node AS chunk, score AS score ORDER BY score \n",
    "    OPTIONAL MATCH (chunk:Chunk)<-[:CONTAINS]-(parent)\n",
    "    OPTIONAL MATCH (parent)-[:CONTAINS]->(s:Chunk)\n",
    "    WITH chunk, s, score ORDER BY s.chunkSeqId ASC\n",
    "    WITH collect(s.text) as textList, chunk.text as text, score AS score\n",
    "    RETURN apoc.text.join(textList, \" \\n \")  as text,\n",
    "    score,  {} AS metadata \n",
    "    ORDER BY score desc\n",
    "\"\"\"\n",
    "\n",
    "\n",
    "def neo4j_vector_search_2(question, retrieval_query):\n",
    "  \"\"\"Search for similar nodes using the Neo4j vector index\"\"\"\n",
    "  vector_search_query = \"\"\"\n",
    "    CALL db.index.vector.queryNodes($index_name, $top_k, $question_embedding) \n",
    "        YIELD node, score\n",
    "  \"\"\" + retrieval_query\n",
    "  similar = []\n",
    "\n",
    "  print (\"Using vector index: \" + str(VECTOR_INDEX_NAME))\n",
    "    \n",
    "  question_embedding = embeddings_api.embed_query(question)\n",
    "  return gdb.execute_query(vector_search_query,\n",
    "                      question=question, \n",
    "                      question_embedding=question_embedding, \n",
    "                      index_name=VECTOR_INDEX_NAME, \n",
    "                      top_k=10\n",
    "                    ).records\n",
    "\n",
    "search_results = neo4j_vector_search_2(\n",
    "    'injured player', retrieval_query_parent\n",
    ")\n",
    "search_results[0]\n",
    "    "
   ]
  },
  {
   "cell_type": "code",
   "execution_count": null,
   "metadata": {},
   "outputs": [],
   "source": [
    "MATCH (c:Chunk)<-[:CONTAINS]-(s:Section)\n",
    "WHERE c.header4 = '8.1. INJURED PLAYER'\n",
    "    RETURN c, s\n",
    "    "
   ]
  }
 ],
 "metadata": {
  "kernelspec": {
   "display_name": "Python 3 (ipykernel)",
   "language": "python",
   "name": "python3"
  },
  "language_info": {
   "codemirror_mode": {
    "name": "ipython",
    "version": 3
   },
   "file_extension": ".py",
   "mimetype": "text/x-python",
   "name": "python",
   "nbconvert_exporter": "python",
   "pygments_lexer": "ipython3",
   "version": "3.11.6"
  }
 },
 "nbformat": 4,
 "nbformat_minor": 4
}
