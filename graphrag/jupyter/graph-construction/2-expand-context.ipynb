{
 "cells": [
  {
   "cell_type": "markdown",
   "metadata": {
    "collapsed": false,
    "jupyter": {
     "outputs_hidden": false
    }
   },
   "source": [
    "# Expand Context\n",
    "\n",
    "The Chunk Nodes are individual chunks of text that used\n",
    "to be part of an entire document.\n",
    "\n",
    "You can reconstruct the original context by connecting the nodes\n",
    "with relationships. It also makes the data easy to navigate and understand.\n",
    "\n",
    "That is super helpful when you're building an application, for debugging and testing.\n",
    "\n",
    "And, you can provide a better user experience. Your users will be able \n",
    "to directly interact with the data and even provide feedback that will\n",
    "improve subsequent answers. \n",
    "\n",
    "You will create a connected context by making the following\n",
    "changes to the knowledge graph:\n",
    "\n",
    "1. Extract, create `(:Document)` nodes for each original source Form.\n",
    "2. Enhance, add a summarized text property to each `(:Form)` node.\n",
    "3. Expand, connect each `(:Chunk)` to the `(:Form)` node that it is part of\n",
    "\n",
    "The graph will look like this...\n",
    "\n",
    "```cypher\n",
    "(:Document\n",
    "  documentId: string\n",
    "  documentUri: string\n",
    ")\n",
    "\n",
    "(:Section \n",
    "  sectionId: string //  a unique identifier for the form\n",
    "  level: integer\n",
    "  text: string\n",
    "  summary: string // text summary generated with the LLM \n",
    "  summaryEmbedding: float[] // vector embedding of summary\n",
    "  documentUri: string\n",
    "  header1: string\n",
    "  header2: string\n",
    "  header3: string\n",
    ")\n",
    "```\n",
    "\n",
    "```cypher\n",
    "// Document contains sections\n",
    "(:Document)-[:CONTAINS]->(:Section)\n",
    "\n",
    "// Section contains Chunks\n",
    "(:Section)-[:CONTAINS]->(:Chunk)\n",
    "```"
   ]
  },
  {
   "cell_type": "markdown",
   "metadata": {},
   "source": [
    "## Setup"
   ]
  },
  {
   "cell_type": "code",
   "execution_count": 3,
   "metadata": {},
   "outputs": [
    {
     "name": "stdout",
     "output_type": "stream",
     "text": [
      "Connecting to Neo4j at bolt://neo4j-1:7687 as neo4j\n",
      "Using data from /home/jovyan/data/single\n",
      "Embedding with ollama using mxbai-embed-large\n",
      "Chatting with ollama using llama3\n"
     ]
    }
   ],
   "source": [
    "%run 'shared.ipynb'"
   ]
  },
  {
   "cell_type": "markdown",
   "metadata": {},
   "source": [
    "# Extract Section Nodes\n",
    "\n",
    "There will be one Document node for each document."
   ]
  },
  {
   "cell_type": "code",
   "execution_count": 4,
   "metadata": {},
   "outputs": [],
   "source": [
    "# Create parent sections from Chunk nodes\n",
    "\n",
    "cypher_create_from_chunks = \"\"\"\n",
    "            MATCH (c:Chunk)\n",
    "            WITH c, apoc.util.sha1([coalesce(c.header4, c.header3, c.header2, c.header1)]) AS sectionId\n",
    "            MERGE (s:Section {sectionId: sectionId } )\n",
    "            SET s.header1 = c.header1\n",
    "            , s.header2 = c.header2\n",
    "            , s.header3 = c.header3\n",
    "            , s.documentUri = c.documentUri\n",
    "            , s.level = CASE WHEN c.header4 IS NOT NULL THEN 4\n",
    "                             WHEN c.header3 IS NOT NULL THEN 3\n",
    "                             WHEN c.header2 IS NOT NULL THEN 2\n",
    "                             WHEN c.header1 IS NOT NULL THEN 1\n",
    "                        END \n",
    "            , s.text = coalesce(c.header4, c.header3, c.header2, c.header1)   \n",
    "            MERGE (s)-[newRel:CONTAINS]->(c)\n",
    "            \"\"\"\n"
   ]
  },
  {
   "cell_type": "code",
   "execution_count": 5,
   "metadata": {},
   "outputs": [
    {
     "data": {
      "text/plain": [
       "EagerResult(records=[], summary=<neo4j._work.summary.ResultSummary object at 0xffffa821cd50>, keys=[])"
      ]
     },
     "execution_count": 5,
     "metadata": {},
     "output_type": "execute_result"
    }
   ],
   "source": [
    "gdb.execute_query(cypher_create_from_chunks)"
   ]
  },
  {
   "cell_type": "code",
   "execution_count": 6,
   "metadata": {},
   "outputs": [],
   "source": [
    "# Create all other sections based on the parent nodes created before\n",
    "\n",
    "cypher_create_other_sections = \"\"\"\n",
    "            MATCH (e:Section)\n",
    "            WHERE e.level = $level_to_create+1\n",
    "            WITH e, CASE WHEN $level_to_create = 1 THEN e.header1\n",
    "                    WHEN $level_to_create = 2 THEN e.header2\n",
    "                    WHEN $level_to_create = 3 THEN e.header3\n",
    "                    END as text\n",
    "            WITH e, text, apoc.util.sha1([ text ]) AS sectionId    \n",
    "            MERGE (s:Section {sectionId: sectionId} )\n",
    "            set s.header1 = e.header1\n",
    "                , s.header2 = e.header2\n",
    "                , s.documentUri = e.documentUri\n",
    "                , s.level = $level_to_create\n",
    "                , s.text = text    \n",
    "            MERGE (s)-[newRel:CONTAINS]->(e)\n",
    "            \"\"\"\n"
   ]
  },
  {
   "cell_type": "code",
   "execution_count": 7,
   "metadata": {},
   "outputs": [
    {
     "data": {
      "text/plain": [
       "EagerResult(records=[], summary=<neo4j._work.summary.ResultSummary object at 0xffff55d65690>, keys=[])"
      ]
     },
     "execution_count": 7,
     "metadata": {},
     "output_type": "execute_result"
    }
   ],
   "source": [
    "gdb.execute_query(cypher_create_other_sections, level_to_create=3)"
   ]
  },
  {
   "cell_type": "code",
   "execution_count": 8,
   "metadata": {},
   "outputs": [
    {
     "data": {
      "text/plain": [
       "EagerResult(records=[], summary=<neo4j._work.summary.ResultSummary object at 0xffff55d66f90>, keys=[])"
      ]
     },
     "execution_count": 8,
     "metadata": {},
     "output_type": "execute_result"
    }
   ],
   "source": [
    "gdb.execute_query(cypher_create_other_sections, level_to_create=2)"
   ]
  },
  {
   "cell_type": "code",
   "execution_count": 9,
   "metadata": {},
   "outputs": [
    {
     "data": {
      "text/plain": [
       "EagerResult(records=[], summary=<neo4j._work.summary.ResultSummary object at 0xffff55d68650>, keys=[])"
      ]
     },
     "execution_count": 9,
     "metadata": {},
     "output_type": "execute_result"
    }
   ],
   "source": [
    "gdb.execute_query(cypher_create_other_sections, level_to_create=1)"
   ]
  },
  {
   "cell_type": "code",
   "execution_count": 10,
   "metadata": {},
   "outputs": [
    {
     "data": {
      "text/plain": [
       "EagerResult(records=[], summary=<neo4j._work.summary.ResultSummary object at 0xffff55d69e10>, keys=[])"
      ]
     },
     "execution_count": 10,
     "metadata": {},
     "output_type": "execute_result"
    }
   ],
   "source": [
    "# Create a uniqueness constraint on the textId property of Text nodes \n",
    "gdb.execute_query('CREATE CONSTRAINT unique_section IF NOT EXISTS FOR (n:Section) REQUIRE n.sectionId IS UNIQUE')\n"
   ]
  },
  {
   "cell_type": "code",
   "execution_count": 11,
   "metadata": {},
   "outputs": [
    {
     "ename": "SyntaxError",
     "evalue": "invalid syntax (1942152747.py, line 1)",
     "output_type": "error",
     "traceback": [
      "\u001b[0;36m  Cell \u001b[0;32mIn[11], line 1\u001b[0;36m\u001b[0m\n\u001b[0;31m    MATCH (c:Chunk)-[r:NEXT]->(c1:Chunk) DELETE r\u001b[0m\n\u001b[0m            ^\u001b[0m\n\u001b[0;31mSyntaxError\u001b[0m\u001b[0;31m:\u001b[0m invalid syntax\n"
     ]
    }
   ],
   "source": [
    "MATCH (c:Chunk)-[r:NEXT]->(c1:Chunk) DELETE r"
   ]
  },
  {
   "cell_type": "markdown",
   "metadata": {},
   "source": [
    "## Extract Document nodes\n",
    "\n",
    "You can now create a Document node for each of the distinct documentUri's of the level 1 nodes.\n"
   ]
  },
  {
   "cell_type": "code",
   "execution_count": 12,
   "metadata": {},
   "outputs": [
    {
     "data": {
      "text/plain": [
       "EagerResult(records=[], summary=<neo4j._work.summary.ResultSummary object at 0xffffac144710>, keys=[])"
      ]
     },
     "execution_count": 12,
     "metadata": {},
     "output_type": "execute_result"
    }
   ],
   "source": [
    "# Create all other sections based on the parent nodes created before\n",
    "\n",
    "cypher_create_documents = \"\"\"\n",
    "            MATCH (s:Section)\n",
    "            WHERE s.level = 1\n",
    "            MERGE (d:Document {documentId: apoc.util.sha1([s.documentUri]) } )\n",
    "            SET d.documentUri = s.documentUri\n",
    "            MERGE (d)-[newRel:CONTAINS]->(s)\n",
    "            \"\"\"\n",
    "\n",
    "gdb.execute_query(cypher_create_documents)"
   ]
  },
  {
   "cell_type": "markdown",
   "metadata": {},
   "source": [
    "# Parent retriever"
   ]
  },
  {
   "cell_type": "code",
   "execution_count": 20,
   "metadata": {},
   "outputs": [
    {
     "name": "stdout",
     "output_type": "stream",
     "text": [
      "Using vector index: chunks_vector\n",
      "0.8374168276786804 : dd8ef53b27cfca8cc103b5d6f9631babc6368788 : The official size of the Rink shall be 60 m long and 26 m to 30 m wide. The corners shall be rounded in the arc of a circle with a radius of 7.0 m to 8.50 m. Any deviations from these dimensions for any IIHF competition require IIHF approval.\n",
      "------------\n",
      "0.8321495056152344 : 6a086313c89911cfff159d293c184b3c69346d16 : A “Penalty Shot” is designed to restore a scoring opportunity which was lost as a result of a foul being committed by the offending Team, based on the parameters set out in these rules.\n",
      "------------\n",
      "0.8314350247383118 : 87c26358c9d380d668a17604fd07dca4dde7bcc3 : The chest and arm protector worn by each Goalkeeper must be anatomically proportional and size specific based on the individual physical characteristics of that Goalkeeper.\n",
      "------------\n",
      "0.8215421438217163 : 539f2b88211090fbff8b3e2fdaa2be44d4d228d8 : The Rink shall be surrounded by a wall known as the “Boards”. The ideal height of the boards above the ice surface shall be 1.07 m. Except for the official markings provided for in these rules, the entire playing surface and the Boards shall be white in color except the “Kick Plate” at the bottom of the Boards, which shall be light yellow in color. Any variations from any of the foregoing dimensions shall require official authorization by the IIHF.\n",
      "------------\n",
      "0.8203165531158447 : 9cac125577eecadf1abced71ac7e95e1f45b8bbd : Should a goal be scored from a “Penalty Shot”, a further penalty to the offending Player shall not be applied unless the offense for which the “Penalty Shot” was awarded is a Major or Misconduct Penalty, in which case the appropriate penalty shall be imposed.  \n",
      "If the offense for which the “Penalty Shot” was awarded would normally incur a Minor Penalty, then regardless of the outcome of the “Penalty Shot”, no further Minor Penalty shall be served.\n",
      "------------\n",
      "0.8194789886474609 : 3aec029094176eb7ae444f4c9a3df6adaab3bc69 : A net of an approved design shall be attached to each Goal frame and made of white nylon cord, which shall be draped in such a manner as to prevent the puck coming to rest on the outside of it yet strung in a manner that will keep the puck in the net. A skirt of heavy white nylon fabric or heavyweight white canvas shall be laced around the base plate of the goal frame in such a way as to protect the Goal net from being cut or broken.  \n",
      "This protective padding must be attached in a manner that will not restrict the puck from completely crossing the Goal Line.\n",
      "------------\n",
      "0.8185325264930725 : 29bbe4a22f3018ecf3780889e6cd95a227d2cfa4 : A Goalkeeper’s skates must have a non-fluorescent protective cowling at the front of each boot. The skate blade must be flat and cannot be longer than the boot. Any blades, projections, or “cheaters” added to the boot in order to give the Goalkeeper additional contact to the ice surface are not allowed.\n",
      "------------\n",
      "0.8169223070144653 : cec64cb6139f48c4c1207b5830aa9fa8637c968e : The blocking glove must be rectangular. The flap protecting the thumb and wrist must be fastened to the blocker and follow the contour of the thumb and wrist. Raised ridges are not allowed on any portion of the blocking glove.\n",
      "------------\n",
      "0.8158717155456543 : 1a3c793d5f3027a5c136f21387b3567383336415 : The puck shall be made of vulcanized rubber, or other approved material, 2.5 cm thick and 7.6 cm in diameter and shall weigh between 156 g and 170 g. All pucks used in competition must be approved by the IIHF. A printed logo, trademark, and advertising on the puck must not exceed 4.5 cm in diameter of the area of each side of a puck or 35 % of the area of each side of the puck. There may be printing on both sides of the puck.\n",
      "------------\n",
      "0.8155028820037842 : 72ad6994145f46bb6a2b80ee976a268b2513c45e : The sticks shall be made of wood or other material approved by the IIHF and must not have any projections. Adhesive, tape of any color may be wrapped around the stick at any place for the purpose of reinforcement or to improve control of the puck.  \n",
      "The shaft of the stick, from the top down to the start of the blade, must be straight. No stick shall exceed 1.63 m in length from the heel to the end of the shaft nor more than 32.0 cm from the heel to the end of the blade.\n",
      "------------\n"
     ]
    }
   ],
   "source": [
    "search_results = neo4j_vector_search(\n",
    "    'What is the size of the rink', 'chunks_vector'\n",
    ")\n",
    "for result in search_results:\n",
    "    print (str(result[\"score\"]) + \" : \" + result[\"node\"][\"chunkId\"] + \" : \" + result[\"node\"][\"text\"] )\n",
    "    print (\"------------\")\n"
   ]
  },
  {
   "cell_type": "code",
   "execution_count": 15,
   "metadata": {},
   "outputs": [],
   "source": [
    "retrieval_query_parent = \"\"\"\n",
    "\n",
    "    WITH node AS chunk, score AS score ORDER BY score \n",
    "    OPTIONAL MATCH (chunk:Chunk)<-[:CONTAINS]-(parent)\n",
    "    OPTIONAL MATCH (parent)-[:CONTAINS]->(s:Chunk)\n",
    "    WITH chunk, s, score ORDER BY s.chunkSeqId ASC\n",
    "    WITH collect(s.text) as textList, chunk.text as text, score AS score\n",
    "    RETURN apoc.text.join(textList, \" \\n \")  as text,\n",
    "    score,  {} AS metadata \n",
    "    ORDER BY score desc\n",
    "\n",
    "\"\"\"\n",
    "\n",
    "vector_store_parent = Neo4jVector.from_existing_index(\n",
    "    embedding=embeddings_api,\n",
    "    url=NEO4J_URI,\n",
    "    username=NEO4J_USERNAME,\n",
    "    password=NEO4J_PASSWORD,\n",
    "    database=\"neo4j\",\n",
    "    index_name=VECTOR_INDEX_NAME,\n",
    "    text_node_property=VECTOR_SOURCE_PROPERTY,\n",
    "    retrieval_query=retrieval_query_parent\n",
    ")\n",
    "\n",
    "# Create a retriever from the vector store\n",
    "retriever_parent = vector_store_parent.as_retriever(search_kwargs={'k': 10})\n",
    "\n",
    "# Create a chatbot Question & Answer chain from the retriever\n",
    "chain_parent = prettifyChain(RetrievalQA.from_chain_type(\n",
    "    chat_api, \n",
    "    chain_type=\"stuff\", \n",
    "    retriever=retriever_parent,\n",
    "    chain_type_kwargs={\"verbose\": True}\n",
    "))\n"
   ]
  },
  {
   "cell_type": "code",
   "execution_count": 16,
   "metadata": {},
   "outputs": [
    {
     "data": {
      "text/plain": [
       "[Document(page_content='When a Player is injured or compelled to leave the ice during a Game, they may retire from the Game and be replaced by a substitute, but play must continue without the Teams leaving the ice.  \\nDuring the play, if an injured Player wishes to retire from the ice and be replaced by a substitute, they must do so at the Players’ Bench and not through any other exit leading from the Rink. This is not a legal Player change and therefore when a violation occurs, a Bench-minor Penalty shall be imposed. \\n If a penalized Player has been injured, they may proceed to the Dressing Room without taking a seat in the Penalty Box. The penalized Team shall immediately put a substitute Player in the Penalty Box, who shall serve the penalty until the injured Player is able to return to the game. They would replace their Teammate in the Penalty Box at the next stoppage of play.  \\nFor violation of this rule, a Bench Minor Penalty shall be imposed. \\n Should the injured penalized Player who has been replaced in the Penalty Box return to their Players’ Bench prior to the expiration of their penalty, they shall not be eligible to play until their penalty has expired. This includes coincidental penalties when their substitute is still in the Penalty Box awaiting a stoppage in play. \\n The injured Player must wait until their substitute has been released from the Penalty Box before they are eligible to play. If, however, there is a stoppage of play prior to the expiration of their penalty, they must then replace their Teammate in the Penalty Box and is then eligible to return once their penalty has expired. \\n When a Player is injured so that they cannot continue play or go to their Players’ Bench, the play shall not be stopped until the injured Player’s Team has secured control of the puck. If the Player’s Team is in “control of the puck” at the time of injury, play shall be stopped immediately unless their Team is in a scoring position. \\n In the case where it is obvious that a Player has sustained a serious injury, the Referee and/or Linesperson may stop the play imme- diately. Where an injury has occurred to a Player and there is a stoppage of play, a Team Doctor (or other Medical Personnel) may go onto the ice to attend to the injured Player without waiting for the Referee’s consent. \\n When play has been stopped by the Referee or Linesperson due to an injured Player, or whenever an injured Player is attended to on the ice by the Coach or Medical Personnel, such Player must be substituted for immediately. This injured Player cannot return to the ice until play has resumed.  \\nWhen play is stopped for an injured Player, the ensuing “face-off” shall be conducted at the Face-off Spot in the zone nearest the location of the puck when the play was stopped. \\n When the injured Player’s Team has control of the puck in the Attacking Zone, the “face-off” shall be conducted at the nearest Face- off Spot in the Neutral Zone.  \\nWhen the injured Player is in their Defending Zone and the attacking Team is in “possession of the puck” in the Attacking Zone, the “face-off” shall be conducted at the nearest Face-off Spot in the defending Team’s zone.  \\nA player who lies on the ice either feigning an injury or refusing to get up off the ice will be issued a Minor Penalty.'),\n",
       " Document(page_content='Only Players in uniform and official team personnel duly registered on the Roster Sheet shall be permitted to occupy the Player’s Benches so provided.  \\nEvery Team must have at least one Staff Member behind the Team on the Players’ Bench to act as Coach and at least one (1) qualified Coach or Medical Expert to treat Players in case of injury.'),\n",
       " Document(page_content='The chest and arm protector worn by each Goalkeeper must be anatomically proportional and size specific based on the individual physical characteristics of that Goalkeeper. \\n No raised ridges are allowed on the front edges or sides of the chest pad, the inside or outside of the arms, or across the shoulders. Layering at the lateral edge of the torso is permitted to add rib protection, however, said thickness shall not exceed the thickness of the blocks on the front of the chest and provided further, that the flank protection must wrap around the contour of the Player’s torso. If, when the Goalkeeper assumes the normal crouch position, the shoulder or shoulder cap protection is pushed above the contour of the shoulder, the chest pad will be considered illegal. \\n Any chest and arm protector deemed to be too large for a Goalkeeper by measurements taken by IIHF representatives shall be considered illegal equipment for that Goalkeeper, whether or not it would have fallen within previous equipment maximums.'),\n",
       " Document(page_content='When a Player is injured or compelled to leave the ice during a Game, they may retire from the Game and be replaced by a substitute, but play must continue without the Teams leaving the ice.  \\nDuring the play, if an injured Player wishes to retire from the ice and be replaced by a substitute, they must do so at the Players’ Bench and not through any other exit leading from the Rink. This is not a legal Player change and therefore when a violation occurs, a Bench-minor Penalty shall be imposed. \\n If a penalized Player has been injured, they may proceed to the Dressing Room without taking a seat in the Penalty Box. The penalized Team shall immediately put a substitute Player in the Penalty Box, who shall serve the penalty until the injured Player is able to return to the game. They would replace their Teammate in the Penalty Box at the next stoppage of play.  \\nFor violation of this rule, a Bench Minor Penalty shall be imposed. \\n Should the injured penalized Player who has been replaced in the Penalty Box return to their Players’ Bench prior to the expiration of their penalty, they shall not be eligible to play until their penalty has expired. This includes coincidental penalties when their substitute is still in the Penalty Box awaiting a stoppage in play. \\n The injured Player must wait until their substitute has been released from the Penalty Box before they are eligible to play. If, however, there is a stoppage of play prior to the expiration of their penalty, they must then replace their Teammate in the Penalty Box and is then eligible to return once their penalty has expired. \\n When a Player is injured so that they cannot continue play or go to their Players’ Bench, the play shall not be stopped until the injured Player’s Team has secured control of the puck. If the Player’s Team is in “control of the puck” at the time of injury, play shall be stopped immediately unless their Team is in a scoring position. \\n In the case where it is obvious that a Player has sustained a serious injury, the Referee and/or Linesperson may stop the play imme- diately. Where an injury has occurred to a Player and there is a stoppage of play, a Team Doctor (or other Medical Personnel) may go onto the ice to attend to the injured Player without waiting for the Referee’s consent. \\n When play has been stopped by the Referee or Linesperson due to an injured Player, or whenever an injured Player is attended to on the ice by the Coach or Medical Personnel, such Player must be substituted for immediately. This injured Player cannot return to the ice until play has resumed.  \\nWhen play is stopped for an injured Player, the ensuing “face-off” shall be conducted at the Face-off Spot in the zone nearest the location of the puck when the play was stopped. \\n When the injured Player’s Team has control of the puck in the Attacking Zone, the “face-off” shall be conducted at the nearest Face- off Spot in the Neutral Zone.  \\nWhen the injured Player is in their Defending Zone and the attacking Team is in “possession of the puck” in the Attacking Zone, the “face-off” shall be conducted at the nearest Face-off Spot in the defending Team’s zone.  \\nA player who lies on the ice either feigning an injury or refusing to get up off the ice will be issued a Minor Penalty.'),\n",
       " Document(page_content='Only Players on the Roster Sheet list submitted to the Official Scorekeeper before the game may participate in the Game. The de- termining factor when considering whether a Player is eligible is that the Player’s name, and not necessarily the Player’s number, must be correctly listed by the Team Manager or Coach of that Team.  \\nWhenever an ineligible Player is identified to the Referee, the ineligible Player will be removed from the Game and the Team shall not be able to substitute another Player from its Roster. \\n No additional penalties are to be assessed but a report of the incident must be submitted to the Proper Authorities. For an ineligible Goalkeeper see Rule 5.3 – Goalkeeper.  \\nIf a goal is scored when an ineligible Player is on the ice (whether they were involved in the scoring or not), the goal will be disallowed. This only applies to the goal scored at the stoppage of play whereby the Player was deemed to be ineligible. All other goals scored previously by the ineligible Player’s Team (with them on the ice or not) shall be allowed. \\n If a Player is assessed a penalty, and during the penalty they are found to be an ineligible Player, they will be removed from the game and another Player of their Team, designated by the Coach, must serve the remainder of the penalty.  \\nNo additional penalties are to be assessed but a report of the incident must be submitted to the Proper Authorities.'),\n",
       " Document(page_content='When “Coincidental Major Penalties” or “Coincidental Penalties of Equal Duration”, including a Major Penalty, are imposed against Players of both Teams, the penalized Players shall all take their places in the Penalty Boxes and such penalized Players shall not leave the Penalty Boxes until the first stoppage of play following the expiry of their respective penalties. \\n Immediate substitutions shall be made for an “Equal Number of Major Penalties”, or “Coincidental Penalties of Equal Duration” including a Major Penalty to each Team penalized, and the penalties of the Players for which substitutions have been made shall not be taken into account for the purpose of the Delayed Penalty.  \\nIn such situations, if one or both Players have received a Game Misconduct in addition to their Major Penalties, no substitutes are required to take their places in the Penalty Boxes.'),\n",
       " Document(page_content='When a Player is injured or compelled to leave the ice during a Game, they may retire from the Game and be replaced by a substitute, but play must continue without the Teams leaving the ice.  \\nDuring the play, if an injured Player wishes to retire from the ice and be replaced by a substitute, they must do so at the Players’ Bench and not through any other exit leading from the Rink. This is not a legal Player change and therefore when a violation occurs, a Bench-minor Penalty shall be imposed. \\n If a penalized Player has been injured, they may proceed to the Dressing Room without taking a seat in the Penalty Box. The penalized Team shall immediately put a substitute Player in the Penalty Box, who shall serve the penalty until the injured Player is able to return to the game. They would replace their Teammate in the Penalty Box at the next stoppage of play.  \\nFor violation of this rule, a Bench Minor Penalty shall be imposed. \\n Should the injured penalized Player who has been replaced in the Penalty Box return to their Players’ Bench prior to the expiration of their penalty, they shall not be eligible to play until their penalty has expired. This includes coincidental penalties when their substitute is still in the Penalty Box awaiting a stoppage in play. \\n The injured Player must wait until their substitute has been released from the Penalty Box before they are eligible to play. If, however, there is a stoppage of play prior to the expiration of their penalty, they must then replace their Teammate in the Penalty Box and is then eligible to return once their penalty has expired. \\n When a Player is injured so that they cannot continue play or go to their Players’ Bench, the play shall not be stopped until the injured Player’s Team has secured control of the puck. If the Player’s Team is in “control of the puck” at the time of injury, play shall be stopped immediately unless their Team is in a scoring position. \\n In the case where it is obvious that a Player has sustained a serious injury, the Referee and/or Linesperson may stop the play imme- diately. Where an injury has occurred to a Player and there is a stoppage of play, a Team Doctor (or other Medical Personnel) may go onto the ice to attend to the injured Player without waiting for the Referee’s consent. \\n When play has been stopped by the Referee or Linesperson due to an injured Player, or whenever an injured Player is attended to on the ice by the Coach or Medical Personnel, such Player must be substituted for immediately. This injured Player cannot return to the ice until play has resumed.  \\nWhen play is stopped for an injured Player, the ensuing “face-off” shall be conducted at the Face-off Spot in the zone nearest the location of the puck when the play was stopped. \\n When the injured Player’s Team has control of the puck in the Attacking Zone, the “face-off” shall be conducted at the nearest Face- off Spot in the Neutral Zone.  \\nWhen the injured Player is in their Defending Zone and the attacking Team is in “possession of the puck” in the Attacking Zone, the “face-off” shall be conducted at the nearest Face-off Spot in the defending Team’s zone.  \\nA player who lies on the ice either feigning an injury or refusing to get up off the ice will be issued a Minor Penalty.'),\n",
       " Document(page_content='A Major Penalty shall be imposed on any Player who commits a physical foul and who recklessly endangers the fouled Player in a way that, at the discretion of the Referee, such Player would not be sufficiently sanctioned by imposing a Minor or Double-minor Penalty. Such assessment of reckless endangerment shall be based on the severity of the infraction, severity of the contact, the degree of violence and the general reprehensibility involved. \\n For the first (1st) Major Penalty in any one game, the offender, except the Goalkeeper, shall be ruled off the ice for five (5) minutes during which time no substitute shall be permitted.  \\nWhen one Player receives a Major Penalty and a Minor Penalty at the same time, the Major Penalty shall be served first by the penalized Player (or substitute for the Goalkeeper), except under ➔ Rule 19.2 – Coincidental Major Penalties are in effect, in which case the Minor Penalty will be recorded and served first.'),\n",
       " Document(page_content='A Player who is bleeding or who has visible blood on their equipment or body shall be ruled off the ice at the next stoppage of play. Such Player shall not be permitted to return to play until the bleeding has been stopped and the cut or abrasion has been covered (if necessary). It is required that any affected equipment and/or uniform be properly disinfected or exchanged.'),\n",
       " Document(page_content='There is no limit to the number of stick-measurement requests a Team may make in a game, but a request for a stick measurement shall be limited to one request per Team during the course of any stoppage in play.  \\nWhen a formal complaint is made by the Captain or Alternate Captain of a Team, against the dimensions of an opponent’s stick, that opponent must be on the ice at the time the request is made to the Referee. It must be specified which part of the stick should be measured. \\n Once the request is made, and as long as the On-ice Officials maintain visual contact with the stick, it can be measured. This means that if the Player whose stick is about to be measured steps off the ice onto their Players’ Bench, their stick may still be measured provided the request was received prior to them leaving the ice surface and the stick remains in the view of at least one of the On- ice Officials. \\n The Referee shall take the stick to the Penalty Box where the necessary measurement shall be made immediately. Players on both Teams shall retire to their respective Players Benches. To measure the curvature of the blade of the stick, the Referee must draw an imaginary line along the outside of the shaft to the bottom of the blade and then along the bottom of the blade – this will determine the location of the heel. Using an IIHF-approved measuring gauge, the Referee shall secure the gauge at the heel of the stick and measure the curvature of the blade from the heel to any point along the toe \\n of the blade. To measure any other dimension of the stick, the Referee shall use a measuring tape. \\n The result shall be reported to the Penalty Timekeeper, who shall record it on the Penalty Record form. The Referee will convey the result of the measurement to the Captain or Alternate Captain of the Team whose stick was measured.  \\nA Player whose stick has been measured and it is found not to conform to the rule shall be assessed a Minor Penalty and the stick will be returned to the Players’ Bench by the Referee. If the complaint is not sustained, a Bench Minor Penalty shall be imposed against the complaining Team. \\n A Player who participates in the play (i.e., checks or prevents the movement of an opponent or who plays the puck) while carrying two sticks (including while taking a replacement stick to their Goalkeeper) shall incur a Minor Penalty under this rule.  \\nA request for a stick measurement in regular playing time is permitted, including after the scoring of a goal. However, a goal cannot be disallowed as a result of the measurement. \\n A request for a stick measurement following a goal in Overtime (including one scored on a “Penalty Shot” in Overtime) is not permit- ted. Stick measurements prior to or during the shootout are permitted, subject to the guidelines outlined in ➔ Rule 10.7. – Stick Measurement – Prior to Shootout Attempt.  \\nAny Player who deliberately breaks their stick or who refuses to surrender their stick for measurement when requested to do so by the Referee shall be assessed a Minor Penalty plus a ten-minute (10) Misconduct Penalty.')]"
      ]
     },
     "execution_count": 16,
     "metadata": {},
     "output_type": "execute_result"
    }
   ],
   "source": [
    "docs = retriever_parent.invoke(\"what happens if a player is injured\")\n",
    "docs"
   ]
  },
  {
   "cell_type": "code",
   "execution_count": 269,
   "metadata": {},
   "outputs": [
    {
     "name": "stdout",
     "output_type": "stream",
     "text": [
      "\n",
      "\n",
      "\u001b[1m> Entering new StuffDocumentsChain chain...\u001b[0m\n",
      "\n",
      "\n",
      "\u001b[1m> Entering new LLMChain chain...\u001b[0m\n",
      "Prompt after formatting:\n",
      "\u001b[32;1m\u001b[1;3mSystem: Use the following pieces of context to answer the user's question. \n",
      "If you don't know the answer, just say that you don't know, don't try to make up an answer.\n",
      "----------------\n",
      "When a Player is injured or compelled to leave the ice during a Game, they may retire from the Game and be replaced by a substitute, but play must continue without the Teams leaving the ice.  \n",
      "During the play, if an injured Player wishes to retire from the ice and be replaced by a substitute, they must do so at the Players’ Bench and not through any other exit leading from the Rink. This is not a legal Player change and therefore when a violation occurs, a Bench-minor Penalty shall be imposed. \n",
      " If a penalized Player has been injured, they may proceed to the Dressing Room without taking a seat in the Penalty Box. The penalized Team shall immediately put a substitute Player in the Penalty Box, who shall serve the penalty until the injured Player is able to return to the game. They would replace their Teammate in the Penalty Box at the next stoppage of play.  \n",
      "For violation of this rule, a Bench Minor Penalty shall be imposed. \n",
      " Should the injured penalized Player who has been replaced in the Penalty Box return to their Players’ Bench prior to the expiration of their penalty, they shall not be eligible to play until their penalty has expired. This includes coincidental penalties when their substitute is still in the Penalty Box awaiting a stoppage in play. \n",
      " The injured Player must wait until their substitute has been released from the Penalty Box before they are eligible to play. If, however, there is a stoppage of play prior to the expiration of their penalty, they must then replace their Teammate in the Penalty Box and is then eligible to return once their penalty has expired. \n",
      " When a Player is injured so that they cannot continue play or go to their Players’ Bench, the play shall not be stopped until the inju- red Player’s Team has secured control of the puck. If the Player’s Team is in “control of the puck” at the time of injury, play shall be stopped immediately unless their Team is in a scoring position. \n",
      " In the case where it is obvious that a Player has sustained a serious injury, the Referee and/or Linesperson may stop the play imme- diately. Where an injury has occurred to a Player and there is a stoppage of play, a Team Doctor (or other Medical Personnel) may go onto the ice to attend to the injured Player without waiting for the Referee’s consent. \n",
      " When play has been stopped by the Referee or Linesperson due to an injured Player, or whenever an injured Player is attended to on the ice by the Coach or Medical Personnel, such Player must be substituted for immediately. This injured Player cannot return to the ice until play has resumed.  \n",
      "When play is stopped for an injured Player, the ensuing “face-off” shall be conducted at the Face-off Spot in the zone nearest the location of the puck when the play was stopped. \n",
      " When the injured Player’s Team has control of the puck in the Attacking Zone, the “face-off” shall be conducted at the nearest Face- off Spot in the Neutral Zone.  \n",
      "When the injured Player is in their Defending Zone and the attacking Team is in “possession of the puck” in the Attacking Zone, the “face-off” shall be conducted at the nearest Face-off Spot in the defending Team’s zone.  \n",
      "A player who lies on the ice either feigning an injury or refusing to get up off the ice will be issued a Minor Penalty.\n",
      "\n",
      "When a Player is injured or compelled to leave the ice during a Game, they may retire from the Game and be replaced by a substitute, but play must continue without the Teams leaving the ice.  \n",
      "During the play, if an injured Player wishes to retire from the ice and be replaced by a substitute, they must do so at the Players’ Bench and not through any other exit leading from the Rink. This is not a legal Player change and therefore when a violation occurs, a Bench-minor Penalty shall be imposed. \n",
      " If a penalized Player has been injured, they may proceed to the Dressing Room without taking a seat in the Penalty Box. The penalized Team shall immediately put a substitute Player in the Penalty Box, who shall serve the penalty until the injured Player is able to return to the game. They would replace their Teammate in the Penalty Box at the next stoppage of play.  \n",
      "For violation of this rule, a Bench Minor Penalty shall be imposed. \n",
      " Should the injured penalized Player who has been replaced in the Penalty Box return to their Players’ Bench prior to the expiration of their penalty, they shall not be eligible to play until their penalty has expired. This includes coincidental penalties when their substitute is still in the Penalty Box awaiting a stoppage in play. \n",
      " The injured Player must wait until their substitute has been released from the Penalty Box before they are eligible to play. If, however, there is a stoppage of play prior to the expiration of their penalty, they must then replace their Teammate in the Penalty Box and is then eligible to return once their penalty has expired. \n",
      " When a Player is injured so that they cannot continue play or go to their Players’ Bench, the play shall not be stopped until the inju- red Player’s Team has secured control of the puck. If the Player’s Team is in “control of the puck” at the time of injury, play shall be stopped immediately unless their Team is in a scoring position. \n",
      " In the case where it is obvious that a Player has sustained a serious injury, the Referee and/or Linesperson may stop the play imme- diately. Where an injury has occurred to a Player and there is a stoppage of play, a Team Doctor (or other Medical Personnel) may go onto the ice to attend to the injured Player without waiting for the Referee’s consent. \n",
      " When play has been stopped by the Referee or Linesperson due to an injured Player, or whenever an injured Player is attended to on the ice by the Coach or Medical Personnel, such Player must be substituted for immediately. This injured Player cannot return to the ice until play has resumed.  \n",
      "When play is stopped for an injured Player, the ensuing “face-off” shall be conducted at the Face-off Spot in the zone nearest the location of the puck when the play was stopped. \n",
      " When the injured Player’s Team has control of the puck in the Attacking Zone, the “face-off” shall be conducted at the nearest Face- off Spot in the Neutral Zone.  \n",
      "When the injured Player is in their Defending Zone and the attacking Team is in “possession of the puck” in the Attacking Zone, the “face-off” shall be conducted at the nearest Face-off Spot in the defending Team’s zone.  \n",
      "A player who lies on the ice either feigning an injury or refusing to get up off the ice will be issued a Minor Penalty.\n",
      "\n",
      "Only Players on the Roster Sheet list submitted to the Official Scorekeeper before the game may participate in the Game. The de- termining factor when considering whether a Player is eligible is that the Player’s name, and not necessarily the Player’s number, must be correctly listed by the Team Manager or Coach of that Team.  \n",
      "Whenever an ineligible Player is identified to the Referee, the ineligible Player will be removed from the Game and the Team shall not be able to substitute another Player from its Roster. \n",
      " No additional penalties are to be assessed but a report of the incident must be submitted to the Proper Authorities. For an ineligible Goalkeeper see Rule 5.3 – Goalkeeper.  \n",
      "If a goal is scored when an ineligible Player is on the ice (whether they were involved in the scoring or not), the goal will be disallowed. This only applies to the goal scored at the stoppage of play whereby the Player was deemed to be ineligible. All other goals scored previously by the ineligible Player’s Team (with them on the ice or not) shall be allowed. \n",
      " If a Player is assessed a penalty, and during the penalty they are found to be an ineligible Player, they will be removed from the game and another Player of their Team, designated by the Coach, must serve the remainder of the penalty.  \n",
      "No additional penalties are to be assessed but a report of the incident must be submitted to the Proper Authorities.\n",
      "\n",
      "Each Player listed in the line-up of each Team shall wear an individual identifying number that is 25 – 30 cm high on the back of the jersey and 10 cm high on both sleeves. Numbers are limited to whole numbers from 1 to 99. Jersey numbers such as 00, ½ (fractions), .5 (decimals), 101 (three digit) are not permitted.  \n",
      "In addition, each Player shall wear their surname in full, in block letters 10 cm high, across the back of their jersey at shoulder height, in block capital Roman letters of a font approved by the IIHF prior to the game or competition. \n",
      " A Player whose hair is long enough to obscure the nameplate or number on the back of the jersey must fashion it in a ponytail or tuck the hair under the helmet.\n",
      "\n",
      "When a Player is injured or compelled to leave the ice during a Game, they may retire from the Game and be replaced by a substitute, but play must continue without the Teams leaving the ice.  \n",
      "During the play, if an injured Player wishes to retire from the ice and be replaced by a substitute, they must do so at the Players’ Bench and not through any other exit leading from the Rink. This is not a legal Player change and therefore when a violation occurs, a Bench-minor Penalty shall be imposed. \n",
      " If a penalized Player has been injured, they may proceed to the Dressing Room without taking a seat in the Penalty Box. The penalized Team shall immediately put a substitute Player in the Penalty Box, who shall serve the penalty until the injured Player is able to return to the game. They would replace their Teammate in the Penalty Box at the next stoppage of play.  \n",
      "For violation of this rule, a Bench Minor Penalty shall be imposed. \n",
      " Should the injured penalized Player who has been replaced in the Penalty Box return to their Players’ Bench prior to the expiration of their penalty, they shall not be eligible to play until their penalty has expired. This includes coincidental penalties when their substitute is still in the Penalty Box awaiting a stoppage in play. \n",
      " The injured Player must wait until their substitute has been released from the Penalty Box before they are eligible to play. If, however, there is a stoppage of play prior to the expiration of their penalty, they must then replace their Teammate in the Penalty Box and is then eligible to return once their penalty has expired. \n",
      " When a Player is injured so that they cannot continue play or go to their Players’ Bench, the play shall not be stopped until the inju- red Player’s Team has secured control of the puck. If the Player’s Team is in “control of the puck” at the time of injury, play shall be stopped immediately unless their Team is in a scoring position. \n",
      " In the case where it is obvious that a Player has sustained a serious injury, the Referee and/or Linesperson may stop the play imme- diately. Where an injury has occurred to a Player and there is a stoppage of play, a Team Doctor (or other Medical Personnel) may go onto the ice to attend to the injured Player without waiting for the Referee’s consent. \n",
      " When play has been stopped by the Referee or Linesperson due to an injured Player, or whenever an injured Player is attended to on the ice by the Coach or Medical Personnel, such Player must be substituted for immediately. This injured Player cannot return to the ice until play has resumed.  \n",
      "When play is stopped for an injured Player, the ensuing “face-off” shall be conducted at the Face-off Spot in the zone nearest the location of the puck when the play was stopped. \n",
      " When the injured Player’s Team has control of the puck in the Attacking Zone, the “face-off” shall be conducted at the nearest Face- off Spot in the Neutral Zone.  \n",
      "When the injured Player is in their Defending Zone and the attacking Team is in “possession of the puck” in the Attacking Zone, the “face-off” shall be conducted at the nearest Face-off Spot in the defending Team’s zone.  \n",
      "A player who lies on the ice either feigning an injury or refusing to get up off the ice will be issued a Minor Penalty.\n",
      "\n",
      "All players are recommended to properly wear a neck laceration protection. This protective device is recommended to cover as large of an area as possible on the player.  \n",
      "A Goalkeeper may attach a throat protector to the chin of their facemask. It must be made of a material that will not cause injury. Players who play in senior categories but are of the age as “Under 20” and “Under 18” categories must wear the appropriate protective equipment of these U20 and U18 categories in accordance with the specific rules.\n",
      "\n",
      "When a Player has been assessed a Major Penalty and has been removed from the game or is injured, the offending Team must place a substitute in the Penalty Box immediately. They may then legally exit the Penalty Box when the Major Penalty has expired.\n",
      "\n",
      "If a Goalkeeper sustains an injury or becomes ill, they must be ready to resume play immediately or be replaced by a substitute Goalkeeper and no additional time shall be allowed for the purpose of enabling the injured or ill Goalkeeper to resume their position. No warm-up shall be permitted for a substitute Goalkeeper in any game.  \n",
      "The substitute Goalkeeper shall be subject to the regular rules governing Goalkeepers and shall be entitled to the same privileges. \n",
      " When a substitution for the injured Goalkeeper has been made, the injured Goalkeeper is not allowed to resume the position until the next stoppage of play. For a violation of the rule, a Minor Penalty for “Delay of Game” shall be assessed.  \n",
      "When play has been stopped by the Referee or Linesperson due to an injured Goalkeeper, such Goalkeeper must be substituted for only if they have to proceed to the Players’ Bench to receive medical attention. \n",
      " Where an injury has occurred to a Goalkeeper and there is a stoppage of play, a Team Doctor (or other Medical Personnel) may go onto the ice to attend to the injured Player without waiting for the Referee’s consent.  \n",
      "If the Doctor or Medical Personnel has come onto the ice to attend to the Goalkeeper and there is no undue delay, the Goalkeeper may remain in the game. However, no additional time shall be permitted by the Referee for the purpose of enabling the injured Goal- keeper to resume their position (i.e., no warm-up).\n",
      "\n",
      "Only Players on the Roster Sheet list submitted to the Official Scorekeeper before the game may participate in the Game. The de- termining factor when considering whether a Player is eligible is that the Player’s name, and not necessarily the Player’s number, must be correctly listed by the Team Manager or Coach of that Team.  \n",
      "Whenever an ineligible Player is identified to the Referee, the ineligible Player will be removed from the Game and the Team shall not be able to substitute another Player from its Roster. \n",
      " No additional penalties are to be assessed but a report of the incident must be submitted to the Proper Authorities. For an ineligible Goalkeeper see Rule 5.3 – Goalkeeper.  \n",
      "If a goal is scored when an ineligible Player is on the ice (whether they were involved in the scoring or not), the goal will be disallowed. This only applies to the goal scored at the stoppage of play whereby the Player was deemed to be ineligible. All other goals scored previously by the ineligible Player’s Team (with them on the ice or not) shall be allowed. \n",
      " If a Player is assessed a penalty, and during the penalty they are found to be an ineligible Player, they will be removed from the game and another Player of their Team, designated by the Coach, must serve the remainder of the penalty.  \n",
      "No additional penalties are to be assessed but a report of the incident must be submitted to the Proper Authorities.\n",
      "\n",
      "When a Player is injured or compelled to leave the ice during a Game, they may retire from the Game and be replaced by a substitute, but play must continue without the Teams leaving the ice.  \n",
      "During the play, if an injured Player wishes to retire from the ice and be replaced by a substitute, they must do so at the Players’ Bench and not through any other exit leading from the Rink. This is not a legal Player change and therefore when a violation occurs, a Bench-minor Penalty shall be imposed. \n",
      " If a penalized Player has been injured, they may proceed to the Dressing Room without taking a seat in the Penalty Box. The penalized Team shall immediately put a substitute Player in the Penalty Box, who shall serve the penalty until the injured Player is able to return to the game. They would replace their Teammate in the Penalty Box at the next stoppage of play.  \n",
      "For violation of this rule, a Bench Minor Penalty shall be imposed. \n",
      " Should the injured penalized Player who has been replaced in the Penalty Box return to their Players’ Bench prior to the expiration of their penalty, they shall not be eligible to play until their penalty has expired. This includes coincidental penalties when their substitute is still in the Penalty Box awaiting a stoppage in play. \n",
      " The injured Player must wait until their substitute has been released from the Penalty Box before they are eligible to play. If, however, there is a stoppage of play prior to the expiration of their penalty, they must then replace their Teammate in the Penalty Box and is then eligible to return once their penalty has expired. \n",
      " When a Player is injured so that they cannot continue play or go to their Players’ Bench, the play shall not be stopped until the inju- red Player’s Team has secured control of the puck. If the Player’s Team is in “control of the puck” at the time of injury, play shall be stopped immediately unless their Team is in a scoring position. \n",
      " In the case where it is obvious that a Player has sustained a serious injury, the Referee and/or Linesperson may stop the play imme- diately. Where an injury has occurred to a Player and there is a stoppage of play, a Team Doctor (or other Medical Personnel) may go onto the ice to attend to the injured Player without waiting for the Referee’s consent. \n",
      " When play has been stopped by the Referee or Linesperson due to an injured Player, or whenever an injured Player is attended to on the ice by the Coach or Medical Personnel, such Player must be substituted for immediately. This injured Player cannot return to the ice until play has resumed.  \n",
      "When play is stopped for an injured Player, the ensuing “face-off” shall be conducted at the Face-off Spot in the zone nearest the location of the puck when the play was stopped. \n",
      " When the injured Player’s Team has control of the puck in the Attacking Zone, the “face-off” shall be conducted at the nearest Face- off Spot in the Neutral Zone.  \n",
      "When the injured Player is in their Defending Zone and the attacking Team is in “possession of the puck” in the Attacking Zone, the “face-off” shall be conducted at the nearest Face-off Spot in the defending Team’s zone.  \n",
      "A player who lies on the ice either feigning an injury or refusing to get up off the ice will be issued a Minor Penalty.\n",
      "Human: what happens if a player is injured\u001b[0m\n",
      "\n",
      "\u001b[1m> Finished chain.\u001b[0m\n",
      "\n",
      "\u001b[1m> Finished chain.\u001b[0m\n",
      "According to the rules, if a player is injured during play, the following\n",
      "procedures apply:  1. **Play continues**: The game does not stop immediately\n",
      "when a player is injured. Play continues until the injured player's team gains\n",
      "control of the puck. 2. **Injury severity**: If it's clear that the injury is\n",
      "serious, the referee or linesperson may stop play immediately. 3. **Medical\n",
      "attention**: A team doctor (or other medical personnel) can enter the ice to\n",
      "attend to the injured player without waiting for the referee's consent. 4.\n",
      "**Substitution**: The injured player must be substituted for immediately. They\n",
      "cannot return to the game until play has resumed. 5. **Face-off location**: When\n",
      "play is stopped due to an injury, the ensuing face-off will be conducted at the\n",
      "face-off spot in the zone nearest to where the puck was located when play was\n",
      "stopped.  Additionally, if a player is injured while serving a penalty, they can\n",
      "proceed to the dressing room without taking a seat in the penalty box. Their\n",
      "team must immediately put another player in the penalty box to serve the\n",
      "remainder of the penalty.  If an injured player returns to their bench before\n",
      "their penalty has expired, they are not eligible to play until their penalty has\n",
      "been served. They must wait for their substitute to be released from the penalty\n",
      "box before they can return to play.\n"
     ]
    }
   ],
   "source": [
    "chain_parent(\"what happens if a player is injured\")"
   ]
  },
  {
   "cell_type": "code",
   "execution_count": 266,
   "metadata": {},
   "outputs": [
    {
     "name": "stdout",
     "output_type": "stream",
     "text": [
      "Using vector index: chunks_vector\n"
     ]
    },
    {
     "data": {
      "text/plain": [
       "<Record text='When a Player is injured or compelled to leave the ice during a Game, they may retire from the Game and be replaced by a substitute, but play must continue without the Teams leaving the ice.  \\nDuring the play, if an injured Player wishes to retire from the ice and be replaced by a substitute, they must do so at the Players’ Bench and not through any other exit leading from the Rink. This is not a legal Player change and therefore when a violation occurs, a Bench-minor Penalty shall be imposed. \\n If a penalized Player has been injured, they may proceed to the Dressing Room without taking a seat in the Penalty Box. The penalized Team shall immediately put a substitute Player in the Penalty Box, who shall serve the penalty until the injured Player is able to return to the game. They would replace their Teammate in the Penalty Box at the next stoppage of play.  \\nFor violation of this rule, a Bench Minor Penalty shall be imposed. \\n Should the injured penalized Player who has been replaced in the Penalty Box return to their Players’ Bench prior to the expiration of their penalty, they shall not be eligible to play until their penalty has expired. This includes coincidental penalties when their substitute is still in the Penalty Box awaiting a stoppage in play. \\n The injured Player must wait until their substitute has been released from the Penalty Box before they are eligible to play. If, however, there is a stoppage of play prior to the expiration of their penalty, they must then replace their Teammate in the Penalty Box and is then eligible to return once their penalty has expired. \\n When a Player is injured so that they cannot continue play or go to their Players’ Bench, the play shall not be stopped until the inju- red Player’s Team has secured control of the puck. If the Player’s Team is in “control of the puck” at the time of injury, play shall be stopped immediately unless their Team is in a scoring position. \\n In the case where it is obvious that a Player has sustained a serious injury, the Referee and/or Linesperson may stop the play imme- diately. Where an injury has occurred to a Player and there is a stoppage of play, a Team Doctor (or other Medical Personnel) may go onto the ice to attend to the injured Player without waiting for the Referee’s consent. \\n When play has been stopped by the Referee or Linesperson due to an injured Player, or whenever an injured Player is attended to on the ice by the Coach or Medical Personnel, such Player must be substituted for immediately. This injured Player cannot return to the ice until play has resumed.  \\nWhen play is stopped for an injured Player, the ensuing “face-off” shall be conducted at the Face-off Spot in the zone nearest the location of the puck when the play was stopped. \\n When the injured Player’s Team has control of the puck in the Attacking Zone, the “face-off” shall be conducted at the nearest Face- off Spot in the Neutral Zone.  \\nWhen the injured Player is in their Defending Zone and the attacking Team is in “possession of the puck” in the Attacking Zone, the “face-off” shall be conducted at the nearest Face-off Spot in the defending Team’s zone.  \\nA player who lies on the ice either feigning an injury or refusing to get up off the ice will be issued a Minor Penalty.' score=0.8643819093704224 metadata={}>"
      ]
     },
     "execution_count": 266,
     "metadata": {},
     "output_type": "execute_result"
    }
   ],
   "source": [
    "\n",
    "\n",
    "retrieval_query_parent = \"\"\"\n",
    "    WITH node AS chunk, score AS score ORDER BY score \n",
    "    OPTIONAL MATCH (chunk:Chunk)<-[:CONTAINS]-(parent)\n",
    "    OPTIONAL MATCH (parent)-[:CONTAINS]->(s:Chunk)\n",
    "    WITH chunk, s, score ORDER BY s.chunkSeqId ASC\n",
    "    WITH collect(s.text) as textList, chunk.text as text, score AS score\n",
    "    RETURN apoc.text.join(textList, \" \\n \")  as text,\n",
    "    score,  {} AS metadata \n",
    "    ORDER BY score desc\n",
    "\"\"\"\n",
    "\n",
    "\n",
    "def neo4j_vector_search_2(question, retrieval_query):\n",
    "  \"\"\"Search for similar nodes using the Neo4j vector index\"\"\"\n",
    "  vector_search_query = \"\"\"\n",
    "    CALL db.index.vector.queryNodes($index_name, $top_k, $question_embedding) \n",
    "        YIELD node, score\n",
    "  \"\"\" + retrieval_query\n",
    "  similar = []\n",
    "\n",
    "  print (\"Using vector index: \" + str(VECTOR_INDEX_NAME))\n",
    "    \n",
    "  question_embedding = embeddings_api.embed_query(question)\n",
    "  return gdb.execute_query(vector_search_query,\n",
    "                      question=question, \n",
    "                      question_embedding=question_embedding, \n",
    "                      index_name=VECTOR_INDEX_NAME, \n",
    "                      top_k=10\n",
    "                    ).records\n",
    "\n",
    "search_results = neo4j_vector_search_2(\n",
    "    'injured player', retrieval_query_parent\n",
    ")\n",
    "search_results[0]\n",
    "    "
   ]
  },
  {
   "cell_type": "code",
   "execution_count": null,
   "metadata": {},
   "outputs": [],
   "source": [
    "MATCH (c:Chunk)<-[:CONTAINS]-(s:Section)\n",
    "WHERE c.header4 = '8.1. INJURED PLAYER'\n",
    "    RETURN c, s\n",
    "    "
   ]
  }
 ],
 "metadata": {
  "kernelspec": {
   "display_name": "Python 3 (ipykernel)",
   "language": "python",
   "name": "python3"
  },
  "language_info": {
   "codemirror_mode": {
    "name": "ipython",
    "version": 3
   },
   "file_extension": ".py",
   "mimetype": "text/x-python",
   "name": "python",
   "nbconvert_exporter": "python",
   "pygments_lexer": "ipython3",
   "version": "3.11.6"
  }
 },
 "nbformat": 4,
 "nbformat_minor": 4
}
