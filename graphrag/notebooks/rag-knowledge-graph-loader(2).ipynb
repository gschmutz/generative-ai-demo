{
 "cells": [
  {
   "cell_type": "markdown",
   "id": "dad3d52e-6d44-422a-aed2-ecf831ae9516",
   "metadata": {},
   "source": [
    "# RAG with Knowledge Graph - Load Data"
   ]
  },
  {
   "cell_type": "code",
   "execution_count": null,
   "id": "f43ba8d6-13ed-4892-8160-357ac44c62f4",
   "metadata": {},
   "outputs": [],
   "source": [
    "This notebook and associate Python "
   ]
  },
  {
   "cell_type": "code",
   "execution_count": 10,
   "id": "aa3805f3-d426-412e-b527-0714314bfdfc",
   "metadata": {},
   "outputs": [
    {
     "name": "stdout",
     "output_type": "stream",
     "text": [
      "Requirement already satisfied: neo4j in /opt/conda/lib/python3.11/site-packages (5.20.0)\n",
      "Requirement already satisfied: langchain in /opt/conda/lib/python3.11/site-packages (0.2.1)\n",
      "Requirement already satisfied: langchain-community in /opt/conda/lib/python3.11/site-packages (0.2.1)\n",
      "Collecting ollama\n",
      "  Downloading ollama-0.2.0-py3-none-any.whl.metadata (4.1 kB)\n",
      "Requirement already satisfied: pytz in /opt/conda/lib/python3.11/site-packages (from neo4j) (2023.3.post1)\n",
      "Requirement already satisfied: PyYAML>=5.3 in /opt/conda/lib/python3.11/site-packages (from langchain) (6.0.1)\n",
      "Requirement already satisfied: SQLAlchemy<3,>=1.4 in /opt/conda/lib/python3.11/site-packages (from langchain) (2.0.22)\n",
      "Requirement already satisfied: aiohttp<4.0.0,>=3.8.3 in /opt/conda/lib/python3.11/site-packages (from langchain) (3.9.5)\n",
      "Requirement already satisfied: langchain-core<0.3.0,>=0.2.0 in /opt/conda/lib/python3.11/site-packages (from langchain) (0.2.1)\n",
      "Requirement already satisfied: langchain-text-splitters<0.3.0,>=0.2.0 in /opt/conda/lib/python3.11/site-packages (from langchain) (0.2.0)\n",
      "Requirement already satisfied: langsmith<0.2.0,>=0.1.17 in /opt/conda/lib/python3.11/site-packages (from langchain) (0.1.63)\n",
      "Requirement already satisfied: numpy<2,>=1 in /opt/conda/lib/python3.11/site-packages (from langchain) (1.26.4)\n",
      "Requirement already satisfied: pydantic<3,>=1 in /opt/conda/lib/python3.11/site-packages (from langchain) (2.7.1)\n",
      "Requirement already satisfied: requests<3,>=2 in /opt/conda/lib/python3.11/site-packages (from langchain) (2.31.0)\n",
      "Requirement already satisfied: tenacity<9.0.0,>=8.1.0 in /opt/conda/lib/python3.11/site-packages (from langchain) (8.3.0)\n",
      "Requirement already satisfied: dataclasses-json<0.7,>=0.5.7 in /opt/conda/lib/python3.11/site-packages (from langchain-community) (0.6.6)\n",
      "Collecting httpx<0.28.0,>=0.27.0 (from ollama)\n",
      "  Downloading httpx-0.27.0-py3-none-any.whl.metadata (7.2 kB)\n",
      "Requirement already satisfied: aiosignal>=1.1.2 in /opt/conda/lib/python3.11/site-packages (from aiohttp<4.0.0,>=3.8.3->langchain) (1.3.1)\n",
      "Requirement already satisfied: attrs>=17.3.0 in /opt/conda/lib/python3.11/site-packages (from aiohttp<4.0.0,>=3.8.3->langchain) (23.1.0)\n",
      "Requirement already satisfied: frozenlist>=1.1.1 in /opt/conda/lib/python3.11/site-packages (from aiohttp<4.0.0,>=3.8.3->langchain) (1.4.1)\n",
      "Requirement already satisfied: multidict<7.0,>=4.5 in /opt/conda/lib/python3.11/site-packages (from aiohttp<4.0.0,>=3.8.3->langchain) (6.0.5)\n",
      "Requirement already satisfied: yarl<2.0,>=1.0 in /opt/conda/lib/python3.11/site-packages (from aiohttp<4.0.0,>=3.8.3->langchain) (1.9.4)\n",
      "Requirement already satisfied: marshmallow<4.0.0,>=3.18.0 in /opt/conda/lib/python3.11/site-packages (from dataclasses-json<0.7,>=0.5.7->langchain-community) (3.21.2)\n",
      "Requirement already satisfied: typing-inspect<1,>=0.4.0 in /opt/conda/lib/python3.11/site-packages (from dataclasses-json<0.7,>=0.5.7->langchain-community) (0.9.0)\n",
      "Requirement already satisfied: anyio in /opt/conda/lib/python3.11/site-packages (from httpx<0.28.0,>=0.27.0->ollama) (4.0.0)\n",
      "Requirement already satisfied: certifi in /opt/conda/lib/python3.11/site-packages (from httpx<0.28.0,>=0.27.0->ollama) (2023.7.22)\n",
      "Collecting httpcore==1.* (from httpx<0.28.0,>=0.27.0->ollama)\n",
      "  Downloading httpcore-1.0.5-py3-none-any.whl.metadata (20 kB)\n",
      "Requirement already satisfied: idna in /opt/conda/lib/python3.11/site-packages (from httpx<0.28.0,>=0.27.0->ollama) (3.4)\n",
      "Requirement already satisfied: sniffio in /opt/conda/lib/python3.11/site-packages (from httpx<0.28.0,>=0.27.0->ollama) (1.3.0)\n",
      "Collecting h11<0.15,>=0.13 (from httpcore==1.*->httpx<0.28.0,>=0.27.0->ollama)\n",
      "  Downloading h11-0.14.0-py3-none-any.whl.metadata (8.2 kB)\n",
      "Requirement already satisfied: jsonpatch<2.0,>=1.33 in /opt/conda/lib/python3.11/site-packages (from langchain-core<0.3.0,>=0.2.0->langchain) (1.33)\n",
      "Requirement already satisfied: packaging<24.0,>=23.2 in /opt/conda/lib/python3.11/site-packages (from langchain-core<0.3.0,>=0.2.0->langchain) (23.2)\n",
      "Requirement already satisfied: orjson<4.0.0,>=3.9.14 in /opt/conda/lib/python3.11/site-packages (from langsmith<0.2.0,>=0.1.17->langchain) (3.10.3)\n",
      "Requirement already satisfied: annotated-types>=0.4.0 in /opt/conda/lib/python3.11/site-packages (from pydantic<3,>=1->langchain) (0.7.0)\n",
      "Requirement already satisfied: pydantic-core==2.18.2 in /opt/conda/lib/python3.11/site-packages (from pydantic<3,>=1->langchain) (2.18.2)\n",
      "Requirement already satisfied: typing-extensions>=4.6.1 in /opt/conda/lib/python3.11/site-packages (from pydantic<3,>=1->langchain) (4.8.0)\n",
      "Requirement already satisfied: charset-normalizer<4,>=2 in /opt/conda/lib/python3.11/site-packages (from requests<3,>=2->langchain) (3.3.0)\n",
      "Requirement already satisfied: urllib3<3,>=1.21.1 in /opt/conda/lib/python3.11/site-packages (from requests<3,>=2->langchain) (2.0.7)\n",
      "Requirement already satisfied: greenlet!=0.4.17 in /opt/conda/lib/python3.11/site-packages (from SQLAlchemy<3,>=1.4->langchain) (3.0.0)\n",
      "Requirement already satisfied: jsonpointer>=1.9 in /opt/conda/lib/python3.11/site-packages (from jsonpatch<2.0,>=1.33->langchain-core<0.3.0,>=0.2.0->langchain) (2.4)\n",
      "Requirement already satisfied: mypy-extensions>=0.3.0 in /opt/conda/lib/python3.11/site-packages (from typing-inspect<1,>=0.4.0->dataclasses-json<0.7,>=0.5.7->langchain-community) (1.0.0)\n",
      "Downloading ollama-0.2.0-py3-none-any.whl (9.5 kB)\n",
      "Downloading httpx-0.27.0-py3-none-any.whl (75 kB)\n",
      "\u001b[2K   \u001b[90m━━━━━━━━━━━━━━━━━━━━━━━━━━━━━━━━━━━━━━━━\u001b[0m \u001b[32m75.6/75.6 kB\u001b[0m \u001b[31m1.3 MB/s\u001b[0m eta \u001b[36m0:00:00\u001b[0ma \u001b[36m0:00:01\u001b[0m\n",
      "\u001b[?25hDownloading httpcore-1.0.5-py3-none-any.whl (77 kB)\n",
      "\u001b[2K   \u001b[90m━━━━━━━━━━━━━━━━━━━━━━━━━━━━━━━━━━━━━━━━\u001b[0m \u001b[32m77.9/77.9 kB\u001b[0m \u001b[31m8.4 MB/s\u001b[0m eta \u001b[36m0:00:00\u001b[0m\n",
      "\u001b[?25hDownloading h11-0.14.0-py3-none-any.whl (58 kB)\n",
      "\u001b[2K   \u001b[90m━━━━━━━━━━━━━━━━━━━━━━━━━━━━━━━━━━━━━━━━\u001b[0m \u001b[32m58.3/58.3 kB\u001b[0m \u001b[31m1.7 MB/s\u001b[0m eta \u001b[36m0:00:00\u001b[0m\n",
      "\u001b[?25hInstalling collected packages: h11, httpcore, httpx, ollama\n",
      "Successfully installed h11-0.14.0 httpcore-1.0.5 httpx-0.27.0 ollama-0.2.0\n"
     ]
    }
   ],
   "source": [
    "# Install some packages that are needed. \n",
    "\n",
    "!pip install neo4j langchain langchain-community ollama"
   ]
  },
  {
   "cell_type": "code",
   "execution_count": 2,
   "id": "25339b9d-f0d1-4111-bbcb-51af3db131a2",
   "metadata": {},
   "outputs": [],
   "source": [
    "# Imports needed\n",
    "\n",
    "import glob\n",
    "import json\n",
    "import os\n",
    "import re\n",
    "\n",
    "from pprint import pprint\n",
    "\n",
    "from langchain.llms import Ollama\n",
    "from langchain.graphs import Neo4jGraph\n",
    "from langchain.vectorstores.neo4j_vector import Neo4jVector\n",
    "#from langchain.embeddings.huggingface import HuggingFaceBgeEmbeddings\n",
    "from langchain.chains import RetrievalQA\n",
    "from langchain.chat_models import ChatOllama\n",
    "from langchain import PromptTemplate\n",
    "\n",
    "# Imports from other local python files\n",
    "from neo4j_graph import Graph\n",
    "\n"
   ]
  },
  {
   "cell_type": "markdown",
   "id": "5034f6fb-077c-4032-bf53-2be53648a811",
   "metadata": {},
   "source": [
    "## Establish Database Connection\n",
    "\n",
    "The cell connects to the Neo4J instance. It relies on several environment variables. \n",
    "\n",
    "**PLEASE NOTE**: The variable have been changed to support multiple databases in the same instance. \n",
    "\n",
    "| Variable            | Description                          | Sample Value          |\n",
    "|---------------------|--------------------------------------|-----------------------|\n",
    "| FHIR_GRAPH_URL      | Where to find the instance of Neo4j. | bolt://localhost:7687 |\n",
    "| FHIR_GRAPH_USER     | The username for the database.       | neo4j                 |\n",
    "| FHIR_GRAPH_PASSWORD | The password for the database.       | password              |\n",
    "| FHIR_GRAPH_DATABASE | The name of the database instance.   | neo4j                 |"
   ]
  },
  {
   "cell_type": "code",
   "execution_count": 2,
   "id": "5d1f69ff-048e-4070-bc7e-6f722714ea9a",
   "metadata": {},
   "outputs": [],
   "source": [
    "NEO4J_URI = \"bolt://neo4j-1:7687\"\n",
    "NEO4J_USER = \"neo4j\"\n",
    "NEO4J_PASSWORD = \"abc123abc123\"\n",
    "NEO4J_DATABASE = \"\"\n",
    "\n",
    "g = Graph(NEO4J_URI, NEO4J_USER, NEO4J_PASSWORD, NEO4J_DATABASE)"
   ]
  },
  {
   "cell_type": "markdown",
   "id": "de8a6b33-6c6a-4581-a884-9972073a93df",
   "metadata": {},
   "source": [
    "## Helper Database Cells\n",
    "\n",
    "The following three cells are here to be used to manage the database. They do not need to be run on a blank database. "
   ]
  },
  {
   "cell_type": "code",
   "execution_count": 52,
   "id": "985ddd91-3a2b-4a40-9788-a407e5e41490",
   "metadata": {},
   "outputs": [
    {
     "name": "stdout",
     "output_type": "stream",
     "text": [
      "[[38, 0]]\n",
      "(38, 0)\n"
     ]
    }
   ],
   "source": [
    "print(g.database_metrics())"
   ]
  },
  {
   "cell_type": "code",
   "execution_count": 3,
   "id": "38b447d2-b32e-4a59-84af-65bb2df1c78c",
   "metadata": {},
   "outputs": [
    {
     "name": "stdout",
     "output_type": "stream",
     "text": [
      "[[167, 165]]\n"
     ]
    },
    {
     "data": {
      "text/plain": [
       "'Deleted 167 nodes and 165 relationships in 0.052 seconds'"
      ]
     },
     "execution_count": 3,
     "metadata": {},
     "output_type": "execute_result"
    }
   ],
   "source": [
    "g.wipe_database()"
   ]
  },
  {
   "cell_type": "markdown",
   "id": "1bd80816-7949-49cb-a816-42c41caec6c7",
   "metadata": {},
   "source": [
    "## Load Markdown into the Graph\n",
    "\n",
    "This cell opens the bundle and creates the nodes and edges in the graph for each resource. \n",
    "\n",
    "Every resource will result in a node that has a label based on the resource type and as a `resource`. The values within the resource will be flattened \n",
    "into properties within the node. Also, a property called `text` will include a string representation of the resource. \n",
    "\n",
    "Additionally, nodes will be created for every unique date (ignoring time) found in the FHIR resources. \n",
    "\n",
    "Edges will be created for every reference in the resource to something that can be found within the bundles loaded. So the linking resource doesn't have \n",
    "to be in the same bundle, but it must be in a bundle that is loaded. \n",
    "\n",
    "Edges will also connect resources to the dates found inside them. \n",
    "\n",
    "**Warning:** This cell may take sometime to run. "
   ]
  },
  {
   "cell_type": "code",
   "execution_count": 4,
   "id": "508d41e8-af22-48dd-8f80-91d887daf1a6",
   "metadata": {},
   "outputs": [
    {
     "name": "stdout",
     "output_type": "stream",
     "text": [
      "/data-transfer/iihf/rulebook.md\n",
      "1\n"
     ]
    }
   ],
   "source": [
    "from langchain_community.document_loaders import DirectoryLoader\n",
    "from langchain_community.document_loaders import TextLoader\n",
    "from langchain.text_splitter import MarkdownTextSplitter\n",
    "from langchain_text_splitters import MarkdownHeaderTextSplitter\n",
    "\n",
    "loader = DirectoryLoader('/data-transfer/iihf', glob=\"**/*.md\", loader_cls=TextLoader)\n",
    "documents = loader.load()\n",
    "\n",
    "print (documents[0].metadata[\"source\"])\n",
    "print (len(documents))\n",
    "\n",
    "headers_to_split_on = [\n",
    "    (\"#\", \"header1\"),\n",
    "    (\"##\", \"header2\"),\n",
    "    (\"###\", \"header3\"),\n",
    "    (\"####\", \"header4\"),\n",
    "]\n",
    "\n",
    "markdown_splitter = MarkdownHeaderTextSplitter(headers_to_split_on=headers_to_split_on, strip_headers=True)\n",
    "md_header_splits = markdown_splitter.split_text(documents[0].page_content)"
   ]
  },
  {
   "cell_type": "code",
   "execution_count": 10,
   "id": "c62c7ee6-3e51-4d01-be6c-d2ad811b9512",
   "metadata": {},
   "outputs": [
    {
     "data": {
      "text/plain": [
       "Document(page_content='Games under jurisdiction of the IIHF shall be played on an ice surface known as the “Rink” and must adhere to the dimensions and specifications prescribed by the IIHF and these rules.  \\nNo ice markings shall be permitted except those provided for under these rules unless express written permission has been obtained from the IIHF. On-ice logos must not interfere with any official ice markings provided for the proper playing of the game.  \\nIn the interval between periods, the ice surface shall be flooded unless mutually agreed to the contrary.', metadata={'header1': 'IIHF Official Rulebook 2023/24', 'header2': 'SECTION 01 PLAYING AREA', 'header3': 'RULE 1 RINK', 'header4': '1.1 RINK'})"
      ]
     },
     "execution_count": 10,
     "metadata": {},
     "output_type": "execute_result"
    }
   ],
   "source": [
    "md_header_splits[1]\n",
    "#len(md_header_splits)"
   ]
  },
  {
   "cell_type": "code",
   "execution_count": 5,
   "id": "f5488bc1-21c2-4174-8268-6e15fbbdd398",
   "metadata": {},
   "outputs": [
    {
     "name": "stdout",
     "output_type": "stream",
     "text": [
      "IIHF Official Rulebook 2023/24\n",
      "SECTION 01 PLAYING AREA\n",
      "RULE 1 RINK\n",
      "1.6 DIVISION OF ICE SURFACE\n"
     ]
    }
   ],
   "source": [
    "# Char-level splits\n",
    "from langchain_text_splitters import RecursiveCharacterTextSplitter\n",
    "\n",
    "text_splitter = RecursiveCharacterTextSplitter(\n",
    "    separators=[\n",
    "        \"\\n\\n\",\n",
    "        \"\\n\",\n",
    "        \" \",\n",
    "        \".\",\n",
    "        \",\",\n",
    "        \"\\u200b\",  # Zero-width space\n",
    "        \"\\uff0c\",  # Fullwidth comma\n",
    "        \"\\u3001\",  # Ideographic comma\n",
    "        \"\\uff0e\",  # Fullwidth full stop\n",
    "        \"\\u3002\",  # Ideographic full stop\n",
    "        \"\",\n",
    "    ],\n",
    "    # Existing args\n",
    ")\n",
    "\n",
    "chunk_size = 200\n",
    "chunk_overlap = 30\n",
    "##text_splitter = RecursiveCharacterTextSplitter(\n",
    "##    chunk_size=chunk_size, chunk_overlap=chunk_overlap\n",
    "##)\n",
    "\n",
    "# Split\n",
    "chunks = text_splitter.split_documents(md_header_splits)\n",
    "for m in chunks[6].metadata:\n",
    "    print (chunks[6].metadata[m])"
   ]
  },
  {
   "cell_type": "code",
   "execution_count": 76,
   "id": "f374ad90-dc36-4815-903b-901fba39f934",
   "metadata": {},
   "outputs": [
    {
     "data": {
      "text/plain": [
       "73"
      ]
     },
     "execution_count": 76,
     "metadata": {},
     "output_type": "execute_result"
    }
   ],
   "source": [
    "len(chunks)"
   ]
  },
  {
   "cell_type": "markdown",
   "id": "15113c62-8544-49ae-9a17-d59b98de31d5",
   "metadata": {},
   "source": [
    "## Load data into the Graph"
   ]
  },
  {
   "cell_type": "code",
   "execution_count": 12,
   "id": "677cca04-b693-439f-90cb-d39e3c633377",
   "metadata": {},
   "outputs": [],
   "source": [
    "import os\n",
    "from langchain.graphs import Neo4jGraph\n",
    "from neo4j import GraphDatabase\n",
    "\n",
    "NEO4J_URI = \"bolt://neo4j-1:7687\"\n",
    "NEO4J_USER = \"neo4j\"\n",
    "NEO4J_PASSWORD = \"abc123abc123\"\n",
    "NEO4J_DATABASE = \"\"\n",
    "\n",
    "os.environ[\"NEO4J_URI\"] = NEO4J_URL\n",
    "os.environ[\"NEO4J_USERNAME\"] = NEO4J_USER\n",
    "os.environ[\"NEO4J_PASSWORD\"] = NEO4J_PASSWORD\n",
    "os.environ[\"NEO4J_DATABASE\"] = NEO4J_DATABASE\n",
    "\n",
    "graph = Neo4jGraph()\n",
    "\n",
    "driver = GraphDatabase.driver(NEO4J_URI, auth=(NEO4J_USER, NEO4J_PASSWORD), database=NEO4J_DATABASE)"
   ]
  },
  {
   "cell_type": "code",
   "execution_count": null,
   "id": "95e85c11-c46b-40c1-9ae4-39d7d72aabbe",
   "metadata": {},
   "outputs": [],
   "source": [
    "from neo4j_graph_loader import initialise_neo4j\n",
    "\n",
    "initialise_neo4j(graph)"
   ]
  },
  {
   "cell_type": "code",
   "execution_count": 7,
   "id": "caeee945-776c-48a8-a1f1-490d0da2d807",
   "metadata": {},
   "outputs": [],
   "source": [
    "from neo4j_graph_loader import insert_document\n",
    "\n",
    "document = documents[0]\n",
    "\n",
    "insert_document(graph, document)"
   ]
  },
  {
   "cell_type": "code",
   "execution_count": 8,
   "id": "9dd7a85d-e1fd-4016-83c8-ad0018602e2d",
   "metadata": {},
   "outputs": [],
   "source": [
    "from neo4j_graph_loader import insert_chunks\n",
    "\n",
    "insert_chunks(graph, 1, 1, chunks)"
   ]
  },
  {
   "cell_type": "code",
   "execution_count": 9,
   "id": "9a63bd49-afb2-48be-a2eb-ccec56ef9ba7",
   "metadata": {},
   "outputs": [],
   "source": [
    "from neo4j_graph_loader import derive_sections\n",
    "derive_sections(graph, document)"
   ]
  },
  {
   "cell_type": "markdown",
   "id": "0d352d40-eaa9-4e1e-b633-6d69d61d3060",
   "metadata": {},
   "source": [
    "## Create the Vector Embedding Index in the Graph\n",
    "\n",
    "This cell creates a Vector Index in Neo4J. It looks at nodes labeled as `resource` and indexes the string representation in the `text` property. \n",
    "\n",
    "**Warning:** This cell may take sometime to run. "
   ]
  },
  {
   "cell_type": "code",
   "execution_count": 2,
   "id": "d437f762-7aae-4169-b174-5f1b73f9a638",
   "metadata": {},
   "outputs": [
    {
     "name": "stdout",
     "output_type": "stream",
     "text": [
      "1024\n"
     ]
    }
   ],
   "source": [
    "import ollama\n",
    "from ollama import Client\n",
    "from langchain_community.embeddings import OllamaEmbeddings\n",
    "\n",
    "OLLAMA_URL=\"http://192.168.1.102:11434\"\n",
    "EMBEDDING_MODEL=\"mxbai-embed-large\"\n",
    "\n",
    "ollama = Client(host=OLLAMA_URL)\n",
    "\n",
    "embedding = OllamaEmbeddings(\n",
    "            base_url=OLLAMA_URL, model=EMBEDDING_MODEL, temperature=0)\n",
    "\n",
    "embedding_dimension = len(embedding.embed_query(\"foo\"))\n",
    "print (embedding_dimension)\n"
   ]
  },
  {
   "cell_type": "code",
   "execution_count": null,
   "id": "b8776e7d-bb7b-4af7-adab-178fa6b59e8f",
   "metadata": {},
   "outputs": [],
   "source": [
    "def get_embedding(client, text, model):\n",
    "        response = client.embeddings(model=model, prompt=text)\n",
    "        return response[\"embedding\"]\n",
    "\n",
    "print(get_embedding(ollama, \"car\", EMBEDDING_MODEL))"
   ]
  },
  {
   "cell_type": "code",
   "execution_count": 7,
   "id": "420c0c57-1237-4915-bc1f-a0ce6cf73b4a",
   "metadata": {},
   "outputs": [],
   "source": [
    "from neo4j_graph_loader import create_vector_index\n",
    "\n",
    "create_vector_index(graph, 1024)"
   ]
  },
  {
   "cell_type": "code",
   "execution_count": 6,
   "id": "b3581782-cee8-4670-9818-32f568cdf3e8",
   "metadata": {},
   "outputs": [
    {
     "name": "stdout",
     "output_type": "stream",
     "text": [
      "Processed 73 Chunk nodes for property @text.\n"
     ]
    },
    {
     "data": {
      "text/plain": [
       "73"
      ]
     },
     "execution_count": 6,
     "metadata": {},
     "output_type": "execute_result"
    }
   ],
   "source": [
    "from neo4j_graph_loader import create_embedding\n",
    "\n",
    "create_embedding(driver, 'Chunk', 'text', ollama, EMBEDDING_MODEL)"
   ]
  },
  {
   "cell_type": "markdown",
   "id": "ad84f208-cb50-4a4b-9cc3-399274c01bd2",
   "metadata": {},
   "source": [
    "# Using LangChain to create a Vector Embedding Index in an existing graph"
   ]
  },
  {
   "cell_type": "code",
   "execution_count": 15,
   "id": "742bf292-5e34-4c8b-be00-b227151ab5ad",
   "metadata": {},
   "outputs": [
    {
     "data": {
      "text/plain": [
       "<langchain_community.vectorstores.neo4j_vector.Neo4jVector at 0xffff457d6ed0>"
      ]
     },
     "execution_count": 15,
     "metadata": {},
     "output_type": "execute_result"
    }
   ],
   "source": [
    "from langchain.vectorstores import Neo4jVector\n",
    "Neo4jVector.from_existing_graph(\n",
    "    embedding=embedding,\n",
    "    url=NEO4J_URI,\n",
    "    username=NEO4J_USER,\n",
    "    password=NEO4J_PASSWORD,\n",
    "    database=NEO4J_DATABASE,\n",
    "    index_name='chunk_text',\n",
    "    node_label=\"Chunk\",\n",
    "    text_node_properties=['text'],\n",
    "    embedding_node_property='embedding',\n",
    ")"
   ]
  },
  {
   "cell_type": "markdown",
   "id": "8dd6c048-8846-47ce-897b-572a8082b12c",
   "metadata": {},
   "source": [
    "# Using LangChain to create a Neo4J Vector Database"
   ]
  },
  {
   "cell_type": "code",
   "execution_count": null,
   "id": "bc305841-608a-44bd-accd-0aadb56a1f29",
   "metadata": {},
   "outputs": [],
   "source": [
    "from langchain.vectorstores import Neo4jVector\n",
    "from langchain_community.embeddings import OllamaEmbeddings\n",
    "\n",
    "# Neo4j Aura credentials\n",
    "NEO4J_URL = \"bolt://neo4j-1:7687\"\n",
    "NEO4J_USER = \"neo4j\"\n",
    "NEO4J_PASSWORD = \"abc123abc123\"\n",
    "NEO4J_DATABASE = \"\"\n",
    "\n",
    "# Instantiate Neo4j vector from documents\n",
    "neo4j_vector = Neo4jVector.from_documents(\n",
    "    chunks,\n",
    "    embedding = OllamaEmbeddings(\n",
    "            base_url=OLLAMA_URL, model=\"mxbai-embed-large\", temperature=0\n",
    "        ),\n",
    "    url=NEO4J_URL,\n",
    "    username=NEO4J_USER,\n",
    "    password=NEO4J_PASSWORD,\n",
    "    node_label=\"Chunk\"\n",
    ")"
   ]
  },
  {
   "cell_type": "markdown",
   "id": "1e90a3a2-ee0c-415a-8e6c-6ab9dac0b618",
   "metadata": {},
   "source": [
    "# directly show the graph resulting from the given Cypher query\n"
   ]
  },
  {
   "cell_type": "code",
   "execution_count": null,
   "id": "e10b7464-0c41-40d3-99c4-cc452401b98e",
   "metadata": {},
   "outputs": [],
   "source": [
    "# directly show the graph resulting from the given Cypher query\n",
    "default_cypher = \"MATCH (s)-[r:!MENTIONS]->(t) RETURN s,r,t LIMIT 50\"\n",
    "\n",
    "def showGraph(cypher: str = default_cypher):\n",
    "    # create a neo4j session to run queries\n",
    "    driver = GraphDatabase.driver(\n",
    "        uri = os.environ[\"NEO4J_URI\"],\n",
    "        auth = (os.environ[\"NEO4J_USERNAME\"],\n",
    "                os.environ[\"NEO4J_PASSWORD\"]))\n",
    "    session = driver.session()\n",
    "    widget = GraphWidget(graph = session.run(cypher).graph())\n",
    "    widget.node_label_mapping = 'id'\n",
    "    #display(widget)\n",
    "    return widget\n",
    "\n",
    "showGraph()"
   ]
  }
 ],
 "metadata": {
  "kernelspec": {
   "display_name": "Python 3 (ipykernel)",
   "language": "python",
   "name": "python3"
  },
  "language_info": {
   "codemirror_mode": {
    "name": "ipython",
    "version": 3
   },
   "file_extension": ".py",
   "mimetype": "text/x-python",
   "name": "python",
   "nbconvert_exporter": "python",
   "pygments_lexer": "ipython3",
   "version": "3.11.6"
  }
 },
 "nbformat": 4,
 "nbformat_minor": 5
}
