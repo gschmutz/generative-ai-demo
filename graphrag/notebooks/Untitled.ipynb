{
 "cells": [
  {
   "cell_type": "code",
   "execution_count": 8,
   "id": "29b2c1cb-5e25-4a94-b98a-32db8a59ad2d",
   "metadata": {},
   "outputs": [
    {
     "name": "stdout",
     "output_type": "stream",
     "text": [
      "Requirement already satisfied: langchain-core in /opt/conda/lib/python3.11/site-packages (0.2.0)\n",
      "Requirement already satisfied: PyYAML>=5.3 in /opt/conda/lib/python3.11/site-packages (from langchain-core) (6.0.1)\n",
      "Requirement already satisfied: jsonpatch<2.0,>=1.33 in /opt/conda/lib/python3.11/site-packages (from langchain-core) (1.33)\n",
      "Requirement already satisfied: langsmith<0.2.0,>=0.1.0 in /opt/conda/lib/python3.11/site-packages (from langchain-core) (0.1.59)\n",
      "Requirement already satisfied: packaging<24.0,>=23.2 in /opt/conda/lib/python3.11/site-packages (from langchain-core) (23.2)\n",
      "Requirement already satisfied: pydantic<3,>=1 in /opt/conda/lib/python3.11/site-packages (from langchain-core) (2.7.1)\n",
      "Requirement already satisfied: tenacity<9.0.0,>=8.1.0 in /opt/conda/lib/python3.11/site-packages (from langchain-core) (8.3.0)\n",
      "Requirement already satisfied: jsonpointer>=1.9 in /opt/conda/lib/python3.11/site-packages (from jsonpatch<2.0,>=1.33->langchain-core) (2.4)\n",
      "Requirement already satisfied: orjson<4.0.0,>=3.9.14 in /opt/conda/lib/python3.11/site-packages (from langsmith<0.2.0,>=0.1.0->langchain-core) (3.10.3)\n",
      "Requirement already satisfied: requests<3,>=2 in /opt/conda/lib/python3.11/site-packages (from langsmith<0.2.0,>=0.1.0->langchain-core) (2.31.0)\n",
      "Requirement already satisfied: annotated-types>=0.4.0 in /opt/conda/lib/python3.11/site-packages (from pydantic<3,>=1->langchain-core) (0.6.0)\n",
      "Requirement already satisfied: pydantic-core==2.18.2 in /opt/conda/lib/python3.11/site-packages (from pydantic<3,>=1->langchain-core) (2.18.2)\n",
      "Requirement already satisfied: typing-extensions>=4.6.1 in /opt/conda/lib/python3.11/site-packages (from pydantic<3,>=1->langchain-core) (4.11.0)\n",
      "Requirement already satisfied: charset-normalizer<4,>=2 in /opt/conda/lib/python3.11/site-packages (from requests<3,>=2->langsmith<0.2.0,>=0.1.0->langchain-core) (3.3.0)\n",
      "Requirement already satisfied: idna<4,>=2.5 in /opt/conda/lib/python3.11/site-packages (from requests<3,>=2->langsmith<0.2.0,>=0.1.0->langchain-core) (3.4)\n",
      "Requirement already satisfied: urllib3<3,>=1.21.1 in /opt/conda/lib/python3.11/site-packages (from requests<3,>=2->langsmith<0.2.0,>=0.1.0->langchain-core) (2.0.7)\n",
      "Requirement already satisfied: certifi>=2017.4.17 in /opt/conda/lib/python3.11/site-packages (from requests<3,>=2->langsmith<0.2.0,>=0.1.0->langchain-core) (2023.7.22)\n",
      "Requirement already satisfied: unstructured[all-docs] in /opt/conda/lib/python3.11/site-packages (0.14.0)\n",
      "Requirement already satisfied: chardet in /opt/conda/lib/python3.11/site-packages (from unstructured[all-docs]) (5.2.0)\n",
      "Requirement already satisfied: filetype in /opt/conda/lib/python3.11/site-packages (from unstructured[all-docs]) (1.2.0)\n",
      "Requirement already satisfied: python-magic in /opt/conda/lib/python3.11/site-packages (from unstructured[all-docs]) (0.4.27)\n",
      "Requirement already satisfied: lxml in /opt/conda/lib/python3.11/site-packages (from unstructured[all-docs]) (5.2.2)\n",
      "Requirement already satisfied: nltk in /opt/conda/lib/python3.11/site-packages (from unstructured[all-docs]) (3.8.1)\n",
      "Requirement already satisfied: tabulate in /opt/conda/lib/python3.11/site-packages (from unstructured[all-docs]) (0.9.0)\n",
      "Requirement already satisfied: requests in /opt/conda/lib/python3.11/site-packages (from unstructured[all-docs]) (2.31.0)\n",
      "Requirement already satisfied: beautifulsoup4 in /opt/conda/lib/python3.11/site-packages (from unstructured[all-docs]) (4.12.3)\n",
      "Requirement already satisfied: emoji in /opt/conda/lib/python3.11/site-packages (from unstructured[all-docs]) (2.11.1)\n",
      "Requirement already satisfied: dataclasses-json in /opt/conda/lib/python3.11/site-packages (from unstructured[all-docs]) (0.6.6)\n",
      "Requirement already satisfied: python-iso639 in /opt/conda/lib/python3.11/site-packages (from unstructured[all-docs]) (2024.4.27)\n",
      "Requirement already satisfied: langdetect in /opt/conda/lib/python3.11/site-packages (from unstructured[all-docs]) (1.0.9)\n",
      "Requirement already satisfied: numpy in /opt/conda/lib/python3.11/site-packages (from unstructured[all-docs]) (1.26.4)\n",
      "Requirement already satisfied: rapidfuzz in /opt/conda/lib/python3.11/site-packages (from unstructured[all-docs]) (3.9.0)\n",
      "Requirement already satisfied: backoff in /opt/conda/lib/python3.11/site-packages (from unstructured[all-docs]) (2.2.1)\n",
      "Requirement already satisfied: typing-extensions in /opt/conda/lib/python3.11/site-packages (from unstructured[all-docs]) (4.11.0)\n",
      "Requirement already satisfied: unstructured-client in /opt/conda/lib/python3.11/site-packages (from unstructured[all-docs]) (0.22.0)\n",
      "Requirement already satisfied: wrapt in /opt/conda/lib/python3.11/site-packages (from unstructured[all-docs]) (1.16.0)\n",
      "Requirement already satisfied: pikepdf in /opt/conda/lib/python3.11/site-packages (from unstructured[all-docs]) (8.15.1)\n",
      "Requirement already satisfied: pdfminer.six in /opt/conda/lib/python3.11/site-packages (from unstructured[all-docs]) (20231228)\n",
      "Requirement already satisfied: python-pptx<=0.6.23 in /opt/conda/lib/python3.11/site-packages (from unstructured[all-docs]) (0.6.23)\n",
      "Requirement already satisfied: networkx in /opt/conda/lib/python3.11/site-packages (from unstructured[all-docs]) (3.3)\n",
      "Requirement already satisfied: pdf2image in /opt/conda/lib/python3.11/site-packages (from unstructured[all-docs]) (1.17.0)\n",
      "Requirement already satisfied: pypandoc in /opt/conda/lib/python3.11/site-packages (from unstructured[all-docs]) (1.13)\n",
      "Requirement already satisfied: onnx in /opt/conda/lib/python3.11/site-packages (from unstructured[all-docs]) (1.16.0)\n",
      "Requirement already satisfied: unstructured.pytesseract>=0.3.12 in /opt/conda/lib/python3.11/site-packages (from unstructured[all-docs]) (0.3.12)\n",
      "Requirement already satisfied: google-cloud-vision in /opt/conda/lib/python3.11/site-packages (from unstructured[all-docs]) (3.7.2)\n",
      "Requirement already satisfied: python-docx in /opt/conda/lib/python3.11/site-packages (from unstructured[all-docs]) (1.1.2)\n",
      "Requirement already satisfied: pypdf in /opt/conda/lib/python3.11/site-packages (from unstructured[all-docs]) (4.2.0)\n",
      "Requirement already satisfied: pandas in /opt/conda/lib/python3.11/site-packages (from unstructured[all-docs]) (2.2.2)\n",
      "Requirement already satisfied: pillow-heif in /opt/conda/lib/python3.11/site-packages (from unstructured[all-docs]) (0.16.0)\n",
      "Requirement already satisfied: markdown in /opt/conda/lib/python3.11/site-packages (from unstructured[all-docs]) (3.6)\n",
      "Requirement already satisfied: msg-parser in /opt/conda/lib/python3.11/site-packages (from unstructured[all-docs]) (1.2.0)\n",
      "Requirement already satisfied: unstructured-inference==0.7.31 in /opt/conda/lib/python3.11/site-packages (from unstructured[all-docs]) (0.7.31)\n",
      "Requirement already satisfied: openpyxl in /opt/conda/lib/python3.11/site-packages (from unstructured[all-docs]) (3.1.2)\n",
      "Requirement already satisfied: xlrd in /opt/conda/lib/python3.11/site-packages (from unstructured[all-docs]) (2.0.1)\n",
      "Requirement already satisfied: layoutparser[layoutmodels,tesseract] in /opt/conda/lib/python3.11/site-packages (from unstructured-inference==0.7.31->unstructured[all-docs]) (0.3.4)\n",
      "Requirement already satisfied: python-multipart in /opt/conda/lib/python3.11/site-packages (from unstructured-inference==0.7.31->unstructured[all-docs]) (0.0.9)\n",
      "Requirement already satisfied: huggingface-hub in /opt/conda/lib/python3.11/site-packages (from unstructured-inference==0.7.31->unstructured[all-docs]) (0.23.0)\n",
      "Requirement already satisfied: opencv-python!=4.7.0.68 in /opt/conda/lib/python3.11/site-packages (from unstructured-inference==0.7.31->unstructured[all-docs]) (4.9.0.80)\n",
      "Requirement already satisfied: onnxruntime>=1.17.0 in /opt/conda/lib/python3.11/site-packages (from unstructured-inference==0.7.31->unstructured[all-docs]) (1.18.0)\n",
      "Requirement already satisfied: transformers>=4.25.1 in /opt/conda/lib/python3.11/site-packages (from unstructured-inference==0.7.31->unstructured[all-docs]) (4.41.0)\n",
      "Requirement already satisfied: Pillow>=3.3.2 in /opt/conda/lib/python3.11/site-packages (from python-pptx<=0.6.23->unstructured[all-docs]) (10.3.0)\n",
      "Requirement already satisfied: XlsxWriter>=0.5.7 in /opt/conda/lib/python3.11/site-packages (from python-pptx<=0.6.23->unstructured[all-docs]) (3.2.0)\n",
      "Requirement already satisfied: packaging>=21.3 in /opt/conda/lib/python3.11/site-packages (from unstructured.pytesseract>=0.3.12->unstructured[all-docs]) (23.2)\n",
      "Requirement already satisfied: soupsieve>1.2 in /opt/conda/lib/python3.11/site-packages (from beautifulsoup4->unstructured[all-docs]) (2.5)\n",
      "Requirement already satisfied: marshmallow<4.0.0,>=3.18.0 in /opt/conda/lib/python3.11/site-packages (from dataclasses-json->unstructured[all-docs]) (3.21.2)\n",
      "Requirement already satisfied: typing-inspect<1,>=0.4.0 in /opt/conda/lib/python3.11/site-packages (from dataclasses-json->unstructured[all-docs]) (0.9.0)\n",
      "Requirement already satisfied: google-api-core!=2.0.*,!=2.1.*,!=2.10.*,!=2.2.*,!=2.3.*,!=2.4.*,!=2.5.*,!=2.6.*,!=2.7.*,!=2.8.*,!=2.9.*,<3.0.0dev,>=1.34.1 in /opt/conda/lib/python3.11/site-packages (from google-api-core[grpc]!=2.0.*,!=2.1.*,!=2.10.*,!=2.2.*,!=2.3.*,!=2.4.*,!=2.5.*,!=2.6.*,!=2.7.*,!=2.8.*,!=2.9.*,<3.0.0dev,>=1.34.1->google-cloud-vision->unstructured[all-docs]) (2.19.0)\n",
      "Requirement already satisfied: google-auth!=2.24.0,!=2.25.0,<3.0.0dev,>=2.14.1 in /opt/conda/lib/python3.11/site-packages (from google-cloud-vision->unstructured[all-docs]) (2.29.0)\n",
      "Requirement already satisfied: proto-plus<2.0.0dev,>=1.22.3 in /opt/conda/lib/python3.11/site-packages (from google-cloud-vision->unstructured[all-docs]) (1.23.0)\n",
      "Requirement already satisfied: protobuf!=3.20.0,!=3.20.1,!=4.21.0,!=4.21.1,!=4.21.2,!=4.21.3,!=4.21.4,!=4.21.5,<5.0.0dev,>=3.19.5 in /opt/conda/lib/python3.11/site-packages (from google-cloud-vision->unstructured[all-docs]) (4.25.3)\n",
      "Requirement already satisfied: six in /opt/conda/lib/python3.11/site-packages (from langdetect->unstructured[all-docs]) (1.16.0)\n",
      "Requirement already satisfied: olefile>=0.46 in /opt/conda/lib/python3.11/site-packages (from msg-parser->unstructured[all-docs]) (0.47)\n",
      "Requirement already satisfied: click in /opt/conda/lib/python3.11/site-packages (from nltk->unstructured[all-docs]) (8.1.7)\n",
      "Requirement already satisfied: joblib in /opt/conda/lib/python3.11/site-packages (from nltk->unstructured[all-docs]) (1.4.2)\n",
      "Requirement already satisfied: regex>=2021.8.3 in /opt/conda/lib/python3.11/site-packages (from nltk->unstructured[all-docs]) (2024.5.15)\n",
      "Requirement already satisfied: tqdm in /opt/conda/lib/python3.11/site-packages (from nltk->unstructured[all-docs]) (4.66.1)\n",
      "Requirement already satisfied: et-xmlfile in /opt/conda/lib/python3.11/site-packages (from openpyxl->unstructured[all-docs]) (1.1.0)\n",
      "Requirement already satisfied: python-dateutil>=2.8.2 in /opt/conda/lib/python3.11/site-packages (from pandas->unstructured[all-docs]) (2.8.2)\n",
      "Requirement already satisfied: pytz>=2020.1 in /opt/conda/lib/python3.11/site-packages (from pandas->unstructured[all-docs]) (2023.3.post1)\n",
      "Requirement already satisfied: tzdata>=2022.7 in /opt/conda/lib/python3.11/site-packages (from pandas->unstructured[all-docs]) (2024.1)\n",
      "Requirement already satisfied: charset-normalizer>=2.0.0 in /opt/conda/lib/python3.11/site-packages (from pdfminer.six->unstructured[all-docs]) (3.3.0)\n",
      "Requirement already satisfied: cryptography>=36.0.0 in /opt/conda/lib/python3.11/site-packages (from pdfminer.six->unstructured[all-docs]) (41.0.4)\n",
      "Requirement already satisfied: Deprecated in /opt/conda/lib/python3.11/site-packages (from pikepdf->unstructured[all-docs]) (1.2.14)\n",
      "Requirement already satisfied: idna<4,>=2.5 in /opt/conda/lib/python3.11/site-packages (from requests->unstructured[all-docs]) (3.4)\n",
      "Requirement already satisfied: urllib3<3,>=1.21.1 in /opt/conda/lib/python3.11/site-packages (from requests->unstructured[all-docs]) (2.0.7)\n",
      "Requirement already satisfied: certifi>=2017.4.17 in /opt/conda/lib/python3.11/site-packages (from requests->unstructured[all-docs]) (2023.7.22)\n",
      "Requirement already satisfied: deepdiff>=6.0 in /opt/conda/lib/python3.11/site-packages (from unstructured-client->unstructured[all-docs]) (7.0.1)\n",
      "Requirement already satisfied: jsonpath-python>=1.0.6 in /opt/conda/lib/python3.11/site-packages (from unstructured-client->unstructured[all-docs]) (1.0.6)\n",
      "Requirement already satisfied: mypy-extensions>=1.0.0 in /opt/conda/lib/python3.11/site-packages (from unstructured-client->unstructured[all-docs]) (1.0.0)\n",
      "Requirement already satisfied: cffi>=1.12 in /opt/conda/lib/python3.11/site-packages (from cryptography>=36.0.0->pdfminer.six->unstructured[all-docs]) (1.16.0)\n",
      "Requirement already satisfied: ordered-set<4.2.0,>=4.1.0 in /opt/conda/lib/python3.11/site-packages (from deepdiff>=6.0->unstructured-client->unstructured[all-docs]) (4.1.0)\n",
      "Requirement already satisfied: googleapis-common-protos<2.0.dev0,>=1.56.2 in /opt/conda/lib/python3.11/site-packages (from google-api-core!=2.0.*,!=2.1.*,!=2.10.*,!=2.2.*,!=2.3.*,!=2.4.*,!=2.5.*,!=2.6.*,!=2.7.*,!=2.8.*,!=2.9.*,<3.0.0dev,>=1.34.1->google-api-core[grpc]!=2.0.*,!=2.1.*,!=2.10.*,!=2.2.*,!=2.3.*,!=2.4.*,!=2.5.*,!=2.6.*,!=2.7.*,!=2.8.*,!=2.9.*,<3.0.0dev,>=1.34.1->google-cloud-vision->unstructured[all-docs]) (1.63.0)\n",
      "Requirement already satisfied: grpcio<2.0dev,>=1.33.2 in /opt/conda/lib/python3.11/site-packages (from google-api-core[grpc]!=2.0.*,!=2.1.*,!=2.10.*,!=2.2.*,!=2.3.*,!=2.4.*,!=2.5.*,!=2.6.*,!=2.7.*,!=2.8.*,!=2.9.*,<3.0.0dev,>=1.34.1->google-cloud-vision->unstructured[all-docs]) (1.63.0)\n",
      "Requirement already satisfied: grpcio-status<2.0.dev0,>=1.33.2 in /opt/conda/lib/python3.11/site-packages (from google-api-core[grpc]!=2.0.*,!=2.1.*,!=2.10.*,!=2.2.*,!=2.3.*,!=2.4.*,!=2.5.*,!=2.6.*,!=2.7.*,!=2.8.*,!=2.9.*,<3.0.0dev,>=1.34.1->google-cloud-vision->unstructured[all-docs]) (1.62.2)\n",
      "Requirement already satisfied: cachetools<6.0,>=2.0.0 in /opt/conda/lib/python3.11/site-packages (from google-auth!=2.24.0,!=2.25.0,<3.0.0dev,>=2.14.1->google-cloud-vision->unstructured[all-docs]) (5.3.3)\n",
      "Requirement already satisfied: pyasn1-modules>=0.2.1 in /opt/conda/lib/python3.11/site-packages (from google-auth!=2.24.0,!=2.25.0,<3.0.0dev,>=2.14.1->google-cloud-vision->unstructured[all-docs]) (0.4.0)\n",
      "Requirement already satisfied: rsa<5,>=3.1.4 in /opt/conda/lib/python3.11/site-packages (from google-auth!=2.24.0,!=2.25.0,<3.0.0dev,>=2.14.1->google-cloud-vision->unstructured[all-docs]) (4.9)\n",
      "Requirement already satisfied: coloredlogs in /opt/conda/lib/python3.11/site-packages (from onnxruntime>=1.17.0->unstructured-inference==0.7.31->unstructured[all-docs]) (15.0.1)\n",
      "Requirement already satisfied: flatbuffers in /opt/conda/lib/python3.11/site-packages (from onnxruntime>=1.17.0->unstructured-inference==0.7.31->unstructured[all-docs]) (24.3.25)\n",
      "Requirement already satisfied: sympy in /opt/conda/lib/python3.11/site-packages (from onnxruntime>=1.17.0->unstructured-inference==0.7.31->unstructured[all-docs]) (1.12)\n",
      "Requirement already satisfied: filelock in /opt/conda/lib/python3.11/site-packages (from transformers>=4.25.1->unstructured-inference==0.7.31->unstructured[all-docs]) (3.14.0)\n",
      "Requirement already satisfied: pyyaml>=5.1 in /opt/conda/lib/python3.11/site-packages (from transformers>=4.25.1->unstructured-inference==0.7.31->unstructured[all-docs]) (6.0.1)\n",
      "Requirement already satisfied: tokenizers<0.20,>=0.19 in /opt/conda/lib/python3.11/site-packages (from transformers>=4.25.1->unstructured-inference==0.7.31->unstructured[all-docs]) (0.19.1)\n",
      "Requirement already satisfied: safetensors>=0.4.1 in /opt/conda/lib/python3.11/site-packages (from transformers>=4.25.1->unstructured-inference==0.7.31->unstructured[all-docs]) (0.4.3)\n",
      "Requirement already satisfied: fsspec>=2023.5.0 in /opt/conda/lib/python3.11/site-packages (from huggingface-hub->unstructured-inference==0.7.31->unstructured[all-docs]) (2024.5.0)\n",
      "Requirement already satisfied: scipy in /opt/conda/lib/python3.11/site-packages (from layoutparser[layoutmodels,tesseract]->unstructured-inference==0.7.31->unstructured[all-docs]) (1.13.0)\n",
      "Requirement already satisfied: iopath in /opt/conda/lib/python3.11/site-packages (from layoutparser[layoutmodels,tesseract]->unstructured-inference==0.7.31->unstructured[all-docs]) (0.1.10)\n",
      "Requirement already satisfied: pdfplumber in /opt/conda/lib/python3.11/site-packages (from layoutparser[layoutmodels,tesseract]->unstructured-inference==0.7.31->unstructured[all-docs]) (0.11.0)\n",
      "Requirement already satisfied: torch in /opt/conda/lib/python3.11/site-packages (from layoutparser[layoutmodels,tesseract]->unstructured-inference==0.7.31->unstructured[all-docs]) (2.3.0)\n",
      "Requirement already satisfied: torchvision in /opt/conda/lib/python3.11/site-packages (from layoutparser[layoutmodels,tesseract]->unstructured-inference==0.7.31->unstructured[all-docs]) (0.18.0)\n",
      "Requirement already satisfied: effdet in /opt/conda/lib/python3.11/site-packages (from layoutparser[layoutmodels,tesseract]->unstructured-inference==0.7.31->unstructured[all-docs]) (0.4.1)\n",
      "Requirement already satisfied: pytesseract in /opt/conda/lib/python3.11/site-packages (from layoutparser[layoutmodels,tesseract]->unstructured-inference==0.7.31->unstructured[all-docs]) (0.3.10)\n",
      "Requirement already satisfied: pycparser in /opt/conda/lib/python3.11/site-packages (from cffi>=1.12->cryptography>=36.0.0->pdfminer.six->unstructured[all-docs]) (2.21)\n",
      "Requirement already satisfied: pyasn1<0.7.0,>=0.4.6 in /opt/conda/lib/python3.11/site-packages (from pyasn1-modules>=0.2.1->google-auth!=2.24.0,!=2.25.0,<3.0.0dev,>=2.14.1->google-cloud-vision->unstructured[all-docs]) (0.6.0)\n",
      "Requirement already satisfied: humanfriendly>=9.1 in /opt/conda/lib/python3.11/site-packages (from coloredlogs->onnxruntime>=1.17.0->unstructured-inference==0.7.31->unstructured[all-docs]) (10.0)\n",
      "Requirement already satisfied: timm>=0.9.2 in /opt/conda/lib/python3.11/site-packages (from effdet->layoutparser[layoutmodels,tesseract]->unstructured-inference==0.7.31->unstructured[all-docs]) (1.0.3)\n",
      "Requirement already satisfied: pycocotools>=2.0.2 in /opt/conda/lib/python3.11/site-packages (from effdet->layoutparser[layoutmodels,tesseract]->unstructured-inference==0.7.31->unstructured[all-docs]) (2.0.7)\n",
      "Requirement already satisfied: omegaconf>=2.0 in /opt/conda/lib/python3.11/site-packages (from effdet->layoutparser[layoutmodels,tesseract]->unstructured-inference==0.7.31->unstructured[all-docs]) (2.3.0)\n",
      "Requirement already satisfied: jinja2 in /opt/conda/lib/python3.11/site-packages (from torch->layoutparser[layoutmodels,tesseract]->unstructured-inference==0.7.31->unstructured[all-docs]) (3.1.2)\n",
      "Requirement already satisfied: portalocker in /opt/conda/lib/python3.11/site-packages (from iopath->layoutparser[layoutmodels,tesseract]->unstructured-inference==0.7.31->unstructured[all-docs]) (2.8.2)\n",
      "Requirement already satisfied: pypdfium2>=4.18.0 in /opt/conda/lib/python3.11/site-packages (from pdfplumber->layoutparser[layoutmodels,tesseract]->unstructured-inference==0.7.31->unstructured[all-docs]) (4.30.0)\n",
      "Requirement already satisfied: mpmath>=0.19 in /opt/conda/lib/python3.11/site-packages (from sympy->onnxruntime>=1.17.0->unstructured-inference==0.7.31->unstructured[all-docs]) (1.3.0)\n",
      "Requirement already satisfied: antlr4-python3-runtime==4.9.* in /opt/conda/lib/python3.11/site-packages (from omegaconf>=2.0->effdet->layoutparser[layoutmodels,tesseract]->unstructured-inference==0.7.31->unstructured[all-docs]) (4.9.3)\n",
      "Requirement already satisfied: matplotlib>=2.1.0 in /opt/conda/lib/python3.11/site-packages (from pycocotools>=2.0.2->effdet->layoutparser[layoutmodels,tesseract]->unstructured-inference==0.7.31->unstructured[all-docs]) (3.9.0)\n",
      "Requirement already satisfied: MarkupSafe>=2.0 in /opt/conda/lib/python3.11/site-packages (from jinja2->torch->layoutparser[layoutmodels,tesseract]->unstructured-inference==0.7.31->unstructured[all-docs]) (2.1.3)\n",
      "Requirement already satisfied: contourpy>=1.0.1 in /opt/conda/lib/python3.11/site-packages (from matplotlib>=2.1.0->pycocotools>=2.0.2->effdet->layoutparser[layoutmodels,tesseract]->unstructured-inference==0.7.31->unstructured[all-docs]) (1.2.1)\n",
      "Requirement already satisfied: cycler>=0.10 in /opt/conda/lib/python3.11/site-packages (from matplotlib>=2.1.0->pycocotools>=2.0.2->effdet->layoutparser[layoutmodels,tesseract]->unstructured-inference==0.7.31->unstructured[all-docs]) (0.12.1)\n",
      "Requirement already satisfied: fonttools>=4.22.0 in /opt/conda/lib/python3.11/site-packages (from matplotlib>=2.1.0->pycocotools>=2.0.2->effdet->layoutparser[layoutmodels,tesseract]->unstructured-inference==0.7.31->unstructured[all-docs]) (4.51.0)\n",
      "Requirement already satisfied: kiwisolver>=1.3.1 in /opt/conda/lib/python3.11/site-packages (from matplotlib>=2.1.0->pycocotools>=2.0.2->effdet->layoutparser[layoutmodels,tesseract]->unstructured-inference==0.7.31->unstructured[all-docs]) (1.4.5)\n",
      "Requirement already satisfied: pyparsing>=2.3.1 in /opt/conda/lib/python3.11/site-packages (from matplotlib>=2.1.0->pycocotools>=2.0.2->effdet->layoutparser[layoutmodels,tesseract]->unstructured-inference==0.7.31->unstructured[all-docs]) (3.1.2)\n",
      "Requirement already satisfied: pypdf in /opt/conda/lib/python3.11/site-packages (4.2.0)\n"
     ]
    }
   ],
   "source": [
    "!pip install langchain\n",
    "!pip install langchain-community\n",
    "!pip install langchain-core\n",
    "!pip install unstructured[all-docs]\n",
    "!pip install pypdf"
   ]
  },
  {
   "cell_type": "code",
   "execution_count": 9,
   "id": "f0ace4be-382b-4ff2-9aa4-252f4e078563",
   "metadata": {},
   "outputs": [],
   "source": [
    "from langchain_community.document_loaders import UnstructuredPDFLoader"
   ]
  },
  {
   "cell_type": "code",
   "execution_count": 15,
   "id": "f82be888-ca7a-4fbe-aa41-74e017f7b7fa",
   "metadata": {},
   "outputs": [],
   "source": [
    "loader = UnstructuredPDFLoader(\"/data-transfer/football/the-fa-handbook-2023-24-update-311023-1.pdf\", mode=\"elements\")"
   ]
  },
  {
   "cell_type": "code",
   "execution_count": 16,
   "id": "983d2454-7fef-4242-9c37-a79dfddc17b3",
   "metadata": {},
   "outputs": [],
   "source": [
    "data = loader.load()"
   ]
  },
  {
   "cell_type": "code",
   "execution_count": 21,
   "id": "87670d01-2712-42fe-a3b0-bdf8294ce161",
   "metadata": {},
   "outputs": [
    {
     "data": {
      "text/plain": [
       "Document(page_content='Council shall have the power to appoint Honorary Vice-Presidents and Honorary Members. Council shall have the power to remove any Honorary Member or any Honorary Vice-President. The criteria for appointment to the position of either an Honorary Vice-President or an Honorary Member shall be determined from time to time by the Council, and as a minimum such persons will have made a significant contribution to football, but shall not include retiring Members of Council. Such person, if appointed, shall not be entitled to notice of nor to attend nor to vote at meetings of Council.', metadata={'source': '/data-transfer/football/the-fa-handbook-2023-24-update-311023-1.pdf', 'coordinates': {'points': ((65.1998, 310.22399999999993), (65.1998, 362.234), (378.2677999999997, 362.234), (378.2677999999997, 310.22399999999993)), 'system': 'PixelSpace', 'layout_width': 419.528, 'layout_height': 595.276}, 'file_directory': '/data-transfer/football', 'filename': 'the-fa-handbook-2023-24-update-311023-1.pdf', 'languages': ['eng'], 'last_modified': '2024-05-20T14:33:40', 'page_number': 4, 'parent_id': '7143302f95285125318a01a44a7da078', 'filetype': 'application/pdf', 'category': 'NarrativeText'})"
      ]
     },
     "execution_count": 21,
     "metadata": {},
     "output_type": "execute_result"
    }
   ],
   "source": [
    "data[100]"
   ]
  },
  {
   "cell_type": "code",
   "execution_count": null,
   "id": "4b95bd3d-5954-4f97-ab87-5a78efc94d01",
   "metadata": {},
   "outputs": [],
   "source": []
  }
 ],
 "metadata": {
  "kernelspec": {
   "display_name": "Python 3 (ipykernel)",
   "language": "python",
   "name": "python3"
  },
  "language_info": {
   "codemirror_mode": {
    "name": "ipython",
    "version": 3
   },
   "file_extension": ".py",
   "mimetype": "text/x-python",
   "name": "python",
   "nbconvert_exporter": "python",
   "pygments_lexer": "ipython3",
   "version": "3.11.6"
  }
 },
 "nbformat": 4,
 "nbformat_minor": 5
}
