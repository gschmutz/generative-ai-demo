{
 "cells": [
  {
   "cell_type": "markdown",
   "id": "9175d94b-b1f2-4bb1-809d-3b82daae077b",
   "metadata": {},
   "source": [
    "# Using LlamaIndex to read Markdown and store it in Neo4J"
   ]
  },
  {
   "cell_type": "code",
   "execution_count": null,
   "id": "fc0d1443-1213-4480-9379-3c5d41c12fef",
   "metadata": {},
   "outputs": [],
   "source": [
    "!pip3 install llama-index\n",
    "!pip3 install llama-index-core\n",
    "!pip3 install llama-index-embeddings-openai\n",
    "!pip3 install llama-parse\n",
    "!pip3 install neo4j\n",
    "!pip3 install llama-index-llms-ollama\n",
    "!pip3 install ollama"
   ]
  },
  {
   "cell_type": "code",
   "execution_count": 1,
   "id": "76be48f5-48a1-4b3b-88e4-fb37869bc39e",
   "metadata": {},
   "outputs": [],
   "source": [
    "# llama-parse is async-first, running the async code in a notebook requires the use of nest_asyncio\n",
    "import nest_asyncio\n",
    "nest_asyncio.apply()\n",
    "import os\n",
    "\n",
    "# Using OpenAI API for embeddings/llms\n",
    "os.environ[\"OPENAI_API_KEY\"] = \"N.A. we use ollama\""
   ]
  },
  {
   "cell_type": "code",
   "execution_count": 2,
   "id": "af37fb3f-0e2c-46a3-8ddc-ffa118873460",
   "metadata": {},
   "outputs": [
    {
     "name": "stdout",
     "output_type": "stream",
     "text": [
      "Laurie Voss: Senior Vice President of Government Relations at ESRI.\n"
     ]
    }
   ],
   "source": [
    "# Just runs .complete to make sure the LLM is listening\n",
    "from llama_index.llms.ollama import Ollama\n",
    "from llama_index.core import Settings\n",
    "\n",
    "llm = Ollama(model=\"llama3\", base_url=\"http://192.168.1.102:11434\")\n",
    "\n",
    "response = llm.complete(\"Who is Laurie Voss? write in 10 words\")\n",
    "print(response)"
   ]
  },
  {
   "cell_type": "code",
   "execution_count": 106,
   "id": "bca1049b-8145-492a-b332-5a0475b650fa",
   "metadata": {},
   "outputs": [
    {
     "name": "stdout",
     "output_type": "stream",
     "text": [
      "1\n",
      "[Document(id_='f69616b9-c371-4c48-88d7-e619111c80f3', embedding=None, metadata={'filename': 'rulebook.md', 'extension': '.md'}, excluded_embed_metadata_keys=[], excluded_llm_metadata_keys=[], relationships={}, text='# IIHF Official Rulebook 2023/24\\n\\n## Welcome\\n\\nNo matter where ice hockey is played, the object of the game is the same – to put the puck into the opponent’s goal. Beyond that, ice hockey across the globe is subject to certain variations. This makes the rules of the game extremely important. These rules must be followed all times, in all countries, in all age categories, for the game to be enjoyed by everyone.\\n\\nHockey’s speed is one of the qualities that makes it so exciting. But this skill and excitement must be balanced with fair play and respect.\\n\\nIt is, therefore, important to make a clear separation between the purpose of all the elements of the game and to use these respectfully. These distinctions can be taught at an early age or whenever one begins to show interest in the game. And this is why hockey development begins with parents and coaches, those people most influential in guiding a person, old or young, into playing the game properly and within the rules.\\n\\nThe IIHF Championship program encompasses 81 Member National Associations, five age and gender categories over 30 international ice hockey tournaments, including the Olympic Winter Games.\\n\\nThe extensiveness of the program is acknowledged in the rule book. The goal is to provide everyone one set of rules from which to work. This presents a fair and leveled standard of play. It is a means of keeping the game’s “language” the same regardless of where it is played.\\n\\n## PLAYING AREA\\n\\n### RULE 1 RINK\\n\\n#### 1.1 RINK\\n\\nGames under jurisdiction of the IIHF shall be played on an ice surface known as the “Rink” and must adhere to the dimensions and specifications prescribed by the IIHF and these rules.\\n\\nNo ice markings shall be permitted except those provided for under these rules unless express written permission has been obtained from the IIHF. On-ice logos must not interfere with any official ice markings provided for the proper playing of the game.\\n\\nIn the interval between periods, the ice surface shall be flooded unless mutually agreed to the contrary.\\n\\n#### 1.2 DIMENSIONS\\n\\nThe official size of the Rink shall be 60 m long and 26 m to 30 m wide. The corners shall be rounded in the arc of a circle with a radius of 7.0 m to 8.50 m. Any deviations from these dimensions for any IIHF competition require IIHF approval.\\n\\n#### 1.3 BOARDS AND PROTECTIVE GLASS\\n\\nThe Rink shall be surrounded by a wall known as the “Boards”. The ideal height of the boards above the ice surface shall be 1.07 m. Except for the official markings provided for in these rules, the entire playing surface and the Boards shall be white in color except the “Kick Plate” at the bottom of the Boards, which shall be light yellow in color. Any variations from any of the foregoing dimensions shall require official authorization by the IIHF.\\n\\nThe Boards shall be constructed in such a manner that the surface facing the ice shall be smooth and free of any obstruction or any object that could cause injury to Players. Affixed to the Boards and extending vertically shall be an approved “Protective Glass” construction. The height above the Boards behind the Goals must be 2.4 m and must extend at least 4.0 m from the “Goal Line” towards the Blue Line. The height above the Boards along the sides must be 1.8 m, except in front of the Players’ Benches. Protective Glass shall be required in front of the Penalty Boxes.\\n\\nThe Protective Glass and gear to hold them in position shall be properly padded or protected and mounted on the Boards on the side away from the playing surface including the “Protective Netting” outlined in:\\n\\n#### 1.4 PROTECTIVE NETTING\\n\\nProtective Netting shall be hung in the ends of the Arena, of a height, type, and in a manner approved by the IIHF.\\n\\nThe Protective Netting must be suspended above the “End-zone” Protective Glass behind both Goals and must extend around the Rink at least to where the Goal Line meets the Boards.\\n\\nThe Protective Netting is to be installed in such a way that it protects the top bench row viewer. Thus, the height of the Protective Netting is determined by the height of the Rink and the settings of the top row of benches.\\n\\n#### 1.5 LINES\\n\\n**Goal Lines:**\\n\\nA red line, 5 cm wide, shall be drawn across the entire width of the ice surface, 4.0 m from each end of the ice surface and continued vertically along the side of the Boards. This line shall be referred to as the \"Goal Line\". The Goal posts and nets shall be set in such a manner as to remain stationary during the process of the game.\\n\\n**Goal Crease:**\\n\\nIn front of each Goal, an area shall be marked by a red line 5 cm wide, named as the “Goal Crease”.\\n\\n**Blue Lines:**\\n\\nThe ice surface between the Goals shall be divided into three (3) zones by lines, 30 cm in width, and blue in color, and extended completely across the Rink, parallel with the Goal Lines, and continued vertically up the side of the Boards, named as the “Blue Lines”. In case advertising is allowed on the Boards, the lines must be marked at least on the Kick Plate.\\n\\n**Center Lines:**\\n\\nAnother line, 30 cm in width and red in color, drawn completely across the Rink on center ice, parallel with the Goal Lines and con- tinued vertically up the side of the Boards, named as the “Center Line”. In case advertising is allowed on the Boards, the lines must be marked at least on the Kick Plate.\\n\\n#### 1.6 DIVISION OF ICE SURFACE\\n\\n**Defending Zone:**\\n\\nThe portion of the ice surface in which the Goal is situated shall be called the “Defending Zone” of the Team defending that goal. Neutral Zone:\\n\\n**Neutral Zone:**\\n\\nThe central portion shall be known as the “Neutral Zone”.\\n\\n**Attacking Zone:**\\n\\nThe portion farthest from the defended Goal shall be the “Attacking Zone”.\\n\\n#### 1.7 GOAL CREASE / ON-ICE OFFICIALS’ CREASE\\n\\n**Goal Crease (markings on the ice surface):**\\n\\nIn front of each goal frame, one goal crease shall be marked by a red line. The marked line belongs to the Goal Crease.\\n\\n**Goal Crease Area/ Space:**\\n\\nThe Goal Crease Area includes all of the space outlined by the crease lines and extends vertically until the top of the crossbar. ➔ For more information refer to Appendix VI – Infographics.\\n\\n**On-ice Official Crease:**\\n\\nIn front of the Official Scorekeepers’ Box, a semi-circular area is marked on the ice surface, called the \"On-ice Officials Crease\". A 5 cm wide red line with a radius of 3.0 m marks this crease area.\\n\\n#### 1.8 GOALKEEPER’S RESTRICTED AREA\\n\\nBehind each goal, a trapezoidal area is marked on the ice surface, called the \"Goalkeeper Restricted Area\". The two 5 cm wide red lines mark the restricted area between the Goal Line and the Boards behind the Goal. The outside dimension of the marking along the Goal Line is 6.80 m and along the Boards is 8.60 m, and the lines continue vertically on the Kick Plate.\\n\\n#### 1.9 FACE-OFF SPOTS AND CIRCLES\\n\\n**Face-off Spot and Circle at Center Ice:**\\n\\nA circular blue spot, 30 cm in diameter, shall be marked exactly in the center of the Rink. This spot shall be referred to as the “Center Ice Face-off Spot”. With this spot as a center, a circle of 4.50 m radius shall be marked with a blue line 5 cm wide.\\n\\n**Face-off Spots in the Neutral Zone:**\\n\\nTwo (2) red spots, 60 cm in diameter, shall be marked on the ice in the Neutral Zone 1.50 m from each Blue Line. These four (4) spots shall be referred to as the “Neutral-zone Face-off Spots”.\\n\\nWithin the Face-off Spot, draw two parallel lines 8 cm from the top and bottom of the spot. The area within the two lines shall be painted red, the remainder shall be painted white. The spots shall be 14.0 m apart and each shall be a uniform distance from the adjacent Boards.\\n\\n**Face-off Spots and Circles in the End-Zones (Attacking and Defending Zone):**\\n\\nIn both End-zones and on both sides of each goal, red Face-off Spots and circles shall be marked on the ice.\\n\\nThe Face-off Spots shall be 60 cm in diameter. These four (4) spots shall be referred to as the “End-zone Face-off Spots”.\\n\\nWithin the Face-off Spot, draw two parallel lines 8 cm from the top and bottom of the spot. The area within the two lines shall be painted red, the remainder shall be painted white.\\n\\nThe circles shall be marked with a red line 5 cm wide with a radius of 4.50 m from the center of the Face-off Spots.\\nAt the outer edge of both sides of each Face-off Circle and parallel to the “Goal Line”, two red lines 5 cm wide and 60 cm in length and 1.70 m apart shall be marked.\\n\\n30 cm away from the outer edge of the Face-off Spot, two red lines 5 cm wide shall be drawn parallel with the Side Boards that shall be 1.20 m in length and 45 cm apart. Parallel to the End Boards, commencing at the end of the line nearest to the Face-off Spot, a red line 5 cm wide shall extend 90 cm in length.\\n\\n#### 1.10. ICE CLEANING\\n\\nAside from the normal ice resurfacing that is performed during the intermissions between each period of play. If applicable, additional snow removal activities shall be performed.x§\\n\\n## Types of Penalties\\n\\n### RULE 15 CALLING OF PENALTIES\\n\\n#### 15.1. CALLING A PENALTY\\n\\nShould an infraction of the rules which would call for a Minor, Bench Minor, Major, Misconduct or Game Misconduct, be committed\\nby a Player or Team Personnel of the side in control of the puck, the Referee shall immediately blow their whistle and penalize the\\noffending Player or Team.\\nShould an infraction of the rules which would call for a Minor, Bench Minor, Major, Misconduct or Game Misconduct be committed\\nby Player or Team Personnel of the Team not in control of the puck, the Referee shall raise their arm to signal the delayed calling of\\na penalty. When the Team to be penalized gains control of the puck, the Referees will blow their whistle to stop play and impose the\\npenalty on the offending Player or Team.\\nWhen a Player, Team Manager, Coach or team personnel is ejected from the game for a violation of the playing rules, that individual\\nmust vacate the Players’ Bench area and may not, in any manner, further participate in the game. This includes directing the Team\\nfrom the spectator area or by radio communications. Any violations shall be reported to the Proper Authorities.\\n\\n#### 15.2 CALLING A MINOR PENALTY – GOAL SCORED\\n\\nIf the penalty to be imposed is a Minor Penalty and a goal is scored on the play by the non-offending side, the Minor Penalty shall not be imposed but Major Penalties shall be imposed in the normal manner regardless of whether or not a goal is scored.\\n\\nIf two (2) or more Minor Penalties were to be imposed and a goal is scored on the play by the non-offending side, the Captain of the offending Team shall designate to the Referee which Minor Penalty(ies) will be assessed and which Minor Penalty will be washed out as a result of the scoring of the goal.\\n\\n#### 15.3. CALLING A DOUBLE-MINOR PENALTY – GOAL SCORED\\n\\nWhen the penalty to be imposed is applicable under Rule 47 for “Head-butting”, Rule 58 “Butt-ending”, Rule 60 “High-sticking” or Rule 62 “Spearing”, and a goal is scored, two (2) minutes of the appropriate penalty will be assessed to the offending Player. This will be announced as a Double-minor Penalty for the appropriate foul and the Player will serve two (2) minutes only.\\n\\n#### 15.4. CALLING A PENALTY – SHORT-HANDED TEAM – GOAL SCORED\\n\\nWhen a Team is “short-handed” by reason of one or more Minor or Bench Minor Penalties, and the Referee signals a further Minor Penalty or penalties against the “short-handed” Team and a goal is scored by the non-offending side before the whistle is blown, then the goal shall be allowed.\\n\\nShould a Minor or Bench Minor Penalty be signaled against a Team already “short-handed” by reason of a Major Penalty, but before the play can be stopped to assess the Minor or Bench Minor Penalty, and a goal is scored by the non-offending side,\\nthe signaled Minor or Bench Minor Penalty shall not be imposed due to the scoring of the goal.\\n\\nShould a penalty be signaled against a Team already “short-handed” by reason of one or more Minor or Bench Minor Penalties, and the signaled penalty would result in the awarding of a “Penalty Shot”, but before the Referee can stop play to award the “Penalty Shot”, the non-offending Team scores a goal, then the signaled penalty (that would have resulted in a “Penalty Shot”) shall be assessed as a Minor (Double-minor or Major) Penalty and the first of the Minor Penalties already being served shall automatically terminate:\\n\\n#### 15.5. FACE OF LOCATIONS\\n\\nWhen Players are penalized at a stoppage of play so as to result in one or more penalties being placed on the penalty time clock to one Team, the ensuing “face-off” shall be conducted at one of the two Face-off Spots in the offending Team’s End Zone. There are only three (3) exceptions to this application:\\n\\n* (I) when a penalty is assessed after the scoring of a goal – “face-off” shall be conducted at Center ice;\\n* (II) when a penalty is assessed at the end (or start) of a period – “face-off” shall be conducted at Center ice;\\n* (III) when the defending Team is penalized, and the attacking Players enter the Attacking Zone beyond the outer edge of\\n the End Zone Face-off Circle – “face-off” shall be conducted in the Neutral Zone.\\n \\nThe Team awarded the “Power-Play” will have the choice of which End Zone spot the “face-off” will take place at to start the “Power-Play”.\\n\\nWhen an infringement of a rule has been committed by Players of both Teams in the play resulting in the stoppage, the ensuing “face- off” will be conducted at the nearest Face-off Spot in that zone.\\n\\n### RULE 16 MINOR PENALTIES\\n\\n#### 16.1. MINOR PENALTY\\n\\nFor a Minor Penalty, any Player, other than a Goalkeeper, shall be ruled off the ice for two (2) minutes during which time no substitute shall be permitted.\\n\\n#### 16.2. SHORT-HANDED\\n\\n“Short-handed” means that the Team is below the numerical strength of its opponent on the ice at the time the goal is scored. The Minor or Bench Minor Penalty which terminates automatically is the one with the least amount of time on the clock. Thus Coincident Minor Penalties to both Teams do not cause either side to be “short-handed” – see Rule 19 – Coincidental Penalties.\\n\\nIf while a Team is “short-handed” by one or more Minor or Bench Minor Penalties, the opposing Team scores a goal, the first of such penalties shall automatically terminate.\\n\\nThis rule shall also apply when a goal is awarded. This rule does not apply when a goal is scored on a “Penalty Shot” (i.e., offending Team’s penalized Player(s) do not get released on the scoring of a goal on a “Penalty Shot”).\\n\\nMinor Penalty expiration criteria:\\n\\n * (I) Is the Team scored against “short-handed”?\\n * (II) Is the Team scored against serving a Minor Penalty on the clock?\\n\\nIf both criteria are satisfied, the Minor Penalty with the least amount of time on the clock shall terminate except when “Coincidental Penalties” are being served.\\n\\nWhen the Minor Penalties of two Players of the same Team terminate at the same time, the Captain of that Team shall designate to the Referee which of such Players will return to the ice first and the Referee will instruct the Penalty Timekeeper accordingly.', start_char_idx=None, end_char_idx=None, text_template='{metadata_str}\\n\\n{content}', metadata_template='{key}: {value}', metadata_seperator='\\n')]\n"
     ]
    }
   ],
   "source": [
    "from llama_index.core.node_parser import SimpleFileNodeParser\n",
    "from llama_index.readers.file import FlatReader\n",
    "from pathlib import Path\n",
    "\n",
    "documents = FlatReader().load_data(Path(\"/data-transfer/iihf/rulebook.md\"))\n",
    "\n",
    "parser = SimpleFileNodeParser()\n",
    "md_nodes = parser.get_nodes_from_documents(documents)\n",
    "print (len(documents))\n",
    "print (documents)"
   ]
  },
  {
   "cell_type": "code",
   "execution_count": 97,
   "id": "8ad29bbe-1187-4497-9ea1-b268a67ab32a",
   "metadata": {},
   "outputs": [
    {
     "name": "stdout",
     "output_type": "stream",
     "text": [
      "24\n"
     ]
    }
   ],
   "source": [
    "from llama_index.core.node_parser import MarkdownNodeParser\n",
    "\n",
    "parser = MarkdownNodeParser()\n",
    "\n",
    "nodes = parser.get_nodes_from_documents(documents)\n",
    "print (len(nodes))"
   ]
  },
  {
   "cell_type": "code",
   "execution_count": null,
   "id": "f992366e-a600-4e9c-bf07-11e36e8dff08",
   "metadata": {},
   "outputs": [],
   "source": [
    "# Check loaded documents\n",
    "\n",
    "print(f\"Number of documents: {len(documents)}\")\n",
    "\n",
    "for doc in documents:\n",
    "    print(doc.doc_id)\n",
    "    print(doc.text[:100] + '...')"
   ]
  },
  {
   "cell_type": "code",
   "execution_count": 120,
   "id": "1b0c8d16-d47f-4112-b70a-ae0be484943e",
   "metadata": {},
   "outputs": [],
   "source": [
    "from llama_index.core import SimpleDirectoryReader\n",
    "\n",
    "documents = SimpleDirectoryReader(\"/data-transfer/iihf\").load_data()"
   ]
  },
  {
   "cell_type": "code",
   "execution_count": 124,
   "id": "5167fa9d-b44d-4ad5-a4af-79aac7fe5944",
   "metadata": {},
   "outputs": [
    {
     "name": "stderr",
     "output_type": "stream",
     "text": [
      "0it [00:00, ?it/s]\n",
      "0it [00:00, ?it/s]\n",
      "0it [00:00, ?it/s]\n",
      "0it [00:00, ?it/s]\n",
      "0it [00:00, ?it/s]\n",
      "0it [00:00, ?it/s]\n",
      "0it [00:00, ?it/s]\n",
      "0it [00:00, ?it/s]\n",
      "0it [00:00, ?it/s]\n",
      "0it [00:00, ?it/s]\n",
      "0it [00:00, ?it/s]\n",
      "0it [00:00, ?it/s]\n",
      "0it [00:00, ?it/s]\n",
      "0it [00:00, ?it/s]\n",
      "0it [00:00, ?it/s]\n",
      "0it [00:00, ?it/s]\n",
      "0it [00:00, ?it/s]\n",
      "0it [00:00, ?it/s]\n",
      "0it [00:00, ?it/s]\n",
      "0it [00:00, ?it/s]\n",
      "0it [00:00, ?it/s]\n",
      "0it [00:00, ?it/s]\n",
      "0it [00:00, ?it/s]\n",
      "0it [00:00, ?it/s]\n",
      "0it [00:00, ?it/s]\n",
      "0it [00:00, ?it/s]\n",
      "0it [00:00, ?it/s]\n",
      "0it [00:00, ?it/s]\n",
      "0it [00:00, ?it/s]\n",
      "0it [00:00, ?it/s]\n",
      "0it [00:00, ?it/s]\n",
      "0it [00:00, ?it/s]\n",
      "0it [00:00, ?it/s]\n",
      "0it [00:00, ?it/s]\n",
      "0it [00:00, ?it/s]\n",
      "0it [00:00, ?it/s]\n",
      "0it [00:00, ?it/s]\n",
      "0it [00:00, ?it/s]\n",
      "0it [00:00, ?it/s]\n",
      "0it [00:00, ?it/s]\n",
      "0it [00:00, ?it/s]\n",
      "0it [00:00, ?it/s]\n",
      "0it [00:00, ?it/s]\n",
      "0it [00:00, ?it/s]\n",
      "0it [00:00, ?it/s]\n",
      "0it [00:00, ?it/s]\n",
      "0it [00:00, ?it/s]\n",
      "0it [00:00, ?it/s]"
     ]
    },
    {
     "name": "stdout",
     "output_type": "stream",
     "text": [
      "Node ID: 87b18085-3201-4f49-a1f0-c170ee1d9d33\n",
      "Text: IIHF Official Rulebook 2023/24\n"
     ]
    },
    {
     "name": "stderr",
     "output_type": "stream",
     "text": [
      "\n"
     ]
    }
   ],
   "source": [
    "# Parse the documents using MarkdownElementNodeParser\n",
    "\n",
    "from llama_index.core.node_parser import MarkdownElementNodeParser\n",
    "\n",
    "node_parser = MarkdownElementNodeParser(llm=None, num_workers=3)\n",
    "\n",
    "nodes = node_parser.get_nodes_from_documents(documents)\n",
    "print(nodes[0])"
   ]
  },
  {
   "cell_type": "code",
   "execution_count": 122,
   "id": "70893a07-34ea-4fc6-b909-ac4701b1b6a8",
   "metadata": {},
   "outputs": [],
   "source": [
    "# Convert nodes into objects\n",
    "\n",
    "base_nodes, objects = node_parser.get_nodes_and_objects(nodes)"
   ]
  },
  {
   "cell_type": "code",
   "execution_count": 123,
   "id": "6b672ba5-df7e-49fd-a3e8-a621640f02de",
   "metadata": {},
   "outputs": [
    {
     "name": "stdout",
     "output_type": "stream",
     "text": [
      "{'file_path': '/data-transfer/iihf/rulebook.md', 'file_name': 'rulebook.md', 'file_type': 'text/markdown', 'file_size': 15332, 'creation_date': '2024-05-26', 'last_modified_date': '2024-05-26'}\n"
     ]
    }
   ],
   "source": [
    "print(base_nodes[2].metadata)"
   ]
  },
  {
   "cell_type": "code",
   "execution_count": 27,
   "id": "8ea5cdf9-2e65-471f-ac17-85cfbff7cf01",
   "metadata": {},
   "outputs": [
    {
     "name": "stdout",
     "output_type": "stream",
     "text": [
      "Number of nodes: 22\n"
     ]
    }
   ],
   "source": [
    "import json\n",
    "\n",
    "\n",
    "# Check parsed node objects \n",
    "\n",
    "print(f\"Number of nodes: {len(base_nodes)}\")\n",
    "\n"
   ]
  },
  {
   "cell_type": "code",
   "execution_count": 28,
   "id": "bd889e37-2d77-4eaf-9a03-3aa4081a4f4a",
   "metadata": {},
   "outputs": [
    {
     "name": "stdout",
     "output_type": "stream",
     "text": [
      "Number of objects: 0\n"
     ]
    }
   ],
   "source": [
    "TABLE_REF_SUFFIX = '_table_ref'\n",
    "TABLE_ID_SUFFIX  = '_table'\n",
    "\n",
    "# Check parsed objects \n",
    "\n",
    "print(f\"Number of objects: {len(objects)}\")\n",
    "\n",
    "for node in objects: \n",
    "    print(f\"id:{node.node_id}\")\n",
    "    print(f\"hash:{node.hash}\")\n",
    "    print(f\"parent:{node.parent_node}\")\n",
    "    print(f\"prev:{node.prev_node}\")\n",
    "    print(f\"next:{node.next_node}\")\n",
    "\n",
    "    # Object is a Table\n",
    "    if node.node_id[-1 * len(TABLE_REF_SUFFIX):] == TABLE_REF_SUFFIX:\n",
    "\n",
    "        if node.next_node is not None:\n",
    "            next_node = node.next_node\n",
    "        \n",
    "            print(f\"next_node metadata:{next_node.metadata}\")\n",
    "            print(f\"next_next_node:{next_next_nod_id}\")\n",
    "\n",
    "            obj_metadata = json.loads(str(next_node.json()))\n",
    "\n",
    "            print(str(obj_metadata))\n",
    "\n",
    "            print(f\"def:{obj_metadata['metadata']['table_df']}\")\n",
    "            print(f\"summary:{obj_metadata['metadata']['table_summary']}\")\n",
    "\n",
    "\n",
    "    print(f\"next:{node.next_node}\")\n",
    "    print(f\"type:{node.get_type()}\")\n",
    "    print(f\"class:{node.class_name()}\")\n",
    "    print(f\"content:{node.get_content()[:200]}\")\n",
    "    print(f\"metadata:{node.metadata}\")\n",
    "    print(f\"extra:{node.extra_info}\")\n",
    "    \n",
    "    node_json = json.loads(node.json())\n",
    "\n",
    "    print(f\"start_idx:{node_json.get('start_char_idx')}\")\n",
    "    print(f\"end_idx:{node_json['end_char_idx']}\")\n",
    "\n",
    "    if 'table_summary' in node_json: \n",
    "        print(f\"summary:{node_json['table_summary']}\")\n",
    "\n",
    "    print(\"=====================================\")   "
   ]
  },
  {
   "cell_type": "code",
   "execution_count": 31,
   "id": "7acb4131-9448-4ce4-a90d-70dd19906a0c",
   "metadata": {},
   "outputs": [],
   "source": [
    "from neo4j import GraphDatabase\n",
    "\n",
    "# Local Neo4j instance\n",
    "# NEO4J_URL = \"bolt://localhost:7687\"\n",
    "# Remote Neo4j instance on AuraDB\n",
    "NEO4J_URL = \"bolt://neo4j-1:7687\"\n",
    "NEO4J_USER = \"neo4j\"\n",
    "NEO4J_PASSWORD = \"abc123abc123\"\n",
    "NEO4J_DATABASE = \"\"\n",
    "\n",
    "def initialiseNeo4jSchema():\n",
    "    cypher_schema = [\n",
    "        \"CREATE CONSTRAINT sectionKey IF NOT EXISTS FOR (c:Section) REQUIRE (c.key) IS UNIQUE;\",\n",
    "        \"CREATE CONSTRAINT chunkKey IF NOT EXISTS FOR (c:Chunk) REQUIRE (c.key) IS UNIQUE;\",\n",
    "        \"CREATE CONSTRAINT documentKey IF NOT EXISTS FOR (c:Document) REQUIRE (c.url_hash) IS UNIQUE;\",\n",
    "        \"CREATE VECTOR INDEX `chunkVectorIndex` IF NOT EXISTS FOR (e:Embedding) ON (e.value) OPTIONS { indexConfig: {`vector.dimensions`: 1536, `vector.similarity_function`: 'cosine'}};\"\n",
    "    ]\n",
    "\n",
    "    driver = GraphDatabase.driver(NEO4J_URL, database=NEO4J_DATABASE, auth=(NEO4J_USER, NEO4J_PASSWORD))\n",
    "\n",
    "    with driver.session() as session:\n",
    "        for cypher in cypher_schema:\n",
    "            session.run(cypher)\n",
    "    driver.close()"
   ]
  },
  {
   "cell_type": "code",
   "execution_count": 33,
   "id": "c7833154-6f0f-45dd-ab44-cdc20098f575",
   "metadata": {},
   "outputs": [],
   "source": [
    "initialiseNeo4jSchema()\n"
   ]
  },
  {
   "cell_type": "code",
   "execution_count": null,
   "id": "861657b5-4670-4fd4-bb5f-ad3315b3e647",
   "metadata": {},
   "outputs": [],
   "source": [
    "for node in base_nodes:\n",
    "    print (node.metadata_seperator)\n",
    "    print (\"----------------------\")\n",
    "    print (str(node.node_id) + \":\" + str(node.next_node))\n",
    "    print (\"----------------------\")"
   ]
  },
  {
   "cell_type": "code",
   "execution_count": 34,
   "id": "f74a5a2e-443f-4b5a-9b5a-efc7b957baea",
   "metadata": {},
   "outputs": [
    {
     "name": "stdout",
     "output_type": "stream",
     "text": [
      "Start saving documents to Neo4j...\n",
      "1 documents saved.\n",
      "Start saving nodes to Neo4j...\n",
      "22 nodes saved.\n",
      "Start saving objects to Neo4j...\n",
      "Start creating chunks for each TEXT Section...\n",
      "0 objects saved.\n",
      "=================DONE====================\n"
     ]
    }
   ],
   "source": [
    "driver = GraphDatabase.driver(NEO4J_URL, database=NEO4J_DATABASE, auth=(NEO4J_USER, NEO4J_PASSWORD))\n",
    "\n",
    "# ================================================\n",
    "# 1) Save documents\n",
    "\n",
    "print(\"Start saving documents to Neo4j...\")\n",
    "i = 0\n",
    "with driver.session() as session:\n",
    "    for doc in documents:\n",
    "        cypher = \"MERGE (d:Document {url_hash: $doc_id}) ON CREATE SET d.url=$url;\"\n",
    "        session.run(cypher, doc_id=doc.doc_id, url=doc.doc_id)\n",
    "        i = i + 1\n",
    "    session.close()\n",
    "\n",
    "print(f\"{i} documents saved.\")\n",
    "\n",
    "# ================================================\n",
    "# 2) Save nodes\n",
    "\n",
    "print(\"Start saving nodes to Neo4j...\")\n",
    "\n",
    "i = 0\n",
    "with driver.session() as session:\n",
    "    for node in base_nodes: \n",
    "\n",
    "        # >>1 Create Section node\n",
    "        cypher  = \"MERGE (c:Section {key: $node_id})\\n\"\n",
    "        cypher += \" FOREACH (ignoreMe IN CASE WHEN c.type IS NULL THEN [1] ELSE [] END |\\n\"\n",
    "        cypher += \"     SET c.hash = $hash, c.text=$content, c.type=$type, c.class=$class_name, c.start_idx=$start_idx, c.end_idx=$end_idx )\\n\"\n",
    "        cypher += \" WITH c\\n\"\n",
    "        cypher += \" MATCH (d:Document {url_hash: $doc_id})\\n\"\n",
    "        cypher += \" MERGE (d)<-[:HAS_DOCUMENT]-(c);\"\n",
    "\n",
    "        node_json = json.loads(node.json())\n",
    "\n",
    "        session.run(cypher, node_id=node.node_id, hash=node.hash, content=node.get_content(), type='TEXT', class_name=node.class_name()\n",
    "                          , start_idx=node_json['start_char_idx'], end_idx=node_json['end_char_idx'], doc_id=node.ref_doc_id)\n",
    "\n",
    "        # >>2 Link node using NEXT relationship\n",
    "\n",
    "        if node.next_node is not None: # and node.next_node.node_id[-1*len(TABLE_REF_SUFFIX):] != TABLE_REF_SUFFIX:\n",
    "            cypher  = \"MATCH (c:Section {key: $node_id})\\n\"    # current node should exist\n",
    "            cypher += \"MERGE (p:Section {key: $next_id})\\n\"    # previous node may not exist\n",
    "            cypher += \"MERGE (p)<-[:NEXT]-(c);\"\n",
    "\n",
    "            session.run(cypher, node_id=node.node_id, next_id=node.next_node.node_id)\n",
    "\n",
    "        if node.prev_node is not None:  # Because tables are in objects list, so we need to link from the opposite direction\n",
    "            cypher  = \"MATCH (c:Section {key: $node_id})\\n\"    # current node should exist\n",
    "            cypher += \"MERGE (p:Section {key: $prev_id})\\n\"    # previous node may not exist\n",
    "            cypher += \"MERGE (p)-[:NEXT]->(c);\"\n",
    "\n",
    "            if node.prev_node.node_id[-1 * len(TABLE_ID_SUFFIX):] == TABLE_ID_SUFFIX:\n",
    "                prev_id = node.prev_node.node_id + '_ref'\n",
    "            else:\n",
    "                prev_id = node.prev_node.node_id\n",
    "\n",
    "            session.run(cypher, node_id=node.node_id, prev_id=prev_id)\n",
    "\n",
    "        i = i + 1\n",
    "    session.close()\n",
    "\n",
    "print(f\"{i} nodes saved.\")\n",
    "\n",
    "# ================================================\n",
    "# 3) Save objects\n",
    "\n",
    "print(\"Start saving objects to Neo4j...\")\n",
    "\n",
    "i = 0\n",
    "with driver.session() as session:\n",
    "    for node in objects:               \n",
    "        node_json = json.loads(node.json())\n",
    "\n",
    "        # Object is a Table, then the ????_ref_table object is created as a Section, and the table object is Chunk\n",
    "        if node.node_id[-1 * len(TABLE_REF_SUFFIX):] == TABLE_REF_SUFFIX:\n",
    "            if node.next_node is not None:  # here is where actual table object is loaded\n",
    "                next_node = node.next_node\n",
    "\n",
    "                obj_metadata = json.loads(str(next_node.json()))\n",
    "\n",
    "                cypher  = \"MERGE (s:Section {key: $node_id})\\n\"\n",
    "                cypher += \"WITH s MERGE (c:Chunk {key: $table_id})\\n\"\n",
    "                cypher += \" FOREACH (ignoreMe IN CASE WHEN c.type IS NULL THEN [1] ELSE [] END |\\n\"\n",
    "                cypher += \"     SET c.hash = $hash, c.definition=$content, c.text=$table_summary, c.type=$type, c.start_idx=$start_idx, c.end_idx=$end_idx )\\n\"\n",
    "                cypher += \" WITH s, c\\n\"\n",
    "                cypher += \" MERGE (s) <-[:UNDER_SECTION]- (c)\\n\"\n",
    "                cypher += \" WITH s MATCH (d:Document {url_hash: $doc_id})\\n\"\n",
    "                cypher += \" MERGE (d)<-[:HAS_DOCUMENT]-(s);\"\n",
    "\n",
    "                session.run(cypher, node_id=node.node_id, hash=next_node.hash, content=obj_metadata['metadata']['table_df'], type='TABLE'\n",
    "                                  , start_idx=node_json['start_char_idx'], end_idx=node_json['end_char_idx']\n",
    "                                  , doc_id=node.ref_doc_id, table_summary=obj_metadata['metadata']['table_summary'], table_id=next_node.node_id)\n",
    "                \n",
    "            if node.prev_node is not None:\n",
    "                cypher  = \"MATCH (c:Section {key: $node_id})\\n\"    # current node should exist\n",
    "                cypher += \"MERGE (p:Section {key: $prev_id})\\n\"    # previous node may not exist\n",
    "                cypher += \"MERGE (p)-[:NEXT]->(c);\"\n",
    "\n",
    "                if node.prev_node.node_id[-1 * len(TABLE_ID_SUFFIX):] == TABLE_ID_SUFFIX:\n",
    "                    prev_id = node.prev_node.node_id + '_ref'\n",
    "                else:\n",
    "                    prev_id = node.prev_node.node_id\n",
    "                \n",
    "                session.run(cypher, node_id=node.node_id, prev_id=prev_id)\n",
    "                \n",
    "        i = i + 1\n",
    "    session.close()\n",
    "\n",
    "# ================================================\n",
    "# 4) Create Chunks for each Section object of type TEXT\n",
    "# If there are changes to the content of TEXT section, the Section node needs to be recreated\n",
    "\n",
    "print(\"Start creating chunks for each TEXT Section...\")\n",
    "\n",
    "with driver.session() as session:\n",
    "\n",
    "    cypher  = \"MATCH (s:Section) WHERE s.type='TEXT' \\n\"\n",
    "    cypher += \"WITH s CALL {\\n\"\n",
    "    cypher += \"WITH s WITH s, split(s.text, '\\n') AS para\\n\"\n",
    "    cypher += \"WITH s, para, range(0, size(para)-1) AS iterator\\n\"\n",
    "    cypher += \"UNWIND iterator AS i WITH s, trim(para[i]) AS chunk, i WHERE size(chunk) > 0\\n\"\n",
    "    cypher += \"CREATE (c:Chunk {key: s.key + '_' + i}) SET c.type='TEXT', c.text = chunk, c.seq = i \\n\"\n",
    "    cypher += \"CREATE (s) <-[:UNDER_SECTION]-(c) } IN TRANSACTIONS OF 500 ROWS ;\"\n",
    "    \n",
    "    session.run(cypher)\n",
    "    \n",
    "    session.close()\n",
    "\n",
    "\n",
    "print(f\"{i} objects saved.\")\n",
    "\n",
    "print(\"=================DONE====================\")\n",
    "\n",
    "driver.close()"
   ]
  },
  {
   "cell_type": "code",
   "execution_count": null,
   "id": "1bf49c29-6a23-4b0a-b8da-b7cab39baad5",
   "metadata": {},
   "outputs": [],
   "source": [
    "import ollama\n",
    "from ollama import Client\n",
    "client = Client(host='http://192.168.1.102:11434')\n",
    "client.embeddings(model='llama3', prompt='The sky is blue because of rayleigh scattering')"
   ]
  },
  {
   "cell_type": "code",
   "execution_count": 125,
   "id": "25fbce10-6a30-4171-b558-7d94d0463edd",
   "metadata": {},
   "outputs": [],
   "source": [
    "\n",
    "import ollama\n",
    "\n",
    "EMBEDDING_MODEL = \"nomic-embed-text\"\n",
    "\n",
    "def get_embedding(client, text, model):\n",
    "    response = client.embeddings(\n",
    "                    prompt=text,\n",
    "                    model=model,\n",
    "                )\n",
    "    return response[\"embedding\"]\n",
    "\n",
    "def LoadEmbedding(label, property):\n",
    "    driver = GraphDatabase.driver(NEO4J_URL, auth=(NEO4J_USER, NEO4J_PASSWORD), database=NEO4J_DATABASE)\n",
    "    client = Client(host='http://192.168.1.102:11434')\n",
    "    \n",
    "    with driver.session() as session:\n",
    "        # get chunks in document, together with their section titles\n",
    "        result = session.run(f\"MATCH (ch:{label}) RETURN id(ch) AS id, ch.{property} AS text\")\n",
    "        # call OpenAI embedding API to generate embeddings for each proporty of node\n",
    "        # for each node, update the embedding property\n",
    "        count = 0\n",
    "        for record in result:\n",
    "            id = record[\"id\"]\n",
    "            text = record[\"text\"]\n",
    "            \n",
    "            # For better performance, text can be batched\n",
    "            embedding = get_embedding(client, text, EMBEDDING_MODEL)\n",
    "            \n",
    "            # key property of Embedding node differentiates different embeddings\n",
    "            cypher = \"CREATE (e:Embedding) SET e.key=$key, e.value=$embedding, e.model=$model\"\n",
    "            cypher = cypher + \" WITH e MATCH (n) WHERE id(n) = $id CREATE (n) -[:HAS_EMBEDDING]-> (e)\"\n",
    "            session.run(cypher,key=property, embedding=embedding, id=id, model=EMBEDDING_MODEL) \n",
    "            count = count + 1\n",
    "\n",
    "        session.close()\n",
    "        \n",
    "        print(\"Processed \" + str(count) + \" \" + label + \" nodes for property @\" + property + \".\")\n",
    "        return count"
   ]
  },
  {
   "cell_type": "code",
   "execution_count": 47,
   "id": "42654252-56cc-4054-8fdf-319ba4859c5f",
   "metadata": {},
   "outputs": [
    {
     "name": "stdout",
     "output_type": "stream",
     "text": [
      "Processed 95 Chunk nodes for property @text.\n"
     ]
    },
    {
     "data": {
      "text/plain": [
       "95"
      ]
     },
     "execution_count": 47,
     "metadata": {},
     "output_type": "execute_result"
    }
   ],
   "source": [
    "# For smaller amount (<2000) of text data to embed\n",
    "LoadEmbedding(\"Chunk\", \"text\")"
   ]
  },
  {
   "cell_type": "code",
   "execution_count": null,
   "id": "d5ff0e5f-5f71-41db-b4ab-41290c3fabe8",
   "metadata": {},
   "outputs": [],
   "source": []
  }
 ],
 "metadata": {
  "kernelspec": {
   "display_name": "Python 3 (ipykernel)",
   "language": "python",
   "name": "python3"
  },
  "language_info": {
   "codemirror_mode": {
    "name": "ipython",
    "version": 3
   },
   "file_extension": ".py",
   "mimetype": "text/x-python",
   "name": "python",
   "nbconvert_exporter": "python",
   "pygments_lexer": "ipython3",
   "version": "3.11.6"
  }
 },
 "nbformat": 4,
 "nbformat_minor": 5
}
