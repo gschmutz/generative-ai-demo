{
 "cells": [
  {
   "cell_type": "markdown",
   "id": "1ddbae70-4c1c-460a-8381-02c8c14811f4",
   "metadata": {},
   "source": [
    "# Langchain with markdown"
   ]
  },
  {
   "cell_type": "code",
   "execution_count": null,
   "id": "5a9302f1-2138-4a76-80e1-e039f2e7e9ad",
   "metadata": {
    "is_executing": true
   },
   "outputs": [],
   "source": [
    "!pip install langchain"
   ]
  },
  {
   "cell_type": "code",
   "execution_count": null,
   "id": "6aeff885-da8d-42ce-a56f-86b6c7e06789",
   "metadata": {
    "is_executing": true
   },
   "outputs": [],
   "source": [
    "from langchain.document_loaders import UnstructuredMarkdownLoader\n",
    "from langchain.text_splitter import MarkdownTextSplitter\n",
    "from langchain_text_splitters import MarkdownHeaderTextSplitter"
   ]
  },
  {
   "cell_type": "code",
   "execution_count": null,
   "id": "da33bb48-6455-418b-a633-6afeee29b52e",
   "metadata": {},
   "outputs": [],
   "source": [
    "loader = UnstructuredMarkdownLoader('/data-transfer/iihf/rulebook.md')\n",
    "documents = loader.load()\n"
   ]
  },
  {
   "cell_type": "code",
   "execution_count": 132,
   "id": "18276e33-81ce-47ef-86ad-e6d9b8577139",
   "metadata": {},
   "outputs": [],
   "source": [
    "from langchain_community.document_loaders import DirectoryLoader\n",
    "from langchain_community.document_loaders import TextLoader"
   ]
  },
  {
   "cell_type": "code",
   "execution_count": 133,
   "id": "4c96d079-d551-4929-899e-83cb922e78ef",
   "metadata": {},
   "outputs": [],
   "source": [
    "loader = DirectoryLoader('/data-transfer/iihf', glob=\"**/*.md\", loader_cls=TextLoader)"
   ]
  },
  {
   "cell_type": "code",
   "execution_count": 134,
   "id": "7916c199-35a8-4565-b628-ce48b033e7f6",
   "metadata": {},
   "outputs": [],
   "source": [
    "documents = loader.load()\n"
   ]
  },
  {
   "cell_type": "code",
   "execution_count": 135,
   "id": "7775f84d-f479-4575-9db7-83b2028b43fe",
   "metadata": {},
   "outputs": [],
   "source": [
    "headers_to_split_on = [\n",
    "    (\"#\", \"header1\"),\n",
    "    (\"##\", \"header2\"),\n",
    "    (\"###\", \"header3\"),\n",
    "    (\"####\", \"header4\"),\n",
    "]"
   ]
  },
  {
   "cell_type": "code",
   "execution_count": 136,
   "id": "8200c42e-c300-4bee-8abb-b595dd1191cf",
   "metadata": {},
   "outputs": [
    {
     "data": {
      "text/plain": [
       "Document(page_content='No matter where ice hockey is played, the object of the game is the same – to put the puck into the opponent’s goal. Beyond that, ice hockey across the globe is subject to certain variations. This makes the rules of the game extremely important. These rules must be followed all times, in all countries, in all age categories, for the game to be enjoyed by everyone.  \\nHockey’s speed is one of the qualities that makes it so exciting. But this skill and excitement must be balanced with fair play and respect.  \\nIt is, therefore, important to make a clear separation between the purpose of all the elements of the game and to use these respectfully. These distinctions can be taught at an early age or whenever one begins to show interest in the game. And this is why hockey development begins with parents and coaches, those people most influential in guiding a person, old or young, into playing the game properly and within the rules.  \\nThe IIHF Championship program encompasses 81 Member National Associations, five age and gender categories over 30 international ice hockey tournaments, including the Olympic Winter Games.  \\nThe extensiveness of the program is acknowledged in the rule book. The goal is to provide everyone one set of rules from which to work. This presents a fair and leveled standard of play. It is a means of keeping the game’s “language” the same regardless of where it is played.', metadata={'header1': 'IIHF Official Rulebook 2023/24', 'header2': 'Welcome'})"
      ]
     },
     "execution_count": 136,
     "metadata": {},
     "output_type": "execute_result"
    }
   ],
   "source": [
    "markdown_splitter = MarkdownHeaderTextSplitter(headers_to_split_on=headers_to_split_on, strip_headers=True)\n",
    "md_header_splits = markdown_splitter.split_text(documents[0].page_content)\n",
    "md_header_splits[0]"
   ]
  },
  {
   "cell_type": "code",
   "execution_count": null,
   "id": "a2c17506-c5cf-4898-a350-ac9b3eb21ac1",
   "metadata": {
    "is_executing": true
   },
   "outputs": [],
   "source": [
    "text_splitter = RecursiveCharacterTextSplitter(\n",
    "    separators=[\n",
    "        \"\\n\\n\",\n",
    "        \"\\n\",\n",
    "        \" \",\n",
    "        \".\",\n",
    "        \",\",\n",
    "        \"\\u200b\",  # Zero-width space\n",
    "        \"\\uff0c\",  # Fullwidth comma\n",
    "        \"\\u3001\",  # Ideographic comma\n",
    "        \"\\uff0e\",  # Fullwidth full stop\n",
    "        \"\\u3002\",  # Ideographic full stop\n",
    "        \"\",\n",
    "    ],\n",
    "    # Existing args\n",
    ")"
   ]
  },
  {
   "cell_type": "code",
   "execution_count": 138,
   "id": "1d8c424b-992b-4cda-81ee-268c5a3b5924",
   "metadata": {},
   "outputs": [
    {
     "name": "stdout",
     "output_type": "stream",
     "text": [
      "IIHF Official Rulebook 2023/24\n",
      "PLAYING AREA\n",
      "RULE 1 RINK\n",
      "1.6 DIVISION OF ICE SURFACE\n"
     ]
    }
   ],
   "source": [
    "# Char-level splits\n",
    "from langchain_text_splitters import RecursiveCharacterTextSplitter\n",
    "\n",
    "chunk_size = 250\n",
    "chunk_overlap = 30\n",
    "##text_splitter = RecursiveCharacterTextSplitter(\n",
    "##    chunk_size=chunk_size, chunk_overlap=chunk_overlap\n",
    "##)\n",
    "\n",
    "# Split\n",
    "splits = text_splitter.split_documents(md_header_splits)\n",
    "for m in splits[6].metadata:\n",
    "    print (splits[6].metadata[m])"
   ]
  },
  {
   "cell_type": "code",
   "execution_count": 139,
   "id": "a3f05cf7-9f39-417e-9aea-f49556205de6",
   "metadata": {},
   "outputs": [],
   "source": [
    "import ollama\n",
    "from ollama import Client\n",
    "client = Client(host='http://192.168.1.102:11434')\n"
   ]
  },
  {
   "cell_type": "code",
   "execution_count": 83,
   "id": "c673d4d3-ea92-434d-8eab-c53475abe266",
   "metadata": {},
   "outputs": [],
   "source": [
    "from langchain_community.embeddings import OllamaEmbeddings\n"
   ]
  },
  {
   "cell_type": "markdown",
   "id": "2c849d2d-9f9d-4eb7-a8cc-b37b3c9c2ab5",
   "metadata": {},
   "source": [
    "## Create LangChain Neo4JVector instance with Similarity Search with Cosine Distance"
   ]
  },
  {
   "cell_type": "code",
   "execution_count": 140,
   "id": "fb019b57-ebed-4670-8e96-9256e50ba59e",
   "metadata": {},
   "outputs": [],
   "source": [
    "from langchain.vectorstores import Neo4jVector\n",
    "from langchain_community.embeddings import OllamaEmbeddings\n",
    "\n",
    "# Neo4j Aura credentials\n",
    "NEO4J_URL = \"bolt://neo4j-1:7687\"\n",
    "NEO4J_USER = \"neo4j\"\n",
    "NEO4J_PASSWORD = \"abc123abc123\"\n",
    "NEO4J_DATABASE = \"\"\n",
    "\n",
    "# Instantiate Neo4j vector from documents\n",
    "neo4j_vector = Neo4jVector.from_documents(\n",
    "    splits,\n",
    "    embedding = OllamaEmbeddings(\n",
    "            base_url=\"http://192.168.1.102:11434\", model=\"mxbai-embed-large\", temperature=0\n",
    "        ),\n",
    "    url=NEO4J_URL,\n",
    "    username=NEO4J_USER,\n",
    "    password=NEO4J_PASSWORD,\n",
    "    node_label=\"Chunk\"\n",
    ")\n",
    "\n"
   ]
  },
  {
   "cell_type": "code",
   "execution_count": 112,
   "id": "477872a7-84b5-4d7f-92f5-78e5eb342eec",
   "metadata": {},
   "outputs": [],
   "source": [
    "from neo4j import GraphDatabase\n",
    "import ollama\n",
    "\n",
    "# Local Neo4j instance\n",
    "# NEO4J_URL = \"bolt://localhost:7687\"\n",
    "# Remote Neo4j instance on AuraDB\n",
    "NEO4J_URL = \"bolt://neo4j-1:7687\"\n",
    "NEO4J_USER = \"neo4j\"\n",
    "NEO4J_PASSWORD = \"abc123abc123\"\n",
    "NEO4J_DATABASE = \"\"\n",
    "\n",
    "EMBEDDING_MODEL = \"mxbai-embed-large\"\n",
    "\n",
    "def get_embedding(client, text, model):\n",
    "    response = client.embeddings(\n",
    "                    prompt=text,\n",
    "                    model=model,\n",
    "                )\n",
    "    return response[\"embedding\"]\n",
    "\n",
    "def LoadEmbedding(label, property):\n",
    "    driver = GraphDatabase.driver(NEO4J_URL, auth=(NEO4J_USER, NEO4J_PASSWORD), database=NEO4J_DATABASE)\n",
    "    client = Client(host='http://192.168.1.102:11434')\n",
    "    \n",
    "    with driver.session() as session:\n",
    "        # get chunks in document, together with their section titles\n",
    "        result = session.run(f\"MATCH (ch:{label}) RETURN id(ch) AS id, ch.{property} AS text\")\n",
    "        # call OpenAI embedding API to generate embeddings for each proporty of node\n",
    "        # for each node, update the embedding property\n",
    "        count = 0\n",
    "        for record in result:\n",
    "            id = record[\"id\"]\n",
    "            text = record[\"text\"]\n",
    "            \n",
    "            # For better performance, text can be batched\n",
    "            embedding = get_embedding(client, text, EMBEDDING_MODEL)\n",
    "            \n",
    "            # key property of Embedding node differentiates different embeddings\n",
    "            cypher = \"CREATE (e:Embedding) SET e.key=$key, e.value=$embedding, e.model=$model\"\n",
    "            cypher = cypher + \" WITH e MATCH (n) WHERE id(n) = $id CREATE (n) -[:HAS_EMBEDDING]-> (e)\"\n",
    "            session.run(cypher,key=property, embedding=embedding, id=id, model=EMBEDDING_MODEL) \n",
    "            count = count + 1\n",
    "\n",
    "        session.close()\n",
    "        \n",
    "        print(\"Processed \" + str(count) + \" \" + label + \" nodes for property @\" + property + \".\")\n",
    "        return count"
   ]
  },
  {
   "cell_type": "code",
   "execution_count": 113,
   "id": "32bb6da0-e80b-41e0-9fb7-292a32901634",
   "metadata": {},
   "outputs": [
    {
     "name": "stdout",
     "output_type": "stream",
     "text": [
      "Processed 17 Chunk nodes for property @text.\n"
     ]
    },
    {
     "data": {
      "text/plain": [
       "17"
      ]
     },
     "execution_count": 113,
     "metadata": {},
     "output_type": "execute_result"
    }
   ],
   "source": [
    "# For smaller amount (<2000) of text data to embed\n",
    "LoadEmbedding(\"Chunk\", \"text\")"
   ]
  },
  {
   "cell_type": "code",
   "execution_count": 141,
   "id": "58048cd8-dae3-4896-98fc-6c25d081bba1",
   "metadata": {},
   "outputs": [
    {
     "name": "stdout",
     "output_type": "stream",
     "text": [
      "--------------------------------------------------------------------------------\n",
      "Score:  0.818839430809021\n",
      "For a Minor Penalty, any Player, other than a Goalkeeper, shall be ruled off the ice for two (2) minutes during which time no substitute shall be permitted.\n",
      "--------------------------------------------------------------------------------\n",
      "--------------------------------------------------------------------------------\n",
      "Score:  0.7946059703826904\n",
      "If the penalty to be imposed is a Minor Penalty and a goal is scored on the play by the non-offending side, the Minor Penalty shall not be imposed but Major Penalties shall be imposed in the normal manner regardless of whether or not a goal is scored.  \n",
      "If two (2) or more Minor Penalties were to be imposed and a goal is scored on the play by the non-offending side, the Captain of the offending Team shall designate to the Referee which Minor Penalty(ies) will be assessed and which Minor Penalty will be washed out as a result of the scoring of the goal.\n",
      "--------------------------------------------------------------------------------\n",
      "--------------------------------------------------------------------------------\n",
      "Score:  0.7874444723129272\n",
      "When a Team is “short-handed” by reason of one or more Minor or Bench Minor Penalties, and the Referee signals a further Minor Penalty or penalties against the “short-handed” Team and a goal is scored by the non-offending side before the whistle is blown, then the goal shall be allowed.  \n",
      "Should a Minor or Bench Minor Penalty be signaled against a Team already “short-handed” by reason of a Major Penalty, but before the play can be stopped to assess the Minor or Bench Minor Penalty, and a goal is scored by the non-offending side,\n",
      "the signaled Minor or Bench Minor Penalty shall not be imposed due to the scoring of the goal.  \n",
      "Should a penalty be signaled against a Team already “short-handed” by reason of one or more Minor or Bench Minor Penalties, and the signaled penalty would result in the awarding of a “Penalty Shot”, but before the Referee can stop play to award the “Penalty Shot”, the non-offending Team scores a goal, then the signaled penalty (that would have resulted in a “Penalty Shot”) shall be assessed as a Minor (Double-minor or Major) Penalty and the first of the Minor Penalties already being served shall automatically terminate:\n",
      "--------------------------------------------------------------------------------\n"
     ]
    }
   ],
   "source": [
    "query = \"when is a minor penalty ruled\"\n",
    "\n",
    "docs_with_score = neo4j_vector.similarity_search_with_score(query, k=3)\n",
    "for doc, score in docs_with_score:\n",
    "    print(\"-\" * 80)\n",
    "    print(\"Score: \", score)\n",
    "    print(doc.page_content)\n",
    "    print(\"-\" * 80)\n"
   ]
  },
  {
   "cell_type": "code",
   "execution_count": 142,
   "id": "439d68c1-79fb-4f36-b3c7-e9b830c3c5e6",
   "metadata": {},
   "outputs": [
    {
     "data": {
      "text/plain": [
       "[{'id': 5,\n",
       "  'name': 'constraint_1dc138a',\n",
       "  'type': 'UNIQUENESS',\n",
       "  'entityType': 'NODE',\n",
       "  'labelsOrTypes': ['Chunk'],\n",
       "  'properties': ['id'],\n",
       "  'ownedIndex': 'constraint_1dc138a',\n",
       "  'propertyType': None}]"
      ]
     },
     "execution_count": 142,
     "metadata": {},
     "output_type": "execute_result"
    }
   ],
   "source": [
    "neo4j_vector.query(\"SHOW CONSTRAINTS\")"
   ]
  },
  {
   "cell_type": "code",
   "execution_count": 143,
   "id": "c9d8fd69-1f67-4f50-af23-58ea78e8e173",
   "metadata": {},
   "outputs": [
    {
     "data": {
      "text/plain": [
       "[{'name': 'vector',\n",
       "  'type': 'VECTOR',\n",
       "  'labelsOrTypes': ['Chunk'],\n",
       "  'properties': ['embedding'],\n",
       "  'options': {'indexProvider': 'vector-2.0',\n",
       "   'indexConfig': {'vector.dimensions': 1024,\n",
       "    'vector.similarity_function': 'cosine'}}}]"
      ]
     },
     "execution_count": 143,
     "metadata": {},
     "output_type": "execute_result"
    }
   ],
   "source": [
    "neo4j_vector.query(\n",
    "    \"\"\"SHOW INDEXES\n",
    "       YIELD name, type, labelsOrTypes, properties, options\n",
    "       WHERE type = 'VECTOR'\n",
    "    \"\"\"\n",
    ")"
   ]
  },
  {
   "cell_type": "code",
   "execution_count": 144,
   "id": "6460ce7b-a780-4840-b577-3b413d22bd92",
   "metadata": {},
   "outputs": [
    {
     "name": "stdout",
     "output_type": "stream",
     "text": [
      "Chunk\n",
      "embedding\n"
     ]
    }
   ],
   "source": [
    "print (neo4j_vector.node_label)\n",
    "print (neo4j_vector.embedding_node_property)"
   ]
  },
  {
   "cell_type": "code",
   "execution_count": 148,
   "id": "23945660-79ae-446e-8b96-82eece0d794c",
   "metadata": {},
   "outputs": [],
   "source": [
    "# Local Neo4j instance\n",
    "# NEO4J_URL = \"bolt://localhost:7687\"\n",
    "# Remote Neo4j instance on AuraDB\n",
    "NEO4J_URL = \"bolt://neo4j-1:7687\"\n",
    "NEO4J_USER = \"neo4j\"\n",
    "NEO4J_PASSWORD = \"abc123abc123\"\n",
    "NEO4J_DATABASE = \"\"\n",
    "\n",
    "\n",
    "# Parent retriever\n",
    "\n",
    "parent_query = \"\"\"\n",
    "MATCH (node)<-[:HAS_CHILD]-(parent)\n",
    "WITH parent, max(score) AS score // deduplicate parents\n",
    "RETURN parent.text AS text, score, {} AS metadata LIMIT 1\n",
    "\"\"\"\n",
    "\n",
    "parent_vectorstore = Neo4jVector.from_existing_index(\n",
    "    embedding = OllamaEmbeddings(\n",
    "            base_url=\"http://192.168.1.102:11434\", model=\"mxbai-embed-large\", temperature=0\n",
    "        ),\n",
    "    url=NEO4J_URL,\n",
    "    username=NEO4J_USER,\n",
    "    password=NEO4J_PASSWORD,    \n",
    "    index_name=\"parent_document\",\n",
    "    retrieval_query=parent_query,\n",
    ")"
   ]
  },
  {
   "cell_type": "code",
   "execution_count": null,
   "id": "f7584fad-680d-48bc-b5f9-3ddb43f23bb8",
   "metadata": {},
   "outputs": [],
   "source": []
  }
 ],
 "metadata": {
  "kernelspec": {
   "display_name": "Python 3 (ipykernel)",
   "language": "python",
   "name": "python3"
  },
  "language_info": {
   "codemirror_mode": {
    "name": "ipython",
    "version": 3
   },
   "file_extension": ".py",
   "mimetype": "text/x-python",
   "name": "python",
   "nbconvert_exporter": "python",
   "pygments_lexer": "ipython3",
   "version": "3.11.6"
  }
 },
 "nbformat": 4,
 "nbformat_minor": 5
}
